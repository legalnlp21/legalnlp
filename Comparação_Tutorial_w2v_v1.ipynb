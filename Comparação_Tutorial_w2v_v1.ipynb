{
  "nbformat": 4,
  "nbformat_minor": 0,
  "metadata": {
    "colab": {
      "name": "Comparação_Tutorial_w2v_v1.ipynb",
      "provenance": [],
      "collapsed_sections": [],
      "mount_file_id": "1YH115ZDBOQMFlpXwJ71PWuBaEb6NfJKz",
      "authorship_tag": "ABX9TyOCPlg1NRXX1wefHvbwR5WJ",
      "include_colab_link": true
    },
    "kernelspec": {
      "name": "python3",
      "display_name": "Python 3"
    },
    "language_info": {
      "name": "python"
    }
  },
  "cells": [
    {
      "cell_type": "markdown",
      "metadata": {
        "id": "view-in-github",
        "colab_type": "text"
      },
      "source": [
        "<a href=\"https://colab.research.google.com/github/legalnlp21/legalnlp/blob/main/Compara%C3%A7%C3%A3o_Tutorial_w2v_v1.ipynb\" target=\"_parent\"><img src=\"https://colab.research.google.com/assets/colab-badge.svg\" alt=\"Open In Colab\"/></a>"
      ]
    },
    {
      "cell_type": "markdown",
      "metadata": {
        "id": "OkzaEKDx7Agr"
      },
      "source": [
        "# Aplicando o Word2Vec em um dataset real\n",
        "\n",
        "Olá. Nesse tutorial vamos demonstrar como utilizar word-embeddings geradas a partir do método Word2Vec, em cima de um corpo de texto do meio jurídico.\n",
        "\n",
        "O método Word2Vec utiliza o contexto das palavras nos textos para gerar as embbedings. Para isso, foi utilizado o pacote *gensim* (versão 3.6.0), que integra as ferramentas necessárias para gerar, salvar e carregar as embbedings.\n",
        "\n",
        "As ferramentas de limpeza de texto usadas foram criadas com o enfoque em textos do meio jurídico, mas podem ser usadas com outros textos igualmente. \n",
        "\n",
        "Para o funcionamento correto, recomendamos que o usuário tenha acesso aos seguintes módulos:\n",
        "* ScikitLearn\n",
        "* Keras\n",
        "* Gensim\n",
        "* String\n",
        "* Numpy\n",
        "* Pandas\n",
        "* Ftfy\n",
        "\n",
        "Neste tutorial, faremos um modelo de Redes Neurais Convolucionais para classificar processos legais em \"Ativo\", \"Suspenso\" e \"Arquivado\". O dataset esta disponível\n",
        "[nesta página](https://www.kaggle.com/felipepolo/brazilian-legal-proceedings)\n",
        "do Kaggle. \n"
      ]
    },
    {
      "cell_type": "code",
      "metadata": {
        "id": "gC2UjjbL80ee"
      },
      "source": [
        "from sklearn.metrics import accuracy_score, confusion_matrix, classification_report\n",
        "import seaborn as sns\n",
        "import matplotlib.pyplot as plt"
      ],
      "execution_count": null,
      "outputs": []
    },
    {
      "cell_type": "markdown",
      "metadata": {
        "id": "y8_955rB-sU7"
      },
      "source": [
        "De início, vamos importar as bibliotecas e funções que serão usadas adiante. Devemos também instalar as bibliotecas que não estão disponíveis por padrão no Google Colab."
      ]
    },
    {
      "cell_type": "code",
      "metadata": {
        "id": "gGFJlWE7-sEO",
        "colab": {
          "base_uri": "https://localhost:8080/"
        },
        "outputId": "66b2b75e-7511-4868-8705-00117934bc00"
      },
      "source": [
        "!pip install gensim==3.8.1\n",
        "!pip install ftfy\n",
        "\n",
        "import pandas as pd\n",
        "import numpy as np\n",
        "from sklearn.preprocessing import OneHotEncoder\n",
        "from sklearn.model_selection import train_test_split\n",
        "from keras.preprocessing.text import one_hot\n",
        "from keras.preprocessing.text import Tokenizer \n",
        "from keras.preprocessing.sequence import pad_sequences\n",
        "from keras.models import Sequential\n",
        "from keras.layers import Dense\n",
        "from keras.layers import Flatten\n",
        "from keras.layers.embeddings import Embedding\n",
        "from keras.layers.convolutional import Conv1D\n",
        "from keras.layers.convolutional import MaxPooling1D\n",
        "from keras.callbacks import EarlyStopping\n",
        "from gensim.models import KeyedVectors\n",
        "from string import punctuation\n",
        "from os import listdir\n",
        "from numpy import array\n",
        "from numpy import asarray\n",
        "from numpy import zeros\n",
        "from clean_functions import *\n"
      ],
      "execution_count": null,
      "outputs": [
        {
          "output_type": "stream",
          "text": [
            "Requirement already satisfied: gensim==3.8.1 in /usr/local/lib/python3.7/dist-packages (3.8.1)\n",
            "Requirement already satisfied: six>=1.5.0 in /usr/local/lib/python3.7/dist-packages (from gensim==3.8.1) (1.15.0)\n",
            "Requirement already satisfied: smart-open>=1.8.1 in /usr/local/lib/python3.7/dist-packages (from gensim==3.8.1) (5.1.0)\n",
            "Requirement already satisfied: scipy>=0.18.1 in /usr/local/lib/python3.7/dist-packages (from gensim==3.8.1) (1.4.1)\n",
            "Requirement already satisfied: numpy>=1.11.3 in /usr/local/lib/python3.7/dist-packages (from gensim==3.8.1) (1.19.5)\n",
            "Requirement already satisfied: ftfy in /usr/local/lib/python3.7/dist-packages (6.0.3)\n",
            "Requirement already satisfied: wcwidth in /usr/local/lib/python3.7/dist-packages (from ftfy) (0.2.5)\n"
          ],
          "name": "stdout"
        }
      ]
    },
    {
      "cell_type": "markdown",
      "metadata": {
        "id": "CHOhgv8n7GjM"
      },
      "source": [
        "## Carregando os dados"
      ]
    },
    {
      "cell_type": "markdown",
      "metadata": {
        "id": "k4IIaMWG_xD5"
      },
      "source": [
        "Nosso dataset esta em formato *json*. Para ficar em um formato mais conveniente, vamos transpor o dataset."
      ]
    },
    {
      "cell_type": "code",
      "metadata": {
        "id": "G9XaBkiF6LAe",
        "colab": {
          "base_uri": "https://localhost:8080/",
          "height": 206
        },
        "outputId": "1a293a3a-21e6-4544-e5e1-e7cb3f8fb2b0"
      },
      "source": [
        "df = pd.read_json(\"/content/drive/MyDrive/Demos/labeled.json\").transpose()\n",
        "\n",
        "df.head()"
      ],
      "execution_count": null,
      "outputs": [
        {
          "output_type": "execute_result",
          "data": {
            "text/html": [
              "<div>\n",
              "<style scoped>\n",
              "    .dataframe tbody tr th:only-of-type {\n",
              "        vertical-align: middle;\n",
              "    }\n",
              "\n",
              "    .dataframe tbody tr th {\n",
              "        vertical-align: top;\n",
              "    }\n",
              "\n",
              "    .dataframe thead th {\n",
              "        text-align: right;\n",
              "    }\n",
              "</style>\n",
              "<table border=\"1\" class=\"dataframe\">\n",
              "  <thead>\n",
              "    <tr style=\"text-align: right;\">\n",
              "      <th></th>\n",
              "      <th>label</th>\n",
              "      <th>texts</th>\n",
              "    </tr>\n",
              "  </thead>\n",
              "  <tbody>\n",
              "    <tr>\n",
              "      <th>0</th>\n",
              "      <td>H:Arquivado</td>\n",
              "      <td>{'-1': 'Tipo do Movimento:Ato Ordinatório Prat...</td>\n",
              "    </tr>\n",
              "    <tr>\n",
              "      <th>1</th>\n",
              "      <td>H:Ativo</td>\n",
              "      <td>{'-1': 'Tipo do Movimento:Recebimento ', '-2':...</td>\n",
              "    </tr>\n",
              "    <tr>\n",
              "      <th>2</th>\n",
              "      <td>H:Ativo</td>\n",
              "      <td>{'-1': 'Tipo do Movimento:RemessaDestinatário:...</td>\n",
              "    </tr>\n",
              "    <tr>\n",
              "      <th>3</th>\n",
              "      <td>H:Arquivado</td>\n",
              "      <td>{'-1': 'Tipo do Movimento:Arquivamento Tipo de...</td>\n",
              "    </tr>\n",
              "    <tr>\n",
              "      <th>4</th>\n",
              "      <td>H:Arquivado</td>\n",
              "      <td>{'-1': 'Tipo do Movimento:Arquivamento Tipo de...</td>\n",
              "    </tr>\n",
              "  </tbody>\n",
              "</table>\n",
              "</div>"
            ],
            "text/plain": [
              "         label                                              texts\n",
              "0  H:Arquivado  {'-1': 'Tipo do Movimento:Ato Ordinatório Prat...\n",
              "1      H:Ativo  {'-1': 'Tipo do Movimento:Recebimento ', '-2':...\n",
              "2      H:Ativo  {'-1': 'Tipo do Movimento:RemessaDestinatário:...\n",
              "3  H:Arquivado  {'-1': 'Tipo do Movimento:Arquivamento Tipo de...\n",
              "4  H:Arquivado  {'-1': 'Tipo do Movimento:Arquivamento Tipo de..."
            ]
          },
          "metadata": {
            "tags": []
          },
          "execution_count": 34
        }
      ]
    },
    {
      "cell_type": "code",
      "metadata": {
        "id": "05IL0rD1AtI7",
        "colab": {
          "base_uri": "https://localhost:8080/"
        },
        "outputId": "80f46a44-3eed-4e89-d0b3-cb533b634063"
      },
      "source": [
        "df.shape"
      ],
      "execution_count": null,
      "outputs": [
        {
          "output_type": "execute_result",
          "data": {
            "text/plain": [
              "(6449, 2)"
            ]
          },
          "metadata": {
            "tags": []
          },
          "execution_count": 35
        }
      ]
    },
    {
      "cell_type": "markdown",
      "metadata": {
        "id": "WVnNlojSAso9"
      },
      "source": [
        "O dataset é composto por um conjunto de 6449 processos classificados nas 3 categorias:\n",
        "* Ativo\n",
        "* Suspenso\n",
        "* Arquivado\n",
        "\n",
        "Para esse tutorial, iremos apenas utilizar os textos indexados com '-1'. Vamos usar a função \"clean\" em cada um dos textos."
      ]
    },
    {
      "cell_type": "code",
      "metadata": {
        "id": "-FHdqq-ABt8D",
        "colab": {
          "base_uri": "https://localhost:8080/"
        },
        "outputId": "e2e36f81-6cd5-4248-9987-15f30881db74"
      },
      "source": [
        "X_textos = df.texts[:].apply(lambda dict: clean(dict['-1']))\n",
        "\n",
        "X_textos.head()"
      ],
      "execution_count": null,
      "outputs": [
        {
          "output_type": "execute_result",
          "data": {
            "text/plain": [
              "0    tipo do movimento : ato ordinatório praticado ...\n",
              "1                      tipo do movimento : recebimento\n",
              "2    tipo do movimento : remessadestinatário : trib...\n",
              "3    tipo do movimento : arquivamento tipo de arqui...\n",
              "4    tipo do movimento : arquivamento tipo de arqui...\n",
              "Name: texts, dtype: object"
            ]
          },
          "metadata": {
            "tags": []
          },
          "execution_count": 36
        }
      ]
    },
    {
      "cell_type": "markdown",
      "metadata": {
        "id": "k246rN0qCEK6"
      },
      "source": [
        "Agora faremos a separação das categorias da nossa target, numerando de 0 a 2."
      ]
    },
    {
      "cell_type": "code",
      "metadata": {
        "id": "xXZDf4ZECWpJ"
      },
      "source": [
        "def converte_label(label):\n",
        "  if label == \"H:Ativo\": return 0\n",
        "  elif label == \"H:Suspenso\": return 1\n",
        "  else: return 2\n",
        "labels = array(df.label[:].apply(converte_label))"
      ],
      "execution_count": null,
      "outputs": []
    },
    {
      "cell_type": "code",
      "metadata": {
        "colab": {
          "base_uri": "https://localhost:8080/"
        },
        "id": "fAIHkrlbCdZ0",
        "outputId": "a9f291ed-3294-4760-ab0f-c96617661e30"
      },
      "source": [
        "labels[:5]"
      ],
      "execution_count": null,
      "outputs": [
        {
          "output_type": "execute_result",
          "data": {
            "text/plain": [
              "array([2, 0, 0, 2, 2])"
            ]
          },
          "metadata": {
            "tags": []
          },
          "execution_count": 38
        }
      ]
    },
    {
      "cell_type": "markdown",
      "metadata": {
        "id": "jVib4BEqAiBI"
      },
      "source": [
        "Com isso feito, podemos tratar nossos dados para que a rede possa interpreta-los e trabalhar de forma adequada."
      ]
    },
    {
      "cell_type": "markdown",
      "metadata": {
        "id": "aS8Hn-G6C23H"
      },
      "source": [
        "## Preparando os dados"
      ]
    },
    {
      "cell_type": "markdown",
      "metadata": {
        "id": "VqsU1Ci4C7Ck"
      },
      "source": [
        "O dataset que estamos usando não precisou de muito tratamento. Para as próprias aplicações, o leitor deve verificar com cautela as peculiaridades dos dados, antes de realizar a tokenização."
      ]
    },
    {
      "cell_type": "markdown",
      "metadata": {
        "id": "tJpdcmyzDVLQ"
      },
      "source": [
        "Com nossos textos tratados, vamos começar a prepará-los para serem recebidos pela rede neural. A estrutura basica da rede neural para NLP deve iniciar com uma camada chamada de \"embedding layer\". Essa camada é a responsável por traduzir as palavras para vetores. Ela fara isso a partir de uma matriz de pesos, onde cada i-ésima linha contém o vetor referente a i-ésima palavra.\n",
        "\n",
        "Portanto, devemos indexar cada palavra a um número inteiro, e representar nossos textos como vetores de indexação, ou seja, vetores com os números inteiros referentes a cada palavra. Para isso vamos tokenizar nosso corpo de texto utilizando o objeto *Tokenizer* do Keras. "
      ]
    },
    {
      "cell_type": "code",
      "metadata": {
        "colab": {
          "base_uri": "https://localhost:8080/"
        },
        "id": "CbuxARSWEyH0",
        "outputId": "3df74073-199a-41e0-d880-c03cc32b7fec"
      },
      "source": [
        "t = Tokenizer()\n",
        "t.fit_on_texts(X_textos)\n",
        "tamanho_vocab = len(t.word_index) + 1\n",
        "encoded_textos = array(t.texts_to_sequences(X_textos))"
      ],
      "execution_count": null,
      "outputs": [
        {
          "output_type": "stream",
          "text": [
            "/usr/local/lib/python3.7/dist-packages/ipykernel_launcher.py:4: VisibleDeprecationWarning: Creating an ndarray from ragged nested sequences (which is a list-or-tuple of lists-or-tuples-or ndarrays with different lengths or shapes) is deprecated. If you meant to do this, you must specify 'dtype=object' when creating the ndarray\n",
            "  after removing the cwd from sys.path.\n"
          ],
          "name": "stderr"
        }
      ]
    },
    {
      "cell_type": "code",
      "metadata": {
        "colab": {
          "base_uri": "https://localhost:8080/"
        },
        "id": "15II9RMjFK37",
        "outputId": "10aba8fd-95de-4519-8068-165e7de3fecb"
      },
      "source": [
        "t.index_word[8], t.index_word[4], t.index_word[39], t.index_word[59], t.index_word[120], t.index_word[185], \"...\""
      ],
      "execution_count": null,
      "outputs": [
        {
          "output_type": "execute_result",
          "data": {
            "text/plain": [
              "('tipo', 'do', 'movimento', 'ato', 'ordinatório', 'praticado', '...')"
            ]
          },
          "metadata": {
            "tags": []
          },
          "execution_count": 40
        }
      ]
    },
    {
      "cell_type": "code",
      "metadata": {
        "colab": {
          "base_uri": "https://localhost:8080/"
        },
        "id": "_AhStGQzFoqr",
        "outputId": "aeb8c53f-7850-4862-b73e-fa097627f307"
      },
      "source": [
        "print(encoded_textos[0])"
      ],
      "execution_count": null,
      "outputs": [
        {
          "output_type": "stream",
          "text": [
            "[8, 4, 39, 59, 120, 185, 138, 75, 36, 95, 94, 61, 168, 241, 462, 2, 80, 1, 45, 349, 528, 614, 212, 1414, 683, 1415, 36, 684, 685]\n"
          ],
          "name": "stdout"
        }
      ]
    },
    {
      "cell_type": "markdown",
      "metadata": {
        "id": "sLM1bSciFz4q"
      },
      "source": [
        "Cada vetor agora representa um texto, contúdo, cada um pode ter tamanhos distintos. Devemos padroniza-los, completando os textos menores com \"0\" até que cheguem no tamanho do maior texto dos dados."
      ]
    },
    {
      "cell_type": "code",
      "metadata": {
        "colab": {
          "base_uri": "https://localhost:8080/"
        },
        "id": "_FHf-ZaBFRd_",
        "outputId": "1b2667f0-bfed-42a8-94ee-b741a3448e72"
      },
      "source": [
        "len_maior = 0\n",
        "for lista in encoded_textos:\n",
        "  if len(lista) > len_maior: len_maior = len(lista)\n",
        "\n",
        "len_maior"
      ],
      "execution_count": null,
      "outputs": [
        {
          "output_type": "execute_result",
          "data": {
            "text/plain": [
              "306"
            ]
          },
          "metadata": {
            "tags": []
          },
          "execution_count": 42
        }
      ]
    },
    {
      "cell_type": "markdown",
      "metadata": {
        "id": "N7kn5y0cGgUa"
      },
      "source": [
        "Vamos usar a função \"pad_sequences\" do Keras para ajustar o tamanho dos textos para 306. Além disso, é recomendável que passemos os índices para \"float\"."
      ]
    },
    {
      "cell_type": "code",
      "metadata": {
        "colab": {
          "base_uri": "https://localhost:8080/"
        },
        "id": "eEucvRdpGfOd",
        "outputId": "5ba8c163-0f53-4eea-cc34-084f466753e0"
      },
      "source": [
        "padded_docs = pad_sequences(encoded_textos, maxlen=len_maior, padding='post').astype('float32')\n",
        "\n",
        "len(padded_docs[0])"
      ],
      "execution_count": null,
      "outputs": [
        {
          "output_type": "execute_result",
          "data": {
            "text/plain": [
              "306"
            ]
          },
          "metadata": {
            "tags": []
          },
          "execution_count": 43
        }
      ]
    },
    {
      "cell_type": "markdown",
      "metadata": {
        "id": "CSk6jJdyHOxZ"
      },
      "source": [
        "Nossos textos estão prontos para serem recebidos pela rede neural, contudo, ainda é necessário gerar a camada de embbeding da rede. Faremos isso na próxima seção."
      ]
    },
    {
      "cell_type": "markdown",
      "metadata": {
        "id": "1OBPiQ8FHe45"
      },
      "source": [
        "Também devemos tratar o nosso vetor de categorias. Por padrão, nossa target deve estar em formato matricial, com 1 na coluna representante da categoria do texto daquela linha e 0 nas demais.\n",
        "\n",
        "Vamos usar o objeto \"OneHotEncoder\" do ScikitLearn e passar a matriz para a forma densa (objeto retorna na forma de matriz esparça). "
      ]
    },
    {
      "cell_type": "code",
      "metadata": {
        "colab": {
          "base_uri": "https://localhost:8080/"
        },
        "id": "NT3xnkJzG3cr",
        "outputId": "24891894-de27-400c-b8a3-bb3b8bb17d82"
      },
      "source": [
        "encoder = OneHotEncoder(handle_unknown='ignore')\n",
        "label_onehot = encoder.fit_transform(labels.reshape((-1,1))).todense()\n",
        "\n",
        "label_onehot[:3]"
      ],
      "execution_count": null,
      "outputs": [
        {
          "output_type": "execute_result",
          "data": {
            "text/plain": [
              "matrix([[0., 0., 1.],\n",
              "        [1., 0., 0.],\n",
              "        [1., 0., 0.]])"
            ]
          },
          "metadata": {
            "tags": []
          },
          "execution_count": 44
        }
      ]
    },
    {
      "cell_type": "markdown",
      "metadata": {
        "id": "XwODax6gJYJj"
      },
      "source": [
        "Agora, com nossos dados preparados, começaremos a cuidar da \"embbeding layer\". "
      ]
    },
    {
      "cell_type": "markdown",
      "metadata": {
        "id": "mF2KqXCSJp8r"
      },
      "source": [
        "## Preparando as embeddings"
      ]
    },
    {
      "cell_type": "markdown",
      "metadata": {
        "id": "65HTRJhl4fyR"
      },
      "source": [
        "Primeiramente, vamos importar o modelo Word2Vec treinado. Este modelo tem suas embbedings de tamanho 100 e foi treinado usando uma janela de tamanho 15 e \"epochs\" = 20. Vamos usar o objeto KeyedVectors do *Gensim* para carregar o model."
      ]
    },
    {
      "cell_type": "code",
      "metadata": {
        "id": "2lBSWXyyImRP"
      },
      "source": [
        "model = KeyedVectors.load_word2vec_format(\"/content/drive/MyDrive/Demos/cbow_s100.txt\")"
      ],
      "execution_count": null,
      "outputs": []
    },
    {
      "cell_type": "markdown",
      "metadata": {
        "id": "oyEM3_ZQ5sBD"
      },
      "source": [
        "Com o modelo carregado, já podemos estruturar a matriz de pesos. Neste caso específico, todas as palavras do corpo de texto dos dados estão contidas no vocabulário do modelo Word2Vec, contudo, o leitor deve ter o cuidado de tratar os casos em que essa equivalência não aconteça."
      ]
    },
    {
      "cell_type": "markdown",
      "metadata": {
        "id": "--X1RePT68GN"
      },
      "source": [
        "Vamos estruturar um dicionário, no qual cada chave é uma palavra do corpo do vocabulário do modelo e cada valor representa sua embbeding."
      ]
    },
    {
      "cell_type": "code",
      "metadata": {
        "id": "Mipcv8F47jeo",
        "colab": {
          "base_uri": "https://localhost:8080/"
        },
        "outputId": "86087094-a8b7-4b89-9ca8-779185d0abf0"
      },
      "source": [
        "wv_dict = dict(zip(model.wv.index2word[:], model.wv.vectors[:]))"
      ],
      "execution_count": null,
      "outputs": [
        {
          "output_type": "stream",
          "text": [
            "/usr/local/lib/python3.7/dist-packages/ipykernel_launcher.py:1: DeprecationWarning: Call to deprecated `wv` (Attribute will be removed in 4.0.0, use self instead).\n",
            "  \"\"\"Entry point for launching an IPython kernel.\n"
          ],
          "name": "stderr"
        }
      ]
    },
    {
      "cell_type": "markdown",
      "metadata": {
        "id": "yCQs9j3c7mWv"
      },
      "source": [
        "Para acelerar o treino da rede, e diminuir o tamanho da matriz de pesos, podemos fazer um dicionário somente com as palavras do texto, pois geralmente, o vocabulário do modelo Word2Vec é muito mais extenso que o necessário. "
      ]
    },
    {
      "cell_type": "code",
      "metadata": {
        "id": "bv8iy2OF8SrV"
      },
      "source": [
        "wv_dict_updated = {}\n",
        "for palavra in t.index_word.values():\n",
        "  if palavra in wv_dict.keys():\n",
        "    wv_dict_updated[palavra] = wv_dict[palavra]"
      ],
      "execution_count": null,
      "outputs": []
    },
    {
      "cell_type": "markdown",
      "metadata": {
        "id": "10p1dF1F6n28"
      },
      "source": [
        "Por fim, podemos estruturar a matriz de pesos, colocando a palavra de i-ésimo índice na i-ésima linha da matriz."
      ]
    },
    {
      "cell_type": "code",
      "metadata": {
        "id": "RnopJgYe8rEQ",
        "colab": {
          "base_uri": "https://localhost:8080/"
        },
        "outputId": "eb3f33e9-2062-460a-e612-4439cb501c4b"
      },
      "source": [
        "matriz_de_pesos = zeros((tamanho_vocab, 100))\n",
        "for palavra, i in t.word_index.items():\n",
        "  vetor_embed =  wv_dict_updated.get(palavra)\n",
        "  if vetor_embed is not None:\n",
        "    matriz_de_pesos[i] = vetor_embed\n",
        "\n",
        "matriz_de_pesos.shape"
      ],
      "execution_count": null,
      "outputs": [
        {
          "output_type": "execute_result",
          "data": {
            "text/plain": [
              "(2827, 100)"
            ]
          },
          "metadata": {
            "tags": []
          },
          "execution_count": 48
        }
      ]
    },
    {
      "cell_type": "markdown",
      "metadata": {
        "id": "BLn_LSKJ9SPb"
      },
      "source": [
        "## Treinando o modelo"
      ]
    },
    {
      "cell_type": "markdown",
      "metadata": {
        "id": "9n7XjYRB9jSN"
      },
      "source": [
        "Com nossos dados codificados, e nossa matriz de pesos pronta, podemos começar a estruturar nossa Rede Neural. Nosso modelo será uma Rede Neural Convolucional, ou seja, aplicaremos uma camada de filtragem e em seguida uma camada de pooling, buscando ressaltar informações importantes das embbedings. \n",
        "\n",
        "Nossa rede terá a seguinte estrutura:\n",
        "1. A primeira camada de embbeding, que fara a codificação das palavras (representadas como índices) nos seus respectivos vetores.\n",
        "2. A segunda será uma camada convolucional, com 128 filtros no output, kernel de tamanho 5 e função de ativação 'ReLU'.\n",
        "3. A terceira camada será a MaxPooling de tamanho 2.\n",
        "4. Como o output da 3ª camada é um tensor, a quarta camada será uma camada de \"achatamento\".\n",
        "5. Por fim, a camada do output, de tamanho 3 e função de ativação *softmax*."
      ]
    },
    {
      "cell_type": "code",
      "metadata": {
        "id": "rlub9n_C9R3L"
      },
      "source": [
        "emb = Embedding(tamanho_vocab, 100, weights = [matriz_de_pesos], input_length=len_maior, trainable = False)\n",
        "\n",
        "rede = Sequential()\n",
        "\n",
        "rede.add(emb)\n",
        "rede.add(Conv1D(filters=128, kernel_size=5, activation='relu'))\n",
        "rede.add(MaxPooling1D(pool_size=2))\n",
        "rede.add(Flatten())\n",
        "rede.add(Dense(3, activation='softmax'))"
      ],
      "execution_count": null,
      "outputs": []
    },
    {
      "cell_type": "markdown",
      "metadata": {
        "id": "2-Sa_0gSAXIe"
      },
      "source": [
        "Para terminar a estrutura da rede, vamos usar a função perda como 'categorical_crossentropy', o caso categórico da entropia cruzda, para o otimizador ultilizaremos o 'adam' e a métrica de avaliação será a acurácia. Podemos ver a arquitetura utilizando o método \"*Sequential().summary()*\"."
      ]
    },
    {
      "cell_type": "code",
      "metadata": {
        "id": "J6YSMgojBGcz",
        "colab": {
          "base_uri": "https://localhost:8080/"
        },
        "outputId": "7d6dda44-3376-42c3-d741-6894a9376cab"
      },
      "source": [
        "rede.compile(optimizer='adam', loss='categorical_crossentropy', metrics=['accuracy'])\n",
        "print(rede.summary())"
      ],
      "execution_count": null,
      "outputs": [
        {
          "output_type": "stream",
          "text": [
            "Model: \"sequential_1\"\n",
            "_________________________________________________________________\n",
            "Layer (type)                 Output Shape              Param #   \n",
            "=================================================================\n",
            "embedding_1 (Embedding)      (None, 306, 100)          282700    \n",
            "_________________________________________________________________\n",
            "conv1d_1 (Conv1D)            (None, 302, 128)          64128     \n",
            "_________________________________________________________________\n",
            "max_pooling1d_1 (MaxPooling1 (None, 151, 128)          0         \n",
            "_________________________________________________________________\n",
            "flatten_1 (Flatten)          (None, 19328)             0         \n",
            "_________________________________________________________________\n",
            "dense_1 (Dense)              (None, 3)                 57987     \n",
            "=================================================================\n",
            "Total params: 404,815\n",
            "Trainable params: 122,115\n",
            "Non-trainable params: 282,700\n",
            "_________________________________________________________________\n",
            "None\n"
          ],
          "name": "stdout"
        }
      ]
    },
    {
      "cell_type": "markdown",
      "metadata": {
        "id": "_bWrwUvwBOne"
      },
      "source": [
        "Vamos separar nossos dados em dados de treino e teste."
      ]
    },
    {
      "cell_type": "code",
      "metadata": {
        "id": "1Elh0HQwBOOw"
      },
      "source": [
        "n = 4500\n",
        "X_treino, X_teste, Y_treino, Y_teste = train_test_split(padded_docs, label_onehot, random_state=42, train_size=0.7, test_size=0.3)"
      ],
      "execution_count": null,
      "outputs": []
    },
    {
      "cell_type": "markdown",
      "metadata": {
        "id": "n64Ib0kxBYZS"
      },
      "source": [
        "Por fim, podemos treinar o modelo e verificar nossos resultados. "
      ]
    },
    {
      "cell_type": "code",
      "metadata": {
        "id": "7Qp3FHJoBIr_",
        "colab": {
          "base_uri": "https://localhost:8080/"
        },
        "outputId": "20176981-28d5-4eeb-fc43-a4c9b660328d"
      },
      "source": [
        "rede.fit(X_treino, Y_treino, epochs=50, validation_split=0.1, batch_size=500, verbose=1,  callbacks=[EarlyStopping(monitor='val_loss', patience=15)])"
      ],
      "execution_count": null,
      "outputs": [
        {
          "output_type": "stream",
          "text": [
            "Epoch 1/50\n",
            "9/9 [==============================] - 8s 779ms/step - loss: 0.9694 - accuracy: 0.5044 - val_loss: 0.8539 - val_accuracy: 0.6704\n",
            "Epoch 2/50\n",
            "9/9 [==============================] - 7s 731ms/step - loss: 0.7685 - accuracy: 0.6896 - val_loss: 0.7543 - val_accuracy: 0.7080\n",
            "Epoch 3/50\n",
            "9/9 [==============================] - 7s 734ms/step - loss: 0.6623 - accuracy: 0.7287 - val_loss: 0.6636 - val_accuracy: 0.7080\n",
            "Epoch 4/50\n",
            "9/9 [==============================] - 7s 732ms/step - loss: 0.6111 - accuracy: 0.7484 - val_loss: 0.6236 - val_accuracy: 0.7323\n",
            "Epoch 5/50\n",
            "9/9 [==============================] - 7s 746ms/step - loss: 0.5641 - accuracy: 0.7743 - val_loss: 0.5865 - val_accuracy: 0.7788\n",
            "Epoch 6/50\n",
            "9/9 [==============================] - 7s 738ms/step - loss: 0.5383 - accuracy: 0.7973 - val_loss: 0.5663 - val_accuracy: 0.7832\n",
            "Epoch 7/50\n",
            "9/9 [==============================] - 7s 739ms/step - loss: 0.4913 - accuracy: 0.8135 - val_loss: 0.5352 - val_accuracy: 0.7942\n",
            "Epoch 8/50\n",
            "9/9 [==============================] - 7s 734ms/step - loss: 0.4782 - accuracy: 0.8137 - val_loss: 0.5306 - val_accuracy: 0.7898\n",
            "Epoch 9/50\n",
            "9/9 [==============================] - 7s 726ms/step - loss: 0.4641 - accuracy: 0.8116 - val_loss: 0.4957 - val_accuracy: 0.7898\n",
            "Epoch 10/50\n",
            "9/9 [==============================] - 7s 736ms/step - loss: 0.4379 - accuracy: 0.8287 - val_loss: 0.4793 - val_accuracy: 0.8009\n",
            "Epoch 11/50\n",
            "9/9 [==============================] - 7s 741ms/step - loss: 0.4331 - accuracy: 0.8272 - val_loss: 0.4639 - val_accuracy: 0.8031\n",
            "Epoch 12/50\n",
            "9/9 [==============================] - 7s 739ms/step - loss: 0.3967 - accuracy: 0.8392 - val_loss: 0.4543 - val_accuracy: 0.8075\n",
            "Epoch 13/50\n",
            "9/9 [==============================] - 7s 742ms/step - loss: 0.3770 - accuracy: 0.8487 - val_loss: 0.4327 - val_accuracy: 0.8429\n",
            "Epoch 14/50\n",
            "9/9 [==============================] - 7s 741ms/step - loss: 0.3734 - accuracy: 0.8697 - val_loss: 0.4180 - val_accuracy: 0.8518\n",
            "Epoch 15/50\n",
            "9/9 [==============================] - 7s 735ms/step - loss: 0.3663 - accuracy: 0.8699 - val_loss: 0.4098 - val_accuracy: 0.8584\n",
            "Epoch 16/50\n",
            "9/9 [==============================] - 7s 726ms/step - loss: 0.3479 - accuracy: 0.8775 - val_loss: 0.4299 - val_accuracy: 0.8451\n",
            "Epoch 17/50\n",
            "9/9 [==============================] - 7s 730ms/step - loss: 0.3360 - accuracy: 0.8794 - val_loss: 0.4033 - val_accuracy: 0.8540\n",
            "Epoch 18/50\n",
            "9/9 [==============================] - 7s 726ms/step - loss: 0.3329 - accuracy: 0.8737 - val_loss: 0.4061 - val_accuracy: 0.8473\n",
            "Epoch 19/50\n",
            "9/9 [==============================] - 7s 728ms/step - loss: 0.3329 - accuracy: 0.8783 - val_loss: 0.4018 - val_accuracy: 0.8540\n",
            "Epoch 20/50\n",
            "9/9 [==============================] - 7s 730ms/step - loss: 0.3113 - accuracy: 0.8889 - val_loss: 0.3937 - val_accuracy: 0.8562\n",
            "Epoch 21/50\n",
            "9/9 [==============================] - 7s 738ms/step - loss: 0.3273 - accuracy: 0.8809 - val_loss: 0.3923 - val_accuracy: 0.8540\n",
            "Epoch 22/50\n",
            "9/9 [==============================] - 7s 736ms/step - loss: 0.3136 - accuracy: 0.8863 - val_loss: 0.3937 - val_accuracy: 0.8496\n",
            "Epoch 23/50\n",
            "9/9 [==============================] - 7s 738ms/step - loss: 0.3078 - accuracy: 0.8908 - val_loss: 0.3938 - val_accuracy: 0.8606\n",
            "Epoch 24/50\n",
            "9/9 [==============================] - 7s 740ms/step - loss: 0.3172 - accuracy: 0.8830 - val_loss: 0.3910 - val_accuracy: 0.8584\n",
            "Epoch 25/50\n",
            "9/9 [==============================] - 7s 741ms/step - loss: 0.3115 - accuracy: 0.8850 - val_loss: 0.3960 - val_accuracy: 0.8518\n",
            "Epoch 26/50\n",
            "9/9 [==============================] - 7s 742ms/step - loss: 0.3025 - accuracy: 0.8880 - val_loss: 0.3929 - val_accuracy: 0.8562\n",
            "Epoch 27/50\n",
            "9/9 [==============================] - 7s 733ms/step - loss: 0.2999 - accuracy: 0.8907 - val_loss: 0.3911 - val_accuracy: 0.8496\n",
            "Epoch 28/50\n",
            "9/9 [==============================] - 7s 735ms/step - loss: 0.2870 - accuracy: 0.8946 - val_loss: 0.3967 - val_accuracy: 0.8562\n",
            "Epoch 29/50\n",
            "9/9 [==============================] - 7s 734ms/step - loss: 0.3136 - accuracy: 0.8839 - val_loss: 0.4050 - val_accuracy: 0.8496\n",
            "Epoch 30/50\n",
            "9/9 [==============================] - 7s 721ms/step - loss: 0.2928 - accuracy: 0.8901 - val_loss: 0.3870 - val_accuracy: 0.8518\n",
            "Epoch 31/50\n",
            "9/9 [==============================] - 6s 712ms/step - loss: 0.2912 - accuracy: 0.8967 - val_loss: 0.3876 - val_accuracy: 0.8628\n",
            "Epoch 32/50\n",
            "9/9 [==============================] - 7s 719ms/step - loss: 0.2847 - accuracy: 0.8977 - val_loss: 0.3886 - val_accuracy: 0.8562\n",
            "Epoch 33/50\n",
            "9/9 [==============================] - 6s 708ms/step - loss: 0.2909 - accuracy: 0.8941 - val_loss: 0.3989 - val_accuracy: 0.8562\n",
            "Epoch 34/50\n",
            "9/9 [==============================] - 7s 719ms/step - loss: 0.2936 - accuracy: 0.8917 - val_loss: 0.3889 - val_accuracy: 0.8584\n",
            "Epoch 35/50\n",
            "9/9 [==============================] - 6s 713ms/step - loss: 0.2834 - accuracy: 0.8949 - val_loss: 0.3945 - val_accuracy: 0.8562\n",
            "Epoch 36/50\n",
            "9/9 [==============================] - 7s 723ms/step - loss: 0.2871 - accuracy: 0.8981 - val_loss: 0.3895 - val_accuracy: 0.8673\n",
            "Epoch 37/50\n",
            "9/9 [==============================] - 7s 729ms/step - loss: 0.2857 - accuracy: 0.8984 - val_loss: 0.3866 - val_accuracy: 0.8628\n",
            "Epoch 38/50\n",
            "9/9 [==============================] - 7s 728ms/step - loss: 0.2858 - accuracy: 0.8908 - val_loss: 0.4049 - val_accuracy: 0.8518\n",
            "Epoch 39/50\n",
            "9/9 [==============================] - 7s 730ms/step - loss: 0.2767 - accuracy: 0.8998 - val_loss: 0.3945 - val_accuracy: 0.8584\n",
            "Epoch 40/50\n",
            "9/9 [==============================] - 6s 714ms/step - loss: 0.2830 - accuracy: 0.8942 - val_loss: 0.3928 - val_accuracy: 0.8584\n",
            "Epoch 41/50\n",
            "9/9 [==============================] - 7s 748ms/step - loss: 0.2755 - accuracy: 0.8962 - val_loss: 0.3980 - val_accuracy: 0.8606\n",
            "Epoch 42/50\n",
            "9/9 [==============================] - 7s 743ms/step - loss: 0.2763 - accuracy: 0.9001 - val_loss: 0.4033 - val_accuracy: 0.8518\n",
            "Epoch 43/50\n",
            "9/9 [==============================] - 7s 739ms/step - loss: 0.2699 - accuracy: 0.8933 - val_loss: 0.3978 - val_accuracy: 0.8540\n",
            "Epoch 44/50\n",
            "9/9 [==============================] - 7s 734ms/step - loss: 0.2763 - accuracy: 0.8949 - val_loss: 0.3952 - val_accuracy: 0.8584\n",
            "Epoch 45/50\n",
            "9/9 [==============================] - 7s 732ms/step - loss: 0.2805 - accuracy: 0.8946 - val_loss: 0.4068 - val_accuracy: 0.8540\n",
            "Epoch 46/50\n",
            "9/9 [==============================] - 7s 745ms/step - loss: 0.2745 - accuracy: 0.8951 - val_loss: 0.3998 - val_accuracy: 0.8496\n",
            "Epoch 47/50\n",
            "9/9 [==============================] - 7s 745ms/step - loss: 0.2720 - accuracy: 0.9009 - val_loss: 0.4106 - val_accuracy: 0.8496\n",
            "Epoch 48/50\n",
            "9/9 [==============================] - 7s 751ms/step - loss: 0.2857 - accuracy: 0.8929 - val_loss: 0.4219 - val_accuracy: 0.8496\n",
            "Epoch 49/50\n",
            "9/9 [==============================] - 7s 746ms/step - loss: 0.2806 - accuracy: 0.8950 - val_loss: 0.4092 - val_accuracy: 0.8518\n",
            "Epoch 50/50\n",
            "9/9 [==============================] - 7s 743ms/step - loss: 0.2688 - accuracy: 0.8969 - val_loss: 0.3966 - val_accuracy: 0.8606\n"
          ],
          "name": "stdout"
        },
        {
          "output_type": "execute_result",
          "data": {
            "text/plain": [
              "<keras.callbacks.History at 0x7faf461b57d0>"
            ]
          },
          "metadata": {
            "tags": []
          },
          "execution_count": 52
        }
      ]
    },
    {
      "cell_type": "code",
      "metadata": {
        "id": "Ek2GUT_nBiG7",
        "colab": {
          "base_uri": "https://localhost:8080/"
        },
        "outputId": "185b11a5-dd8b-4404-97cc-813c9245fe30"
      },
      "source": [
        "loss, acc_treino = rede.evaluate(X_treino, Y_treino, verbose=0)\n",
        "loss2, acc_teste = rede.evaluate(X_teste, Y_teste, verbose=0)\n",
        "print(f'Acurácia no treino: {round(acc_treino*100, 2)}%')\n",
        "print(f'Acurácia no teste: {round(acc_teste*100, 2)}%')"
      ],
      "execution_count": null,
      "outputs": [
        {
          "output_type": "stream",
          "text": [
            "Acurácia no treino: 89.48%\n",
            "Acurácia no teste: 84.34%\n"
          ],
          "name": "stdout"
        }
      ]
    },
    {
      "cell_type": "code",
      "metadata": {
        "id": "T61i5sg5Da1g"
      },
      "source": [
        "predict = rede.predict(X_teste)"
      ],
      "execution_count": null,
      "outputs": []
    },
    {
      "cell_type": "code",
      "metadata": {
        "id": "XQaVNmuzAYBg",
        "colab": {
          "base_uri": "https://localhost:8080/"
        },
        "outputId": "1aeb3403-5ddd-4924-9197-e5b90c175513"
      },
      "source": [
        "Y_teste"
      ],
      "execution_count": null,
      "outputs": [
        {
          "output_type": "execute_result",
          "data": {
            "text/plain": [
              "matrix([[1., 0., 0.],\n",
              "        [1., 0., 0.],\n",
              "        [1., 0., 0.],\n",
              "        ...,\n",
              "        [0., 0., 1.],\n",
              "        [0., 0., 1.],\n",
              "        [0., 0., 1.]])"
            ]
          },
          "metadata": {
            "tags": []
          },
          "execution_count": 55
        }
      ]
    },
    {
      "cell_type": "code",
      "metadata": {
        "id": "dFdq0E3w_Gp1",
        "colab": {
          "base_uri": "https://localhost:8080/"
        },
        "outputId": "589af577-bddd-4eeb-fd90-23d5ec7cbf30"
      },
      "source": [
        "predict1 = np.argmax(predict, axis=1)\n",
        "\n",
        "Y_teste1 = np.argmax(Y_teste, axis=1)\n",
        "np.array(Y_teste1.reshape(1,-1))[0]"
      ],
      "execution_count": null,
      "outputs": [
        {
          "output_type": "execute_result",
          "data": {
            "text/plain": [
              "array([0, 0, 0, ..., 2, 2, 2])"
            ]
          },
          "metadata": {
            "tags": []
          },
          "execution_count": 56
        }
      ]
    },
    {
      "cell_type": "code",
      "metadata": {
        "id": "v9U9RC7H8q6Q",
        "colab": {
          "base_uri": "https://localhost:8080/"
        },
        "outputId": "41fe1d77-dd4d-43a8-f3c7-c0db4f754787"
      },
      "source": [
        "print(classification_report(Y_teste1, predict1, labels=[0,1,2]))"
      ],
      "execution_count": null,
      "outputs": [
        {
          "output_type": "stream",
          "text": [
            "              precision    recall  f1-score   support\n",
            "\n",
            "           0       0.83      0.88      0.86       901\n",
            "           1       0.86      0.55      0.67       140\n",
            "           2       0.86      0.85      0.85       894\n",
            "\n",
            "    accuracy                           0.84      1935\n",
            "   macro avg       0.85      0.76      0.79      1935\n",
            "weighted avg       0.84      0.84      0.84      1935\n",
            "\n"
          ],
          "name": "stdout"
        }
      ]
    },
    {
      "cell_type": "code",
      "metadata": {
        "id": "fbKfb8S8EiMZ",
        "colab": {
          "base_uri": "https://localhost:8080/",
          "height": 265
        },
        "outputId": "cb1b38a6-212f-4dda-9d24-1d1dd8df8f18"
      },
      "source": [
        "cm = confusion_matrix(Y_teste1, predict1)\n",
        "sns.heatmap(cm , fmt=\".3g\", annot= True, cmap=\"Greens\")\n",
        "\n",
        "plt.show()"
      ],
      "execution_count": null,
      "outputs": [
        {
          "output_type": "display_data",
          "data": {
            "image/png": "[encoded data removed]",
            "text/plain": [
              "<Figure size 432x288 with 2 Axes>"
            ]
          },
          "metadata": {
            "tags": [],
            "needs_background": "light"
          }
        }
      ]
    },
    {
      "cell_type": "markdown",
      "metadata": {
        "id": "NaFItkMbBhPF"
      },
      "source": [
        "Como a distância entre o score de treino e teste não é tão grande, e ambos performaram bem, podemos dizer que nosso modelo teve uma boa performance no geral. \n",
        "\n",
        "Uma analise mais aprofundada nos dados e na arquitetura da rede poderia levar a performances ainda melhores. Essas análises no entanto fogem do escopo deste tutorial, contudo, encorajamos o leitor a elaborar modelos que performem ainda melhor, e a realizar uma análise e engenharia de dados ainda mais aprofundada. \n",
        "\n",
        "Esperamos ter ajudado. \n",
        "\n",
        ":D"
      ]
    }
  ]
}