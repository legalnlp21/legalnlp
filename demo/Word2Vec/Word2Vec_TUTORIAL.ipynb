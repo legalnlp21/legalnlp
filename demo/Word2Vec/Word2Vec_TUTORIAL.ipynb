{
  "nbformat": 4,
  "nbformat_minor": 0,
  "metadata": {
    "colab": {
      "name": "Word2Vec-TUTORIAL.ipynb",
      "provenance": [],
      "collapsed_sections": [],
      "include_colab_link": true
    },
    "kernelspec": {
      "name": "python3",
      "display_name": "Python 3"
    },
    "language_info": {
      "name": "python"
    }
  },
  "cells": [
    {
      "cell_type": "markdown",
      "metadata": {
        "id": "view-in-github",
        "colab_type": "text"
      },
      "source": [
        "<a href=\"https://colab.research.google.com/github/legalnlp21/legalnlp/blob/main/demo/Word2Vec/Word2Vec_TUTORIAL.ipynb\" target=\"_parent\"><img src=\"https://colab.research.google.com/assets/colab-badge.svg\" alt=\"Open In Colab\"/></a>"
      ]
    },
    {
      "cell_type": "markdown",
      "metadata": {
        "id": "CpedCl83iG7q"
      },
      "source": [
        "#Breve introdução teórica\n",
        "\n"
      ]
    },
    {
      "cell_type": "markdown",
      "metadata": {
        "id": "-qLWDcRwi27f"
      },
      "source": [
        "## Motivação\n",
        "\n",
        "A ideia principal dos métodos Word2Vec (W2V) é encontrar uma representação vetorial para palavras, tal representação elaborada a partir do contexto em que essas palavras aparecem. No caso deste pacote, os modelos são treinados com um corpo de texto extraído do meio jurídico.\n",
        "\n",
        "A representação de palavras em espaços vetoriais torna possível a análise de proximidade semântica, correlação e outras comparações quantitativas entre palavras.\n",
        "\n",
        "Os artigos originais sobre WordVec podem se encontrados em [[1]](https://arxiv.org/abs/1301.3781) e [[2]](https://papers.nips.cc/paper/2013/hash/9aa42b31882ec039965f3c4923ce901b-Abstract.html)."
      ]
    },
    {
      "cell_type": "markdown",
      "metadata": {
        "id": "wIJQ-K8KX1Mw"
      },
      "source": [
        "## A representação vetorial\n",
        "\n",
        "A partir do corpo de texto (o conjunto de todos os textos usados para treinar o modelo) será coletado um conjunto com as $n$ palavras distintas, formando o \"vocabulário\". Com isso podemos ter uma representação vetorial na forma conhecida como \"one-hot vector\", que consiste em um vetor de tamanho $n$ preenchido inteiramente com zeros, exceto na posição utilizada para diferenciar cada palavra do vocabulário, com o número um nessa posição. Contudo esse tipo de representação não fornece informação sobre o sentido da palavra no contexto sendo o ponto principal em análise de sentimento, por outro lado a representação vetoial do Word2Vec nos fornece esse tipo de informação.\n",
        "\n",
        "As representações vetoriais (as chamadas \"*word embbedings*\") geradas a partir do Word2Vec, podem ter uma dimensão arbitrária e carregam informações geradas a partir do contexto. O contexto é definido por um conjunto de palavras dentro de cada amostra, o tamanho desse conjunto é dado pela \"janela\", ou seja, o número de palavras ao redor da palavra principal.\n",
        "\n",
        "Em suma, os modelos W2V podem ser gerados de duas formas: o método \"*Skip-Gram*\" e o método \"*Continuous Bag of Words*\" (CBOW). Os modelos gerados a partir do método *Skip-Gram* consistem de *embbedings* que representam o espaço paramétrico de uma Rede Neural, que recebe como *input* a palavra $w_t$, ou seja, na posição $t$, e tem como *output* prever as palavras $w_{t-d}$, ..., $w_{t-2}$, $w_{t-1}$ e $w_{t+1}$, $w_{t+2}$, ..., $w_{t+d}$, onde $d$ é o tamanho da janela. Já os modelos gerados a partir do método CBOW fazem o processo inverso, usando o contexto de palavras dentro da janela para prever a palavra alvo $w_t$.\n",
        "\n"
      ]
    },
    {
      "cell_type": "markdown",
      "metadata": {
        "id": "VTPkmV0EfoUG"
      },
      "source": [
        "## Aplicações imediatas\n",
        "\n",
        "Sejam $v_1$ e $v_2$ vetores *one-hot vectors* é imediato que $<v_1, v_2> = 0$, ou seja, nesta representação, todos os vetores são ortogonais. Pouca informação pode se tirar disso, pois a reprsentação em *one-hot vector* não considera o contexto.\n",
        "\n",
        "Operações vetoriais como a soma e subtração entre vetores em Word2Vec operam como \"somas semânticas\", por exemplo, uma equação como $(rei - homem) + mulher \\approx rainha$ seria algo palpável, que dependeria do contexto que essas palavras são usadas no corpo de texto. \n",
        "\n",
        "Além disso, podemos agora ter uma visualização gráfica das palavras que leva em conta o contexto em que essas palavras geralmente são usadas no corpo de texto. Vamos dar um exemplo, utilizando *embbedings* de tamanho 100, e aplicando um PCA (*Principal Components Analysis*) para reduzir a dimensionalidade para 2, para visualizarmos as palavras em um gráfico bidimensional."
      ]
    },
    {
      "cell_type": "markdown",
      "metadata": {
        "id": "BSs4FL2Ij3ft"
      },
      "source": [
        "# Representando palavras utilizando Word2Vec"
      ]
    },
    {
      "cell_type": "code",
      "metadata": {
        "id": "hkXWUWt4vKty"
      },
      "source": [
        "random_seed=42\n",
        "\n",
        "import numpy as np\n",
        "import random\n",
        "\n",
        "np.random.seed(random_seed)\n",
        "random.seed(random_seed)"
      ],
      "execution_count": null,
      "outputs": []
    },
    {
      "cell_type": "code",
      "metadata": {
        "id": "la2u-qlPiAMc"
      },
      "source": [
        "from IPython.display import clear_output\n",
        "\n",
        "!pip install gensim==3.8.1\n",
        "!pip install git+https://github.com/legalnlp21/legalnlp\n",
        "clear_output()"
      ],
      "execution_count": null,
      "outputs": []
    },
    {
      "cell_type": "markdown",
      "metadata": {
        "id": "6nlf3nppplyI"
      },
      "source": [
        "Primeiro vamos chamar as bibliotecas necessárias. "
      ]
    },
    {
      "cell_type": "code",
      "metadata": {
        "id": "wH2FlVft-cAF"
      },
      "source": [
        "import numpy as np\n",
        "from sklearn.decomposition import PCA\n",
        "from sklearn.preprocessing import StandardScaler\n",
        "import matplotlib.pyplot as plt\n",
        "import matplotlib.patches as mpatches\n",
        "from gensim.models import KeyedVectors\n",
        "import pandas as pd\n",
        "from legalnlp.get_premodel import get_premodel"
      ],
      "execution_count": null,
      "outputs": []
    },
    {
      "cell_type": "markdown",
      "metadata": {
        "id": "GXVkdKpppsNk"
      },
      "source": [
        "Utilizando a função \"get_premodel\" disponível no pacote *LegalNLP* podemos fazer o download do modelo pré-treinado W2V.\n"
      ]
    },
    {
      "cell_type": "code",
      "metadata": {
        "id": "aTXq-t86ciUW",
        "colab": {
          "base_uri": "https://localhost:8080/"
        },
        "outputId": "63e9e96f-1a1a-4fed-9ade-f68461aef324"
      },
      "source": [
        "# Downloading pre-trained model\n",
        "get_premodel('wodc')"
      ],
      "execution_count": null,
      "outputs": [
        {
          "output_type": "execute_result",
          "data": {
            "text/plain": [
              "True"
            ]
          },
          "metadata": {},
          "execution_count": 4
        }
      ]
    },
    {
      "cell_type": "code",
      "metadata": {
        "id": "G3pQZK34-lq4"
      },
      "source": [
        "model = KeyedVectors.load(\"/content/W2V_D2V/w2v_d2v_dm_size_100_window_15_epochs_20\")"
      ],
      "execution_count": null,
      "outputs": []
    },
    {
      "cell_type": "markdown",
      "metadata": {
        "id": "jl1_IxF3p_l-"
      },
      "source": [
        "Podemos ver a seguir, como o modelo consegue agrupar palavras semelhantes."
      ]
    },
    {
      "cell_type": "code",
      "metadata": {
        "colab": {
          "base_uri": "https://localhost:8080/"
        },
        "id": "cYaEhVGwigBO",
        "outputId": "d14be84e-cdf8-4b37-ea1e-4ebcfc84a484"
      },
      "source": [
        "model.wv.most_similar('jurisprudencia')"
      ],
      "execution_count": null,
      "outputs": [
        {
          "output_type": "execute_result",
          "data": {
            "text/plain": [
              "[('jurisprudência_assente', 0.6141901016235352),\n",
              " ('iterativa_jurisprudência', 0.5145410895347595),\n",
              " ('jurisprudência_majoritária', 0.5138000249862671),\n",
              " ('jurisprudência', 0.5029575824737549),\n",
              " ('jurisprudência_pátria', 0.4976961016654968),\n",
              " ('notória_jurisprudência', 0.49725937843322754),\n",
              " ('jurisprudência_uníssona', 0.47410157322883606),\n",
              " ('dominante', 0.4658571481704712),\n",
              " ('vazada', 0.4633045792579651),\n",
              " ('jurisprudência_prevalecente', 0.45525240898132324)]"
            ]
          },
          "metadata": {},
          "execution_count": 6
        }
      ]
    },
    {
      "cell_type": "code",
      "metadata": {
        "colab": {
          "base_uri": "https://localhost:8080/"
        },
        "id": "RkLY2f06Bofd",
        "outputId": "77f97b37-17dc-4bde-c67f-913b658da55d"
      },
      "source": [
        "model.wv.most_similar('pandemia')"
      ],
      "execution_count": null,
      "outputs": [
        {
          "output_type": "execute_result",
          "data": {
            "text/plain": [
              "[('pandemia_mundial', 0.6916313767433167),\n",
              " ('pandemia_causada', 0.6867375373840332),\n",
              " ('epidemia', 0.6704655885696411),\n",
              " ('disseminação', 0.6358423233032227),\n",
              " ('pandemia_global', 0.5988448858261108),\n",
              " ('pandemia_provocada', 0.5955021381378174),\n",
              " ('quarentena', 0.595090389251709),\n",
              " ('surto', 0.588540256023407),\n",
              " ('crise', 0.5628268718719482),\n",
              " ('calamidade_pública', 0.541213870048523)]"
            ]
          },
          "metadata": {},
          "execution_count": 7
        }
      ]
    },
    {
      "cell_type": "markdown",
      "metadata": {
        "id": "fdLgR10wqJtb"
      },
      "source": [
        "Vamos definir uma função para vizualisar algumas clusters e verificar como elas se parecem geometricamente. Como a dimensão de cada embbeding é 100, teremos que utilizar um método de redução de dimensionalidade. Para isso, iremos utilizar o objeto PCA do SciKitLearn."
      ]
    },
    {
      "cell_type": "code",
      "metadata": {
        "id": "se8R7tAZGP66"
      },
      "source": [
        "def pca_plot(model, p_c, pca, file = None):\n",
        "    \n",
        "    transforma = lambda palavra: pca.transform(palavra)\n",
        "    \n",
        "    plt.figure(figsize=(13, 8)) \n",
        "    wd_clusters = p_c.keys()\n",
        "\n",
        "\n",
        "    for word in wd_clusters:\n",
        "      labels = []\n",
        "      tokens = []\n",
        "      emb = model.wv[word]\n",
        "      emb = (emb/np.sqrt(emb@emb)).tolist()\n",
        "      tokens.append(emb)\n",
        "      labels.append(word)\n",
        "      \n",
        "      k = 0\n",
        "      for similar in model.wv.most_similar(word):\n",
        "        k+=1\n",
        "        emb = model.wv[similar[0]]\n",
        "        emb = (emb/np.sqrt(emb@emb)).tolist()\n",
        "        tokens.append(emb)\n",
        "        labels.append(similar[0])\n",
        "        if k == 5: break\n",
        "        \n",
        "        \n",
        "      new_values = transforma(np.array(tokens))\n",
        "\n",
        "      x = []\n",
        "      y = []\n",
        "\n",
        "      for value, i in zip(new_values, [k for k in range(0, len(labels))]):\n",
        "        norma = 1#np.sqrt(value[0]**2 + value[1]**2)\n",
        "        x.append(value[0]/norma)\n",
        "        y.append(value[1]/norma)\n",
        "            \n",
        "      for i in range(len(x)):\n",
        "          plt.scatter(x[i],y[i], c = p_c[word], s=50)\n",
        "          plt.annotate(labels[i],\n",
        "                      xy=(x[i], y[i]),\n",
        "                      xytext=(5, 2),\n",
        "                      fontsize = 10,\n",
        "                      textcoords='offset points',\n",
        "                      ha='right',\n",
        "                      va='bottom')\n",
        "\n",
        "    ln = []\n",
        "    for i in range(len(p_c.items())):\n",
        "      ln.append(mpatches.Patch(color= list(p_c.values())[i], label= list(p_c.keys())[i])) \n",
        "\n",
        "    plt.xlabel('PC1 ('+str(round(pca.explained_variance_ratio_[0]*100,2))+'%)', size=12)\n",
        "    plt.ylabel('PC2 ('+str(round(pca.explained_variance_ratio_[1]*100,2))+'%)', size=12)\n",
        "    plt.legend(handles=ln)\n",
        "    if type(file) is not None:\n",
        "      plt.savefig(file, dpi = 800)\n",
        "    plt.show()"
      ],
      "execution_count": null,
      "outputs": []
    },
    {
      "cell_type": "code",
      "metadata": {
        "colab": {
          "base_uri": "https://localhost:8080/"
        },
        "id": "Yq7MIrHbxrKY",
        "outputId": "afe6f0ca-f23c-4f09-b4fb-8ab360ae0268"
      },
      "source": [
        "pca = PCA(n_components = 2)\n",
        "emb_norm = model.wv.vectors/(np.sqrt(np.sum(model.wv.vectors**2, axis = 1))).reshape((-1,1))\n",
        "pca.fit(emb_norm)"
      ],
      "execution_count": null,
      "outputs": [
        {
          "output_type": "execute_result",
          "data": {
            "text/plain": [
              "PCA(copy=True, iterated_power='auto', n_components=2, random_state=None,\n",
              "    svd_solver='auto', tol=0.0, whiten=False)"
            ]
          },
          "metadata": {},
          "execution_count": 9
        }
      ]
    },
    {
      "cell_type": "code",
      "metadata": {
        "colab": {
          "base_uri": "https://localhost:8080/"
        },
        "id": "VV1G2cpnJOPE",
        "outputId": "6709a8b4-1f6a-449b-e6e4-c844ab6a5aef"
      },
      "source": [
        "pca.explained_variance_ratio_"
      ],
      "execution_count": null,
      "outputs": [
        {
          "output_type": "execute_result",
          "data": {
            "text/plain": [
              "array([0.04819769, 0.03529714])"
            ]
          },
          "metadata": {},
          "execution_count": 10
        }
      ]
    },
    {
      "cell_type": "markdown",
      "metadata": {
        "id": "E_MdBKKjqz1k"
      },
      "source": [
        "Agora, basta chamarmos a função, vamos testar com o grupo de palavras nas chaves do dicionário \"palavras\", cada uma mapeando a sigla da cor utilizada no gráfico."
      ]
    },
    {
      "cell_type": "code",
      "metadata": {
        "colab": {
          "base_uri": "https://localhost:8080/",
          "height": 500
        },
        "id": "QDKXad22Gdew",
        "outputId": "d1e101bd-6d30-486b-e026-71f74620a848"
      },
      "source": [
        "palavras = {'juiz':'r', 'leilão':'g', 'tjsp':'k', 'lei':'c', 'sao_paulo':'m', 'luciana':'b'}\n",
        "\n",
        "pca_plot(model, p_c = palavras, pca = pca, file = \"clusters_w2v\")\n"
      ],
      "execution_count": null,
      "outputs": [
        {
          "output_type": "display_data",
          "data": {
            "image/png": "[encoded data removed]",
            "text/plain": [
              "<Figure size 936x576 with 1 Axes>"
            ]
          },
          "metadata": {
            "needs_background": "light"
          }
        }
      ]
    },
    {
      "cell_type": "markdown",
      "metadata": {
        "id": "43kUz1dZrEFB"
      },
      "source": [
        "Podemos ver que de fato, geometricamente, palavras mais próximas tem sentidos \"mais próximos\", encontramos *clusters* coerentes de *tokens* que se referem a nomes próprios, nomes de cidade e palavras com contextos relacionados entre si. Devemos lembrar que, após feita a redução de dimensionalidade, foi perdida uma alta porcentagem de explicação na variância nos dados, então alguns *clusters* que o usuário eventualmente venha a testar podem não ser tão coerentes em um espaço bidimensional. Contudo o efeito visual com apenas 8.35% de explicação já condiz com o que se esperava. "
      ]
    },
    {
      "cell_type": "markdown",
      "metadata": {
        "id": "OkzaEKDx7Agr"
      },
      "source": [
        "# Aplicando o Word2Vec em um dataset para classificação\n",
        "\n",
        "Nesse tutorial vamos demonstrar como utilizar *word-embeddings* geradas a partir do método Word2Vec, em cima de um corpo de texto, para classificação.\n",
        "\n",
        "O método Word2Vec utiliza o contexto das palavras nos textos para gerar as *embbedings*. Para isso, foi utilizado o pacote *gensim* (versão 3.8.1), que integra as ferramentas necessárias para gerar, salvar e carregar as embbedings.\n",
        "\n",
        "As ferramentas de limpeza de texto usadas foram criadas com o enfoque em textos do meio jurídico, mas podem ser usadas com outros textos igualmente. \n",
        "\n",
        "Para o funcionamento correto, recomendamos que o usuário tenha acesso aos seguintes módulos:\n",
        "* ScikitLearn\n",
        "* Keras\n",
        "* Gensim\n",
        "* String\n",
        "* Numpy\n",
        "* Pandas\n",
        "* Ftfy\n",
        "\n",
        "Neste tutorial, utilizamos um modelo de Redes Neurais Convolucionais para classificar processos legais em \"Ativo\", \"Suspenso\" e \"Arquivado\". O dataset esta disponível\n",
        "[nesta página](https://www.kaggle.com/felipepolo/brazilian-legal-proceedings)\n",
        "do Kaggle. \\\\\n",
        "Este turorial foi baseados nos seguintes artigos \n",
        "[[3]](https://machinelearningmastery.com/develop-word-embedding-model-predicting-movie-review-sentiment/), [[4]](https://machinelearningmastery.com/best-practices-document-classification-deep-learning/) e [[5]](https://machinelearningmastery.com/use-word-embedding-layers-deep-learning-keras/)"
      ]
    },
    {
      "cell_type": "code",
      "metadata": {
        "id": "gC2UjjbL80ee"
      },
      "source": [
        "from sklearn.metrics import accuracy_score, confusion_matrix, classification_report\n",
        "import seaborn as sns\n",
        "import matplotlib.pyplot as plt"
      ],
      "execution_count": null,
      "outputs": []
    },
    {
      "cell_type": "markdown",
      "metadata": {
        "id": "y8_955rB-sU7"
      },
      "source": [
        "De início, vamos importar as bibliotecas e funções que serão usadas adiante. Devemos também instalar as bibliotecas que não estão disponíveis por padrão no Google Colab."
      ]
    },
    {
      "cell_type": "code",
      "metadata": {
        "id": "gGFJlWE7-sEO"
      },
      "source": [
        "from sklearn.preprocessing import OneHotEncoder\n",
        "from sklearn.model_selection import train_test_split\n",
        "from sklearn.preprocessing import LabelEncoder\n",
        "\n",
        "from keras.preprocessing.text import one_hot\n",
        "from keras.preprocessing.text import Tokenizer \n",
        "from keras.preprocessing.sequence import pad_sequences\n",
        "from keras.models import Sequential\n",
        "from keras.layers import Dense\n",
        "from keras.layers import Flatten\n",
        "from keras.layers.embeddings import Embedding\n",
        "from keras.layers.convolutional import Conv1D\n",
        "from keras.layers.convolutional import MaxPooling1D\n",
        "from keras.callbacks import EarlyStopping\n",
        "\n",
        "from string import punctuation\n",
        "\n",
        "from tqdm import tqdm\n",
        "\n",
        "from os import listdir\n",
        "\n",
        "from numpy import array\n",
        "from numpy import asarray\n",
        "from numpy import zeros\n",
        "\n",
        "from legalnlp.clean_functions import *\n",
        "\n",
        "clear_output()"
      ],
      "execution_count": null,
      "outputs": []
    },
    {
      "cell_type": "markdown",
      "metadata": {
        "id": "CHOhgv8n7GjM"
      },
      "source": [
        "## Carregando os dados"
      ]
    },
    {
      "cell_type": "markdown",
      "metadata": {
        "id": "k4IIaMWG_xD5"
      },
      "source": [
        "Vamos carregar a base de dados, que esta em formato *csv*."
      ]
    },
    {
      "cell_type": "code",
      "metadata": {
        "colab": {
          "base_uri": "https://localhost:8080/",
          "height": 204
        },
        "id": "G9XaBkiF6LAe",
        "outputId": "c0b1b265-1c14-4685-dcd2-cc877195bd6c"
      },
      "source": [
        "df=pd.read_csv('https://raw.githubusercontent.com/legalnlp21/legalnlp/main/demo/data_base.csv')\n",
        "df.drop(columns=['Unnamed: 0'],inplace=True)\n",
        "df.head()"
      ],
      "execution_count": null,
      "outputs": [
        {
          "output_type": "execute_result",
          "data": {
            "text/html": [
              "<div>\n",
              "<style scoped>\n",
              "    .dataframe tbody tr th:only-of-type {\n",
              "        vertical-align: middle;\n",
              "    }\n",
              "\n",
              "    .dataframe tbody tr th {\n",
              "        vertical-align: top;\n",
              "    }\n",
              "\n",
              "    .dataframe thead th {\n",
              "        text-align: right;\n",
              "    }\n",
              "</style>\n",
              "<table border=\"1\" class=\"dataframe\">\n",
              "  <thead>\n",
              "    <tr style=\"text-align: right;\">\n",
              "      <th></th>\n",
              "      <th>text</th>\n",
              "      <th>label</th>\n",
              "    </tr>\n",
              "  </thead>\n",
              "  <tbody>\n",
              "    <tr>\n",
              "      <th>0</th>\n",
              "      <td>Início da Execução Juntado 0008003-11.2018.8.2...</td>\n",
              "      <td>H:Suspenso</td>\n",
              "    </tr>\n",
              "    <tr>\n",
              "      <th>1</th>\n",
              "      <td>Ofício Requisitório - Comunicação - Protocolo ...</td>\n",
              "      <td>H:Arquivado</td>\n",
              "    </tr>\n",
              "    <tr>\n",
              "      <th>2</th>\n",
              "      <td>Arquivado Provisoriamente aguardando manifestação</td>\n",
              "      <td>H:Suspenso</td>\n",
              "    </tr>\n",
              "    <tr>\n",
              "      <th>3</th>\n",
              "      <td>Petição Juntada Juntada a petição diversa - Ti...</td>\n",
              "      <td>H:Ativo</td>\n",
              "    </tr>\n",
              "    <tr>\n",
              "      <th>4</th>\n",
              "      <td>Remetidos os Autos para o Arquivo Geral – Devo...</td>\n",
              "      <td>H:Arquivado</td>\n",
              "    </tr>\n",
              "  </tbody>\n",
              "</table>\n",
              "</div>"
            ],
            "text/plain": [
              "                                                text        label\n",
              "0  Início da Execução Juntado 0008003-11.2018.8.2...   H:Suspenso\n",
              "1  Ofício Requisitório - Comunicação - Protocolo ...  H:Arquivado\n",
              "2  Arquivado Provisoriamente aguardando manifestação   H:Suspenso\n",
              "3  Petição Juntada Juntada a petição diversa - Ti...      H:Ativo\n",
              "4  Remetidos os Autos para o Arquivo Geral – Devo...  H:Arquivado"
            ]
          },
          "metadata": {},
          "execution_count": 14
        }
      ]
    },
    {
      "cell_type": "code",
      "metadata": {
        "colab": {
          "base_uri": "https://localhost:8080/"
        },
        "id": "05IL0rD1AtI7",
        "outputId": "c0aa6648-1524-4da1-b5cd-74d871ad51b9"
      },
      "source": [
        "df.shape"
      ],
      "execution_count": null,
      "outputs": [
        {
          "output_type": "execute_result",
          "data": {
            "text/plain": [
              "(6449, 2)"
            ]
          },
          "metadata": {},
          "execution_count": 15
        }
      ]
    },
    {
      "cell_type": "markdown",
      "metadata": {
        "id": "WVnNlojSAso9"
      },
      "source": [
        "O dataset é composto por um conjunto de 6449 processos classificados nas 3 categorias:\n",
        "* Ativo\n",
        "* Suspenso\n",
        "* Arquivado"
      ]
    },
    {
      "cell_type": "markdown",
      "metadata": {
        "id": "k246rN0qCEK6"
      },
      "source": [
        "Agora faremos a separação das categorias da nossa target, numerando de 0 a 2."
      ]
    },
    {
      "cell_type": "code",
      "metadata": {
        "id": "xXZDf4ZECWpJ",
        "colab": {
          "base_uri": "https://localhost:8080/",
          "height": 419
        },
        "outputId": "385a6e2c-9eb6-4225-db47-f4e7734809fb"
      },
      "source": [
        "encoder = LabelEncoder()\n",
        "encoder.fit(df['label'])\n",
        "df['encoded'] = encoder.transform(df['label'])\n",
        "df.drop(columns=['label'], inplace = True)\n",
        "df"
      ],
      "execution_count": null,
      "outputs": [
        {
          "output_type": "execute_result",
          "data": {
            "text/html": [
              "<div>\n",
              "<style scoped>\n",
              "    .dataframe tbody tr th:only-of-type {\n",
              "        vertical-align: middle;\n",
              "    }\n",
              "\n",
              "    .dataframe tbody tr th {\n",
              "        vertical-align: top;\n",
              "    }\n",
              "\n",
              "    .dataframe thead th {\n",
              "        text-align: right;\n",
              "    }\n",
              "</style>\n",
              "<table border=\"1\" class=\"dataframe\">\n",
              "  <thead>\n",
              "    <tr style=\"text-align: right;\">\n",
              "      <th></th>\n",
              "      <th>text</th>\n",
              "      <th>encoded</th>\n",
              "    </tr>\n",
              "  </thead>\n",
              "  <tbody>\n",
              "    <tr>\n",
              "      <th>0</th>\n",
              "      <td>Início da Execução Juntado 0008003-11.2018.8.2...</td>\n",
              "      <td>2</td>\n",
              "    </tr>\n",
              "    <tr>\n",
              "      <th>1</th>\n",
              "      <td>Ofício Requisitório - Comunicação - Protocolo ...</td>\n",
              "      <td>0</td>\n",
              "    </tr>\n",
              "    <tr>\n",
              "      <th>2</th>\n",
              "      <td>Arquivado Provisoriamente aguardando manifestação</td>\n",
              "      <td>2</td>\n",
              "    </tr>\n",
              "    <tr>\n",
              "      <th>3</th>\n",
              "      <td>Petição Juntada Juntada a petição diversa - Ti...</td>\n",
              "      <td>1</td>\n",
              "    </tr>\n",
              "    <tr>\n",
              "      <th>4</th>\n",
              "      <td>Remetidos os Autos para o Arquivo Geral – Devo...</td>\n",
              "      <td>0</td>\n",
              "    </tr>\n",
              "    <tr>\n",
              "      <th>...</th>\n",
              "      <td>...</td>\n",
              "      <td>...</td>\n",
              "    </tr>\n",
              "    <tr>\n",
              "      <th>6444</th>\n",
              "      <td>Remetidos os Autos para o Arquivo Geral – Devo...</td>\n",
              "      <td>2</td>\n",
              "    </tr>\n",
              "    <tr>\n",
              "      <th>6445</th>\n",
              "      <td>Certidão de Trânsito em Julgado com Baixa Expe...</td>\n",
              "      <td>0</td>\n",
              "    </tr>\n",
              "    <tr>\n",
              "      <th>6446</th>\n",
              "      <td>Petição Juntada Nº Protocolo: WSCB.19.70085805...</td>\n",
              "      <td>1</td>\n",
              "    </tr>\n",
              "    <tr>\n",
              "      <th>6447</th>\n",
              "      <td>Remetidos os Autos para o Tribunal de Justiça/...</td>\n",
              "      <td>1</td>\n",
              "    </tr>\n",
              "    <tr>\n",
              "      <th>6448</th>\n",
              "      <td>Arquivado Definitivamente</td>\n",
              "      <td>0</td>\n",
              "    </tr>\n",
              "  </tbody>\n",
              "</table>\n",
              "<p>6449 rows × 2 columns</p>\n",
              "</div>"
            ],
            "text/plain": [
              "                                                   text  encoded\n",
              "0     Início da Execução Juntado 0008003-11.2018.8.2...        2\n",
              "1     Ofício Requisitório - Comunicação - Protocolo ...        0\n",
              "2     Arquivado Provisoriamente aguardando manifestação        2\n",
              "3     Petição Juntada Juntada a petição diversa - Ti...        1\n",
              "4     Remetidos os Autos para o Arquivo Geral – Devo...        0\n",
              "...                                                 ...      ...\n",
              "6444  Remetidos os Autos para o Arquivo Geral – Devo...        2\n",
              "6445  Certidão de Trânsito em Julgado com Baixa Expe...        0\n",
              "6446  Petição Juntada Nº Protocolo: WSCB.19.70085805...        1\n",
              "6447  Remetidos os Autos para o Tribunal de Justiça/...        1\n",
              "6448                          Arquivado Definitivamente        0\n",
              "\n",
              "[6449 rows x 2 columns]"
            ]
          },
          "metadata": {},
          "execution_count": 16
        }
      ]
    },
    {
      "cell_type": "code",
      "metadata": {
        "colab": {
          "base_uri": "https://localhost:8080/"
        },
        "id": "Q60fpei5Q1o9",
        "outputId": "861a9561-018a-4e56-fda2-89702c9ccaaa"
      },
      "source": [
        "X_textos = df['text'].apply(clean)\n",
        "X_textos.head(5)"
      ],
      "execution_count": null,
      "outputs": [
        {
          "output_type": "execute_result",
          "data": {
            "text/plain": [
              "0    início da execução juntado [processo] - - cump...\n",
              "1    ofício requisitório - - comunicação - - protoc...\n",
              "2    arquivado provisoriamente aguardando manifestação\n",
              "3    petição juntada juntada a petição diversa - - ...\n",
              "4    remetidos os autos para o arquivo geral – devo...\n",
              "Name: text, dtype: object"
            ]
          },
          "metadata": {},
          "execution_count": 17
        }
      ]
    },
    {
      "cell_type": "code",
      "metadata": {
        "colab": {
          "base_uri": "https://localhost:8080/"
        },
        "id": "fAIHkrlbCdZ0",
        "outputId": "9cde0a90-e35d-4133-d0d2-34815a3e7f8d"
      },
      "source": [
        "labels = np.array(df['encoded'])\n",
        "labels[:5]"
      ],
      "execution_count": null,
      "outputs": [
        {
          "output_type": "execute_result",
          "data": {
            "text/plain": [
              "array([2, 0, 2, 1, 0])"
            ]
          },
          "metadata": {},
          "execution_count": 18
        }
      ]
    },
    {
      "cell_type": "markdown",
      "metadata": {
        "id": "jVib4BEqAiBI"
      },
      "source": [
        "Com isso feito, podemos tratar nossos dados para que a rede possa interpreta-los e trabalhar de forma adequada."
      ]
    },
    {
      "cell_type": "markdown",
      "metadata": {
        "id": "aS8Hn-G6C23H"
      },
      "source": [
        "## Preparando os dados"
      ]
    },
    {
      "cell_type": "markdown",
      "metadata": {
        "id": "VqsU1Ci4C7Ck"
      },
      "source": [
        "O dataset que estamos usando não precisou de muito tratamento. Para as próprias aplicações, o leitor deve verificar com cautela as peculiaridades dos dados, antes de realizar a \"tokenização\"."
      ]
    },
    {
      "cell_type": "markdown",
      "metadata": {
        "id": "tJpdcmyzDVLQ"
      },
      "source": [
        "Com nossos textos tratados, vamos começar a prepará-los para serem recebidos pela rede neural. A estrutura basica da rede neural para NLP (*Natural Language Processing*) deve iniciar com uma camada chamada de \"embedding layer\". Essa camada é a responsável por traduzir as palavras para vetores. Ela fara isso a partir de uma matriz de pesos, onde cada i-ésima linha contém o vetor referente a i-ésima palavra.\n",
        "\n",
        "Portanto, devemos indexar cada *token* a um número natural, e representar nossos textos como vetores de indexação, ou seja, vetores com os números inteiros referentes a cada palavra. Para isso vamos tokenizar nosso corpo de texto utilizando o objeto *Tokenizer* do Keras. "
      ]
    },
    {
      "cell_type": "code",
      "metadata": {
        "id": "CbuxARSWEyH0",
        "colab": {
          "base_uri": "https://localhost:8080/"
        },
        "outputId": "0f202ae2-086a-46ea-c319-89fe38beb45b"
      },
      "source": [
        "t = Tokenizer()\n",
        "t.fit_on_texts(X_textos)\n",
        "tamanho_vocab = len(t.word_index) + 1\n",
        "encoded_textos = array(t.texts_to_sequences(X_textos))"
      ],
      "execution_count": null,
      "outputs": [
        {
          "output_type": "stream",
          "name": "stderr",
          "text": [
            "/usr/local/lib/python3.7/dist-packages/ipykernel_launcher.py:4: VisibleDeprecationWarning: Creating an ndarray from ragged nested sequences (which is a list-or-tuple of lists-or-tuples-or ndarrays with different lengths or shapes) is deprecated. If you meant to do this, you must specify 'dtype=object' when creating the ndarray\n",
            "  after removing the cwd from sys.path.\n"
          ]
        }
      ]
    },
    {
      "cell_type": "code",
      "metadata": {
        "colab": {
          "base_uri": "https://localhost:8080/"
        },
        "id": "15II9RMjFK37",
        "outputId": "d0c48721-09f5-4727-d338-2e560edd8d77"
      },
      "source": [
        "t.index_word[122], t.index_word[5], t.index_word[69], t.index_word[59], t.index_word[34], t.index_word[76], \"...\""
      ],
      "execution_count": null,
      "outputs": [
        {
          "output_type": "execute_result",
          "data": {
            "text/plain": [
              "('início', 'da', 'execução', 'juntado', 'processo', 'cumprimento', '...')"
            ]
          },
          "metadata": {},
          "execution_count": 20
        }
      ]
    },
    {
      "cell_type": "code",
      "metadata": {
        "colab": {
          "base_uri": "https://localhost:8080/"
        },
        "id": "_AhStGQzFoqr",
        "outputId": "9b933fd1-dd50-4f10-d8b5-51910d6f63a6"
      },
      "source": [
        "print(encoded_textos[0])"
      ],
      "execution_count": null,
      "outputs": [
        {
          "output_type": "stream",
          "name": "stdout",
          "text": [
            "[122, 5, 69, 59, 34, 76, 2, 56]\n"
          ]
        }
      ]
    },
    {
      "cell_type": "markdown",
      "metadata": {
        "id": "sLM1bSciFz4q"
      },
      "source": [
        "Cada vetor agora representa um texto, contúdo, cada um pode ter tamanhos distintos. Devemos padroniza-los, aplicando *zero-padding.*"
      ]
    },
    {
      "cell_type": "code",
      "metadata": {
        "colab": {
          "base_uri": "https://localhost:8080/"
        },
        "id": "_FHf-ZaBFRd_",
        "outputId": "b9168890-3f67-4473-9f97-5e373b45c1cd"
      },
      "source": [
        "len_maior = 0\n",
        "for lista in encoded_textos:\n",
        "  if len(lista) > len_maior: len_maior = len(lista)\n",
        "\n",
        "len_maior"
      ],
      "execution_count": null,
      "outputs": [
        {
          "output_type": "execute_result",
          "data": {
            "text/plain": [
              "306"
            ]
          },
          "metadata": {},
          "execution_count": 22
        }
      ]
    },
    {
      "cell_type": "markdown",
      "metadata": {
        "id": "N7kn5y0cGgUa"
      },
      "source": [
        "Vamos usar a função \"pad_sequences\" do Keras para ajustar o tamanho dos textos para 306. Além disso, é recomendável que passemos os índices para \"float\"."
      ]
    },
    {
      "cell_type": "code",
      "metadata": {
        "colab": {
          "base_uri": "https://localhost:8080/"
        },
        "id": "eEucvRdpGfOd",
        "outputId": "4c3a365c-4765-47ed-ec44-cde19a4727ec"
      },
      "source": [
        "padded_docs = pad_sequences(encoded_textos, maxlen=len_maior, padding='post').astype('float32')\n",
        "\n",
        "len(padded_docs[0])"
      ],
      "execution_count": null,
      "outputs": [
        {
          "output_type": "execute_result",
          "data": {
            "text/plain": [
              "306"
            ]
          },
          "metadata": {},
          "execution_count": 23
        }
      ]
    },
    {
      "cell_type": "markdown",
      "metadata": {
        "id": "CSk6jJdyHOxZ"
      },
      "source": [
        "Nossos textos estão prontos para serem recebidos pela rede neural, contudo, ainda é necessário gerar a camada de *embbeding* da rede. Faremos isso na próxima seção."
      ]
    },
    {
      "cell_type": "markdown",
      "metadata": {
        "id": "1OBPiQ8FHe45"
      },
      "source": [
        "Também devemos tratar o nosso vetor de categorias. Por padrão, nossa target deve estar em formato matricial, com 1 na coluna representante da categoria do texto daquela linha e 0 nas demais.\n",
        "\n",
        "Vamos usar o objeto \"OneHotEncoder\" do ScikitLearn e passar a matriz para a forma densa (objeto retorna na forma de matriz esparça). "
      ]
    },
    {
      "cell_type": "code",
      "metadata": {
        "colab": {
          "base_uri": "https://localhost:8080/"
        },
        "id": "NT3xnkJzG3cr",
        "outputId": "66188299-f294-4521-b822-5e34ed53001f"
      },
      "source": [
        "encoder = OneHotEncoder(handle_unknown='ignore')\n",
        "label_onehot = encoder.fit_transform(labels.reshape((-1,1))).todense()\n",
        "\n",
        "label_onehot[:3]"
      ],
      "execution_count": null,
      "outputs": [
        {
          "output_type": "execute_result",
          "data": {
            "text/plain": [
              "matrix([[0., 0., 1.],\n",
              "        [1., 0., 0.],\n",
              "        [0., 0., 1.]])"
            ]
          },
          "metadata": {},
          "execution_count": 24
        }
      ]
    },
    {
      "cell_type": "markdown",
      "metadata": {
        "id": "XwODax6gJYJj"
      },
      "source": [
        "Agora, com nossos dados preparados, começaremos a cuidar da \"embbeding layer\". "
      ]
    },
    {
      "cell_type": "markdown",
      "metadata": {
        "id": "mF2KqXCSJp8r"
      },
      "source": [
        "## Preparando as embeddings"
      ]
    },
    {
      "cell_type": "markdown",
      "metadata": {
        "id": "oyEM3_ZQ5sBD"
      },
      "source": [
        "Com o modelo carregado, já podemos estruturar a matriz de pesos. Neste caso específico, todas as palavras do corpo de texto dos dados estão contidas no vocabulário do modelo Word2Vec, contudo, o leitor deve ter o cuidado de tratar os casos em que essa equivalência não aconteça."
      ]
    },
    {
      "cell_type": "markdown",
      "metadata": {
        "id": "--X1RePT68GN"
      },
      "source": [
        "Vamos estruturar um dicionário, no qual cada chave é uma palavra do corpo do vocabulário do modelo e cada valor representa sua embbeding."
      ]
    },
    {
      "cell_type": "code",
      "metadata": {
        "id": "Mipcv8F47jeo"
      },
      "source": [
        "wv_dict = dict(zip(model.wv.index2word[:], model.wv.vectors[:]))"
      ],
      "execution_count": null,
      "outputs": []
    },
    {
      "cell_type": "markdown",
      "metadata": {
        "id": "yCQs9j3c7mWv"
      },
      "source": [
        "Para acelerar o treino da rede, e diminuir o tamanho da matriz de pesos, podemos fazer um dicionário somente com as palavras do *corpus*, pois geralmente, o vocabulário do modelo *pre-trained Word2Vec* é muito mais extenso que o necessário. "
      ]
    },
    {
      "cell_type": "code",
      "metadata": {
        "id": "bv8iy2OF8SrV"
      },
      "source": [
        "wv_dict_updated = {}\n",
        "for palavra in t.index_word.values():\n",
        "  if palavra in wv_dict.keys():\n",
        "    wv_dict_updated[palavra] = wv_dict[palavra]"
      ],
      "execution_count": null,
      "outputs": []
    },
    {
      "cell_type": "markdown",
      "metadata": {
        "id": "10p1dF1F6n28"
      },
      "source": [
        "Por fim, podemos estruturar a matriz de pesos, colocando a palavra de i-ésimo índice na i-ésima linha da matriz."
      ]
    },
    {
      "cell_type": "code",
      "metadata": {
        "colab": {
          "base_uri": "https://localhost:8080/"
        },
        "id": "RnopJgYe8rEQ",
        "outputId": "015ab631-c762-41ba-b361-46a3a5e18858"
      },
      "source": [
        "matriz_de_pesos = zeros((tamanho_vocab, 100))\n",
        "for palavra, i in t.word_index.items():\n",
        "  vetor_embed =  wv_dict_updated.get(palavra)\n",
        "  if vetor_embed is not None:\n",
        "    matriz_de_pesos[i] = vetor_embed\n",
        "\n",
        "matriz_de_pesos.shape"
      ],
      "execution_count": null,
      "outputs": [
        {
          "output_type": "execute_result",
          "data": {
            "text/plain": [
              "(2827, 100)"
            ]
          },
          "metadata": {},
          "execution_count": 27
        }
      ]
    },
    {
      "cell_type": "markdown",
      "metadata": {
        "id": "BLn_LSKJ9SPb"
      },
      "source": [
        "## Treinando o modelo"
      ]
    },
    {
      "cell_type": "markdown",
      "metadata": {
        "id": "9n7XjYRB9jSN"
      },
      "source": [
        "Com nossos dados codificados, e nossa matriz de pesos pronta, podemos começar a estruturar nossa Rede Neural. Nosso modelo será uma Rede Neural Convolucional, ou seja, aplicaremos uma camada de filtragem e em seguida uma camada de *pooling*, buscando ressaltar informações importantes das *embbedings*. \n",
        "\n",
        "Nossa rede terá a seguinte estrutura:\n",
        "1. A primeira camada de *embbeding*, que fara a codificação das palavras (representadas como índices) nos seus respectivos vetores.\n",
        "2. A segunda será uma camada convolucional, com 128 filtros no output, *kernel* de tamanho 5 e função de ativação 'ReLU'.\n",
        "3. A terceira camada será a *MaxPooling* de tamanho 2.\n",
        "4. Como o output da 3ª camada é um tensor, a quarta camada será uma camada de \"achatamento\".\n",
        "5. Por fim, a camada do output, de tamanho 3 e função de ativação *softmax*."
      ]
    },
    {
      "cell_type": "code",
      "metadata": {
        "id": "rlub9n_C9R3L"
      },
      "source": [
        "emb = Embedding(tamanho_vocab, 100, weights = [matriz_de_pesos], input_length=len_maior, trainable = False)\n",
        "\n",
        "rede = Sequential()\n",
        "\n",
        "rede.add(emb)\n",
        "rede.add(Conv1D(filters=32, kernel_size=3, activation='relu'))\n",
        "rede.add(MaxPooling1D(pool_size=2))\n",
        "rede.add(Flatten())\n",
        "rede.add(Dense(3, activation='softmax'))"
      ],
      "execution_count": null,
      "outputs": []
    },
    {
      "cell_type": "markdown",
      "metadata": {
        "id": "2-Sa_0gSAXIe"
      },
      "source": [
        "Para terminar a estrutura da rede, vamos usar a função perda como 'categorical_crossentropy', o caso categórico da entropia cruzada, para o otimizador ultilizaremos o 'adam' e a métrica de avaliação será a acurácia. Podemos ver a arquitetura utilizando o método \"*Sequential().summary()*\"."
      ]
    },
    {
      "cell_type": "code",
      "metadata": {
        "colab": {
          "base_uri": "https://localhost:8080/"
        },
        "id": "J6YSMgojBGcz",
        "outputId": "c79673a5-8476-44c7-ff44-922f2509521b"
      },
      "source": [
        "rede.compile(optimizer='adam', loss='categorical_crossentropy', metrics=['accuracy'])\n",
        "print(rede.summary())"
      ],
      "execution_count": null,
      "outputs": [
        {
          "output_type": "stream",
          "name": "stdout",
          "text": [
            "Model: \"sequential\"\n",
            "_________________________________________________________________\n",
            "Layer (type)                 Output Shape              Param #   \n",
            "=================================================================\n",
            "embedding (Embedding)        (None, 306, 100)          282700    \n",
            "_________________________________________________________________\n",
            "conv1d (Conv1D)              (None, 304, 32)           9632      \n",
            "_________________________________________________________________\n",
            "max_pooling1d (MaxPooling1D) (None, 152, 32)           0         \n",
            "_________________________________________________________________\n",
            "flatten (Flatten)            (None, 4864)              0         \n",
            "_________________________________________________________________\n",
            "dense (Dense)                (None, 3)                 14595     \n",
            "=================================================================\n",
            "Total params: 306,927\n",
            "Trainable params: 24,227\n",
            "Non-trainable params: 282,700\n",
            "_________________________________________________________________\n",
            "None\n"
          ]
        }
      ]
    },
    {
      "cell_type": "markdown",
      "metadata": {
        "id": "_bWrwUvwBOne"
      },
      "source": [
        "Vamos separar nossos dados em dados de treino e teste."
      ]
    },
    {
      "cell_type": "code",
      "metadata": {
        "id": "1Elh0HQwBOOw"
      },
      "source": [
        "X_treino, X_teste, y_treino, y_teste = train_test_split(padded_docs, label_onehot, random_state=random_seed, train_size=0.7, test_size=0.3)"
      ],
      "execution_count": null,
      "outputs": []
    },
    {
      "cell_type": "markdown",
      "metadata": {
        "id": "n64Ib0kxBYZS"
      },
      "source": [
        "Por fim, podemos treinar o modelo e verificar nossos resultados. "
      ]
    },
    {
      "cell_type": "code",
      "metadata": {
        "colab": {
          "base_uri": "https://localhost:8080/"
        },
        "id": "7Qp3FHJoBIr_",
        "outputId": "2ac972bb-3698-4f51-bc41-cf6ea5e5481c"
      },
      "source": [
        "rede.fit(X_treino, y_treino, epochs=50, validation_split=0.1, batch_size=500, verbose=1,  callbacks=[EarlyStopping(monitor='val_loss', patience=15)])"
      ],
      "execution_count": null,
      "outputs": [
        {
          "output_type": "stream",
          "name": "stdout",
          "text": [
            "Epoch 1/50\n",
            "9/9 [==============================] - 4s 347ms/step - loss: 0.9616 - accuracy: 0.6162 - val_loss: 0.8069 - val_accuracy: 0.6681\n",
            "Epoch 2/50\n",
            "9/9 [==============================] - 3s 281ms/step - loss: 0.7445 - accuracy: 0.6984 - val_loss: 0.6538 - val_accuracy: 0.7611\n",
            "Epoch 3/50\n",
            "9/9 [==============================] - 3s 281ms/step - loss: 0.6234 - accuracy: 0.7642 - val_loss: 0.5666 - val_accuracy: 0.7699\n",
            "Epoch 4/50\n",
            "9/9 [==============================] - 3s 279ms/step - loss: 0.5632 - accuracy: 0.7794 - val_loss: 0.5474 - val_accuracy: 0.7854\n",
            "Epoch 5/50\n",
            "9/9 [==============================] - 3s 277ms/step - loss: 0.5345 - accuracy: 0.7821 - val_loss: 0.5303 - val_accuracy: 0.7942\n",
            "Epoch 6/50\n",
            "9/9 [==============================] - 3s 297ms/step - loss: 0.4987 - accuracy: 0.7957 - val_loss: 0.5002 - val_accuracy: 0.8031\n",
            "Epoch 7/50\n",
            "9/9 [==============================] - 3s 275ms/step - loss: 0.4724 - accuracy: 0.8085 - val_loss: 0.4882 - val_accuracy: 0.8119\n",
            "Epoch 8/50\n",
            "9/9 [==============================] - 3s 281ms/step - loss: 0.4547 - accuracy: 0.8124 - val_loss: 0.4765 - val_accuracy: 0.8142\n",
            "Epoch 9/50\n",
            "9/9 [==============================] - 3s 280ms/step - loss: 0.4350 - accuracy: 0.8215 - val_loss: 0.4606 - val_accuracy: 0.8208\n",
            "Epoch 10/50\n",
            "9/9 [==============================] - 3s 282ms/step - loss: 0.4196 - accuracy: 0.8267 - val_loss: 0.4541 - val_accuracy: 0.8230\n",
            "Epoch 11/50\n",
            "9/9 [==============================] - 3s 279ms/step - loss: 0.4065 - accuracy: 0.8419 - val_loss: 0.4531 - val_accuracy: 0.8407\n",
            "Epoch 12/50\n",
            "9/9 [==============================] - 3s 302ms/step - loss: 0.3888 - accuracy: 0.8572 - val_loss: 0.4415 - val_accuracy: 0.8518\n",
            "Epoch 13/50\n",
            "9/9 [==============================] - 3s 289ms/step - loss: 0.3819 - accuracy: 0.8597 - val_loss: 0.4310 - val_accuracy: 0.8540\n",
            "Epoch 14/50\n",
            "9/9 [==============================] - 3s 276ms/step - loss: 0.3686 - accuracy: 0.8634 - val_loss: 0.4246 - val_accuracy: 0.8562\n",
            "Epoch 15/50\n",
            "9/9 [==============================] - 3s 277ms/step - loss: 0.3624 - accuracy: 0.8656 - val_loss: 0.4385 - val_accuracy: 0.8518\n",
            "Epoch 16/50\n",
            "9/9 [==============================] - 3s 278ms/step - loss: 0.3534 - accuracy: 0.8688 - val_loss: 0.4178 - val_accuracy: 0.8540\n",
            "Epoch 17/50\n",
            "9/9 [==============================] - 3s 281ms/step - loss: 0.3454 - accuracy: 0.8693 - val_loss: 0.4327 - val_accuracy: 0.8518\n",
            "Epoch 18/50\n",
            "9/9 [==============================] - 3s 300ms/step - loss: 0.3468 - accuracy: 0.8722 - val_loss: 0.4114 - val_accuracy: 0.8496\n",
            "Epoch 19/50\n",
            "9/9 [==============================] - 2s 274ms/step - loss: 0.3386 - accuracy: 0.8690 - val_loss: 0.4156 - val_accuracy: 0.8606\n",
            "Epoch 20/50\n",
            "9/9 [==============================] - 3s 276ms/step - loss: 0.3380 - accuracy: 0.8744 - val_loss: 0.4097 - val_accuracy: 0.8562\n",
            "Epoch 21/50\n",
            "9/9 [==============================] - 2s 273ms/step - loss: 0.3327 - accuracy: 0.8776 - val_loss: 0.4391 - val_accuracy: 0.8562\n",
            "Epoch 22/50\n",
            "9/9 [==============================] - 3s 276ms/step - loss: 0.3327 - accuracy: 0.8764 - val_loss: 0.4217 - val_accuracy: 0.8695\n",
            "Epoch 23/50\n",
            "9/9 [==============================] - 2s 275ms/step - loss: 0.3425 - accuracy: 0.8759 - val_loss: 0.4198 - val_accuracy: 0.8584\n",
            "Epoch 24/50\n",
            "9/9 [==============================] - 2s 275ms/step - loss: 0.3278 - accuracy: 0.8762 - val_loss: 0.4153 - val_accuracy: 0.8606\n",
            "Epoch 25/50\n",
            "9/9 [==============================] - 3s 275ms/step - loss: 0.3183 - accuracy: 0.8833 - val_loss: 0.4153 - val_accuracy: 0.8606\n",
            "Epoch 26/50\n",
            "9/9 [==============================] - 2s 275ms/step - loss: 0.3196 - accuracy: 0.8831 - val_loss: 0.4148 - val_accuracy: 0.8584\n",
            "Epoch 27/50\n",
            "9/9 [==============================] - 3s 282ms/step - loss: 0.3239 - accuracy: 0.8838 - val_loss: 0.4310 - val_accuracy: 0.8606\n",
            "Epoch 28/50\n",
            "9/9 [==============================] - 3s 277ms/step - loss: 0.3172 - accuracy: 0.8823 - val_loss: 0.4188 - val_accuracy: 0.8628\n",
            "Epoch 29/50\n",
            "9/9 [==============================] - 3s 278ms/step - loss: 0.3157 - accuracy: 0.8840 - val_loss: 0.4169 - val_accuracy: 0.8562\n",
            "Epoch 30/50\n",
            "9/9 [==============================] - 2s 275ms/step - loss: 0.3082 - accuracy: 0.8826 - val_loss: 0.4120 - val_accuracy: 0.8650\n",
            "Epoch 31/50\n",
            "9/9 [==============================] - 3s 289ms/step - loss: 0.3082 - accuracy: 0.8863 - val_loss: 0.4174 - val_accuracy: 0.8673\n",
            "Epoch 32/50\n",
            "9/9 [==============================] - 3s 305ms/step - loss: 0.3080 - accuracy: 0.8875 - val_loss: 0.4095 - val_accuracy: 0.8628\n",
            "Epoch 33/50\n",
            "9/9 [==============================] - 2s 275ms/step - loss: 0.3119 - accuracy: 0.8860 - val_loss: 0.4112 - val_accuracy: 0.8562\n",
            "Epoch 34/50\n",
            "9/9 [==============================] - 3s 279ms/step - loss: 0.3049 - accuracy: 0.8855 - val_loss: 0.4141 - val_accuracy: 0.8606\n",
            "Epoch 35/50\n",
            "9/9 [==============================] - 3s 284ms/step - loss: 0.3027 - accuracy: 0.8860 - val_loss: 0.4062 - val_accuracy: 0.8650\n",
            "Epoch 36/50\n",
            "9/9 [==============================] - 3s 288ms/step - loss: 0.2984 - accuracy: 0.8850 - val_loss: 0.4146 - val_accuracy: 0.8584\n",
            "Epoch 37/50\n",
            "9/9 [==============================] - 3s 293ms/step - loss: 0.2994 - accuracy: 0.8863 - val_loss: 0.4102 - val_accuracy: 0.8584\n",
            "Epoch 38/50\n",
            "9/9 [==============================] - 2s 275ms/step - loss: 0.3003 - accuracy: 0.8865 - val_loss: 0.4141 - val_accuracy: 0.8650\n",
            "Epoch 39/50\n",
            "9/9 [==============================] - 3s 289ms/step - loss: 0.2990 - accuracy: 0.8850 - val_loss: 0.4184 - val_accuracy: 0.8584\n",
            "Epoch 40/50\n",
            "9/9 [==============================] - 3s 280ms/step - loss: 0.2929 - accuracy: 0.8887 - val_loss: 0.4237 - val_accuracy: 0.8606\n",
            "Epoch 41/50\n",
            "9/9 [==============================] - 3s 298ms/step - loss: 0.2930 - accuracy: 0.8890 - val_loss: 0.4224 - val_accuracy: 0.8518\n",
            "Epoch 42/50\n",
            "9/9 [==============================] - 3s 278ms/step - loss: 0.2947 - accuracy: 0.8890 - val_loss: 0.4091 - val_accuracy: 0.8628\n",
            "Epoch 43/50\n",
            "9/9 [==============================] - 3s 278ms/step - loss: 0.2968 - accuracy: 0.8872 - val_loss: 0.4171 - val_accuracy: 0.8540\n",
            "Epoch 44/50\n",
            "9/9 [==============================] - 3s 297ms/step - loss: 0.2967 - accuracy: 0.8865 - val_loss: 0.4160 - val_accuracy: 0.8584\n",
            "Epoch 45/50\n",
            "9/9 [==============================] - 3s 292ms/step - loss: 0.2944 - accuracy: 0.8934 - val_loss: 0.4257 - val_accuracy: 0.8628\n",
            "Epoch 46/50\n",
            "9/9 [==============================] - 3s 293ms/step - loss: 0.2928 - accuracy: 0.8865 - val_loss: 0.4195 - val_accuracy: 0.8562\n",
            "Epoch 47/50\n",
            "9/9 [==============================] - 3s 280ms/step - loss: 0.2861 - accuracy: 0.8904 - val_loss: 0.4167 - val_accuracy: 0.8584\n",
            "Epoch 48/50\n",
            "9/9 [==============================] - 3s 278ms/step - loss: 0.2887 - accuracy: 0.8904 - val_loss: 0.4130 - val_accuracy: 0.8562\n",
            "Epoch 49/50\n",
            "9/9 [==============================] - 3s 278ms/step - loss: 0.2884 - accuracy: 0.8902 - val_loss: 0.4262 - val_accuracy: 0.8496\n",
            "Epoch 50/50\n",
            "9/9 [==============================] - 3s 278ms/step - loss: 0.2834 - accuracy: 0.8904 - val_loss: 0.4115 - val_accuracy: 0.8540\n"
          ]
        },
        {
          "output_type": "execute_result",
          "data": {
            "text/plain": [
              "<keras.callbacks.History at 0x7f89985c2750>"
            ]
          },
          "metadata": {},
          "execution_count": 31
        }
      ]
    },
    {
      "cell_type": "code",
      "metadata": {
        "colab": {
          "base_uri": "https://localhost:8080/"
        },
        "id": "Ek2GUT_nBiG7",
        "outputId": "f2bf2324-4edd-4e3d-e20e-ea939e3afb4c"
      },
      "source": [
        "loss, acc_treino = rede.evaluate(X_treino, y_treino, verbose=0)\n",
        "loss2, acc_teste = rede.evaluate(X_teste, y_teste, verbose=0)\n",
        "print(f'Acurácia no treino: {round(acc_treino*100, 2)}%')\n",
        "print(f'Acurácia no teste: {round(acc_teste*100, 2)}%')"
      ],
      "execution_count": null,
      "outputs": [
        {
          "output_type": "stream",
          "name": "stdout",
          "text": [
            "Acurácia no treino: 88.83%\n",
            "Acurácia no teste: 84.34%\n"
          ]
        }
      ]
    },
    {
      "cell_type": "code",
      "metadata": {
        "id": "T61i5sg5Da1g"
      },
      "source": [
        "predict = rede.predict(X_teste)"
      ],
      "execution_count": null,
      "outputs": []
    },
    {
      "cell_type": "code",
      "metadata": {
        "colab": {
          "base_uri": "https://localhost:8080/"
        },
        "id": "dFdq0E3w_Gp1",
        "outputId": "9d4eea5c-8839-4bf0-f6f7-ee67f0fd666a"
      },
      "source": [
        "predict1 = np.argmax(predict, axis=1)\n",
        "\n",
        "y_teste1 = np.argmax(y_teste, axis=1)\n",
        "np.array(y_teste1.reshape(1,-1))[0]"
      ],
      "execution_count": null,
      "outputs": [
        {
          "output_type": "execute_result",
          "data": {
            "text/plain": [
              "array([2, 1, 1, ..., 1, 0, 1])"
            ]
          },
          "metadata": {},
          "execution_count": 34
        }
      ]
    },
    {
      "cell_type": "code",
      "metadata": {
        "colab": {
          "base_uri": "https://localhost:8080/"
        },
        "id": "v9U9RC7H8q6Q",
        "outputId": "27788e9f-95bf-4ada-f256-044521887ea8"
      },
      "source": [
        "print(classification_report(y_teste1, predict1, labels=[0,1,2]))"
      ],
      "execution_count": null,
      "outputs": [
        {
          "output_type": "stream",
          "name": "stdout",
          "text": [
            "              precision    recall  f1-score   support\n",
            "\n",
            "           0       0.86      0.85      0.85       923\n",
            "           1       0.83      0.88      0.85       864\n",
            "           2       0.85      0.60      0.70       148\n",
            "\n",
            "    accuracy                           0.84      1935\n",
            "   macro avg       0.84      0.78      0.80      1935\n",
            "weighted avg       0.84      0.84      0.84      1935\n",
            "\n"
          ]
        }
      ]
    },
    {
      "cell_type": "code",
      "metadata": {
        "colab": {
          "base_uri": "https://localhost:8080/",
          "height": 265
        },
        "id": "fbKfb8S8EiMZ",
        "outputId": "9314ea3f-8311-4cf7-f663-168994a2825b"
      },
      "source": [
        "cm = confusion_matrix(y_teste1, predict1)\n",
        "sns.heatmap(cm , fmt=\".3g\", annot= True, cmap=\"Greens\")\n",
        "\n",
        "plt.show()"
      ],
      "execution_count": null,
      "outputs": [
        {
          "output_type": "display_data",
          "data": {
            "image/png": "[encoded data removed]",
            "text/plain": [
              "<Figure size 432x288 with 2 Axes>"
            ]
          },
          "metadata": {
            "needs_background": "light"
          }
        }
      ]
    },
    {
      "cell_type": "markdown",
      "metadata": {
        "id": "CJayUYi6HER1"
      },
      "source": [
        "Além dos métodos de predição usuais da Rede Neural do Keras, vamos usar o método de bootstrap para estimar o desvio padrão das nossas métricas usadas para medir o desempenho da Rede."
      ]
    },
    {
      "cell_type": "code",
      "metadata": {
        "id": "6HRavbBkGr-G"
      },
      "source": [
        "def bootstrap(X_test, y_test, model, nn=False, B=250):\n",
        "    #Creating dictionary to store results\n",
        "    out={}\n",
        "    out['accuracy']=[]\n",
        "    out['macro avg']={}\n",
        "    out['macro avg']['f1-score']=[]\n",
        "    out['macro avg']['recall']=[]\n",
        "    out['macro avg']['precision']=[]\n",
        "    out['weighted avg']={}\n",
        "    out['weighted avg']['f1-score']=[]\n",
        "    out['weighted avg']['recall']=[]\n",
        "    out['weighted avg']['precision']=[]\n",
        "\n",
        "    #Running Bootstrap on the test set\n",
        "    for b in tqdm(range(B)):\n",
        "        ind = np.random.choice(range(y_test.shape[0]),y_test.shape[0])\n",
        "        X_test_boot, y_test_boot = X_test[ind,:], y_test[ind]\n",
        "\n",
        "        y_pred=model.predict(X_test_boot)\n",
        "        \n",
        "        if nn:\n",
        "            y_pred=np.argmax(y_pred,axis=1)\n",
        "            report=classification_report(y_test_boot, y_pred, labels=[0, 1, 2], output_dict=True)\n",
        "        else:\n",
        "            report=classification_report(y_test_boot, y_pred, labels=[0, 1, 2], output_dict=True)\n",
        "\n",
        "        out['accuracy'].append(report['accuracy'])\n",
        "        out['macro avg']['f1-score'].append(report['macro avg']['f1-score'])\n",
        "        out['macro avg']['recall'].append(report['macro avg']['recall'])\n",
        "        out['macro avg']['precision'].append(report['macro avg']['precision'])\n",
        "        out['weighted avg']['f1-score'].append(report['weighted avg']['f1-score'])\n",
        "        out['weighted avg']['recall'].append(report['weighted avg']['recall'])\n",
        "        out['weighted avg']['precision'].append(report['weighted avg']['precision'])\n",
        "\n",
        "    #Preparing output\n",
        "    y_pred=model.predict(X_test)\n",
        "    \n",
        "    if nn:\n",
        "        y_pred=np.argmax(y_pred,axis=1)\n",
        "        report=classification_report(y_test, y_pred, labels=[0, 1, 2], output_dict=True)\n",
        "    else:\n",
        "        report=classification_report(y_test, y_pred, labels=[0, 1, 2], output_dict=True)\n",
        "\n",
        "    out['accuracy'] = [report['accuracy'], np.std(out['accuracy'])]\n",
        "    out['macro avg']['f1-score'] = [report['macro avg']['f1-score'], np.std(out['macro avg']['f1-score'])] \n",
        "    out['macro avg']['recall'] = [report['macro avg']['recall'], np.std(out['macro avg']['recall'])] \n",
        "    out['macro avg']['precision'] = [report['macro avg']['precision'], np.std(out['macro avg']['precision'])] \n",
        "    out['weighted avg']['f1-score'] = [report['weighted avg']['f1-score'], np.std(out['weighted avg']['f1-score'])] \n",
        "    out['weighted avg']['recall'] = [report['weighted avg']['recall'], np.std(out['weighted avg']['recall'])] \n",
        "    out['weighted avg']['precision'] = [report['weighted avg']['precision'], np.std(out['weighted avg']['precision'])]\n",
        "    \n",
        "    return out"
      ],
      "execution_count": null,
      "outputs": []
    },
    {
      "cell_type": "code",
      "metadata": {
        "colab": {
          "base_uri": "https://localhost:8080/"
        },
        "id": "4v2YO8kjG5D0",
        "outputId": "56241dea-260f-45be-b327-afc512411b9e"
      },
      "source": [
        "report_boot=bootstrap(np.array(X_teste), np.array(y_teste1), rede, nn = True)\n",
        "\n",
        "for i in ['accuracy', 'macro avg', 'weighted avg']:\n",
        " if i == 'accuracy':\n",
        "     print(\"\\n\\n{:27}: {:.2f} ± {:.2f}\".format(i, report_boot[i][0], report_boot[i][1]))\n",
        " for j in ['f1-score', 'recall', 'precision']:\n",
        "   if i != 'accuracy':\n",
        "     print(\"{:15}  {:10}: {:.2f} ± {:.2f}\".format(i, j, report_boot[i][j][0], report_boot[i][j][1]))"
      ],
      "execution_count": null,
      "outputs": [
        {
          "output_type": "stream",
          "name": "stderr",
          "text": [
            "100%|██████████| 250/250 [02:25<00:00,  1.72it/s]\n"
          ]
        },
        {
          "output_type": "stream",
          "name": "stdout",
          "text": [
            "\n",
            "\n",
            "accuracy                   : 0.84 ± 0.01\n",
            "macro avg        f1-score  : 0.80 ± 0.01\n",
            "macro avg        recall    : 0.78 ± 0.01\n",
            "macro avg        precision : 0.84 ± 0.01\n",
            "weighted avg     f1-score  : 0.84 ± 0.01\n",
            "weighted avg     recall    : 0.84 ± 0.01\n",
            "weighted avg     precision : 0.84 ± 0.01\n"
          ]
        }
      ]
    },
    {
      "cell_type": "markdown",
      "metadata": {
        "id": "NaFItkMbBhPF"
      },
      "source": [
        "Como tivemos uma boa acurácia no conjunto de validação, podemos dizer que nosso modelo teve uma boa performance no geral. \n",
        "\n",
        "Uma analise mais aprofundada nos dados e na arquitetura da rede poderia levar a performances ainda melhores. Essas análises no entanto fogem do escopo deste tutorial, contudo, encorajamos o leitor a elaborar modelos que performem ainda melhor, e a realizar uma análise e engenharia de dados ainda mais aprofundada. \n",
        "\n",
        "Esperamos ter ajudado. \n",
        "\n",
        ":D"
      ]
    },
    {
      "cell_type": "markdown",
      "metadata": {
        "id": "sDCJn6oOwfFc"
      },
      "source": [
        "#Comparação"
      ]
    },
    {
      "cell_type": "markdown",
      "metadata": {
        "id": "wszTMBz-yEQS"
      },
      "source": [
        "Nesta seção faremos uma comparação com outro modelo W2V pré-treinado disponivel no repositório do Núcleo Interinstitucional de Linguística Computacional - ICMC - USP em [[6]](http://www.nilc.icmc.usp.br/embeddings), para avaliar a performance do nosso modelo frente a modelos já utilizados em NLP.\n",
        "\n"
      ]
    },
    {
      "cell_type": "code",
      "metadata": {
        "id": "2cJnchD5x9Tv",
        "colab": {
          "base_uri": "https://localhost:8080/"
        },
        "outputId": "390dcd46-0f1e-4948-a9e1-acf15fec8302"
      },
      "source": [
        "# Downloading pre-trained model\n",
        "get_premodel('w2vnilc')"
      ],
      "execution_count": null,
      "outputs": [
        {
          "output_type": "execute_result",
          "data": {
            "text/plain": [
              "True"
            ]
          },
          "metadata": {},
          "execution_count": 39
        }
      ]
    },
    {
      "cell_type": "code",
      "metadata": {
        "id": "3FbOKn1Qx-B3"
      },
      "source": [
        "model = KeyedVectors.load_word2vec_format('/content/cbow_s100/cbow_s100.txt')"
      ],
      "execution_count": null,
      "outputs": []
    },
    {
      "cell_type": "code",
      "metadata": {
        "id": "lEjkFL-4xdVp",
        "colab": {
          "base_uri": "https://localhost:8080/"
        },
        "outputId": "63255310-ddfe-4640-c3a4-ba8078b49ebd"
      },
      "source": [
        "wv_dict = dict(zip(model.wv.index2word[:], model.wv.vectors[:]))"
      ],
      "execution_count": null,
      "outputs": [
        {
          "output_type": "stream",
          "name": "stderr",
          "text": [
            "/usr/local/lib/python3.7/dist-packages/ipykernel_launcher.py:1: DeprecationWarning: Call to deprecated `wv` (Attribute will be removed in 4.0.0, use self instead).\n",
            "  \"\"\"Entry point for launching an IPython kernel.\n"
          ]
        }
      ]
    },
    {
      "cell_type": "code",
      "metadata": {
        "id": "EcUALuuixdVp"
      },
      "source": [
        "wv_dict_updated = {}\n",
        "for palavra in t.index_word.values():\n",
        "  if palavra in wv_dict.keys():\n",
        "    wv_dict_updated[palavra] = wv_dict[palavra]"
      ],
      "execution_count": null,
      "outputs": []
    },
    {
      "cell_type": "code",
      "metadata": {
        "colab": {
          "base_uri": "https://localhost:8080/"
        },
        "id": "zdL46Di-xdVq",
        "outputId": "5b55c9f2-f26d-4aff-958d-f76ad0df9788"
      },
      "source": [
        "matriz_de_pesos = zeros((tamanho_vocab, 100))\n",
        "for palavra, i in t.word_index.items():\n",
        "  vetor_embed =  wv_dict_updated.get(palavra)\n",
        "  if vetor_embed is not None:\n",
        "    matriz_de_pesos[i] = vetor_embed\n",
        "\n",
        "matriz_de_pesos.shape"
      ],
      "execution_count": null,
      "outputs": [
        {
          "output_type": "execute_result",
          "data": {
            "text/plain": [
              "(2827, 100)"
            ]
          },
          "metadata": {},
          "execution_count": 43
        }
      ]
    },
    {
      "cell_type": "code",
      "metadata": {
        "id": "2seo48g2xdVr"
      },
      "source": [
        "emb = Embedding(tamanho_vocab, 100, weights = [matriz_de_pesos], input_length=len_maior, trainable = False)\n",
        "\n",
        "rede = Sequential()\n",
        "\n",
        "rede.add(emb)\n",
        "rede.add(Conv1D(filters=32, kernel_size=3, activation='relu'))\n",
        "rede.add(MaxPooling1D(pool_size=2))\n",
        "rede.add(Flatten())\n",
        "rede.add(Dense(3, activation='softmax'))"
      ],
      "execution_count": null,
      "outputs": []
    },
    {
      "cell_type": "code",
      "metadata": {
        "colab": {
          "base_uri": "https://localhost:8080/"
        },
        "id": "ZGnCmu0UxdVs",
        "outputId": "059c658e-41bd-45db-cffc-a0b1482cb2c8"
      },
      "source": [
        "rede.compile(optimizer='adam', loss='categorical_crossentropy', metrics=['accuracy'])\n",
        "print(rede.summary())"
      ],
      "execution_count": null,
      "outputs": [
        {
          "output_type": "stream",
          "name": "stdout",
          "text": [
            "Model: \"sequential_1\"\n",
            "_________________________________________________________________\n",
            "Layer (type)                 Output Shape              Param #   \n",
            "=================================================================\n",
            "embedding_1 (Embedding)      (None, 306, 100)          282700    \n",
            "_________________________________________________________________\n",
            "conv1d_1 (Conv1D)            (None, 304, 32)           9632      \n",
            "_________________________________________________________________\n",
            "max_pooling1d_1 (MaxPooling1 (None, 152, 32)           0         \n",
            "_________________________________________________________________\n",
            "flatten_1 (Flatten)          (None, 4864)              0         \n",
            "_________________________________________________________________\n",
            "dense_1 (Dense)              (None, 3)                 14595     \n",
            "=================================================================\n",
            "Total params: 306,927\n",
            "Trainable params: 24,227\n",
            "Non-trainable params: 282,700\n",
            "_________________________________________________________________\n",
            "None\n"
          ]
        }
      ]
    },
    {
      "cell_type": "code",
      "metadata": {
        "id": "Z6lfZL_5xdVs"
      },
      "source": [
        "X_treino, X_teste, y_treino, y_teste = train_test_split(padded_docs, label_onehot, random_state=random_seed, train_size=0.7, test_size=0.3)"
      ],
      "execution_count": null,
      "outputs": []
    },
    {
      "cell_type": "code",
      "metadata": {
        "colab": {
          "base_uri": "https://localhost:8080/"
        },
        "id": "B_CMjsYixdVu",
        "outputId": "3ce9993b-398d-4f44-8b4d-91b9a118c336"
      },
      "source": [
        "rede.fit(X_treino, y_treino, epochs=50, validation_split=0.1, batch_size=500, verbose=1,  callbacks=[EarlyStopping(monitor='val_loss', patience=15)])"
      ],
      "execution_count": null,
      "outputs": [
        {
          "output_type": "stream",
          "name": "stdout",
          "text": [
            "Epoch 1/50\n",
            "9/9 [==============================] - 3s 292ms/step - loss: 1.0111 - accuracy: 0.5785 - val_loss: 0.8759 - val_accuracy: 0.6681\n",
            "Epoch 2/50\n",
            "9/9 [==============================] - 2s 271ms/step - loss: 0.8381 - accuracy: 0.6775 - val_loss: 0.7521 - val_accuracy: 0.7235\n",
            "Epoch 3/50\n",
            "9/9 [==============================] - 2s 270ms/step - loss: 0.7718 - accuracy: 0.6827 - val_loss: 0.7033 - val_accuracy: 0.7345\n",
            "Epoch 4/50\n",
            "9/9 [==============================] - 2s 270ms/step - loss: 0.7210 - accuracy: 0.7041 - val_loss: 0.6736 - val_accuracy: 0.7434\n",
            "Epoch 5/50\n",
            "9/9 [==============================] - 2s 271ms/step - loss: 0.6809 - accuracy: 0.7238 - val_loss: 0.6403 - val_accuracy: 0.7522\n",
            "Epoch 6/50\n",
            "9/9 [==============================] - 2s 269ms/step - loss: 0.6476 - accuracy: 0.7366 - val_loss: 0.6049 - val_accuracy: 0.7633\n",
            "Epoch 7/50\n",
            "9/9 [==============================] - 2s 269ms/step - loss: 0.6212 - accuracy: 0.7454 - val_loss: 0.5816 - val_accuracy: 0.7854\n",
            "Epoch 8/50\n",
            "9/9 [==============================] - 2s 268ms/step - loss: 0.5995 - accuracy: 0.7691 - val_loss: 0.5661 - val_accuracy: 0.7920\n",
            "Epoch 9/50\n",
            "9/9 [==============================] - 2s 270ms/step - loss: 0.5809 - accuracy: 0.7762 - val_loss: 0.5532 - val_accuracy: 0.7987\n",
            "Epoch 10/50\n",
            "9/9 [==============================] - 2s 273ms/step - loss: 0.5647 - accuracy: 0.7814 - val_loss: 0.5357 - val_accuracy: 0.7965\n",
            "Epoch 11/50\n",
            "9/9 [==============================] - 2s 271ms/step - loss: 0.5497 - accuracy: 0.7866 - val_loss: 0.5269 - val_accuracy: 0.7987\n",
            "Epoch 12/50\n",
            "9/9 [==============================] - 2s 271ms/step - loss: 0.5382 - accuracy: 0.7937 - val_loss: 0.5166 - val_accuracy: 0.8097\n",
            "Epoch 13/50\n",
            "9/9 [==============================] - 2s 272ms/step - loss: 0.5257 - accuracy: 0.7974 - val_loss: 0.5088 - val_accuracy: 0.8097\n",
            "Epoch 14/50\n",
            "9/9 [==============================] - 3s 294ms/step - loss: 0.5206 - accuracy: 0.7905 - val_loss: 0.4983 - val_accuracy: 0.8142\n",
            "Epoch 15/50\n",
            "9/9 [==============================] - 2s 269ms/step - loss: 0.5052 - accuracy: 0.8013 - val_loss: 0.5002 - val_accuracy: 0.7987\n",
            "Epoch 16/50\n",
            "9/9 [==============================] - 2s 272ms/step - loss: 0.4944 - accuracy: 0.7984 - val_loss: 0.4896 - val_accuracy: 0.8164\n",
            "Epoch 17/50\n",
            "9/9 [==============================] - 3s 280ms/step - loss: 0.4848 - accuracy: 0.8058 - val_loss: 0.4790 - val_accuracy: 0.8053\n",
            "Epoch 18/50\n",
            "9/9 [==============================] - 3s 280ms/step - loss: 0.4739 - accuracy: 0.8102 - val_loss: 0.4750 - val_accuracy: 0.8230\n",
            "Epoch 19/50\n",
            "9/9 [==============================] - 2s 272ms/step - loss: 0.4665 - accuracy: 0.8087 - val_loss: 0.4651 - val_accuracy: 0.8319\n",
            "Epoch 20/50\n",
            "9/9 [==============================] - 2s 274ms/step - loss: 0.4561 - accuracy: 0.8159 - val_loss: 0.4667 - val_accuracy: 0.8208\n",
            "Epoch 21/50\n",
            "9/9 [==============================] - 2s 269ms/step - loss: 0.4483 - accuracy: 0.8163 - val_loss: 0.4550 - val_accuracy: 0.8407\n",
            "Epoch 22/50\n",
            "9/9 [==============================] - 2s 271ms/step - loss: 0.4358 - accuracy: 0.8218 - val_loss: 0.4484 - val_accuracy: 0.8363\n",
            "Epoch 23/50\n",
            "9/9 [==============================] - 2s 272ms/step - loss: 0.4255 - accuracy: 0.8191 - val_loss: 0.4427 - val_accuracy: 0.8407\n",
            "Epoch 24/50\n",
            "9/9 [==============================] - 2s 272ms/step - loss: 0.4163 - accuracy: 0.8269 - val_loss: 0.4346 - val_accuracy: 0.8451\n",
            "Epoch 25/50\n",
            "9/9 [==============================] - 2s 271ms/step - loss: 0.4099 - accuracy: 0.8392 - val_loss: 0.4337 - val_accuracy: 0.8584\n",
            "Epoch 26/50\n",
            "9/9 [==============================] - 2s 271ms/step - loss: 0.4030 - accuracy: 0.8513 - val_loss: 0.4261 - val_accuracy: 0.8562\n",
            "Epoch 27/50\n",
            "9/9 [==============================] - 2s 273ms/step - loss: 0.3953 - accuracy: 0.8560 - val_loss: 0.4246 - val_accuracy: 0.8540\n",
            "Epoch 28/50\n",
            "9/9 [==============================] - 2s 271ms/step - loss: 0.3900 - accuracy: 0.8580 - val_loss: 0.4196 - val_accuracy: 0.8606\n",
            "Epoch 29/50\n",
            "9/9 [==============================] - 3s 276ms/step - loss: 0.3854 - accuracy: 0.8607 - val_loss: 0.4139 - val_accuracy: 0.8584\n",
            "Epoch 30/50\n",
            "9/9 [==============================] - 2s 272ms/step - loss: 0.3793 - accuracy: 0.8626 - val_loss: 0.4118 - val_accuracy: 0.8606\n",
            "Epoch 31/50\n",
            "9/9 [==============================] - 2s 275ms/step - loss: 0.3757 - accuracy: 0.8629 - val_loss: 0.4080 - val_accuracy: 0.8628\n",
            "Epoch 32/50\n",
            "9/9 [==============================] - 2s 271ms/step - loss: 0.3710 - accuracy: 0.8636 - val_loss: 0.4064 - val_accuracy: 0.8650\n",
            "Epoch 33/50\n",
            "9/9 [==============================] - 2s 272ms/step - loss: 0.3679 - accuracy: 0.8636 - val_loss: 0.4092 - val_accuracy: 0.8650\n",
            "Epoch 34/50\n",
            "9/9 [==============================] - 2s 272ms/step - loss: 0.3662 - accuracy: 0.8685 - val_loss: 0.4113 - val_accuracy: 0.8628\n",
            "Epoch 35/50\n",
            "9/9 [==============================] - 2s 275ms/step - loss: 0.3630 - accuracy: 0.8653 - val_loss: 0.4017 - val_accuracy: 0.8628\n",
            "Epoch 36/50\n",
            "9/9 [==============================] - 2s 273ms/step - loss: 0.3586 - accuracy: 0.8683 - val_loss: 0.3980 - val_accuracy: 0.8606\n",
            "Epoch 37/50\n",
            "9/9 [==============================] - 2s 271ms/step - loss: 0.3541 - accuracy: 0.8680 - val_loss: 0.3980 - val_accuracy: 0.8650\n",
            "Epoch 38/50\n",
            "9/9 [==============================] - 3s 293ms/step - loss: 0.3522 - accuracy: 0.8700 - val_loss: 0.3960 - val_accuracy: 0.8673\n",
            "Epoch 39/50\n",
            "9/9 [==============================] - 2s 272ms/step - loss: 0.3490 - accuracy: 0.8715 - val_loss: 0.3987 - val_accuracy: 0.8695\n",
            "Epoch 40/50\n",
            "9/9 [==============================] - 2s 273ms/step - loss: 0.3492 - accuracy: 0.8708 - val_loss: 0.3976 - val_accuracy: 0.8673\n",
            "Epoch 41/50\n",
            "9/9 [==============================] - 3s 279ms/step - loss: 0.3475 - accuracy: 0.8703 - val_loss: 0.3969 - val_accuracy: 0.8606\n",
            "Epoch 42/50\n",
            "9/9 [==============================] - 2s 273ms/step - loss: 0.3427 - accuracy: 0.8747 - val_loss: 0.3991 - val_accuracy: 0.8650\n",
            "Epoch 43/50\n",
            "9/9 [==============================] - 2s 270ms/step - loss: 0.3433 - accuracy: 0.8742 - val_loss: 0.3935 - val_accuracy: 0.8673\n",
            "Epoch 44/50\n",
            "9/9 [==============================] - 2s 272ms/step - loss: 0.3389 - accuracy: 0.8774 - val_loss: 0.3928 - val_accuracy: 0.8606\n",
            "Epoch 45/50\n",
            "9/9 [==============================] - 2s 272ms/step - loss: 0.3372 - accuracy: 0.8754 - val_loss: 0.3952 - val_accuracy: 0.8628\n",
            "Epoch 46/50\n",
            "9/9 [==============================] - 2s 275ms/step - loss: 0.3375 - accuracy: 0.8737 - val_loss: 0.3987 - val_accuracy: 0.8562\n",
            "Epoch 47/50\n",
            "9/9 [==============================] - 2s 271ms/step - loss: 0.3368 - accuracy: 0.8747 - val_loss: 0.4031 - val_accuracy: 0.8584\n",
            "Epoch 48/50\n",
            "9/9 [==============================] - 2s 272ms/step - loss: 0.3392 - accuracy: 0.8747 - val_loss: 0.4130 - val_accuracy: 0.8628\n",
            "Epoch 49/50\n",
            "9/9 [==============================] - 3s 278ms/step - loss: 0.3382 - accuracy: 0.8742 - val_loss: 0.3926 - val_accuracy: 0.8650\n",
            "Epoch 50/50\n",
            "9/9 [==============================] - 2s 275ms/step - loss: 0.3322 - accuracy: 0.8744 - val_loss: 0.3913 - val_accuracy: 0.8584\n"
          ]
        },
        {
          "output_type": "execute_result",
          "data": {
            "text/plain": [
              "<keras.callbacks.History at 0x7f89980b4110>"
            ]
          },
          "metadata": {},
          "execution_count": 47
        }
      ]
    },
    {
      "cell_type": "code",
      "metadata": {
        "colab": {
          "base_uri": "https://localhost:8080/"
        },
        "id": "9WOeCsvNxdVu",
        "outputId": "38f441a9-6504-4cbb-b3df-45087ca7a68d"
      },
      "source": [
        "loss, acc_treino = rede.evaluate(X_treino, y_treino, verbose=0)\n",
        "loss2, acc_teste = rede.evaluate(X_teste, y_teste, verbose=0)\n",
        "print(f'Acurácia no treino: {round(acc_treino*100, 2)}%')\n",
        "print(f'Acurácia no teste: {round(acc_teste*100, 2)}%')"
      ],
      "execution_count": null,
      "outputs": [
        {
          "output_type": "stream",
          "name": "stdout",
          "text": [
            "Acurácia no treino: 87.46%\n",
            "Acurácia no teste: 84.96%\n"
          ]
        }
      ]
    },
    {
      "cell_type": "code",
      "metadata": {
        "id": "rR_Dp1mrxdVv"
      },
      "source": [
        "predict = rede.predict(X_teste)"
      ],
      "execution_count": null,
      "outputs": []
    },
    {
      "cell_type": "code",
      "metadata": {
        "colab": {
          "base_uri": "https://localhost:8080/"
        },
        "id": "jN29zKXHxdVv",
        "outputId": "904fe4fd-2266-4ec3-fd6f-c6bb0178d943"
      },
      "source": [
        "predict1 = np.argmax(predict, axis=1)\n",
        "\n",
        "y_teste1 = np.argmax(y_teste, axis=1)\n",
        "np.array(y_teste1.reshape(1,-1))[0]"
      ],
      "execution_count": null,
      "outputs": [
        {
          "output_type": "execute_result",
          "data": {
            "text/plain": [
              "array([2, 1, 1, ..., 1, 0, 1])"
            ]
          },
          "metadata": {},
          "execution_count": 50
        }
      ]
    },
    {
      "cell_type": "code",
      "metadata": {
        "colab": {
          "base_uri": "https://localhost:8080/"
        },
        "id": "javgMd5XxdVv",
        "outputId": "b66829ea-1b39-44fa-9b0d-4293b6d7ee38"
      },
      "source": [
        "print(classification_report(y_teste1, predict1, labels=[0,1,2]))"
      ],
      "execution_count": null,
      "outputs": [
        {
          "output_type": "stream",
          "name": "stdout",
          "text": [
            "              precision    recall  f1-score   support\n",
            "\n",
            "           0       0.89      0.83      0.86       923\n",
            "           1       0.81      0.91      0.86       864\n",
            "           2       0.91      0.61      0.73       148\n",
            "\n",
            "    accuracy                           0.85      1935\n",
            "   macro avg       0.87      0.79      0.82      1935\n",
            "weighted avg       0.85      0.85      0.85      1935\n",
            "\n"
          ]
        }
      ]
    },
    {
      "cell_type": "code",
      "metadata": {
        "colab": {
          "base_uri": "https://localhost:8080/",
          "height": 265
        },
        "id": "O8-cdhSJxdVv",
        "outputId": "e328bd17-8c6b-4ced-a88d-42cacbe15005"
      },
      "source": [
        "cm = confusion_matrix(y_teste1, predict1)\n",
        "sns.heatmap(cm , fmt=\".3g\", annot= True, cmap=\"Greens\")\n",
        "\n",
        "plt.show()"
      ],
      "execution_count": null,
      "outputs": [
        {
          "output_type": "display_data",
          "data": {
            "image/png": "[encoded data removed]",
            "text/plain": [
              "<Figure size 432x288 with 2 Axes>"
            ]
          },
          "metadata": {
            "needs_background": "light"
          }
        }
      ]
    },
    {
      "cell_type": "code",
      "metadata": {
        "colab": {
          "base_uri": "https://localhost:8080/"
        },
        "id": "IwncKhcHx3dC",
        "outputId": "6fcbe776-87d7-4c0d-a592-8034aebff40f"
      },
      "source": [
        "report_boot=bootstrap(np.array(X_teste), np.array(y_teste1), rede, nn = True)\n",
        "\n",
        "for i in ['accuracy', 'macro avg', 'weighted avg']:\n",
        " if i == 'accuracy':\n",
        "     print(\"\\n\\n{:27}: {:.2f} ± {:.2f}\".format(i, report_boot[i][0], report_boot[i][1]))\n",
        " for j in ['f1-score', 'recall', 'precision']:\n",
        "   if i != 'accuracy':\n",
        "     print(\"{:15}  {:10}: {:.2f} ± {:.2f}\".format(i, j, report_boot[i][j][0], report_boot[i][j][1]))"
      ],
      "execution_count": null,
      "outputs": [
        {
          "output_type": "stream",
          "name": "stderr",
          "text": [
            "100%|██████████| 250/250 [02:01<00:00,  2.06it/s]\n"
          ]
        },
        {
          "output_type": "stream",
          "name": "stdout",
          "text": [
            "\n",
            "\n",
            "accuracy                   : 0.85 ± 0.01\n",
            "macro avg        f1-score  : 0.82 ± 0.01\n",
            "macro avg        recall    : 0.79 ± 0.01\n",
            "macro avg        precision : 0.87 ± 0.01\n",
            "weighted avg     f1-score  : 0.85 ± 0.01\n",
            "weighted avg     recall    : 0.85 ± 0.01\n",
            "weighted avg     precision : 0.85 ± 0.01\n"
          ]
        }
      ]
    },
    {
      "cell_type": "markdown",
      "metadata": {
        "id": "S2wpqmotoR_w"
      },
      "source": [
        "#Referências"
      ]
    },
    {
      "cell_type": "markdown",
      "metadata": {
        "id": "53qIOjuTofIW"
      },
      "source": [
        "[1] Mikolov, T., Chen, K., Corrado, G., and Dean, J. (2013a).  Efficient estimation ofword representations in vector space.arXiv preprint arXiv:1301.3781. \\\\\n",
        "[2] Mikolov,  T.,  Sutskever,  I.,  Chen,  K.,  Corrado,  G. S.,  and Dean,  J. (2013b).   Distributed representations of words and phrases and their compositionality.  In Advances in neural information processing systems, pages 3111–3119. \\\\\n",
        "[3] Brownlee Jason(2017). https://machinelearningmastery.com/develop-word-embedding-model-predicting-movie-review-sentiment/ - acesso em: 04/08/2021.  \\\\\n",
        "[4] Brownlee Jason(2017). https://machinelearningmastery.com/best-practices-document-classification-deep-learning/ - acesso em: 04/08/2021.  \\\\\n",
        "[5] Brownlee Jason(2017). https://machinelearningmastery.com/use-word-embedding-layers-deep-learning-keras/ - acesso em: 04/08/2021. \\\\\n",
        "[6] http://www.nilc.icmc.usp.br/embeddings - acesso em: 29/09/2021 \\\\"
      ]
    },
    {
      "cell_type": "markdown",
      "metadata": {
        "id": "Ag3ZNXl3H8fW"
      },
      "source": [
        "Notebook escrito por:\n",
        "* Lucka de Godoy Gianvechio (luckaggwp@gmail.com)\n",
        "\n",
        "* Peterson Silva Cordeiro (peterson.silva.cordeiro@gmail.com)"
      ]
    }
  ]
}