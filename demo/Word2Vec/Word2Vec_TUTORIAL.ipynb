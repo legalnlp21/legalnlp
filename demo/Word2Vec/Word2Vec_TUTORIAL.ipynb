{
  "nbformat": 4,
  "nbformat_minor": 0,
  "metadata": {
    "colab": {
      "name": "Word2Vec-TUTORIAL.ipynb",
      "provenance": [],
      "collapsed_sections": [
        "CpedCl83iG7q",
        "S2wpqmotoR_w"
      ]
    },
    "kernelspec": {
      "name": "python3",
      "display_name": "Python 3"
    },
    "language_info": {
      "name": "python"
    }
  },
  "cells": [
    {
      "cell_type": "markdown",
      "metadata": {
        "id": "CpedCl83iG7q"
      },
      "source": [
        "#Breve introdução teórica\n",
        "\n"
      ]
    },
    {
      "cell_type": "markdown",
      "metadata": {
        "id": "-qLWDcRwi27f"
      },
      "source": [
        "## Motivação\n",
        "\n",
        "A ideia principal do método word2vec é encontrar uma representação vetorial para palavras, tal representação elaborada a partir do contexto em que essas palavras aparecem. No caso deste pacote, os modelos são treinados com um corpo de texto extraído do meio jurídico.\n",
        "\n",
        "A representação de palavras em espaços vetoriais torna possível a análise de proximidade semântica, correlação e outras comparações quantitativas entre palavras.\n",
        "\n",
        "Os artigos originais sobre word2vec podem se encontrados em [[1]](https://arxiv.org/abs/1301.3781) e [[2]](https://papers.nips.cc/paper/2013/hash/9aa42b31882ec039965f3c4923ce901b-Abstract.html)."
      ]
    },
    {
      "cell_type": "markdown",
      "metadata": {
        "id": "wIJQ-K8KX1Mw"
      },
      "source": [
        "## A representação vetorial\n",
        "\n",
        "A partir do corpo de texto (o conjunto de todos os textos usados para treinar o modelo) será coletado um conjunto com as $n$ palavras distintas, formando o \"vocabulário\". Com isso podemos ter uma representação vetorial rústica de cada palavra do vocabulário, na forma conhecida como \"one-hot vector\", que consiste em um vetor de tamanho $n$ preenchido inteiramente com zeros, exceto na posição utilizada para diferenciar cada palavra do vocabulário, com o número um nessa posição.\n",
        "\n"
      ]
    },
    {
      "cell_type": "markdown",
      "metadata": {
        "id": "Bb_LNdjieq8O"
      },
      "source": [
        "As representações vetoriais (as chamadas \"*word embbedings*\") geradas a partir do Word2Vec, podem ter uma dimensão arbitrária e carregam informações geradas a partir do contexto. O contexto é definido por um conjunto de palavras dentro de cada amostra, o tamanho desse conjunto é dado pela \"janela\", ou seja, o número de palavras ao redor da palavra principal.\n",
        "\n",
        "Em suma, os modelos W2V podem ser gerados de duas formas: o método \"*Skip-Gram*\" e o método \"*Continuous Bag of Words*\" (CBOW). Os modelos gerados a partir do método *Skip-Gram* consistem de *embbedings* que representam o espaço paramétrico de uma Rede Neural, que recebe como *input* a palavra $w_t$, ou seja, na posição $t$, e tem como *output* prever as palavras $w_{t-d}$, ..., $w_{t-2}$, $w_{t-1}$ e $w_{t+1}$, $w_{t+2}$, ..., $w_{t+d}$, onde $d$ é o tamanho da janela. Já os modelos gerados a partir do método CBOW fazem o processo inverso, usando o contexto de palavras dentro da janela para prever a palavra alvo $w_t$. As palavras são representadas como \"one-hot vectors\" durante o treinamento."
      ]
    },
    {
      "cell_type": "markdown",
      "metadata": {
        "id": "VTPkmV0EfoUG"
      },
      "source": [
        "## Aplicações imediatas\n",
        "\n",
        "Sejam $v_1$ e $v_2$ vetores *one-hot vectors* é imediato que $<v_1, v_2> = 0$, ou seja, nesta representação, todos os vetores são ortogonais. Pouca informação pode se tirar disso, pois a reprsentação em *one-hot vector* não considera o contexto, está ligada somente a frequêcia de ocorrencia das palavras.\n",
        "\n",
        "Operações vetoriais como a soma e subtração entre vetores em word2vec operam como \"somas semânticas\", por exemplo, uma equação como $(rei - homem) + mulher = rainha$ seria algo palpável, que dependeria do contexto que essas palavras são usadas no corpo de texto. \n",
        "\n",
        "Além disso, podemos agora ter uma visualização gráfica das palavras que leva em conta o contexto em que essas palavras geralmente são usadas no corpo de texto. Vamos dar um exemplo, utilizando *embbedings* de tamanho 100, e aplicando um PCA para reduzir a dimensionalidade para 2, para visualizarmos as palavras em um gráfico bidimensional."
      ]
    },
    {
      "cell_type": "markdown",
      "metadata": {
        "id": "BSs4FL2Ij3ft"
      },
      "source": [
        "# Representando palavras utilizando Word2Vec"
      ]
    },
    {
      "cell_type": "code",
      "metadata": {
        "id": "la2u-qlPiAMc",
        "colab": {
          "base_uri": "https://localhost:8080/"
        },
        "outputId": "c76ebf61-243d-407c-9d75-1b1211ac6b40"
      },
      "source": [
        "!pip install gensim==3.8.1\n",
        "!pip install git+https://github.com/legalnlp21/legalnlp"
      ],
      "execution_count": 1,
      "outputs": [
        {
          "output_type": "stream",
          "text": [
            "Collecting gensim==3.8.1\n",
            "  Downloading gensim-3.8.1-cp37-cp37m-manylinux1_x86_64.whl (24.2 MB)\n",
            "\u001b[K     |████████████████████████████████| 24.2 MB 78 kB/s \n",
            "\u001b[?25hRequirement already satisfied: scipy>=0.18.1 in /usr/local/lib/python3.7/dist-packages (from gensim==3.8.1) (1.4.1)\n",
            "Requirement already satisfied: smart-open>=1.8.1 in /usr/local/lib/python3.7/dist-packages (from gensim==3.8.1) (5.1.0)\n",
            "Requirement already satisfied: numpy>=1.11.3 in /usr/local/lib/python3.7/dist-packages (from gensim==3.8.1) (1.19.5)\n",
            "Requirement already satisfied: six>=1.5.0 in /usr/local/lib/python3.7/dist-packages (from gensim==3.8.1) (1.15.0)\n",
            "Installing collected packages: gensim\n",
            "  Attempting uninstall: gensim\n",
            "    Found existing installation: gensim 3.6.0\n",
            "    Uninstalling gensim-3.6.0:\n",
            "      Successfully uninstalled gensim-3.6.0\n",
            "Successfully installed gensim-3.8.1\n",
            "Collecting git+https://github.com/legalnlp21/legalnlp\n",
            "  Cloning https://github.com/legalnlp21/legalnlp to /tmp/pip-req-build-j1rn26rt\n",
            "  Running command git clone -q https://github.com/legalnlp21/legalnlp /tmp/pip-req-build-j1rn26rt\n",
            "Collecting ftfy\n",
            "  Downloading ftfy-6.0.3.tar.gz (64 kB)\n",
            "\u001b[K     |████████████████████████████████| 64 kB 2.8 MB/s \n",
            "\u001b[?25hCollecting wget\n",
            "  Downloading wget-3.2.zip (10 kB)\n",
            "Requirement already satisfied: wcwidth in /usr/local/lib/python3.7/dist-packages (from ftfy->legalnlp==1.0.0) (0.2.5)\n",
            "Building wheels for collected packages: legalnlp, ftfy, wget\n",
            "  Building wheel for legalnlp (setup.py) ... \u001b[?25l\u001b[?25hdone\n",
            "  Created wheel for legalnlp: filename=legalnlp-1.0.0-py3-none-any.whl size=4884 sha256=ce0eb49ccbd6d37811e8f28c1d4dbc194b820c95cfbf1a3b2fc8e3ce196d9535\n",
            "  Stored in directory: /tmp/pip-ephem-wheel-cache-p9ln2sxn/wheels/c9/d2/d7/488d600060896523461cecc4d9f49eec4efc02d494d7f04b62\n",
            "  Building wheel for ftfy (setup.py) ... \u001b[?25l\u001b[?25hdone\n",
            "  Created wheel for ftfy: filename=ftfy-6.0.3-py3-none-any.whl size=41933 sha256=4a4c84e3e2063e90a3885b905d913dfd8c6baeb42d1f421eaff1067002238743\n",
            "  Stored in directory: /root/.cache/pip/wheels/19/f5/38/273eb3b5e76dfd850619312f693716ac4518b498f5ffb6f56d\n",
            "  Building wheel for wget (setup.py) ... \u001b[?25l\u001b[?25hdone\n",
            "  Created wheel for wget: filename=wget-3.2-py3-none-any.whl size=9672 sha256=1d622cdb006892a784cb08359e1b7ec1c1d3cc94ab9797279612e285eeeb1848\n",
            "  Stored in directory: /root/.cache/pip/wheels/a1/b6/7c/0e63e34eb06634181c63adacca38b79ff8f35c37e3c13e3c02\n",
            "Successfully built legalnlp ftfy wget\n",
            "Installing collected packages: wget, ftfy, legalnlp\n",
            "Successfully installed ftfy-6.0.3 legalnlp-1.0.0 wget-3.2\n"
          ],
          "name": "stdout"
        }
      ]
    },
    {
      "cell_type": "code",
      "metadata": {
        "id": "wH2FlVft-cAF"
      },
      "source": [
        "from gensim.models import Word2Vec\n",
        "import numpy as np\n",
        "from sklearn.decomposition import PCA\n",
        "from sklearn.preprocessing import StandardScaler\n",
        "import matplotlib.pyplot as plt\n",
        "import matplotlib.patches as mpatches\n",
        "from gensim.models import KeyedVectors\n",
        "import pandas as pd\n",
        "from legalnlp.get_premodel import get_premodel"
      ],
      "execution_count": 14,
      "outputs": []
    },
    {
      "cell_type": "code",
      "metadata": {
        "id": "aTXq-t86ciUW"
      },
      "source": [
        "# Downloading pre-trained model\n",
        "get_premodel('wdocdm')"
      ],
      "execution_count": 6,
      "outputs": []
    },
    {
      "cell_type": "code",
      "metadata": {
        "id": "G3pQZK34-lq4"
      },
      "source": [
        "model = KeyedVectors.load(\"/content/W2V-D2V/w2v_d2v_dm_size_100_window_15_epochs_20\")"
      ],
      "execution_count": 7,
      "outputs": []
    },
    {
      "cell_type": "code",
      "metadata": {
        "colab": {
          "base_uri": "https://localhost:8080/"
        },
        "id": "cYaEhVGwigBO",
        "outputId": "f6dc9b21-969c-4899-e05a-014bfaacea5c"
      },
      "source": [
        "model.wv.most_similar('jurisprudencia')"
      ],
      "execution_count": 8,
      "outputs": [
        {
          "output_type": "execute_result",
          "data": {
            "text/plain": [
              "[('jurisprudência_assente', 0.6141901016235352),\n",
              " ('iterativa_jurisprudência', 0.5145410895347595),\n",
              " ('jurisprudência_majoritária', 0.5138000249862671),\n",
              " ('jurisprudência', 0.5029575824737549),\n",
              " ('jurisprudência_pátria', 0.4976961016654968),\n",
              " ('notória_jurisprudência', 0.49725937843322754),\n",
              " ('jurisprudência_uníssona', 0.47410157322883606),\n",
              " ('dominante', 0.4658571481704712),\n",
              " ('vazada', 0.4633045792579651),\n",
              " ('jurisprudência_prevalecente', 0.45525240898132324)]"
            ]
          },
          "metadata": {
            "tags": []
          },
          "execution_count": 8
        }
      ]
    },
    {
      "cell_type": "code",
      "metadata": {
        "colab": {
          "base_uri": "https://localhost:8080/"
        },
        "id": "RkLY2f06Bofd",
        "outputId": "b1b4e05b-10ec-499b-f147-238d560ba6ee"
      },
      "source": [
        "model.wv.most_similar('pandemia')"
      ],
      "execution_count": 9,
      "outputs": [
        {
          "output_type": "execute_result",
          "data": {
            "text/plain": [
              "[('pandemia_mundial', 0.6916313767433167),\n",
              " ('pandemia_causada', 0.6867375373840332),\n",
              " ('epidemia', 0.6704655885696411),\n",
              " ('disseminação', 0.6358423233032227),\n",
              " ('pandemia_global', 0.5988448858261108),\n",
              " ('pandemia_provocada', 0.5955021381378174),\n",
              " ('quarentena', 0.595090389251709),\n",
              " ('surto', 0.588540256023407),\n",
              " ('crise', 0.5628268718719482),\n",
              " ('calamidade_pública', 0.541213870048523)]"
            ]
          },
          "metadata": {
            "tags": []
          },
          "execution_count": 9
        }
      ]
    },
    {
      "cell_type": "code",
      "metadata": {
        "id": "se8R7tAZGP66"
      },
      "source": [
        "def pca_plot(model, p_c, pca, file = None):\n",
        "    \"Creates and TSNE model and plots it\"\n",
        "    \n",
        "    transforma = lambda palavra: pca.transform(palavra)\n",
        "    \n",
        "    plt.figure(figsize=(13, 8)) \n",
        "    wd_clusters = p_c.keys()\n",
        "\n",
        "\n",
        "    for word in wd_clusters:\n",
        "      labels = []\n",
        "      tokens = []\n",
        "      emb = model.wv[word]\n",
        "      emb = (emb/np.sqrt(emb@emb)).tolist()\n",
        "      tokens.append(emb)\n",
        "      labels.append(word)\n",
        "      \n",
        "      k = 0\n",
        "      for similar in model.wv.most_similar(word):\n",
        "        k+=1\n",
        "        emb = model.wv[similar[0]]\n",
        "        emb = (emb/np.sqrt(emb@emb)).tolist()\n",
        "        tokens.append(emb)\n",
        "        labels.append(similar[0])\n",
        "        if k == 5: break\n",
        "        \n",
        "        \n",
        "      new_values = transforma(np.array(tokens))\n",
        "\n",
        "      x = []\n",
        "      y = []\n",
        "\n",
        "      for value, i in zip(new_values, [k for k in range(0, len(labels))]):\n",
        "        norma = 1#np.sqrt(value[0]**2 + value[1]**2)\n",
        "        x.append(value[0]/norma)\n",
        "        y.append(value[1]/norma)\n",
        "            \n",
        "      for i in range(len(x)):\n",
        "          plt.scatter(x[i],y[i], c = p_c[word], s=50)\n",
        "          plt.annotate(labels[i],\n",
        "                      xy=(x[i], y[i]),\n",
        "                      xytext=(5, 2),\n",
        "                      fontsize = 10,\n",
        "                      textcoords='offset points',\n",
        "                      ha='right',\n",
        "                      va='bottom')\n",
        "\n",
        "    ln = []\n",
        "    for i in range(len(p_c.items())):\n",
        "      ln.append(mpatches.Patch(color= list(p_c.values())[i], label= list(p_c.keys())[i])) \n",
        "\n",
        "    plt.xlabel('PC1 ('+str(round(pca.explained_variance_ratio_[0]*100,2))+'%)', size=12)\n",
        "    plt.ylabel('PC2 ('+str(round(pca.explained_variance_ratio_[1]*100,2))+'%)', size=12)\n",
        "    plt.legend(handles=ln)\n",
        "    if type(file) is not None:\n",
        "      plt.savefig(file, dpi = 800)\n",
        "    plt.show()"
      ],
      "execution_count": null,
      "outputs": []
    },
    {
      "cell_type": "code",
      "metadata": {
        "colab": {
          "base_uri": "https://localhost:8080/"
        },
        "id": "Yq7MIrHbxrKY",
        "outputId": "b8beb168-5b93-4888-d9f5-b196bc6cb7cf"
      },
      "source": [
        "pca = PCA(n_components = 2)\n",
        "emb_norm = model.wv.vectors/(np.sqrt(np.sum(model.wv.vectors**2, axis = 1))).reshape((-1,1))\n",
        "pca.fit(emb_norm)"
      ],
      "execution_count": null,
      "outputs": [
        {
          "output_type": "execute_result",
          "data": {
            "text/plain": [
              "PCA(copy=True, iterated_power='auto', n_components=2, random_state=None,\n",
              "    svd_solver='auto', tol=0.0, whiten=False)"
            ]
          },
          "metadata": {
            "tags": []
          },
          "execution_count": 15
        }
      ]
    },
    {
      "cell_type": "code",
      "metadata": {
        "colab": {
          "base_uri": "https://localhost:8080/"
        },
        "id": "VV1G2cpnJOPE",
        "outputId": "36c69e40-f419-4575-afc1-ad360b6ba4d8"
      },
      "source": [
        "pca.explained_variance_ratio_"
      ],
      "execution_count": null,
      "outputs": [
        {
          "output_type": "execute_result",
          "data": {
            "text/plain": [
              "array([0.04819769, 0.0352971 ])"
            ]
          },
          "metadata": {
            "tags": []
          },
          "execution_count": 16
        }
      ]
    },
    {
      "cell_type": "code",
      "metadata": {
        "colab": {
          "base_uri": "https://localhost:8080/"
        },
        "id": "QDKXad22Gdew",
        "outputId": "5902198c-636b-4ef9-d44c-4890d1d18fa5"
      },
      "source": [
        "palavras = {'juiza':'r', 'leilão':'g', 'promotoria':'k', 'lei':'c', 'sao_paulo':'m', 'felipe':'b'}\n",
        "\n",
        "pca_plot(model, p_c = palavras, pca = pca, file = \"clusters_w2v\")\n"
      ],
      "execution_count": null,
      "outputs": [
        {
          "output_type": "display_data",
          "data": {
            "image/png": "[encoded data removed]",
            "text/plain": [
              "<Figure size 936x576 with 1 Axes>"
            ]
          },
          "metadata": {
            "tags": [],
            "needs_background": "light"
          }
        }
      ]
    },
    {
      "cell_type": "code",
      "metadata": {
        "colab": {
          "base_uri": "https://localhost:8080/"
        },
        "id": "BqhupH1XGf95",
        "outputId": "68f7cc87-dc39-48c7-f762-99565f452f7b"
      },
      "source": [
        "model.wv.similar_by_vector(model.wv['juiz'] - model.wv['homem'] + model.wv['mulher']) "
      ],
      "execution_count": null,
      "outputs": [
        {
          "output_type": "execute_result",
          "data": {
            "text/plain": [
              "[('juiz', 0.7888278365135193),\n",
              " ('juíza', 0.686109185218811),\n",
              " ('juiza', 0.5686846971511841),\n",
              " ('desembargador', 0.5542982816696167),\n",
              " ('mmª_juíza', 0.5234751105308533),\n",
              " ('juíz', 0.5179819464683533),\n",
              " ('vara', 0.457878053188324),\n",
              " ('juízo', 0.45668891072273254),\n",
              " ('luciano_paschoeto_juiz', 0.4465649127960205),\n",
              " ('gustavo_jaques_juiz', 0.4322155714035034)]"
            ]
          },
          "metadata": {
            "tags": []
          },
          "execution_count": 18
        }
      ]
    },
    {
      "cell_type": "code",
      "metadata": {
        "colab": {
          "base_uri": "https://localhost:8080/"
        },
        "id": "6F4hhU1uJwyI",
        "outputId": "103d3964-c2d4-44c1-e6af-ce73bef71ca1"
      },
      "source": [
        "model.wv.most_similar(\"comarca\")"
      ],
      "execution_count": null,
      "outputs": [
        {
          "output_type": "execute_result",
          "data": {
            "text/plain": [
              "[('cidade', 0.5767845511436462),\n",
              " ('município', 0.5658520460128784),\n",
              " ('maio', 0.524922251701355),\n",
              " ('unidade', 0.49411553144454956),\n",
              " ('junho', 0.47899821400642395),\n",
              " ('zona_franca', 0.47484683990478516),\n",
              " ('comarcade', 0.46650949120521545),\n",
              " ('arquidiocese', 0.46391820907592773),\n",
              " ('circunscrição_judiciária', 0.45635128021240234),\n",
              " ('penitenciária_feminina', 0.4507617950439453)]"
            ]
          },
          "metadata": {
            "tags": []
          },
          "execution_count": 19
        }
      ]
    },
    {
      "cell_type": "code",
      "metadata": {
        "colab": {
          "base_uri": "https://localhost:8080/"
        },
        "id": "PYB9mjKsLRAV",
        "outputId": "a7e949fc-c3c0-4c3f-cde4-1e34d50fd3e6"
      },
      "source": [
        "model.wv.most_similar(\"acusado\")"
      ],
      "execution_count": null,
      "outputs": [
        {
          "output_type": "execute_result",
          "data": {
            "text/plain": [
              "[('denunciado', 0.8733181953430176),\n",
              " ('indiciado', 0.8611713647842407),\n",
              " ('acusada', 0.7796086668968201),\n",
              " ('flagranteado', 0.7711815237998962),\n",
              " ('investigado', 0.7626327276229858),\n",
              " ('sentenciado', 0.7151278853416443),\n",
              " ('apenado', 0.7086013555526733),\n",
              " ('querelante', 0.6786249279975891),\n",
              " ('corréu', 0.6765390038490295),\n",
              " ('reeducando', 0.6669836044311523)]"
            ]
          },
          "metadata": {
            "tags": []
          },
          "execution_count": 20
        }
      ]
    },
    {
      "cell_type": "code",
      "metadata": {
        "colab": {
          "base_uri": "https://localhost:8080/"
        },
        "id": "lKbJmQvKLgsj",
        "outputId": "d7998cc8-48d3-4e55-dd0d-c72f144f30ba"
      },
      "source": [
        "model.wv.most_similar(\"juiz\")"
      ],
      "execution_count": null,
      "outputs": [
        {
          "output_type": "execute_result",
          "data": {
            "text/plain": [
              "[('juíza', 0.8210258483886719),\n",
              " ('juiza', 0.7306275367736816),\n",
              " ('juíz', 0.691645085811615),\n",
              " ('juízo', 0.6605231165885925),\n",
              " ('magistrado', 0.6213295459747314),\n",
              " ('mmª_juíza', 0.5510469675064087),\n",
              " ('juizo', 0.5494943261146545),\n",
              " ('desembargador', 0.5313084721565247),\n",
              " ('mmjuiz', 0.5277603268623352),\n",
              " ('fabíola_melo_feijão_juíza', 0.5043971538543701)]"
            ]
          },
          "metadata": {
            "tags": []
          },
          "execution_count": 21
        }
      ]
    },
    {
      "cell_type": "code",
      "metadata": {
        "colab": {
          "base_uri": "https://localhost:8080/"
        },
        "id": "YmPmj1_LLsEZ",
        "outputId": "a084026c-f8c7-458f-a458-e7d52626c62c"
      },
      "source": [
        "model.wv.most_similar(\"tribunal\")"
      ],
      "execution_count": null,
      "outputs": [
        {
          "output_type": "execute_result",
          "data": {
            "text/plain": [
              "[('egrégio_conselho', 0.7943153381347656),\n",
              " ('procuradoria', 0.7524194121360779),\n",
              " ('etribunal', 0.7123366594314575),\n",
              " ('pavuna', 0.7041512131690979),\n",
              " ('conselho', 0.6917230486869812),\n",
              " ('esta_egrégia_corte', 0.6803465485572815),\n",
              " ('egrégia_corte', 0.6772338151931763),\n",
              " ('leopoldina', 0.6732379794120789),\n",
              " ('madureira', 0.6661229133605957),\n",
              " ('corte', 0.642699122428894)]"
            ]
          },
          "metadata": {
            "tags": []
          },
          "execution_count": 22
        }
      ]
    },
    {
      "cell_type": "code",
      "metadata": {
        "colab": {
          "base_uri": "https://localhost:8080/"
        },
        "id": "138HAhxWLzcj",
        "outputId": "5633dd8b-2332-4fc4-f3f6-aa44f897fa6b"
      },
      "source": [
        "model.wv.most_similar(\"promotoria\")"
      ],
      "execution_count": null,
      "outputs": [
        {
          "output_type": "execute_result",
          "data": {
            "text/plain": [
              "[('promotor', 0.7750422954559326),\n",
              " ('oﬁcial', 0.7610885500907898),\n",
              " ('colendo_superior_tribunal', 0.7528207898139954),\n",
              " ('promotora', 0.7323068380355835),\n",
              " ('conselho_nacional', 0.7043092250823975),\n",
              " ('segredo', 0.6899466514587402),\n",
              " ('oficial', 0.6839830875396729),\n",
              " ('oficiala', 0.6804943084716797),\n",
              " ('gratuita', 0.6527319550514221),\n",
              " ('palácio', 0.638442873954773)]"
            ]
          },
          "metadata": {
            "tags": []
          },
          "execution_count": 23
        }
      ]
    },
    {
      "cell_type": "code",
      "metadata": {
        "colab": {
          "base_uri": "https://localhost:8080/"
        },
        "id": "s9TTQXTaMJEB",
        "outputId": "1a930384-e1c4-4d95-bdce-4578a66a4e9a"
      },
      "source": [
        "model.wv.most_similar(\"direito\")"
      ],
      "execution_count": null,
      "outputs": [
        {
          "output_type": "execute_result",
          "data": {
            "text/plain": [
              "[('direito_subjetivo', 0.6552778482437134),\n",
              " ('retratação', 0.5924602150917053),\n",
              " ('admissibilidade', 0.542267918586731),\n",
              " ('registro', 0.5354086756706238),\n",
              " ('dedireito', 0.5270605683326721),\n",
              " ('direito_marcelo_badaró', 0.5239690542221069),\n",
              " ('retratação_exercido', 0.5215996503829956),\n",
              " ('seus_quadros_funcionais', 0.5082097053527832),\n",
              " ('singular', 0.50741046667099),\n",
              " ('mero_peticionamento', 0.49530357122421265)]"
            ]
          },
          "metadata": {
            "tags": []
          },
          "execution_count": 24
        }
      ]
    },
    {
      "cell_type": "code",
      "metadata": {
        "colab": {
          "base_uri": "https://localhost:8080/"
        },
        "id": "Dg70OWUqM0UI",
        "outputId": "ce605da6-3999-4a0f-eb2d-ffe60cdb5902"
      },
      "source": [
        "model.wv.similarity(\"stf\", \"supremo\")"
      ],
      "execution_count": null,
      "outputs": [
        {
          "output_type": "execute_result",
          "data": {
            "text/plain": [
              "0.43851084"
            ]
          },
          "metadata": {
            "tags": []
          },
          "execution_count": 25
        }
      ]
    },
    {
      "cell_type": "code",
      "metadata": {
        "colab": {
          "base_uri": "https://localhost:8080/"
        },
        "id": "4obTQHp5M-vl",
        "outputId": "8e47bf9e-ed47-407b-d583-4786e8ecadc8"
      },
      "source": [
        "model.wv.similarity(\"juiz\", \"promotoria\")"
      ],
      "execution_count": null,
      "outputs": [
        {
          "output_type": "execute_result",
          "data": {
            "text/plain": [
              "-0.044675205"
            ]
          },
          "metadata": {
            "tags": []
          },
          "execution_count": 26
        }
      ]
    },
    {
      "cell_type": "code",
      "metadata": {
        "colab": {
          "base_uri": "https://localhost:8080/"
        },
        "id": "gaaY1h-GNY3v",
        "outputId": "79257025-406c-4eb8-88d9-b576517d45ad"
      },
      "source": [
        "model.wv.most_similar('presidente')"
      ],
      "execution_count": null,
      "outputs": [
        {
          "output_type": "execute_result",
          "data": {
            "text/plain": [
              "[('egrégio', 0.5883347392082214),\n",
              " ('presidência', 0.559654176235199),\n",
              " ('júri', 0.533455491065979),\n",
              " ('regimento_interno', 0.5065801739692688),\n",
              " ('eg', 0.4995988607406616),\n",
              " ('site', 0.4954540729522705),\n",
              " ('tabela_prática', 0.4650864601135254),\n",
              " ('pleno', 0.4607575237751007),\n",
              " ('supressão', 0.46034979820251465),\n",
              " ('conclusão_adotada', 0.45636212825775146)]"
            ]
          },
          "metadata": {
            "tags": []
          },
          "execution_count": 27
        }
      ]
    },
    {
      "cell_type": "code",
      "metadata": {
        "colab": {
          "base_uri": "https://localhost:8080/"
        },
        "id": "NL2TrgcPNynj",
        "outputId": "efbae5a3-3223-49da-e12f-f185d32d230a"
      },
      "source": [
        "model.wv.similarity(\"presidente\", \"plenário\")"
      ],
      "execution_count": null,
      "outputs": [
        {
          "output_type": "execute_result",
          "data": {
            "text/plain": [
              "0.24541123"
            ]
          },
          "metadata": {
            "tags": []
          },
          "execution_count": 28
        }
      ]
    },
    {
      "cell_type": "code",
      "metadata": {
        "colab": {
          "base_uri": "https://localhost:8080/"
        },
        "id": "oyFkReTMOzem",
        "outputId": "5b9faed9-a56c-4838-e58e-cb11242bede5"
      },
      "source": [
        "model.wv.most_similar('stj')"
      ],
      "execution_count": null,
      "outputs": [
        {
          "output_type": "execute_result",
          "data": {
            "text/plain": [
              "[('tst', 0.7337415218353271),\n",
              " ('ctst', 0.7298643589019775),\n",
              " ('-stj', 0.7196532487869263),\n",
              " ('colendo_tst', 0.7124598026275635),\n",
              " ('tjrj', 0.6958931088447571),\n",
              " ('cstj', 0.668242871761322),\n",
              " ('tfr', 0.6673515439033508),\n",
              " ('tjpe', 0.6542514562606812),\n",
              " ('stf', 0.6405160427093506),\n",
              " ('tjerj', 0.6238747239112854)]"
            ]
          },
          "metadata": {
            "tags": []
          },
          "execution_count": 29
        }
      ]
    },
    {
      "cell_type": "markdown",
      "metadata": {
        "id": "OkzaEKDx7Agr"
      },
      "source": [
        "# Aplicando o Word2Vec em um dataset real\n",
        "\n",
        "Nesse tutorial vamos demonstrar como utilizar word-embeddings geradas a partir do método Word2Vec, em cima de um corpo de texto do meio jurídico.\n",
        "\n",
        "O método Word2Vec utiliza o contexto das palavras nos textos para gerar as embbedings. Para isso, foi utilizado o pacote *gensim* (versão 3.6.0), que integra as ferramentas necessárias para gerar, salvar e carregar as embbedings.\n",
        "\n",
        "As ferramentas de limpeza de texto usadas foram criadas com o enfoque em textos do meio jurídico, mas podem ser usadas com outros textos igualmente. \n",
        "\n",
        "Para o funcionamento correto, recomendamos que o usuário tenha acesso aos seguintes módulos:\n",
        "* ScikitLearn\n",
        "* Keras\n",
        "* Gensim\n",
        "* String\n",
        "* Numpy\n",
        "* Pandas\n",
        "* Ftfy\n",
        "\n",
        "Neste tutorial, faremos um modelo de Redes Neurais Convolucionais para classificar processos legais em \"Ativo\", \"Suspenso\" e \"Arquivado\". O dataset esta disponível\n",
        "[nesta página](https://www.kaggle.com/felipepolo/brazilian-legal-proceedings)\n",
        "do Kaggle. \\\\\n",
        "Este turorial foi baseados nos seguintes artigos \n",
        "[[3]](https://machinelearningmastery.com/develop-word-embedding-model-predicting-movie-review-sentiment/), [[4]](https://machinelearningmastery.com/best-practices-document-classification-deep-learning/) e [[5]](https://machinelearningmastery.com/use-word-embedding-layers-deep-learning-keras/)"
      ]
    },
    {
      "cell_type": "code",
      "metadata": {
        "id": "gC2UjjbL80ee"
      },
      "source": [
        "from sklearn.metrics import accuracy_score, confusion_matrix, classification_report\n",
        "import seaborn as sns\n",
        "import matplotlib.pyplot as plt"
      ],
      "execution_count": 34,
      "outputs": []
    },
    {
      "cell_type": "markdown",
      "metadata": {
        "id": "y8_955rB-sU7"
      },
      "source": [
        "De início, vamos importar as bibliotecas e funções que serão usadas adiante. Devemos também instalar as bibliotecas que não estão disponíveis por padrão no Google Colab."
      ]
    },
    {
      "cell_type": "code",
      "metadata": {
        "colab": {
          "base_uri": "https://localhost:8080/"
        },
        "id": "gGFJlWE7-sEO",
        "outputId": "189077f5-1819-4732-ae43-5ba79f589413"
      },
      "source": [
        "!pip install ftfy\n",
        "\n",
        "import pandas as pd\n",
        "\n",
        "import numpy as np\n",
        "\n",
        "from sklearn.preprocessing import OneHotEncoder\n",
        "from sklearn.model_selection import train_test_split\n",
        "\n",
        "from keras.preprocessing.text import one_hot\n",
        "from keras.preprocessing.text import Tokenizer \n",
        "from keras.preprocessing.sequence import pad_sequences\n",
        "from keras.models import Sequential\n",
        "from keras.layers import Dense\n",
        "from keras.layers import Flatten\n",
        "from keras.layers.embeddings import Embedding\n",
        "from keras.layers.convolutional import Conv1D\n",
        "from keras.layers.convolutional import MaxPooling1D\n",
        "from keras.callbacks import EarlyStopping\n",
        "\n",
        "!pip install gensim==3.8.1\n",
        "from gensim.models import KeyedVectors\n",
        "\n",
        "from string import punctuation\n",
        "\n",
        "from os import listdir\n",
        "\n",
        "from numpy import array\n",
        "from numpy import asarray\n",
        "from numpy import zeros\n",
        "\n",
        "!pip install git+https://github.com/legalnlp21/legalnlp\n",
        "from legalnlp.clean_functions import *\n"
      ],
      "execution_count": 35,
      "outputs": [
        {
          "output_type": "stream",
          "text": [
            "Requirement already satisfied: ftfy in /usr/local/lib/python3.7/dist-packages (6.0.3)\n",
            "Requirement already satisfied: wcwidth in /usr/local/lib/python3.7/dist-packages (from ftfy) (0.2.5)\n",
            "Requirement already satisfied: gensim==3.8.1 in /usr/local/lib/python3.7/dist-packages (3.8.1)\n",
            "Requirement already satisfied: scipy>=0.18.1 in /usr/local/lib/python3.7/dist-packages (from gensim==3.8.1) (1.4.1)\n",
            "Requirement already satisfied: six>=1.5.0 in /usr/local/lib/python3.7/dist-packages (from gensim==3.8.1) (1.15.0)\n",
            "Requirement already satisfied: smart-open>=1.8.1 in /usr/local/lib/python3.7/dist-packages (from gensim==3.8.1) (5.1.0)\n",
            "Requirement already satisfied: numpy>=1.11.3 in /usr/local/lib/python3.7/dist-packages (from gensim==3.8.1) (1.19.5)\n",
            "Collecting git+https://github.com/legalnlp21/legalnlp\n",
            "  Cloning https://github.com/legalnlp21/legalnlp to /tmp/pip-req-build-bryazwu5\n",
            "  Running command git clone -q https://github.com/legalnlp21/legalnlp /tmp/pip-req-build-bryazwu5\n",
            "Requirement already satisfied: ftfy in /usr/local/lib/python3.7/dist-packages (from legalnlp==1.0.0) (6.0.3)\n",
            "Requirement already satisfied: wget in /usr/local/lib/python3.7/dist-packages (from legalnlp==1.0.0) (3.2)\n",
            "Requirement already satisfied: wcwidth in /usr/local/lib/python3.7/dist-packages (from ftfy->legalnlp==1.0.0) (0.2.5)\n"
          ],
          "name": "stdout"
        }
      ]
    },
    {
      "cell_type": "markdown",
      "metadata": {
        "id": "yzBq_pWCiFyD"
      },
      "source": [
        "Célula de comando para fazer o download do modelo Word2Vec pré-treinado."
      ]
    },
    {
      "cell_type": "code",
      "metadata": {
        "id": "kX1g2sWjhIkT"
      },
      "source": [
        "# To download pre- trained model use get_premodel('wdocdm'). We already downloaded it in the begin of notebook"
      ],
      "execution_count": 10,
      "outputs": []
    },
    {
      "cell_type": "markdown",
      "metadata": {
        "id": "CHOhgv8n7GjM"
      },
      "source": [
        "## Carregando os dados"
      ]
    },
    {
      "cell_type": "markdown",
      "metadata": {
        "id": "k4IIaMWG_xD5"
      },
      "source": [
        "Nosso dataset esta em formato *json*. Para ficar em um formato mais conveniente, vamos transpor o dataset."
      ]
    },
    {
      "cell_type": "code",
      "metadata": {
        "colab": {
          "base_uri": "https://localhost:8080/",
          "height": 202
        },
        "id": "G9XaBkiF6LAe",
        "outputId": "bcf5b33d-0c04-49e4-abc6-8f6e5a405ead"
      },
      "source": [
        "df = pd.read_json(\"https://github.com/legalnlp21/legalnlp/blob/main/demo/Word2Vec/labeled.json?raw=true\").transpose()\n",
        "df.head()"
      ],
      "execution_count": 36,
      "outputs": [
        {
          "output_type": "execute_result",
          "data": {
            "text/html": [
              "<div>\n",
              "<style scoped>\n",
              "    .dataframe tbody tr th:only-of-type {\n",
              "        vertical-align: middle;\n",
              "    }\n",
              "\n",
              "    .dataframe tbody tr th {\n",
              "        vertical-align: top;\n",
              "    }\n",
              "\n",
              "    .dataframe thead th {\n",
              "        text-align: right;\n",
              "    }\n",
              "</style>\n",
              "<table border=\"1\" class=\"dataframe\">\n",
              "  <thead>\n",
              "    <tr style=\"text-align: right;\">\n",
              "      <th></th>\n",
              "      <th>label</th>\n",
              "      <th>texts</th>\n",
              "    </tr>\n",
              "  </thead>\n",
              "  <tbody>\n",
              "    <tr>\n",
              "      <th>0</th>\n",
              "      <td>H:Arquivado</td>\n",
              "      <td>{'-1': 'Tipo do Movimento:Ato Ordinatório Prat...</td>\n",
              "    </tr>\n",
              "    <tr>\n",
              "      <th>1</th>\n",
              "      <td>H:Ativo</td>\n",
              "      <td>{'-1': 'Tipo do Movimento:Recebimento ', '-2':...</td>\n",
              "    </tr>\n",
              "    <tr>\n",
              "      <th>2</th>\n",
              "      <td>H:Ativo</td>\n",
              "      <td>{'-1': 'Tipo do Movimento:RemessaDestinatário:...</td>\n",
              "    </tr>\n",
              "    <tr>\n",
              "      <th>3</th>\n",
              "      <td>H:Arquivado</td>\n",
              "      <td>{'-1': 'Tipo do Movimento:Arquivamento Tipo de...</td>\n",
              "    </tr>\n",
              "    <tr>\n",
              "      <th>4</th>\n",
              "      <td>H:Arquivado</td>\n",
              "      <td>{'-1': 'Tipo do Movimento:Arquivamento Tipo de...</td>\n",
              "    </tr>\n",
              "  </tbody>\n",
              "</table>\n",
              "</div>"
            ],
            "text/plain": [
              "         label                                              texts\n",
              "0  H:Arquivado  {'-1': 'Tipo do Movimento:Ato Ordinatório Prat...\n",
              "1      H:Ativo  {'-1': 'Tipo do Movimento:Recebimento ', '-2':...\n",
              "2      H:Ativo  {'-1': 'Tipo do Movimento:RemessaDestinatário:...\n",
              "3  H:Arquivado  {'-1': 'Tipo do Movimento:Arquivamento Tipo de...\n",
              "4  H:Arquivado  {'-1': 'Tipo do Movimento:Arquivamento Tipo de..."
            ]
          },
          "metadata": {
            "tags": []
          },
          "execution_count": 36
        }
      ]
    },
    {
      "cell_type": "code",
      "metadata": {
        "colab": {
          "base_uri": "https://localhost:8080/"
        },
        "id": "05IL0rD1AtI7",
        "outputId": "b9873752-b5b5-4090-c33d-245c53d18c20"
      },
      "source": [
        "df.shape"
      ],
      "execution_count": 37,
      "outputs": [
        {
          "output_type": "execute_result",
          "data": {
            "text/plain": [
              "(6449, 2)"
            ]
          },
          "metadata": {
            "tags": []
          },
          "execution_count": 37
        }
      ]
    },
    {
      "cell_type": "markdown",
      "metadata": {
        "id": "WVnNlojSAso9"
      },
      "source": [
        "O dataset é composto por um conjunto de 6449 processos classificados nas 3 categorias:\n",
        "* Ativo\n",
        "* Suspenso\n",
        "* Arquivado\n",
        "\n",
        "Para esse tutorial, iremos apenas utilizar os textos indexados com '-1'. Vamos usar a função \"clean\" em cada um dos textos."
      ]
    },
    {
      "cell_type": "code",
      "metadata": {
        "colab": {
          "base_uri": "https://localhost:8080/"
        },
        "id": "-FHdqq-ABt8D",
        "outputId": "5b3cbe48-7e30-4a5f-cf7c-d65f52c59b25"
      },
      "source": [
        "from legalnlp.clean_functions import *\n",
        "X_textos = df.texts[:].apply(lambda dict: clean(dict['-1']))\n",
        "\n",
        "X_textos.head()"
      ],
      "execution_count": 38,
      "outputs": [
        {
          "output_type": "execute_result",
          "data": {
            "text/plain": [
              "0    tipo do movimento : ato ordinatório praticado ...\n",
              "1                      tipo do movimento : recebimento\n",
              "2    tipo do movimento : remessadestinatário : trib...\n",
              "3    tipo do movimento : arquivamento tipo de arqui...\n",
              "4    tipo do movimento : arquivamento tipo de arqui...\n",
              "Name: texts, dtype: object"
            ]
          },
          "metadata": {
            "tags": []
          },
          "execution_count": 38
        }
      ]
    },
    {
      "cell_type": "markdown",
      "metadata": {
        "id": "k246rN0qCEK6"
      },
      "source": [
        "Agora faremos a separação das categorias da nossa target, numerando de 0 a 2."
      ]
    },
    {
      "cell_type": "code",
      "metadata": {
        "id": "xXZDf4ZECWpJ"
      },
      "source": [
        "def converte_label(label):\n",
        "  if label == \"H:Ativo\": return 0\n",
        "  elif label == \"H:Suspenso\": return 1\n",
        "  else: return 2\n",
        "labels = np.array(df.label[:].apply(converte_label))"
      ],
      "execution_count": 39,
      "outputs": []
    },
    {
      "cell_type": "code",
      "metadata": {
        "colab": {
          "base_uri": "https://localhost:8080/"
        },
        "id": "fAIHkrlbCdZ0",
        "outputId": "7aa85b38-d459-4730-dc87-e94e17027ee8"
      },
      "source": [
        "labels[:5]"
      ],
      "execution_count": 40,
      "outputs": [
        {
          "output_type": "execute_result",
          "data": {
            "text/plain": [
              "array([2, 0, 0, 2, 2])"
            ]
          },
          "metadata": {
            "tags": []
          },
          "execution_count": 40
        }
      ]
    },
    {
      "cell_type": "markdown",
      "metadata": {
        "id": "jVib4BEqAiBI"
      },
      "source": [
        "Com isso feito, podemos tratar nossos dados para que a rede possa interpreta-los e trabalhar de forma adequada."
      ]
    },
    {
      "cell_type": "markdown",
      "metadata": {
        "id": "aS8Hn-G6C23H"
      },
      "source": [
        "## Preparando os dados"
      ]
    },
    {
      "cell_type": "markdown",
      "metadata": {
        "id": "VqsU1Ci4C7Ck"
      },
      "source": [
        "O dataset que estamos usando não precisou de muito tratamento. Para as próprias aplicações, o leitor deve verificar com cautela as peculiaridades dos dados, antes de realizar a tokenização."
      ]
    },
    {
      "cell_type": "markdown",
      "metadata": {
        "id": "tJpdcmyzDVLQ"
      },
      "source": [
        "Com nossos textos tratados, vamos começar a prepará-los para serem recebidos pela rede neural. A estrutura basica da rede neural para NLP deve iniciar com uma camada chamada de \"embedding layer\". Essa camada é a responsável por traduzir as palavras para vetores. Ela fara isso a partir de uma matriz de pesos, onde cada i-ésima linha contém o vetor referente a i-ésima palavra.\n",
        "\n",
        "Portanto, devemos indexar cada palavra a um número inteiro, e representar nossos textos como vetores de indexação, ou seja, vetores com os números inteiros referentes a cada palavra. Para isso vamos tokenizar nosso corpo de texto utilizando o objeto *Tokenizer* do Keras. "
      ]
    },
    {
      "cell_type": "code",
      "metadata": {
        "colab": {
          "base_uri": "https://localhost:8080/"
        },
        "id": "CbuxARSWEyH0",
        "outputId": "52e469c2-53ed-454c-d6f3-557e62608dfe"
      },
      "source": [
        "t = Tokenizer()\n",
        "t.fit_on_texts(X_textos)\n",
        "tamanho_vocab = len(t.word_index) + 1\n",
        "encoded_textos = array(t.texts_to_sequences(X_textos))"
      ],
      "execution_count": 41,
      "outputs": [
        {
          "output_type": "stream",
          "text": [
            "/usr/local/lib/python3.7/dist-packages/ipykernel_launcher.py:4: VisibleDeprecationWarning: Creating an ndarray from ragged nested sequences (which is a list-or-tuple of lists-or-tuples-or ndarrays with different lengths or shapes) is deprecated. If you meant to do this, you must specify 'dtype=object' when creating the ndarray\n",
            "  after removing the cwd from sys.path.\n"
          ],
          "name": "stderr"
        }
      ]
    },
    {
      "cell_type": "code",
      "metadata": {
        "colab": {
          "base_uri": "https://localhost:8080/"
        },
        "id": "15II9RMjFK37",
        "outputId": "9b95e271-18a6-46ba-d2c0-440f8ec52d44"
      },
      "source": [
        "t.index_word[8], t.index_word[4], t.index_word[39], t.index_word[59], t.index_word[120], t.index_word[185], \"...\""
      ],
      "execution_count": null,
      "outputs": [
        {
          "output_type": "execute_result",
          "data": {
            "text/plain": [
              "('tipo', 'do', 'movimento', 'ato', 'ordinatório', 'praticado', '...')"
            ]
          },
          "metadata": {
            "tags": []
          },
          "execution_count": 9
        }
      ]
    },
    {
      "cell_type": "code",
      "metadata": {
        "colab": {
          "base_uri": "https://localhost:8080/"
        },
        "id": "_AhStGQzFoqr",
        "outputId": "e4d412a5-19f2-4793-a3ce-ddc28284b2a0"
      },
      "source": [
        "print(encoded_textos[0])"
      ],
      "execution_count": null,
      "outputs": [
        {
          "output_type": "stream",
          "text": [
            "[8, 4, 39, 59, 120, 185, 138, 75, 36, 95, 94, 61, 168, 241, 462, 2, 80, 1, 45, 349, 528, 613, 212, 1414, 683, 1415, 36, 684, 685]\n"
          ],
          "name": "stdout"
        }
      ]
    },
    {
      "cell_type": "markdown",
      "metadata": {
        "id": "sLM1bSciFz4q"
      },
      "source": [
        "Cada vetor agora representa um texto, contúdo, cada um pode ter tamanhos distintos. Devemos padroniza-los, completando os textos menores com \"0\" até que cheguem no tamanho do maior texto dos dados."
      ]
    },
    {
      "cell_type": "code",
      "metadata": {
        "colab": {
          "base_uri": "https://localhost:8080/"
        },
        "id": "_FHf-ZaBFRd_",
        "outputId": "3e8bdab7-d111-4f3d-b6c5-faccbc2c8d5d"
      },
      "source": [
        "len_maior = 0\n",
        "for lista in encoded_textos:\n",
        "  if len(lista) > len_maior: len_maior = len(lista)\n",
        "\n",
        "len_maior"
      ],
      "execution_count": null,
      "outputs": [
        {
          "output_type": "execute_result",
          "data": {
            "text/plain": [
              "306"
            ]
          },
          "metadata": {
            "tags": []
          },
          "execution_count": 11
        }
      ]
    },
    {
      "cell_type": "markdown",
      "metadata": {
        "id": "N7kn5y0cGgUa"
      },
      "source": [
        "Vamos usar a função \"pad_sequences\" do Keras para ajustar o tamanho dos textos para 306. Além disso, é recomendável que passemos os índices para \"float\"."
      ]
    },
    {
      "cell_type": "code",
      "metadata": {
        "colab": {
          "base_uri": "https://localhost:8080/"
        },
        "id": "eEucvRdpGfOd",
        "outputId": "f6c1d6e9-3540-4ec6-91c4-859378c55316"
      },
      "source": [
        "padded_docs = pad_sequences(encoded_textos, maxlen=len_maior, padding='post').astype('float32')\n",
        "\n",
        "len(padded_docs[0])"
      ],
      "execution_count": null,
      "outputs": [
        {
          "output_type": "execute_result",
          "data": {
            "text/plain": [
              "306"
            ]
          },
          "metadata": {
            "tags": []
          },
          "execution_count": 12
        }
      ]
    },
    {
      "cell_type": "markdown",
      "metadata": {
        "id": "CSk6jJdyHOxZ"
      },
      "source": [
        "Nossos textos estão prontos para serem recebidos pela rede neural, contudo, ainda é necessário gerar a camada de embbeding da rede. Faremos isso na próxima seção."
      ]
    },
    {
      "cell_type": "markdown",
      "metadata": {
        "id": "1OBPiQ8FHe45"
      },
      "source": [
        "Também devemos tratar o nosso vetor de categorias. Por padrão, nossa target deve estar em formato matricial, com 1 na coluna representante da categoria do texto daquela linha e 0 nas demais.\n",
        "\n",
        "Vamos usar o objeto \"OneHotEncoder\" do ScikitLearn e passar a matriz para a forma densa (objeto retorna na forma de matriz esparça). "
      ]
    },
    {
      "cell_type": "code",
      "metadata": {
        "colab": {
          "base_uri": "https://localhost:8080/"
        },
        "id": "NT3xnkJzG3cr",
        "outputId": "0aa0952d-e1df-452f-b321-630a5e27e262"
      },
      "source": [
        "encoder = OneHotEncoder(handle_unknown='ignore')\n",
        "label_onehot = encoder.fit_transform(labels.reshape((-1,1))).todense()\n",
        "\n",
        "label_onehot[:3]"
      ],
      "execution_count": null,
      "outputs": [
        {
          "output_type": "execute_result",
          "data": {
            "text/plain": [
              "matrix([[0., 0., 1.],\n",
              "        [1., 0., 0.],\n",
              "        [1., 0., 0.]])"
            ]
          },
          "metadata": {
            "tags": []
          },
          "execution_count": 13
        }
      ]
    },
    {
      "cell_type": "markdown",
      "metadata": {
        "id": "XwODax6gJYJj"
      },
      "source": [
        "Agora, com nossos dados preparados, começaremos a cuidar da \"embbeding layer\". "
      ]
    },
    {
      "cell_type": "markdown",
      "metadata": {
        "id": "mF2KqXCSJp8r"
      },
      "source": [
        "## Preparando as embeddings"
      ]
    },
    {
      "cell_type": "markdown",
      "metadata": {
        "id": "65HTRJhl4fyR"
      },
      "source": [
        "Primeiramente, vamos importar o modelo Word2Vec treinado. Este modelo tem suas embbedings de tamanho 100 e foi treinado usando uma janela de tamanho 15 e \"epochs\" = 20. Vamos usar o objeto KeyedVectors do *Gensim* para carregar o model."
      ]
    },
    {
      "cell_type": "code",
      "metadata": {
        "id": "2lBSWXyyImRP"
      },
      "source": [
        "model = KeyedVectors.load(\"/content/W2V-D2V/w2v_d2v_dm_size_100_window_15_epochs_20\")"
      ],
      "execution_count": 42,
      "outputs": []
    },
    {
      "cell_type": "markdown",
      "metadata": {
        "id": "oyEM3_ZQ5sBD"
      },
      "source": [
        "Com o modelo carregado, já podemos estruturar a matriz de pesos. Neste caso específico, todas as palavras do corpo de texto dos dados estão contidas no vocabulário do modelo Word2Vec, contudo, o leitor deve ter o cuidado de tratar os casos em que essa equivalência não aconteça."
      ]
    },
    {
      "cell_type": "markdown",
      "metadata": {
        "id": "--X1RePT68GN"
      },
      "source": [
        "Vamos estruturar um dicionário, no qual cada chave é uma palavra do corpo do vocabulário do modelo e cada valor representa sua embbeding."
      ]
    },
    {
      "cell_type": "code",
      "metadata": {
        "id": "Mipcv8F47jeo"
      },
      "source": [
        "wv_dict = dict(zip(model.wv.index2word[:], model.wv.vectors[:]))"
      ],
      "execution_count": 43,
      "outputs": []
    },
    {
      "cell_type": "markdown",
      "metadata": {
        "id": "yCQs9j3c7mWv"
      },
      "source": [
        "Para acelerar o treino da rede, e diminuir o tamanho da matriz de pesos, podemos fazer um dicionário somente com as palavras do texto, pois geralmente, o vocabulário do modelo Word2Vec é muito mais extenso que o necessário. "
      ]
    },
    {
      "cell_type": "code",
      "metadata": {
        "id": "bv8iy2OF8SrV"
      },
      "source": [
        "wv_dict_updated = {}\n",
        "for palavra in t.index_word.values():\n",
        "  if palavra in wv_dict.keys():\n",
        "    wv_dict_updated[palavra] = wv_dict[palavra]"
      ],
      "execution_count": null,
      "outputs": []
    },
    {
      "cell_type": "markdown",
      "metadata": {
        "id": "10p1dF1F6n28"
      },
      "source": [
        "Por fim, podemos estruturar a matriz de pesos, colocando a palavra de i-ésimo índice na i-ésima linha da matriz."
      ]
    },
    {
      "cell_type": "code",
      "metadata": {
        "colab": {
          "base_uri": "https://localhost:8080/"
        },
        "id": "RnopJgYe8rEQ",
        "outputId": "42d53d97-ae23-44ab-d028-a7d71beac541"
      },
      "source": [
        "matriz_de_pesos = zeros((tamanho_vocab, 100))\n",
        "for palavra, i in t.word_index.items():\n",
        "  vetor_embed =  wv_dict_updated.get(palavra)\n",
        "  if vetor_embed is not None:\n",
        "    matriz_de_pesos[i] = vetor_embed\n",
        "\n",
        "matriz_de_pesos.shape"
      ],
      "execution_count": null,
      "outputs": [
        {
          "output_type": "execute_result",
          "data": {
            "text/plain": [
              "(2827, 100)"
            ]
          },
          "metadata": {
            "tags": []
          },
          "execution_count": 20
        }
      ]
    },
    {
      "cell_type": "markdown",
      "metadata": {
        "id": "BLn_LSKJ9SPb"
      },
      "source": [
        "## Treinando o modelo"
      ]
    },
    {
      "cell_type": "markdown",
      "metadata": {
        "id": "9n7XjYRB9jSN"
      },
      "source": [
        "Com nossos dados codificados, e nossa matriz de pesos pronta, podemos começar a estruturar nossa Rede Neural. Nosso modelo será uma Rede Neural Convolucional, ou seja, aplicaremos uma camada de filtragem e em seguida uma camada de pooling, buscando ressaltar informações importantes das embbedings. \n",
        "\n",
        "Nossa rede terá a seguinte estrutura:\n",
        "1. A primeira camada de embbeding, que fara a codificação das palavras (representadas como índices) nos seus respectivos vetores.\n",
        "2. A segunda será uma camada convolucional, com 128 filtros no output, kernel de tamanho 5 e função de ativação 'ReLU'.\n",
        "3. A terceira camada será a MaxPooling de tamanho 2.\n",
        "4. Como o output da 3ª camada é um tensor, a quarta camada será uma camada de \"achatamento\".\n",
        "5. Por fim, a camada do output, de tamanho 3 e função de ativação *softmax*."
      ]
    },
    {
      "cell_type": "code",
      "metadata": {
        "id": "rlub9n_C9R3L"
      },
      "source": [
        "emb = Embedding(tamanho_vocab, 100, weights = [matriz_de_pesos], input_length=len_maior, trainable = False)\n",
        "\n",
        "rede = Sequential()\n",
        "\n",
        "rede.add(emb)\n",
        "rede.add(Conv1D(filters=128, kernel_size=5, activation='relu'))\n",
        "rede.add(MaxPooling1D(pool_size=2))\n",
        "rede.add(Flatten())\n",
        "rede.add(Dense(3, activation='softmax'))"
      ],
      "execution_count": null,
      "outputs": []
    },
    {
      "cell_type": "markdown",
      "metadata": {
        "id": "2-Sa_0gSAXIe"
      },
      "source": [
        "Para terminar a estrutura da rede, vamos usar a função perda como 'categorical_crossentropy', o caso categórico da entropia cruzda, para o otimizador ultilizaremos o 'adam' e a métrica de avaliação será a acurácia. Podemos ver a arquitetura utilizando o método \"*Sequential().summary()*\"."
      ]
    },
    {
      "cell_type": "code",
      "metadata": {
        "colab": {
          "base_uri": "https://localhost:8080/"
        },
        "id": "J6YSMgojBGcz",
        "outputId": "c04be39d-27ce-4257-d45b-6daa90e42a0b"
      },
      "source": [
        "rede.compile(optimizer='adam', loss='categorical_crossentropy', metrics=['accuracy'])\n",
        "print(rede.summary())"
      ],
      "execution_count": null,
      "outputs": [
        {
          "output_type": "stream",
          "text": [
            "Model: \"sequential\"\n",
            "_________________________________________________________________\n",
            "Layer (type)                 Output Shape              Param #   \n",
            "=================================================================\n",
            "embedding (Embedding)        (None, 306, 100)          282700    \n",
            "_________________________________________________________________\n",
            "conv1d (Conv1D)              (None, 302, 128)          64128     \n",
            "_________________________________________________________________\n",
            "max_pooling1d (MaxPooling1D) (None, 151, 128)          0         \n",
            "_________________________________________________________________\n",
            "flatten (Flatten)            (None, 19328)             0         \n",
            "_________________________________________________________________\n",
            "dense (Dense)                (None, 3)                 57987     \n",
            "=================================================================\n",
            "Total params: 404,815\n",
            "Trainable params: 122,115\n",
            "Non-trainable params: 282,700\n",
            "_________________________________________________________________\n",
            "None\n"
          ],
          "name": "stdout"
        }
      ]
    },
    {
      "cell_type": "markdown",
      "metadata": {
        "id": "_bWrwUvwBOne"
      },
      "source": [
        "Vamos separar nossos dados em dados de treino e teste."
      ]
    },
    {
      "cell_type": "code",
      "metadata": {
        "id": "1Elh0HQwBOOw"
      },
      "source": [
        "n = 4500\n",
        "#X_treino, X_teste, Y_treino, Y_teste = padded_docs[:n], padded_docs[n:], label_onehot[:n], label_onehot[n:]\n",
        "X_treino, X_teste, Y_treino, Y_teste = train_test_split(padded_docs, label_onehot, random_state=42, train_size=0.7, test_size=0.3)"
      ],
      "execution_count": null,
      "outputs": []
    },
    {
      "cell_type": "markdown",
      "metadata": {
        "id": "n64Ib0kxBYZS"
      },
      "source": [
        "Por fim, podemos treinar o modelo e verificar nossos resultados. "
      ]
    },
    {
      "cell_type": "code",
      "metadata": {
        "colab": {
          "base_uri": "https://localhost:8080/"
        },
        "id": "7Qp3FHJoBIr_",
        "outputId": "feca87db-42ed-483f-f805-4c8112f3e033"
      },
      "source": [
        "rede.fit(X_treino, Y_treino, epochs=50, validation_split=0.1, batch_size=500, verbose=1,  callbacks=[EarlyStopping(monitor='val_loss', patience=15)])"
      ],
      "execution_count": null,
      "outputs": [
        {
          "output_type": "stream",
          "text": [
            "Epoch 1/50\n",
            "9/9 [==============================] - 24s 992ms/step - loss: 1.0790 - accuracy: 0.5855 - val_loss: 0.8033 - val_accuracy: 0.7566\n",
            "Epoch 2/50\n",
            "9/9 [==============================] - 8s 927ms/step - loss: 0.7277 - accuracy: 0.7698 - val_loss: 0.6682 - val_accuracy: 0.7898\n",
            "Epoch 3/50\n",
            "9/9 [==============================] - 8s 923ms/step - loss: 0.5366 - accuracy: 0.8027 - val_loss: 0.5537 - val_accuracy: 0.8053\n",
            "Epoch 4/50\n",
            "9/9 [==============================] - 8s 920ms/step - loss: 0.4562 - accuracy: 0.8270 - val_loss: 0.5278 - val_accuracy: 0.7942\n",
            "Epoch 5/50\n",
            "9/9 [==============================] - 8s 924ms/step - loss: 0.4319 - accuracy: 0.8305 - val_loss: 0.4843 - val_accuracy: 0.8053\n",
            "Epoch 6/50\n",
            "9/9 [==============================] - 8s 931ms/step - loss: 0.3906 - accuracy: 0.8447 - val_loss: 0.4628 - val_accuracy: 0.8407\n",
            "Epoch 7/50\n",
            "9/9 [==============================] - 8s 922ms/step - loss: 0.3807 - accuracy: 0.8657 - val_loss: 0.4477 - val_accuracy: 0.8407\n",
            "Epoch 8/50\n",
            "9/9 [==============================] - 8s 917ms/step - loss: 0.3800 - accuracy: 0.8589 - val_loss: 0.4361 - val_accuracy: 0.8451\n",
            "Epoch 9/50\n",
            "9/9 [==============================] - 8s 917ms/step - loss: 0.3528 - accuracy: 0.8555 - val_loss: 0.4533 - val_accuracy: 0.8496\n",
            "Epoch 10/50\n",
            "9/9 [==============================] - 8s 918ms/step - loss: 0.3183 - accuracy: 0.8838 - val_loss: 0.4389 - val_accuracy: 0.8496\n",
            "Epoch 11/50\n",
            "9/9 [==============================] - 8s 926ms/step - loss: 0.3158 - accuracy: 0.8810 - val_loss: 0.4386 - val_accuracy: 0.8473\n",
            "Epoch 12/50\n",
            "9/9 [==============================] - 8s 928ms/step - loss: 0.3118 - accuracy: 0.8844 - val_loss: 0.4384 - val_accuracy: 0.8540\n",
            "Epoch 13/50\n",
            "9/9 [==============================] - 8s 923ms/step - loss: 0.3099 - accuracy: 0.8840 - val_loss: 0.4623 - val_accuracy: 0.8518\n",
            "Epoch 14/50\n",
            "9/9 [==============================] - 8s 917ms/step - loss: 0.3092 - accuracy: 0.8785 - val_loss: 0.4469 - val_accuracy: 0.8540\n",
            "Epoch 15/50\n",
            "9/9 [==============================] - 8s 925ms/step - loss: 0.3019 - accuracy: 0.8864 - val_loss: 0.4459 - val_accuracy: 0.8407\n",
            "Epoch 16/50\n",
            "9/9 [==============================] - 8s 916ms/step - loss: 0.2955 - accuracy: 0.8885 - val_loss: 0.4432 - val_accuracy: 0.8518\n",
            "Epoch 17/50\n",
            "9/9 [==============================] - 8s 924ms/step - loss: 0.2811 - accuracy: 0.9004 - val_loss: 0.4422 - val_accuracy: 0.8429\n",
            "Epoch 18/50\n",
            "9/9 [==============================] - 8s 921ms/step - loss: 0.2985 - accuracy: 0.8903 - val_loss: 0.4704 - val_accuracy: 0.8518\n",
            "Epoch 19/50\n",
            "9/9 [==============================] - 8s 915ms/step - loss: 0.2948 - accuracy: 0.8919 - val_loss: 0.4637 - val_accuracy: 0.8540\n",
            "Epoch 20/50\n",
            "9/9 [==============================] - 8s 921ms/step - loss: 0.2821 - accuracy: 0.8955 - val_loss: 0.4562 - val_accuracy: 0.8407\n",
            "Epoch 21/50\n",
            "9/9 [==============================] - 8s 918ms/step - loss: 0.2883 - accuracy: 0.8957 - val_loss: 0.4555 - val_accuracy: 0.8473\n",
            "Epoch 22/50\n",
            "9/9 [==============================] - 8s 918ms/step - loss: 0.3084 - accuracy: 0.8808 - val_loss: 0.4886 - val_accuracy: 0.8496\n",
            "Epoch 23/50\n",
            "9/9 [==============================] - 8s 915ms/step - loss: 0.2793 - accuracy: 0.9011 - val_loss: 0.4820 - val_accuracy: 0.8407\n"
          ],
          "name": "stdout"
        },
        {
          "output_type": "execute_result",
          "data": {
            "text/plain": [
              "<keras.callbacks.History at 0x7fe6aeb84150>"
            ]
          },
          "metadata": {
            "tags": []
          },
          "execution_count": 24
        }
      ]
    },
    {
      "cell_type": "code",
      "metadata": {
        "colab": {
          "base_uri": "https://localhost:8080/"
        },
        "id": "Ek2GUT_nBiG7",
        "outputId": "31de8d46-52b9-4bde-8c75-fb612b300e3d"
      },
      "source": [
        "loss, acc_treino = rede.evaluate(X_treino, Y_treino, verbose=0)\n",
        "loss2, acc_teste = rede.evaluate(X_teste, Y_teste, verbose=0)\n",
        "print(f'Acurácia no treino: {round(acc_treino*100, 2)}%')\n",
        "print(f'Acurácia no teste: {round(acc_teste*100, 2)}%')"
      ],
      "execution_count": null,
      "outputs": [
        {
          "output_type": "stream",
          "text": [
            "Acurácia no treino: 89.14%\n",
            "Acurácia no teste: 84.75%\n"
          ],
          "name": "stdout"
        }
      ]
    },
    {
      "cell_type": "code",
      "metadata": {
        "id": "T61i5sg5Da1g"
      },
      "source": [
        "predict = rede.predict(X_teste)"
      ],
      "execution_count": null,
      "outputs": []
    },
    {
      "cell_type": "code",
      "metadata": {
        "colab": {
          "base_uri": "https://localhost:8080/"
        },
        "id": "dFdq0E3w_Gp1",
        "outputId": "d6eb3b36-36fd-408e-82fb-0632d414ea86"
      },
      "source": [
        "predict1 = np.argmax(predict, axis=1)\n",
        "\n",
        "Y_teste1 = np.argmax(Y_teste, axis=1)\n",
        "np.array(Y_teste1.reshape(1,-1))[0]"
      ],
      "execution_count": null,
      "outputs": [
        {
          "output_type": "execute_result",
          "data": {
            "text/plain": [
              "array([0, 0, 0, ..., 2, 2, 2])"
            ]
          },
          "metadata": {
            "tags": []
          },
          "execution_count": 27
        }
      ]
    },
    {
      "cell_type": "code",
      "metadata": {
        "colab": {
          "base_uri": "https://localhost:8080/"
        },
        "id": "v9U9RC7H8q6Q",
        "outputId": "14c7ac14-b888-4913-dd6e-ef9b13413553"
      },
      "source": [
        "print(classification_report(Y_teste1, predict1, labels=[0,1,2]))"
      ],
      "execution_count": null,
      "outputs": [
        {
          "output_type": "stream",
          "text": [
            "              precision    recall  f1-score   support\n",
            "\n",
            "           0       0.81      0.93      0.86       901\n",
            "           1       0.91      0.55      0.68       140\n",
            "           2       0.89      0.81      0.85       894\n",
            "\n",
            "    accuracy                           0.85      1935\n",
            "   macro avg       0.87      0.76      0.80      1935\n",
            "weighted avg       0.85      0.85      0.84      1935\n",
            "\n"
          ],
          "name": "stdout"
        }
      ]
    },
    {
      "cell_type": "code",
      "metadata": {
        "colab": {
          "base_uri": "https://localhost:8080/",
          "height": 265
        },
        "id": "fbKfb8S8EiMZ",
        "outputId": "8b5ed92d-e824-4643-c9fc-e8d1f1867de2"
      },
      "source": [
        "cm = confusion_matrix(Y_teste1, predict1)\n",
        "sns.heatmap(cm , fmt=\".3g\", annot= True, cmap=\"Greens\")\n",
        "\n",
        "plt.show()"
      ],
      "execution_count": null,
      "outputs": [
        {
          "output_type": "display_data",
          "data": {
            "image/png": "[encoded data removed]",
            "text/plain": [
              "<Figure size 432x288 with 2 Axes>"
            ]
          },
          "metadata": {
            "tags": [],
            "needs_background": "light"
          }
        }
      ]
    },
    {
      "cell_type": "markdown",
      "metadata": {
        "id": "NaFItkMbBhPF"
      },
      "source": [
        "Como a distância entre o score de treino e teste não é tão grande, e ambos performaram bem, podemos dizer que nosso modelo teve uma boa performance no geral. \n",
        "\n",
        "Uma analise mais aprofundada nos dados e na arquitetura da rede poderia levar a performances ainda melhores. Essas análises no entanto fogem do escopo deste tutorial, contudo, encorajamos o leitor a elaborar modelos que performem ainda melhor, e a realizar uma análise e engenharia de dados ainda mais aprofundada. \n",
        "\n",
        "Esperamos ter ajudado. \n",
        "\n",
        ":D"
      ]
    },
    {
      "cell_type": "markdown",
      "metadata": {
        "id": "S2wpqmotoR_w"
      },
      "source": [
        "#Referências"
      ]
    },
    {
      "cell_type": "markdown",
      "metadata": {
        "id": "53qIOjuTofIW"
      },
      "source": [
        "[1] Mikolov, T., Chen, K., Corrado, G., and Dean, J. (2013a).  Efficient estimation ofword representations in vector space.arXiv preprint arXiv:1301.3781. \\\\\n",
        "[2] Mikolov,  T.,  Sutskever,  I.,  Chen,  K.,  Corrado,  G. S.,  and Dean,  J. (2013b).   Distributed representations of words and phrases and their compositionality.  In Advances in neural information processing systems, pages 3111–3119. \\\\\n",
        "[3] Brownlee Jason(2017). https://machinelearningmastery.com/develop-word-embedding-model-predicting-movie-review-sentiment/ - acesso em: 04/08/2021.  \\\\\n",
        "[4] Brownlee Jason(2017). https://machinelearningmastery.com/best-practices-document-classification-deep-learning/ - acesso em: 04/08/2021.  \\\\\n",
        "[5] Brownlee Jason(2017). https://machinelearningmastery.com/use-word-embedding-layers-deep-learning-keras/ - acesso em: 04/08/2021. \\\\"
      ]
    },
    {
      "cell_type": "code",
      "metadata": {
        "id": "q-qG_zpau3va"
      },
      "source": [
        ""
      ],
      "execution_count": null,
      "outputs": []
    }
  ]
}