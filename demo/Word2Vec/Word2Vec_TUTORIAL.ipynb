{
  "nbformat": 4,
  "nbformat_minor": 0,
  "metadata": {
    "colab": {
      "name": "Word2Vec-TUTORIAL.ipynb",
      "provenance": [],
      "collapsed_sections": [
        "CpedCl83iG7q",
        "S2wpqmotoR_w"
      ],
      "mount_file_id": "1ahJPwEIQPEknJNy_SnS-CbDpIxa1j4gW",
      "authorship_tag": "ABX9TyOL6RjDf3b3CxilcLpsrmXv",
      "include_colab_link": true
    },
    "kernelspec": {
      "name": "python3",
      "display_name": "Python 3"
    },
    "language_info": {
      "name": "python"
    }
  },
  "cells": [
    {
      "cell_type": "markdown",
      "metadata": {
        "id": "view-in-github",
        "colab_type": "text"
      },
      "source": [
        "<a href=\"https://colab.research.google.com/github/legalnlp21/legalnlp/blob/main/Word2Vec_TUTORIAL.ipynb\" target=\"_parent\"><img src=\"https://colab.research.google.com/assets/colab-badge.svg\" alt=\"Open In Colab\"/></a>"
      ]
    },
    {
      "cell_type": "markdown",
      "metadata": {
        "id": "CpedCl83iG7q"
      },
      "source": [
        "#Breve introdução teórica\n",
        "\n"
      ]
    },
    {
      "cell_type": "markdown",
      "metadata": {
        "id": "-qLWDcRwi27f"
      },
      "source": [
        "## Motivação\n",
        "\n",
        "A ideia principal do método word2vec é encontrar uma representação vetorial para palavras, tal representação elaborada a partir do contexto em que essas palavras aparecem. No caso deste pacote, os modelos são treinados com um corpo de texto extraído do meio jurídico.\n",
        "\n",
        "A representação de palavras em espaços vetoriais torna possível a análise de proximidade semântica, correlação e outras comparações quantitativas entre palavras.\n",
        "\n",
        "Os artigos originais sobre word2vec podem se encontrados em [[1]](https://arxiv.org/abs/1301.3781) e [[2]](https://papers.nips.cc/paper/2013/hash/9aa42b31882ec039965f3c4923ce901b-Abstract.html)."
      ]
    },
    {
      "cell_type": "markdown",
      "metadata": {
        "id": "wIJQ-K8KX1Mw"
      },
      "source": [
        "## A representação vetorial\n",
        "\n",
        "A partir do corpo de texto (o conjunto de todos os textos usados para treinar o modelo) será coletado um conjunto com as $n$ palavras distintas, formando o \"vocabulário\". Com isso podemos ter uma representação vetorial rústica de cada palavra do vocabulário, na forma conhecida como \"one-hot vector\", que consiste em um vetor de tamanho $n$ preenchido inteiramente com zeros, exceto na posição utilizada para diferenciar cada palavra do vocabulário, com o número um nessa posição.\n",
        "\n"
      ]
    },
    {
      "cell_type": "markdown",
      "metadata": {
        "id": "Bb_LNdjieq8O"
      },
      "source": [
        "As representações vetoriais (as chamadas \"*word embbedings*\") geradas a partir do Word2Vec, podem ter uma dimensão arbitrária e carregam informações geradas a partir do contexto. O contexto é definido por um conjunto de palavras dentro de cada amostra, o tamanho desse conjunto é dado pela \"janela\", ou seja, o número de palavras ao redor da palavra principal.\n",
        "\n",
        "Em suma, os modelos W2V podem ser gerados de duas formas: o método \"*Skip-Gram*\" e o método \"*Continuous Bag of Words*\" (CBOW). Os modelos gerados a partir do método *Skip-Gram* consistem de *embbedings* que representam o espaço paramétrico de uma Rede Neural, que recebe como *input* a palavra $w_t$, ou seja, na posição $t$, e tem como *output* prever as palavras $w_{t-d}$, ..., $w_{t-2}$, $w_{t-1}$ e $w_{t+1}$, $w_{t+2}$, ..., $w_{t+d}$, onde $d$ é o tamanho da janela. Já os modelos gerados a partir do método CBOW fazem o processo inverso, usando o contexto de palavras dentro da janela para prever a palavra alvo $w_t$. As palavras são representadas como \"one-hot vectors\" durante o treinamento."
      ]
    },
    {
      "cell_type": "markdown",
      "metadata": {
        "id": "VTPkmV0EfoUG"
      },
      "source": [
        "## Aplicações imediatas\n",
        "\n",
        "Sejam $v_1$ e $v_2$ vetores *one-hot vectors* é imediato que $<v_1, v_2> = 0$, ou seja, nesta representação, todos os vetores são ortogonais. Pouca informação pode se tirar disso, pois a reprsentação em *one-hot vector* não considera o contexto, está ligada somente a frequêcia de ocorrencia das palavras.\n",
        "\n",
        "Operações vetoriais como a soma e subtração entre vetores em word2vec operam como \"somas semânticas\", por exemplo, uma equação como $(rei - homem) + mulher = rainha$ seria algo palpável, que dependeria do contexto que essas palavras são usadas no corpo de texto. \n",
        "\n",
        "Além disso, podemos agora ter uma visualização gráfica das palavras que leva em conta o contexto em que essas palavras geralmente são usadas no corpo de texto. Vamos dar um exemplo, utilizando *embbedings* de tamanho 100, e aplicando um PCA para reduzir a dimensionalidade para 2, para visualizarmos as palavras em um gráfico bidimensional."
      ]
    },
    {
      "cell_type": "markdown",
      "metadata": {
        "id": "BSs4FL2Ij3ft"
      },
      "source": [
        "# Representando palavras utilizando Word2Vec"
      ]
    },
    {
      "cell_type": "code",
      "metadata": {
        "id": "la2u-qlPiAMc"
      },
      "source": [
        "from IPython.display import clear_output\n",
        "\n",
        "!pip install gensim==3.8.1\n",
        "!pip install git+https://github.com/legalnlp21/legalnlp\n",
        "clear_output()"
      ],
      "execution_count": null,
      "outputs": []
    },
    {
      "cell_type": "markdown",
      "metadata": {
        "id": "6nlf3nppplyI"
      },
      "source": [
        "Primeiro vamos chamar as bibliotecas necessárias. "
      ]
    },
    {
      "cell_type": "code",
      "metadata": {
        "id": "wH2FlVft-cAF"
      },
      "source": [
        "from gensim.models import Word2Vec\n",
        "import numpy as np\n",
        "from sklearn.decomposition import PCA\n",
        "from sklearn.preprocessing import StandardScaler\n",
        "import matplotlib.pyplot as plt\n",
        "import matplotlib.patches as mpatches\n",
        "from gensim.models import KeyedVectors\n",
        "import pandas as pd\n",
        "from legalnlp.get_premodel import get_premodel"
      ],
      "execution_count": null,
      "outputs": []
    },
    {
      "cell_type": "markdown",
      "metadata": {
        "id": "GXVkdKpppsNk"
      },
      "source": [
        "Utilizando a função \"get_premodel\" disponível no pacote *LegalNLP* podemos fazer o download do modelo pré-treinado W2V.\n"
      ]
    },
    {
      "cell_type": "code",
      "metadata": {
        "id": "aTXq-t86ciUW"
      },
      "source": [
        "# Downloading pre-trained model\n",
        "get_premodel('wdocdm')"
      ],
      "execution_count": null,
      "outputs": []
    },
    {
      "cell_type": "code",
      "metadata": {
        "id": "G3pQZK34-lq4"
      },
      "source": [
        "model = KeyedVectors.load(\"/content/W2V-D2V/w2v_d2v_dm_size_100_window_15_epochs_20\")"
      ],
      "execution_count": null,
      "outputs": []
    },
    {
      "cell_type": "markdown",
      "metadata": {
        "id": "jl1_IxF3p_l-"
      },
      "source": [
        "Podemos ver a seguir, como o modelo consegue agrupar palavras semelhantes."
      ]
    },
    {
      "cell_type": "code",
      "metadata": {
        "colab": {
          "base_uri": "https://localhost:8080/"
        },
        "id": "cYaEhVGwigBO",
        "outputId": "77475d55-66e9-4a75-90e1-82898168f65d"
      },
      "source": [
        "model.wv.most_similar('jurisprudencia')"
      ],
      "execution_count": null,
      "outputs": [
        {
          "output_type": "execute_result",
          "data": {
            "text/plain": [
              "[('jurisprudência_assente', 0.6141901016235352),\n",
              " ('iterativa_jurisprudência', 0.5145410895347595),\n",
              " ('jurisprudência_majoritária', 0.5138000249862671),\n",
              " ('jurisprudência', 0.5029575824737549),\n",
              " ('jurisprudência_pátria', 0.4976961016654968),\n",
              " ('notória_jurisprudência', 0.49725937843322754),\n",
              " ('jurisprudência_uníssona', 0.47410157322883606),\n",
              " ('dominante', 0.4658571481704712),\n",
              " ('vazada', 0.4633045792579651),\n",
              " ('jurisprudência_prevalecente', 0.45525240898132324)]"
            ]
          },
          "metadata": {},
          "execution_count": 5
        }
      ]
    },
    {
      "cell_type": "code",
      "metadata": {
        "colab": {
          "base_uri": "https://localhost:8080/"
        },
        "id": "RkLY2f06Bofd",
        "outputId": "54d746e2-16de-47cb-88a1-a5ad6e4aae72"
      },
      "source": [
        "model.wv.most_similar('pandemia')"
      ],
      "execution_count": null,
      "outputs": [
        {
          "output_type": "execute_result",
          "data": {
            "text/plain": [
              "[('pandemia_mundial', 0.6916313767433167),\n",
              " ('pandemia_causada', 0.6867375373840332),\n",
              " ('epidemia', 0.6704655885696411),\n",
              " ('disseminação', 0.6358423233032227),\n",
              " ('pandemia_global', 0.5988448858261108),\n",
              " ('pandemia_provocada', 0.5955021381378174),\n",
              " ('quarentena', 0.595090389251709),\n",
              " ('surto', 0.588540256023407),\n",
              " ('crise', 0.5628268718719482),\n",
              " ('calamidade_pública', 0.541213870048523)]"
            ]
          },
          "metadata": {},
          "execution_count": 6
        }
      ]
    },
    {
      "cell_type": "markdown",
      "metadata": {
        "id": "fdLgR10wqJtb"
      },
      "source": [
        "Vamos definir uma função para vizualisar algumas clusters e verificar como elas se parecem geometricamente. Como a dimensão de cada embbeding é 100, teremos que utilizar um método de redução de dimensionalidade. Para isso, iremos utilizar o objeto PCA (*Principal Component Analysis*) do SciKitLearn."
      ]
    },
    {
      "cell_type": "code",
      "metadata": {
        "id": "se8R7tAZGP66"
      },
      "source": [
        "def pca_plot(model, p_c, pca, file = None):\n",
        "    \n",
        "    transforma = lambda palavra: pca.transform(palavra)\n",
        "    \n",
        "    plt.figure(figsize=(13, 8)) \n",
        "    wd_clusters = p_c.keys()\n",
        "\n",
        "\n",
        "    for word in wd_clusters:\n",
        "      labels = []\n",
        "      tokens = []\n",
        "      emb = model.wv[word]\n",
        "      emb = (emb/np.sqrt(emb@emb)).tolist()\n",
        "      tokens.append(emb)\n",
        "      labels.append(word)\n",
        "      \n",
        "      k = 0\n",
        "      for similar in model.wv.most_similar(word):\n",
        "        k+=1\n",
        "        emb = model.wv[similar[0]]\n",
        "        emb = (emb/np.sqrt(emb@emb)).tolist()\n",
        "        tokens.append(emb)\n",
        "        labels.append(similar[0])\n",
        "        if k == 5: break\n",
        "        \n",
        "        \n",
        "      new_values = transforma(np.array(tokens))\n",
        "\n",
        "      x = []\n",
        "      y = []\n",
        "\n",
        "      for value, i in zip(new_values, [k for k in range(0, len(labels))]):\n",
        "        norma = 1#np.sqrt(value[0]**2 + value[1]**2)\n",
        "        x.append(value[0]/norma)\n",
        "        y.append(value[1]/norma)\n",
        "            \n",
        "      for i in range(len(x)):\n",
        "          plt.scatter(x[i],y[i], c = p_c[word], s=50)\n",
        "          plt.annotate(labels[i],\n",
        "                      xy=(x[i], y[i]),\n",
        "                      xytext=(5, 2),\n",
        "                      fontsize = 10,\n",
        "                      textcoords='offset points',\n",
        "                      ha='right',\n",
        "                      va='bottom')\n",
        "\n",
        "    ln = []\n",
        "    for i in range(len(p_c.items())):\n",
        "      ln.append(mpatches.Patch(color= list(p_c.values())[i], label= list(p_c.keys())[i])) \n",
        "\n",
        "    plt.xlabel('PC1 ('+str(round(pca.explained_variance_ratio_[0]*100,2))+'%)', size=12)\n",
        "    plt.ylabel('PC2 ('+str(round(pca.explained_variance_ratio_[1]*100,2))+'%)', size=12)\n",
        "    plt.legend(handles=ln)\n",
        "    if type(file) is not None:\n",
        "      plt.savefig(file, dpi = 800)\n",
        "    plt.show()"
      ],
      "execution_count": null,
      "outputs": []
    },
    {
      "cell_type": "code",
      "metadata": {
        "colab": {
          "base_uri": "https://localhost:8080/"
        },
        "id": "Yq7MIrHbxrKY",
        "outputId": "9597875e-9a48-429f-9a2c-31c2e409e8b1"
      },
      "source": [
        "pca = PCA(n_components = 2)\n",
        "emb_norm = model.wv.vectors/(np.sqrt(np.sum(model.wv.vectors**2, axis = 1))).reshape((-1,1))\n",
        "pca.fit(emb_norm)"
      ],
      "execution_count": null,
      "outputs": [
        {
          "output_type": "execute_result",
          "data": {
            "text/plain": [
              "PCA(copy=True, iterated_power='auto', n_components=2, random_state=None,\n",
              "    svd_solver='auto', tol=0.0, whiten=False)"
            ]
          },
          "metadata": {},
          "execution_count": 12
        }
      ]
    },
    {
      "cell_type": "code",
      "metadata": {
        "colab": {
          "base_uri": "https://localhost:8080/"
        },
        "id": "VV1G2cpnJOPE",
        "outputId": "1983579c-297a-45bb-8a24-2b9b4e90da6c"
      },
      "source": [
        "pca.explained_variance_ratio_"
      ],
      "execution_count": null,
      "outputs": [
        {
          "output_type": "execute_result",
          "data": {
            "text/plain": [
              "array([0.04819772, 0.03529713])"
            ]
          },
          "metadata": {},
          "execution_count": 13
        }
      ]
    },
    {
      "cell_type": "markdown",
      "metadata": {
        "id": "E_MdBKKjqz1k"
      },
      "source": [
        "Agora, basta chamarmos a função, vamos testar com o grupo de palavras nas chaves do dicionário \"palavras\", cada uma mapeando a sigla da cor utilizada no gráfico."
      ]
    },
    {
      "cell_type": "code",
      "metadata": {
        "colab": {
          "base_uri": "https://localhost:8080/",
          "height": 500
        },
        "id": "QDKXad22Gdew",
        "outputId": "ce4ca6a9-f5f8-4bb5-9c40-8ea7a0f215d9"
      },
      "source": [
        "palavras = {'juiza':'r', 'leilão':'g', 'promotoria':'k', 'lei':'c', 'sao_paulo':'m', 'felipe':'b'}\n",
        "\n",
        "pca_plot(model, p_c = palavras, pca = pca, file = \"clusters_w2v\")\n"
      ],
      "execution_count": null,
      "outputs": [
        {
          "output_type": "display_data",
          "data": {
            "image/png": "[encoded data removed]",
            "text/plain": [
              "<Figure size 936x576 with 1 Axes>"
            ]
          },
          "metadata": {
            "needs_background": "light"
          }
        }
      ]
    },
    {
      "cell_type": "markdown",
      "metadata": {
        "id": "43kUz1dZrEFB"
      },
      "source": [
        "Podemos ver que de fato, geometricamente, palavras mais próximas tem sentidos \"mais próximos\", encontramos clusters coerentes de tokens que se referem a nomes próprios, nomes de cidade e palavras com contextos relacionados entre si. Devemos lembrar que, após feita a redução de dimensionalidade, foi perdida uma alta porcentagem de explicação na variância entre as embbedings, então algumas clusters que o usuário eventualmente venha a testar podem não ser tão coerentes em um espaço bidimensional. Contudo o efeito visual com apenas 8.35% de explicação já condiz com o que se esperava. "
      ]
    },
    {
      "cell_type": "markdown",
      "metadata": {
        "id": "OkzaEKDx7Agr"
      },
      "source": [
        "# Aplicando o Word2Vec em um dataset real\n",
        "\n",
        "Nesse tutorial vamos demonstrar como utilizar word-embeddings geradas a partir do método Word2Vec, em cima de um corpo de texto do meio jurídico.\n",
        "\n",
        "O método Word2Vec utiliza o contexto das palavras nos textos para gerar as embbedings. Para isso, foi utilizado o pacote *gensim* (versão 3.6.0), que integra as ferramentas necessárias para gerar, salvar e carregar as embbedings.\n",
        "\n",
        "As ferramentas de limpeza de texto usadas foram criadas com o enfoque em textos do meio jurídico, mas podem ser usadas com outros textos igualmente. \n",
        "\n",
        "Para o funcionamento correto, recomendamos que o usuário tenha acesso aos seguintes módulos:\n",
        "* ScikitLearn\n",
        "* Keras\n",
        "* Gensim\n",
        "* String\n",
        "* Numpy\n",
        "* Pandas\n",
        "* Ftfy\n",
        "\n",
        "Neste tutorial, faremos um modelo de Redes Neurais Convolucionais para classificar processos legais em \"Ativo\", \"Suspenso\" e \"Arquivado\". O dataset esta disponível\n",
        "[nesta página](https://www.kaggle.com/felipepolo/brazilian-legal-proceedings)\n",
        "do Kaggle. \\\\\n",
        "Este turorial foi baseados nos seguintes artigos \n",
        "[[3]](https://machinelearningmastery.com/develop-word-embedding-model-predicting-movie-review-sentiment/), [[4]](https://machinelearningmastery.com/best-practices-document-classification-deep-learning/) e [[5]](https://machinelearningmastery.com/use-word-embedding-layers-deep-learning-keras/)"
      ]
    },
    {
      "cell_type": "code",
      "metadata": {
        "id": "gC2UjjbL80ee"
      },
      "source": [
        "from sklearn.metrics import accuracy_score, confusion_matrix, classification_report\n",
        "import seaborn as sns\n",
        "import matplotlib.pyplot as plt"
      ],
      "execution_count": null,
      "outputs": []
    },
    {
      "cell_type": "markdown",
      "metadata": {
        "id": "y8_955rB-sU7"
      },
      "source": [
        "De início, vamos importar as bibliotecas e funções que serão usadas adiante. Devemos também instalar as bibliotecas que não estão disponíveis por padrão no Google Colab."
      ]
    },
    {
      "cell_type": "code",
      "metadata": {
        "id": "gGFJlWE7-sEO"
      },
      "source": [
        "!pip install ftfy\n",
        "\n",
        "import pandas as pd\n",
        "\n",
        "import numpy as np\n",
        "\n",
        "from sklearn.preprocessing import OneHotEncoder\n",
        "from sklearn.model_selection import train_test_split\n",
        "\n",
        "from keras.preprocessing.text import one_hot\n",
        "from keras.preprocessing.text import Tokenizer \n",
        "from keras.preprocessing.sequence import pad_sequences\n",
        "from keras.models import Sequential\n",
        "from keras.layers import Dense\n",
        "from keras.layers import Flatten\n",
        "from keras.layers.embeddings import Embedding\n",
        "from keras.layers.convolutional import Conv1D\n",
        "from keras.layers.convolutional import MaxPooling1D\n",
        "from keras.callbacks import EarlyStopping\n",
        "\n",
        "!pip install gensim==3.8.1\n",
        "from gensim.models import KeyedVectors\n",
        "\n",
        "from string import punctuation\n",
        "\n",
        "from os import listdir\n",
        "\n",
        "from numpy import array\n",
        "from numpy import asarray\n",
        "from numpy import zeros\n",
        "\n",
        "!pip install git+https://github.com/legalnlp21/legalnlp\n",
        "from legalnlp.clean_functions import *\n",
        "\n",
        "clear_output()"
      ],
      "execution_count": null,
      "outputs": []
    },
    {
      "cell_type": "markdown",
      "metadata": {
        "id": "yzBq_pWCiFyD"
      },
      "source": [
        "Célula de comando para fazer o download do modelo Word2Vec pré-treinado."
      ]
    },
    {
      "cell_type": "code",
      "metadata": {
        "id": "kX1g2sWjhIkT"
      },
      "source": [
        "# To download pre- trained model use get_premodel('wdocdm'). We already downloaded it in the begin of notebook"
      ],
      "execution_count": null,
      "outputs": []
    },
    {
      "cell_type": "markdown",
      "metadata": {
        "id": "CHOhgv8n7GjM"
      },
      "source": [
        "## Carregando os dados"
      ]
    },
    {
      "cell_type": "markdown",
      "metadata": {
        "id": "k4IIaMWG_xD5"
      },
      "source": [
        "Nosso dataset esta em formato *json*. Para ficar em um formato mais conveniente, vamos transpor o dataset."
      ]
    },
    {
      "cell_type": "code",
      "metadata": {
        "colab": {
          "base_uri": "https://localhost:8080/",
          "height": 204
        },
        "id": "G9XaBkiF6LAe",
        "outputId": "6ab1290f-7777-46fa-b414-4d4d535a89bb"
      },
      "source": [
        "df = pd.read_json(\"https://github.com/legalnlp21/legalnlp/blob/main/demo/Word2Vec/labeled.json?raw=true\").transpose()\n",
        "df.head()"
      ],
      "execution_count": null,
      "outputs": [
        {
          "output_type": "execute_result",
          "data": {
            "text/html": [
              "<div>\n",
              "<style scoped>\n",
              "    .dataframe tbody tr th:only-of-type {\n",
              "        vertical-align: middle;\n",
              "    }\n",
              "\n",
              "    .dataframe tbody tr th {\n",
              "        vertical-align: top;\n",
              "    }\n",
              "\n",
              "    .dataframe thead th {\n",
              "        text-align: right;\n",
              "    }\n",
              "</style>\n",
              "<table border=\"1\" class=\"dataframe\">\n",
              "  <thead>\n",
              "    <tr style=\"text-align: right;\">\n",
              "      <th></th>\n",
              "      <th>label</th>\n",
              "      <th>texts</th>\n",
              "    </tr>\n",
              "  </thead>\n",
              "  <tbody>\n",
              "    <tr>\n",
              "      <th>0</th>\n",
              "      <td>H:Arquivado</td>\n",
              "      <td>{'-1': 'Tipo do Movimento:Ato Ordinatório Prat...</td>\n",
              "    </tr>\n",
              "    <tr>\n",
              "      <th>1</th>\n",
              "      <td>H:Ativo</td>\n",
              "      <td>{'-1': 'Tipo do Movimento:Recebimento ', '-2':...</td>\n",
              "    </tr>\n",
              "    <tr>\n",
              "      <th>2</th>\n",
              "      <td>H:Ativo</td>\n",
              "      <td>{'-1': 'Tipo do Movimento:RemessaDestinatário:...</td>\n",
              "    </tr>\n",
              "    <tr>\n",
              "      <th>3</th>\n",
              "      <td>H:Arquivado</td>\n",
              "      <td>{'-1': 'Tipo do Movimento:Arquivamento Tipo de...</td>\n",
              "    </tr>\n",
              "    <tr>\n",
              "      <th>4</th>\n",
              "      <td>H:Arquivado</td>\n",
              "      <td>{'-1': 'Tipo do Movimento:Arquivamento Tipo de...</td>\n",
              "    </tr>\n",
              "  </tbody>\n",
              "</table>\n",
              "</div>"
            ],
            "text/plain": [
              "         label                                              texts\n",
              "0  H:Arquivado  {'-1': 'Tipo do Movimento:Ato Ordinatório Prat...\n",
              "1      H:Ativo  {'-1': 'Tipo do Movimento:Recebimento ', '-2':...\n",
              "2      H:Ativo  {'-1': 'Tipo do Movimento:RemessaDestinatário:...\n",
              "3  H:Arquivado  {'-1': 'Tipo do Movimento:Arquivamento Tipo de...\n",
              "4  H:Arquivado  {'-1': 'Tipo do Movimento:Arquivamento Tipo de..."
            ]
          },
          "metadata": {},
          "execution_count": 18
        }
      ]
    },
    {
      "cell_type": "code",
      "metadata": {
        "colab": {
          "base_uri": "https://localhost:8080/"
        },
        "id": "05IL0rD1AtI7",
        "outputId": "f4fafa5f-5c45-452d-eba7-db71ec3591d1"
      },
      "source": [
        "df.shape"
      ],
      "execution_count": null,
      "outputs": [
        {
          "output_type": "execute_result",
          "data": {
            "text/plain": [
              "(6449, 2)"
            ]
          },
          "metadata": {},
          "execution_count": 19
        }
      ]
    },
    {
      "cell_type": "markdown",
      "metadata": {
        "id": "WVnNlojSAso9"
      },
      "source": [
        "O dataset é composto por um conjunto de 6449 processos classificados nas 3 categorias:\n",
        "* Ativo\n",
        "* Suspenso\n",
        "* Arquivado\n",
        "\n",
        "Para esse tutorial, iremos apenas utilizar os textos indexados com '-1'. Vamos usar a função \"clean\" em cada um dos textos."
      ]
    },
    {
      "cell_type": "code",
      "metadata": {
        "colab": {
          "base_uri": "https://localhost:8080/"
        },
        "id": "-FHdqq-ABt8D",
        "outputId": "0b7b50d0-3074-4f72-e710-728e0418f6b0"
      },
      "source": [
        "from legalnlp.clean_functions import *\n",
        "X_textos = df.texts[:].apply(lambda dict: clean(dict['-1']))\n",
        "\n",
        "X_textos.head()"
      ],
      "execution_count": null,
      "outputs": [
        {
          "output_type": "execute_result",
          "data": {
            "text/plain": [
              "0    tipo do movimento : ato ordinatório praticado ...\n",
              "1                      tipo do movimento : recebimento\n",
              "2    tipo do movimento : remessadestinatário : trib...\n",
              "3    tipo do movimento : arquivamento tipo de arqui...\n",
              "4    tipo do movimento : arquivamento tipo de arqui...\n",
              "Name: texts, dtype: object"
            ]
          },
          "metadata": {},
          "execution_count": 20
        }
      ]
    },
    {
      "cell_type": "markdown",
      "metadata": {
        "id": "k246rN0qCEK6"
      },
      "source": [
        "Agora faremos a separação das categorias da nossa target, numerando de 0 a 2."
      ]
    },
    {
      "cell_type": "code",
      "metadata": {
        "id": "xXZDf4ZECWpJ"
      },
      "source": [
        "def converte_label(label):\n",
        "  if label == \"H:Ativo\": return 0\n",
        "  elif label == \"H:Suspenso\": return 1\n",
        "  else: return 2\n",
        "labels = np.array(df.label[:].apply(converte_label))"
      ],
      "execution_count": null,
      "outputs": []
    },
    {
      "cell_type": "code",
      "metadata": {
        "colab": {
          "base_uri": "https://localhost:8080/"
        },
        "id": "fAIHkrlbCdZ0",
        "outputId": "9d2e8cd5-ed0e-41e2-b57b-8e5565cb2123"
      },
      "source": [
        "labels[:5]"
      ],
      "execution_count": null,
      "outputs": [
        {
          "output_type": "execute_result",
          "data": {
            "text/plain": [
              "array([2, 0, 0, 2, 2])"
            ]
          },
          "metadata": {},
          "execution_count": 22
        }
      ]
    },
    {
      "cell_type": "markdown",
      "metadata": {
        "id": "jVib4BEqAiBI"
      },
      "source": [
        "Com isso feito, podemos tratar nossos dados para que a rede possa interpreta-los e trabalhar de forma adequada."
      ]
    },
    {
      "cell_type": "markdown",
      "metadata": {
        "id": "aS8Hn-G6C23H"
      },
      "source": [
        "## Preparando os dados"
      ]
    },
    {
      "cell_type": "markdown",
      "metadata": {
        "id": "VqsU1Ci4C7Ck"
      },
      "source": [
        "O dataset que estamos usando não precisou de muito tratamento. Para as próprias aplicações, o leitor deve verificar com cautela as peculiaridades dos dados, antes de realizar a tokenização."
      ]
    },
    {
      "cell_type": "markdown",
      "metadata": {
        "id": "tJpdcmyzDVLQ"
      },
      "source": [
        "Com nossos textos tratados, vamos começar a prepará-los para serem recebidos pela rede neural. A estrutura basica da rede neural para NLP deve iniciar com uma camada chamada de \"embedding layer\". Essa camada é a responsável por traduzir as palavras para vetores. Ela fara isso a partir de uma matriz de pesos, onde cada i-ésima linha contém o vetor referente a i-ésima palavra.\n",
        "\n",
        "Portanto, devemos indexar cada palavra a um número inteiro, e representar nossos textos como vetores de indexação, ou seja, vetores com os números inteiros referentes a cada palavra. Para isso vamos tokenizar nosso corpo de texto utilizando o objeto *Tokenizer* do Keras. "
      ]
    },
    {
      "cell_type": "code",
      "metadata": {
        "colab": {
          "base_uri": "https://localhost:8080/"
        },
        "id": "CbuxARSWEyH0",
        "outputId": "182582c1-9084-46bd-8735-4018d7720673"
      },
      "source": [
        "t = Tokenizer()\n",
        "t.fit_on_texts(X_textos)\n",
        "tamanho_vocab = len(t.word_index) + 1\n",
        "encoded_textos = array(t.texts_to_sequences(X_textos))"
      ],
      "execution_count": null,
      "outputs": [
        {
          "output_type": "stream",
          "text": [
            "/usr/local/lib/python3.7/dist-packages/ipykernel_launcher.py:4: VisibleDeprecationWarning: Creating an ndarray from ragged nested sequences (which is a list-or-tuple of lists-or-tuples-or ndarrays with different lengths or shapes) is deprecated. If you meant to do this, you must specify 'dtype=object' when creating the ndarray\n",
            "  after removing the cwd from sys.path.\n"
          ],
          "name": "stderr"
        }
      ]
    },
    {
      "cell_type": "code",
      "metadata": {
        "colab": {
          "base_uri": "https://localhost:8080/"
        },
        "id": "15II9RMjFK37",
        "outputId": "dd3a1c26-f89c-4264-dad3-0746090a7587"
      },
      "source": [
        "t.index_word[8], t.index_word[4], t.index_word[39], t.index_word[59], t.index_word[120], t.index_word[185], \"...\""
      ],
      "execution_count": null,
      "outputs": [
        {
          "output_type": "execute_result",
          "data": {
            "text/plain": [
              "('tipo', 'do', 'movimento', 'ato', 'ordinatório', 'praticado', '...')"
            ]
          },
          "metadata": {},
          "execution_count": 24
        }
      ]
    },
    {
      "cell_type": "code",
      "metadata": {
        "colab": {
          "base_uri": "https://localhost:8080/"
        },
        "id": "_AhStGQzFoqr",
        "outputId": "93efaa36-3486-47a8-f799-22e3422a009c"
      },
      "source": [
        "print(encoded_textos[0])"
      ],
      "execution_count": null,
      "outputs": [
        {
          "output_type": "stream",
          "text": [
            "[8, 4, 39, 59, 120, 185, 138, 75, 36, 95, 94, 61, 168, 241, 462, 2, 80, 1, 45, 349, 528, 614, 212, 1414, 683, 1415, 36, 684, 685]\n"
          ],
          "name": "stdout"
        }
      ]
    },
    {
      "cell_type": "markdown",
      "metadata": {
        "id": "sLM1bSciFz4q"
      },
      "source": [
        "Cada vetor agora representa um texto, contúdo, cada um pode ter tamanhos distintos. Devemos padroniza-los, completando os textos menores com \"0\" até que cheguem no tamanho do maior texto dos dados."
      ]
    },
    {
      "cell_type": "code",
      "metadata": {
        "colab": {
          "base_uri": "https://localhost:8080/"
        },
        "id": "_FHf-ZaBFRd_",
        "outputId": "671c853e-b414-4ec3-a11d-a3b72fae1d41"
      },
      "source": [
        "len_maior = 0\n",
        "for lista in encoded_textos:\n",
        "  if len(lista) > len_maior: len_maior = len(lista)\n",
        "\n",
        "len_maior"
      ],
      "execution_count": null,
      "outputs": [
        {
          "output_type": "execute_result",
          "data": {
            "text/plain": [
              "306"
            ]
          },
          "metadata": {},
          "execution_count": 26
        }
      ]
    },
    {
      "cell_type": "markdown",
      "metadata": {
        "id": "N7kn5y0cGgUa"
      },
      "source": [
        "Vamos usar a função \"pad_sequences\" do Keras para ajustar o tamanho dos textos para 306. Além disso, é recomendável que passemos os índices para \"float\"."
      ]
    },
    {
      "cell_type": "code",
      "metadata": {
        "colab": {
          "base_uri": "https://localhost:8080/"
        },
        "id": "eEucvRdpGfOd",
        "outputId": "18741756-7179-43df-e819-d775eebcf25f"
      },
      "source": [
        "padded_docs = pad_sequences(encoded_textos, maxlen=len_maior, padding='post').astype('float32')\n",
        "\n",
        "len(padded_docs[0])"
      ],
      "execution_count": null,
      "outputs": [
        {
          "output_type": "execute_result",
          "data": {
            "text/plain": [
              "306"
            ]
          },
          "metadata": {},
          "execution_count": 27
        }
      ]
    },
    {
      "cell_type": "markdown",
      "metadata": {
        "id": "CSk6jJdyHOxZ"
      },
      "source": [
        "Nossos textos estão prontos para serem recebidos pela rede neural, contudo, ainda é necessário gerar a camada de embbeding da rede. Faremos isso na próxima seção."
      ]
    },
    {
      "cell_type": "markdown",
      "metadata": {
        "id": "1OBPiQ8FHe45"
      },
      "source": [
        "Também devemos tratar o nosso vetor de categorias. Por padrão, nossa target deve estar em formato matricial, com 1 na coluna representante da categoria do texto daquela linha e 0 nas demais.\n",
        "\n",
        "Vamos usar o objeto \"OneHotEncoder\" do ScikitLearn e passar a matriz para a forma densa (objeto retorna na forma de matriz esparça). "
      ]
    },
    {
      "cell_type": "code",
      "metadata": {
        "colab": {
          "base_uri": "https://localhost:8080/"
        },
        "id": "NT3xnkJzG3cr",
        "outputId": "c6a9be48-91c8-484b-aecf-fab64de2e6b7"
      },
      "source": [
        "encoder = OneHotEncoder(handle_unknown='ignore')\n",
        "label_onehot = encoder.fit_transform(labels.reshape((-1,1))).todense()\n",
        "\n",
        "label_onehot[:3]"
      ],
      "execution_count": null,
      "outputs": [
        {
          "output_type": "execute_result",
          "data": {
            "text/plain": [
              "matrix([[0., 0., 1.],\n",
              "        [1., 0., 0.],\n",
              "        [1., 0., 0.]])"
            ]
          },
          "metadata": {},
          "execution_count": 28
        }
      ]
    },
    {
      "cell_type": "markdown",
      "metadata": {
        "id": "XwODax6gJYJj"
      },
      "source": [
        "Agora, com nossos dados preparados, começaremos a cuidar da \"embbeding layer\". "
      ]
    },
    {
      "cell_type": "markdown",
      "metadata": {
        "id": "mF2KqXCSJp8r"
      },
      "source": [
        "## Preparando as embeddings"
      ]
    },
    {
      "cell_type": "markdown",
      "metadata": {
        "id": "65HTRJhl4fyR"
      },
      "source": [
        "Primeiramente, vamos importar o modelo Word2Vec treinado. Este modelo tem suas embbedings de tamanho 100 e foi treinado usando uma janela de tamanho 15 e \"epochs\" = 20. Vamos usar o objeto KeyedVectors do *Gensim* para carregar o model."
      ]
    },
    {
      "cell_type": "code",
      "metadata": {
        "id": "2lBSWXyyImRP"
      },
      "source": [
        "model = KeyedVectors.load(\"/content/W2V-D2V/w2v_d2v_dm_size_100_window_15_epochs_20\")"
      ],
      "execution_count": null,
      "outputs": []
    },
    {
      "cell_type": "markdown",
      "metadata": {
        "id": "oyEM3_ZQ5sBD"
      },
      "source": [
        "Com o modelo carregado, já podemos estruturar a matriz de pesos. Neste caso específico, todas as palavras do corpo de texto dos dados estão contidas no vocabulário do modelo Word2Vec, contudo, o leitor deve ter o cuidado de tratar os casos em que essa equivalência não aconteça."
      ]
    },
    {
      "cell_type": "markdown",
      "metadata": {
        "id": "--X1RePT68GN"
      },
      "source": [
        "Vamos estruturar um dicionário, no qual cada chave é uma palavra do corpo do vocabulário do modelo e cada valor representa sua embbeding."
      ]
    },
    {
      "cell_type": "code",
      "metadata": {
        "id": "Mipcv8F47jeo"
      },
      "source": [
        "wv_dict = dict(zip(model.wv.index2word[:], model.wv.vectors[:]))"
      ],
      "execution_count": null,
      "outputs": []
    },
    {
      "cell_type": "markdown",
      "metadata": {
        "id": "yCQs9j3c7mWv"
      },
      "source": [
        "Para acelerar o treino da rede, e diminuir o tamanho da matriz de pesos, podemos fazer um dicionário somente com as palavras do texto, pois geralmente, o vocabulário do modelo Word2Vec é muito mais extenso que o necessário. "
      ]
    },
    {
      "cell_type": "code",
      "metadata": {
        "id": "bv8iy2OF8SrV"
      },
      "source": [
        "wv_dict_updated = {}\n",
        "for palavra in t.index_word.values():\n",
        "  if palavra in wv_dict.keys():\n",
        "    wv_dict_updated[palavra] = wv_dict[palavra]"
      ],
      "execution_count": null,
      "outputs": []
    },
    {
      "cell_type": "markdown",
      "metadata": {
        "id": "10p1dF1F6n28"
      },
      "source": [
        "Por fim, podemos estruturar a matriz de pesos, colocando a palavra de i-ésimo índice na i-ésima linha da matriz."
      ]
    },
    {
      "cell_type": "code",
      "metadata": {
        "colab": {
          "base_uri": "https://localhost:8080/"
        },
        "id": "RnopJgYe8rEQ",
        "outputId": "4496ddc9-d5d5-426a-ad2b-0d2db28b303a"
      },
      "source": [
        "matriz_de_pesos = zeros((tamanho_vocab, 100))\n",
        "for palavra, i in t.word_index.items():\n",
        "  vetor_embed =  wv_dict_updated.get(palavra)\n",
        "  if vetor_embed is not None:\n",
        "    matriz_de_pesos[i] = vetor_embed\n",
        "\n",
        "matriz_de_pesos.shape"
      ],
      "execution_count": null,
      "outputs": [
        {
          "output_type": "execute_result",
          "data": {
            "text/plain": [
              "(2827, 100)"
            ]
          },
          "metadata": {},
          "execution_count": 32
        }
      ]
    },
    {
      "cell_type": "markdown",
      "metadata": {
        "id": "BLn_LSKJ9SPb"
      },
      "source": [
        "## Treinando o modelo"
      ]
    },
    {
      "cell_type": "markdown",
      "metadata": {
        "id": "9n7XjYRB9jSN"
      },
      "source": [
        "Com nossos dados codificados, e nossa matriz de pesos pronta, podemos começar a estruturar nossa Rede Neural. Nosso modelo será uma Rede Neural Convolucional, ou seja, aplicaremos uma camada de filtragem e em seguida uma camada de pooling, buscando ressaltar informações importantes das embbedings. \n",
        "\n",
        "Nossa rede terá a seguinte estrutura:\n",
        "1. A primeira camada de embbeding, que fara a codificação das palavras (representadas como índices) nos seus respectivos vetores.\n",
        "2. A segunda será uma camada convolucional, com 128 filtros no output, kernel de tamanho 5 e função de ativação 'ReLU'.\n",
        "3. A terceira camada será a MaxPooling de tamanho 2.\n",
        "4. Como o output da 3ª camada é um tensor, a quarta camada será uma camada de \"achatamento\".\n",
        "5. Por fim, a camada do output, de tamanho 3 e função de ativação *softmax*."
      ]
    },
    {
      "cell_type": "code",
      "metadata": {
        "id": "rlub9n_C9R3L"
      },
      "source": [
        "emb = Embedding(tamanho_vocab, 100, weights = [matriz_de_pesos], input_length=len_maior, trainable = False)\n",
        "\n",
        "rede = Sequential()\n",
        "\n",
        "rede.add(emb)\n",
        "rede.add(Conv1D(filters=128, kernel_size=5, activation='relu'))\n",
        "rede.add(MaxPooling1D(pool_size=2))\n",
        "rede.add(Flatten())\n",
        "rede.add(Dense(3, activation='softmax'))"
      ],
      "execution_count": null,
      "outputs": []
    },
    {
      "cell_type": "markdown",
      "metadata": {
        "id": "2-Sa_0gSAXIe"
      },
      "source": [
        "Para terminar a estrutura da rede, vamos usar a função perda como 'categorical_crossentropy', o caso categórico da entropia cruzda, para o otimizador ultilizaremos o 'adam' e a métrica de avaliação será a acurácia. Podemos ver a arquitetura utilizando o método \"*Sequential().summary()*\"."
      ]
    },
    {
      "cell_type": "code",
      "metadata": {
        "colab": {
          "base_uri": "https://localhost:8080/"
        },
        "id": "J6YSMgojBGcz",
        "outputId": "11f1b307-8965-4d98-9104-de5b826806cc"
      },
      "source": [
        "rede.compile(optimizer='adam', loss='categorical_crossentropy', metrics=['accuracy'])\n",
        "print(rede.summary())"
      ],
      "execution_count": null,
      "outputs": [
        {
          "output_type": "stream",
          "text": [
            "Model: \"sequential\"\n",
            "_________________________________________________________________\n",
            "Layer (type)                 Output Shape              Param #   \n",
            "=================================================================\n",
            "embedding (Embedding)        (None, 306, 100)          282700    \n",
            "_________________________________________________________________\n",
            "conv1d (Conv1D)              (None, 302, 128)          64128     \n",
            "_________________________________________________________________\n",
            "max_pooling1d (MaxPooling1D) (None, 151, 128)          0         \n",
            "_________________________________________________________________\n",
            "flatten (Flatten)            (None, 19328)             0         \n",
            "_________________________________________________________________\n",
            "dense (Dense)                (None, 3)                 57987     \n",
            "=================================================================\n",
            "Total params: 404,815\n",
            "Trainable params: 122,115\n",
            "Non-trainable params: 282,700\n",
            "_________________________________________________________________\n",
            "None\n"
          ],
          "name": "stdout"
        }
      ]
    },
    {
      "cell_type": "markdown",
      "metadata": {
        "id": "_bWrwUvwBOne"
      },
      "source": [
        "Vamos separar nossos dados em dados de treino e teste."
      ]
    },
    {
      "cell_type": "code",
      "metadata": {
        "id": "1Elh0HQwBOOw"
      },
      "source": [
        "n = 4500\n",
        "#X_treino, X_teste, Y_treino, Y_teste = padded_docs[:n], padded_docs[n:], label_onehot[:n], label_onehot[n:]\n",
        "X_treino, X_teste, Y_treino, Y_teste = train_test_split(padded_docs, label_onehot, random_state=42, train_size=0.7, test_size=0.3)"
      ],
      "execution_count": null,
      "outputs": []
    },
    {
      "cell_type": "markdown",
      "metadata": {
        "id": "n64Ib0kxBYZS"
      },
      "source": [
        "Por fim, podemos treinar o modelo e verificar nossos resultados. "
      ]
    },
    {
      "cell_type": "code",
      "metadata": {
        "colab": {
          "base_uri": "https://localhost:8080/"
        },
        "id": "7Qp3FHJoBIr_",
        "outputId": "dac2908f-7b30-4a22-eba2-12f15afe42c9"
      },
      "source": [
        "rede.fit(X_treino, Y_treino, epochs=50, validation_split=0.1, batch_size=500, verbose=1,  callbacks=[EarlyStopping(monitor='val_loss', patience=15)])"
      ],
      "execution_count": null,
      "outputs": [
        {
          "output_type": "stream",
          "text": [
            "Epoch 1/50\n",
            "9/9 [==============================] - 8s 781ms/step - loss: 0.9221 - accuracy: 0.6871 - val_loss: 0.9008 - val_accuracy: 0.7168\n",
            "Epoch 2/50\n",
            "9/9 [==============================] - 7s 755ms/step - loss: 0.6866 - accuracy: 0.7762 - val_loss: 0.5915 - val_accuracy: 0.7987\n",
            "Epoch 3/50\n",
            "9/9 [==============================] - 7s 747ms/step - loss: 0.5026 - accuracy: 0.8146 - val_loss: 0.5439 - val_accuracy: 0.8031\n",
            "Epoch 4/50\n",
            "9/9 [==============================] - 7s 745ms/step - loss: 0.4453 - accuracy: 0.8208 - val_loss: 0.5025 - val_accuracy: 0.8429\n",
            "Epoch 5/50\n",
            "9/9 [==============================] - 7s 751ms/step - loss: 0.4041 - accuracy: 0.8572 - val_loss: 0.4521 - val_accuracy: 0.8363\n",
            "Epoch 6/50\n",
            "9/9 [==============================] - 7s 749ms/step - loss: 0.3669 - accuracy: 0.8644 - val_loss: 0.4524 - val_accuracy: 0.8451\n",
            "Epoch 7/50\n",
            "9/9 [==============================] - 7s 751ms/step - loss: 0.3552 - accuracy: 0.8737 - val_loss: 0.4297 - val_accuracy: 0.8540\n",
            "Epoch 8/50\n",
            "9/9 [==============================] - 7s 753ms/step - loss: 0.3364 - accuracy: 0.8754 - val_loss: 0.4075 - val_accuracy: 0.8562\n",
            "Epoch 9/50\n",
            "9/9 [==============================] - 7s 756ms/step - loss: 0.3212 - accuracy: 0.8806 - val_loss: 0.4111 - val_accuracy: 0.8628\n",
            "Epoch 10/50\n",
            "9/9 [==============================] - 7s 756ms/step - loss: 0.3212 - accuracy: 0.8816 - val_loss: 0.4030 - val_accuracy: 0.8717\n",
            "Epoch 11/50\n",
            "9/9 [==============================] - 7s 750ms/step - loss: 0.3117 - accuracy: 0.8833 - val_loss: 0.4442 - val_accuracy: 0.8562\n",
            "Epoch 12/50\n",
            "9/9 [==============================] - 7s 754ms/step - loss: 0.3091 - accuracy: 0.8833 - val_loss: 0.4170 - val_accuracy: 0.8673\n",
            "Epoch 13/50\n",
            "9/9 [==============================] - 7s 756ms/step - loss: 0.2984 - accuracy: 0.8875 - val_loss: 0.4389 - val_accuracy: 0.8518\n",
            "Epoch 14/50\n",
            "9/9 [==============================] - 7s 769ms/step - loss: 0.2968 - accuracy: 0.8882 - val_loss: 0.4296 - val_accuracy: 0.8562\n",
            "Epoch 15/50\n",
            "9/9 [==============================] - 7s 753ms/step - loss: 0.3056 - accuracy: 0.8890 - val_loss: 0.4122 - val_accuracy: 0.8650\n",
            "Epoch 16/50\n",
            "9/9 [==============================] - 7s 758ms/step - loss: 0.3096 - accuracy: 0.8855 - val_loss: 0.4153 - val_accuracy: 0.8606\n",
            "Epoch 17/50\n",
            "9/9 [==============================] - 7s 753ms/step - loss: 0.2902 - accuracy: 0.8919 - val_loss: 0.4449 - val_accuracy: 0.8562\n",
            "Epoch 18/50\n",
            "9/9 [==============================] - 7s 756ms/step - loss: 0.3037 - accuracy: 0.8850 - val_loss: 0.4335 - val_accuracy: 0.8628\n",
            "Epoch 19/50\n",
            "9/9 [==============================] - 7s 756ms/step - loss: 0.2907 - accuracy: 0.8941 - val_loss: 0.4667 - val_accuracy: 0.8540\n",
            "Epoch 20/50\n",
            "9/9 [==============================] - 7s 754ms/step - loss: 0.2908 - accuracy: 0.8954 - val_loss: 0.4356 - val_accuracy: 0.8584\n",
            "Epoch 21/50\n",
            "9/9 [==============================] - 7s 749ms/step - loss: 0.2889 - accuracy: 0.8927 - val_loss: 0.4506 - val_accuracy: 0.8628\n",
            "Epoch 22/50\n",
            "9/9 [==============================] - 7s 756ms/step - loss: 0.2797 - accuracy: 0.8934 - val_loss: 0.4265 - val_accuracy: 0.8562\n",
            "Epoch 23/50\n",
            "9/9 [==============================] - 7s 755ms/step - loss: 0.2820 - accuracy: 0.8949 - val_loss: 0.4756 - val_accuracy: 0.8518\n",
            "Epoch 24/50\n",
            "9/9 [==============================] - 7s 752ms/step - loss: 0.2882 - accuracy: 0.8946 - val_loss: 0.4343 - val_accuracy: 0.8518\n",
            "Epoch 25/50\n",
            "9/9 [==============================] - 7s 755ms/step - loss: 0.2813 - accuracy: 0.8968 - val_loss: 0.4395 - val_accuracy: 0.8606\n"
          ],
          "name": "stdout"
        },
        {
          "output_type": "execute_result",
          "data": {
            "text/plain": [
              "<keras.callbacks.History at 0x7fb0fc6a69d0>"
            ]
          },
          "metadata": {},
          "execution_count": 36
        }
      ]
    },
    {
      "cell_type": "code",
      "metadata": {
        "colab": {
          "base_uri": "https://localhost:8080/"
        },
        "id": "Ek2GUT_nBiG7",
        "outputId": "6a98f9e6-abfe-4771-9c56-d3bf82c25077"
      },
      "source": [
        "loss, acc_treino = rede.evaluate(X_treino, Y_treino, verbose=0)\n",
        "loss2, acc_teste = rede.evaluate(X_teste, Y_teste, verbose=0)\n",
        "print(f'Acurácia no treino: {round(acc_treino*100, 2)}%')\n",
        "print(f'Acurácia no teste: {round(acc_teste*100, 2)}%')"
      ],
      "execution_count": null,
      "outputs": [
        {
          "output_type": "stream",
          "text": [
            "Acurácia no treino: 89.59%\n",
            "Acurácia no teste: 84.24%\n"
          ],
          "name": "stdout"
        }
      ]
    },
    {
      "cell_type": "code",
      "metadata": {
        "id": "T61i5sg5Da1g"
      },
      "source": [
        "predict = rede.predict(X_teste)"
      ],
      "execution_count": null,
      "outputs": []
    },
    {
      "cell_type": "code",
      "metadata": {
        "colab": {
          "base_uri": "https://localhost:8080/"
        },
        "id": "dFdq0E3w_Gp1",
        "outputId": "d7d4be80-b9f6-4ad8-9a23-1269e12a446c"
      },
      "source": [
        "predict1 = np.argmax(predict, axis=1)\n",
        "\n",
        "Y_teste1 = np.argmax(Y_teste, axis=1)\n",
        "np.array(Y_teste1.reshape(1,-1))[0]"
      ],
      "execution_count": null,
      "outputs": [
        {
          "output_type": "execute_result",
          "data": {
            "text/plain": [
              "array([0, 0, 0, ..., 2, 2, 2])"
            ]
          },
          "metadata": {},
          "execution_count": 39
        }
      ]
    },
    {
      "cell_type": "code",
      "metadata": {
        "colab": {
          "base_uri": "https://localhost:8080/"
        },
        "id": "v9U9RC7H8q6Q",
        "outputId": "01c5a657-1bce-46f3-d4ea-8443161f4516"
      },
      "source": [
        "print(classification_report(Y_teste1, predict1, labels=[0,1,2]))"
      ],
      "execution_count": null,
      "outputs": [
        {
          "output_type": "stream",
          "text": [
            "              precision    recall  f1-score   support\n",
            "\n",
            "           0       0.83      0.89      0.86       901\n",
            "           1       0.85      0.59      0.69       140\n",
            "           2       0.86      0.84      0.85       894\n",
            "\n",
            "    accuracy                           0.84      1935\n",
            "   macro avg       0.84      0.77      0.80      1935\n",
            "weighted avg       0.84      0.84      0.84      1935\n",
            "\n"
          ],
          "name": "stdout"
        }
      ]
    },
    {
      "cell_type": "code",
      "metadata": {
        "colab": {
          "base_uri": "https://localhost:8080/",
          "height": 265
        },
        "id": "fbKfb8S8EiMZ",
        "outputId": "0de70d12-8abc-434b-82b1-5a4bda7c0e5e"
      },
      "source": [
        "cm = confusion_matrix(Y_teste1, predict1)\n",
        "sns.heatmap(cm , fmt=\".3g\", annot= True, cmap=\"Greens\")\n",
        "\n",
        "plt.show()"
      ],
      "execution_count": null,
      "outputs": [
        {
          "output_type": "display_data",
          "data": {
            "image/png": "[encoded data removed]",
            "text/plain": [
              "<Figure size 432x288 with 2 Axes>"
            ]
          },
          "metadata": {
            "needs_background": "light"
          }
        }
      ]
    },
    {
      "cell_type": "markdown",
      "metadata": {
        "id": "NaFItkMbBhPF"
      },
      "source": [
        "Como a distância entre o score de treino e teste não é tão grande, e ambos performaram bem, podemos dizer que nosso modelo teve uma boa performance no geral. \n",
        "\n",
        "Uma analise mais aprofundada nos dados e na arquitetura da rede poderia levar a performances ainda melhores. Essas análises no entanto fogem do escopo deste tutorial, contudo, encorajamos o leitor a elaborar modelos que performem ainda melhor, e a realizar uma análise e engenharia de dados ainda mais aprofundada. \n",
        "\n",
        "Esperamos ter ajudado. \n",
        "\n",
        ":D"
      ]
    },
    {
      "cell_type": "markdown",
      "metadata": {
        "id": "S2wpqmotoR_w"
      },
      "source": [
        "#Referências"
      ]
    },
    {
      "cell_type": "markdown",
      "metadata": {
        "id": "53qIOjuTofIW"
      },
      "source": [
        "[1] Mikolov, T., Chen, K., Corrado, G., and Dean, J. (2013a).  Efficient estimation ofword representations in vector space.arXiv preprint arXiv:1301.3781. \\\\\n",
        "[2] Mikolov,  T.,  Sutskever,  I.,  Chen,  K.,  Corrado,  G. S.,  and Dean,  J. (2013b).   Distributed representations of words and phrases and their compositionality.  In Advances in neural information processing systems, pages 3111–3119. \\\\\n",
        "[3] Brownlee Jason(2017). https://machinelearningmastery.com/develop-word-embedding-model-predicting-movie-review-sentiment/ - acesso em: 04/08/2021.  \\\\\n",
        "[4] Brownlee Jason(2017). https://machinelearningmastery.com/best-practices-document-classification-deep-learning/ - acesso em: 04/08/2021.  \\\\\n",
        "[5] Brownlee Jason(2017). https://machinelearningmastery.com/use-word-embedding-layers-deep-learning-keras/ - acesso em: 04/08/2021. \\\\"
      ]
    }
  ]
}