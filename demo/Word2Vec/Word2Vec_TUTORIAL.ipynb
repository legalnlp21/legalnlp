{
  "nbformat": 4,
  "nbformat_minor": 0,
  "metadata": {
    "colab": {
      "name": "Word2Vec-TUTORIAL.ipynb",
      "provenance": [],
      "collapsed_sections": [],
      "include_colab_link": true
    },
    "kernelspec": {
      "name": "python3",
      "display_name": "Python 3"
    },
    "language_info": {
      "name": "python"
    }
  },
  "cells": [
    {
      "cell_type": "markdown",
      "metadata": {
        "id": "view-in-github",
        "colab_type": "text"
      },
      "source": [
        "<a href=\"https://colab.research.google.com/github/legalnlp21/legalnlp/blob/main/demo/Word2Vec/Word2Vec_TUTORIAL.ipynb\" target=\"_parent\"><img src=\"https://colab.research.google.com/assets/colab-badge.svg\" alt=\"Open In Colab\"/></a>"
      ]
    },
    {
      "cell_type": "markdown",
      "metadata": {
        "id": "CpedCl83iG7q"
      },
      "source": [
        "#Breve introdução teórica\n",
        "\n"
      ]
    },
    {
      "cell_type": "markdown",
      "metadata": {
        "id": "-qLWDcRwi27f"
      },
      "source": [
        "## Motivação\n",
        "\n",
        "A ideia principal dos métodos Word2Vec (W2V) é encontrar uma representação vetorial para palavras, tal representação elaborada a partir do contexto em que essas palavras aparecem. No caso deste pacote, os modelos são treinados com um corpo de texto extraído do meio jurídico.\n",
        "\n",
        "A representação de palavras em espaços vetoriais torna possível a análise de proximidade semântica, correlação e outras comparações quantitativas entre palavras.\n",
        "\n",
        "Os artigos originais sobre WordVec podem se encontrados em [[1]](https://arxiv.org/abs/1301.3781) e [[2]](https://papers.nips.cc/paper/2013/hash/9aa42b31882ec039965f3c4923ce901b-Abstract.html)."
      ]
    },
    {
      "cell_type": "markdown",
      "metadata": {
        "id": "wIJQ-K8KX1Mw"
      },
      "source": [
        "## A representação vetorial\n",
        "\n",
        "A partir do corpo de texto (o conjunto de todos os textos usados para treinar o modelo) será coletado um conjunto com as $n$ palavras distintas, formando o \"vocabulário\". Com isso podemos ter uma representação vetorial na forma conhecida como \"one-hot vector\", que consiste em um vetor de tamanho $n$ preenchido inteiramente com zeros, exceto na posição utilizada para diferenciar cada palavra do vocabulário, com o número um nessa posição. Contudo esse tipo de representação não fornece informação sobre o sentido da palavra no contexto sendo o ponto principal em análise de sentimento, por outro lado a representação vetoial do Word2Vec nos fornece esse tipo de informação.\n",
        "\n",
        "As representações vetoriais (as chamadas \"*word embbedings*\") geradas a partir do Word2Vec, podem ter uma dimensão arbitrária e carregam informações geradas a partir do contexto. O contexto é definido por um conjunto de palavras dentro de cada amostra, o tamanho desse conjunto é dado pela \"janela\", ou seja, o número de palavras ao redor da palavra principal.\n",
        "\n",
        "Em suma, os modelos W2V podem ser gerados de duas formas: o método \"*Skip-Gram*\" e o método \"*Continuous Bag of Words*\" (CBOW). Os modelos gerados a partir do método *Skip-Gram* consistem de *embbedings* que representam o espaço paramétrico de uma Rede Neural, que recebe como *input* a palavra $w_t$, ou seja, na posição $t$, e tem como *output* prever as palavras $w_{t-d}$, ..., $w_{t-2}$, $w_{t-1}$ e $w_{t+1}$, $w_{t+2}$, ..., $w_{t+d}$, onde $d$ é o tamanho da janela. Já os modelos gerados a partir do método CBOW fazem o processo inverso, usando o contexto de palavras dentro da janela para prever a palavra alvo $w_t$.\n",
        "\n"
      ]
    },
    {
      "cell_type": "markdown",
      "metadata": {
        "id": "VTPkmV0EfoUG"
      },
      "source": [
        "## Aplicações imediatas\n",
        "\n",
        "Sejam $v_1$ e $v_2$ vetores *one-hot vectors* é imediato que $<v_1, v_2> = 0$, ou seja, nesta representação, todos os vetores são ortogonais. Pouca informação pode se tirar disso, pois a reprsentação em *one-hot vector* não considera o contexto.\n",
        "\n",
        "Operações vetoriais como a soma e subtração entre vetores em Word2Vec operam como \"somas semânticas\", por exemplo, uma equação como $(rei - homem) + mulher \\approx rainha$ seria algo palpável, que dependeria do contexto que essas palavras são usadas no corpo de texto. \n",
        "\n",
        "Além disso, podemos agora ter uma visualização gráfica das palavras que leva em conta o contexto em que essas palavras geralmente são usadas no corpo de texto. Vamos dar um exemplo, utilizando *embbedings* de tamanho 100, e aplicando um PCA (*Principal Components Analysis*) para reduzir a dimensionalidade para 2, para visualizarmos as palavras em um gráfico bidimensional."
      ]
    },
    {
      "cell_type": "markdown",
      "metadata": {
        "id": "BSs4FL2Ij3ft"
      },
      "source": [
        "# Representando palavras utilizando Word2Vec"
      ]
    },
    {
      "cell_type": "code",
      "metadata": {
        "id": "hkXWUWt4vKty"
      },
      "source": [
        "random_seed=42\n",
        "\n",
        "import numpy as np\n",
        "import random\n",
        "\n",
        "np.random.seed(random_seed)\n",
        "random.seed(random_seed)"
      ],
      "execution_count": 1,
      "outputs": []
    },
    {
      "cell_type": "code",
      "metadata": {
        "id": "la2u-qlPiAMc"
      },
      "source": [
        "from IPython.display import clear_output\n",
        "\n",
        "!pip install gensim==3.8.1\n",
        "!pip install git+https://github.com/legalnlp21/legalnlp\n",
        "clear_output()"
      ],
      "execution_count": 2,
      "outputs": []
    },
    {
      "cell_type": "markdown",
      "metadata": {
        "id": "6nlf3nppplyI"
      },
      "source": [
        "Primeiro vamos chamar as bibliotecas necessárias. "
      ]
    },
    {
      "cell_type": "code",
      "metadata": {
        "id": "wH2FlVft-cAF"
      },
      "source": [
        "import numpy as np\n",
        "from sklearn.decomposition import PCA\n",
        "from sklearn.preprocessing import StandardScaler\n",
        "import matplotlib.pyplot as plt\n",
        "import matplotlib.patches as mpatches\n",
        "from gensim.models import KeyedVectors\n",
        "import pandas as pd\n",
        "from legalnlp.get_premodel import get_premodel"
      ],
      "execution_count": 3,
      "outputs": []
    },
    {
      "cell_type": "markdown",
      "metadata": {
        "id": "GXVkdKpppsNk"
      },
      "source": [
        "Utilizando a função \"get_premodel\" disponível no pacote *LegalNLP* podemos fazer o download do modelo pré-treinado W2V.\n"
      ]
    },
    {
      "cell_type": "code",
      "metadata": {
        "id": "aTXq-t86ciUW",
        "colab": {
          "base_uri": "https://localhost:8080/"
        },
        "outputId": "99463f7b-e97b-41ea-c4c8-5e9f4bf1699c"
      },
      "source": [
        "# Downloading pre-trained model\n",
        "get_premodel('wodc')"
      ],
      "execution_count": 4,
      "outputs": [
        {
          "output_type": "execute_result",
          "data": {
            "text/plain": [
              "True"
            ]
          },
          "metadata": {},
          "execution_count": 4
        }
      ]
    },
    {
      "cell_type": "code",
      "metadata": {
        "id": "G3pQZK34-lq4"
      },
      "source": [
        "model = KeyedVectors.load(\"/content/W2V_D2V/w2v_d2v_dm_size_100_window_15_epochs_20\")"
      ],
      "execution_count": 5,
      "outputs": []
    },
    {
      "cell_type": "markdown",
      "metadata": {
        "id": "jl1_IxF3p_l-"
      },
      "source": [
        "Podemos ver a seguir, como o modelo consegue agrupar palavras semelhantes."
      ]
    },
    {
      "cell_type": "code",
      "metadata": {
        "colab": {
          "base_uri": "https://localhost:8080/"
        },
        "id": "cYaEhVGwigBO",
        "outputId": "d08c9852-9e53-45d8-f0d5-370c60df4f50"
      },
      "source": [
        "model.wv.most_similar('jurisprudencia')"
      ],
      "execution_count": 6,
      "outputs": [
        {
          "output_type": "execute_result",
          "data": {
            "text/plain": [
              "[('jurisprudência_assente', 0.6141901016235352),\n",
              " ('iterativa_jurisprudência', 0.5145410895347595),\n",
              " ('jurisprudência_majoritária', 0.5138000249862671),\n",
              " ('jurisprudência', 0.5029575824737549),\n",
              " ('jurisprudência_pátria', 0.4976961016654968),\n",
              " ('notória_jurisprudência', 0.49725937843322754),\n",
              " ('jurisprudência_uníssona', 0.47410157322883606),\n",
              " ('dominante', 0.4658571481704712),\n",
              " ('vazada', 0.4633045792579651),\n",
              " ('jurisprudência_prevalecente', 0.45525240898132324)]"
            ]
          },
          "metadata": {},
          "execution_count": 6
        }
      ]
    },
    {
      "cell_type": "code",
      "metadata": {
        "colab": {
          "base_uri": "https://localhost:8080/"
        },
        "id": "RkLY2f06Bofd",
        "outputId": "ec2f04e4-7c68-4dcf-d1ea-eab67a94c5b0"
      },
      "source": [
        "model.wv.most_similar('pandemia')"
      ],
      "execution_count": 7,
      "outputs": [
        {
          "output_type": "execute_result",
          "data": {
            "text/plain": [
              "[('pandemia_mundial', 0.6916313767433167),\n",
              " ('pandemia_causada', 0.6867375373840332),\n",
              " ('epidemia', 0.6704655885696411),\n",
              " ('disseminação', 0.6358423233032227),\n",
              " ('pandemia_global', 0.5988448858261108),\n",
              " ('pandemia_provocada', 0.5955021381378174),\n",
              " ('quarentena', 0.595090389251709),\n",
              " ('surto', 0.588540256023407),\n",
              " ('crise', 0.5628268718719482),\n",
              " ('calamidade_pública', 0.541213870048523)]"
            ]
          },
          "metadata": {},
          "execution_count": 7
        }
      ]
    },
    {
      "cell_type": "markdown",
      "metadata": {
        "id": "fdLgR10wqJtb"
      },
      "source": [
        "Vamos definir uma função para vizualisar algumas clusters e verificar como elas se parecem geometricamente. Como a dimensão de cada embbeding é 100, teremos que utilizar um método de redução de dimensionalidade. Para isso, iremos utilizar o objeto PCA do SciKitLearn."
      ]
    },
    {
      "cell_type": "code",
      "metadata": {
        "id": "se8R7tAZGP66"
      },
      "source": [
        "def pca_plot(model, p_c, pca, file = None):\n",
        "    \n",
        "    transforma = lambda palavra: pca.transform(palavra)\n",
        "    \n",
        "    plt.figure(figsize=(13, 8)) \n",
        "    wd_clusters = p_c.keys()\n",
        "\n",
        "\n",
        "    for word in wd_clusters:\n",
        "      labels = []\n",
        "      tokens = []\n",
        "      emb = model.wv[word]\n",
        "      emb = (emb/np.sqrt(emb@emb)).tolist()\n",
        "      tokens.append(emb)\n",
        "      labels.append(word)\n",
        "      \n",
        "      k = 0\n",
        "      for similar in model.wv.most_similar(word):\n",
        "        k+=1\n",
        "        emb = model.wv[similar[0]]\n",
        "        emb = (emb/np.sqrt(emb@emb)).tolist()\n",
        "        tokens.append(emb)\n",
        "        labels.append(similar[0])\n",
        "        if k == 5: break\n",
        "        \n",
        "        \n",
        "      new_values = transforma(np.array(tokens))\n",
        "\n",
        "      x = []\n",
        "      y = []\n",
        "\n",
        "      for value, i in zip(new_values, [k for k in range(0, len(labels))]):\n",
        "        norma = 1#np.sqrt(value[0]**2 + value[1]**2)\n",
        "        x.append(value[0]/norma)\n",
        "        y.append(value[1]/norma)\n",
        "            \n",
        "      for i in range(len(x)):\n",
        "          plt.scatter(x[i],y[i], c = p_c[word], s=50)\n",
        "          plt.annotate(labels[i],\n",
        "                      xy=(x[i], y[i]),\n",
        "                      xytext=(5, 2),\n",
        "                      fontsize = 10,\n",
        "                      textcoords='offset points',\n",
        "                      ha='right',\n",
        "                      va='bottom')\n",
        "\n",
        "    ln = []\n",
        "    for i in range(len(p_c.items())):\n",
        "      ln.append(mpatches.Patch(color= list(p_c.values())[i], label= list(p_c.keys())[i])) \n",
        "\n",
        "    plt.xlabel('PC1 ('+str(round(pca.explained_variance_ratio_[0]*100,2))+'%)', size=12)\n",
        "    plt.ylabel('PC2 ('+str(round(pca.explained_variance_ratio_[1]*100,2))+'%)', size=12)\n",
        "    plt.legend(handles=ln)\n",
        "    if type(file) is not None:\n",
        "      plt.savefig(file, dpi = 800)\n",
        "    plt.show()"
      ],
      "execution_count": 8,
      "outputs": []
    },
    {
      "cell_type": "code",
      "metadata": {
        "colab": {
          "base_uri": "https://localhost:8080/"
        },
        "id": "Yq7MIrHbxrKY",
        "outputId": "f360b44e-b12e-49f4-d8fd-9736d212edd1"
      },
      "source": [
        "pca = PCA(n_components = 2)\n",
        "emb_norm = model.wv.vectors/(np.sqrt(np.sum(model.wv.vectors**2, axis = 1))).reshape((-1,1))\n",
        "pca.fit(emb_norm)"
      ],
      "execution_count": 9,
      "outputs": [
        {
          "output_type": "execute_result",
          "data": {
            "text/plain": [
              "PCA(copy=True, iterated_power='auto', n_components=2, random_state=None,\n",
              "    svd_solver='auto', tol=0.0, whiten=False)"
            ]
          },
          "metadata": {},
          "execution_count": 9
        }
      ]
    },
    {
      "cell_type": "code",
      "metadata": {
        "colab": {
          "base_uri": "https://localhost:8080/"
        },
        "id": "VV1G2cpnJOPE",
        "outputId": "061c611c-5126-4a60-c1de-d53cf83de2da"
      },
      "source": [
        "pca.explained_variance_ratio_"
      ],
      "execution_count": 10,
      "outputs": [
        {
          "output_type": "execute_result",
          "data": {
            "text/plain": [
              "array([0.04819769, 0.03529714])"
            ]
          },
          "metadata": {},
          "execution_count": 10
        }
      ]
    },
    {
      "cell_type": "markdown",
      "metadata": {
        "id": "E_MdBKKjqz1k"
      },
      "source": [
        "Agora, basta chamarmos a função, vamos testar com o grupo de palavras nas chaves do dicionário \"palavras\", cada uma mapeando a sigla da cor utilizada no gráfico."
      ]
    },
    {
      "cell_type": "code",
      "metadata": {
        "colab": {
          "base_uri": "https://localhost:8080/",
          "height": 500
        },
        "id": "QDKXad22Gdew",
        "outputId": "1285aec6-2ad4-42c7-c0de-6b08587980be"
      },
      "source": [
        "palavras = {'juiza':'r', 'leilão':'g', 'promotoria':'k', 'lei':'c', 'sao_paulo':'m', 'felipe':'b'}\n",
        "\n",
        "pca_plot(model, p_c = palavras, pca = pca, file = \"clusters_w2v\")\n"
      ],
      "execution_count": 11,
      "outputs": [
        {
          "output_type": "display_data",
          "data": {
            "image/png": "[encoded data removed]",
            "text/plain": [
              "<Figure size 936x576 with 1 Axes>"
            ]
          },
          "metadata": {
            "needs_background": "light"
          }
        }
      ]
    },
    {
      "cell_type": "markdown",
      "metadata": {
        "id": "43kUz1dZrEFB"
      },
      "source": [
        "Podemos ver que de fato, geometricamente, palavras mais próximas tem sentidos \"mais próximos\", encontramos *clusters* coerentes de *tokens* que se referem a nomes próprios, nomes de cidade e palavras com contextos relacionados entre si. Devemos lembrar que, após feita a redução de dimensionalidade, foi perdida uma alta porcentagem de explicação na variância nos dados, então alguns *clusters* que o usuário eventualmente venha a testar podem não ser tão coerentes em um espaço bidimensional. Contudo o efeito visual com apenas 8.35% de explicação já condiz com o que se esperava. "
      ]
    },
    {
      "cell_type": "markdown",
      "metadata": {
        "id": "OkzaEKDx7Agr"
      },
      "source": [
        "# Aplicando o Word2Vec em um dataset para classificação\n",
        "\n",
        "Nesse tutorial vamos demonstrar como utilizar *word-embeddings* geradas a partir do método Word2Vec, em cima de um corpo de texto, para classificação.\n",
        "\n",
        "O método Word2Vec utiliza o contexto das palavras nos textos para gerar as *embbedings*. Para isso, foi utilizado o pacote *gensim* (versão 3.8.1), que integra as ferramentas necessárias para gerar, salvar e carregar as embbedings.\n",
        "\n",
        "As ferramentas de limpeza de texto usadas foram criadas com o enfoque em textos do meio jurídico, mas podem ser usadas com outros textos igualmente. \n",
        "\n",
        "Para o funcionamento correto, recomendamos que o usuário tenha acesso aos seguintes módulos:\n",
        "* ScikitLearn\n",
        "* Keras\n",
        "* Gensim\n",
        "* String\n",
        "* Numpy\n",
        "* Pandas\n",
        "* Ftfy\n",
        "\n",
        "Neste tutorial, utilizamos um modelo de Redes Neurais Convolucionais para classificar processos legais em \"Ativo\", \"Suspenso\" e \"Arquivado\". O dataset esta disponível\n",
        "[nesta página](https://www.kaggle.com/felipepolo/brazilian-legal-proceedings)\n",
        "do Kaggle. \\\\\n",
        "Este turorial foi baseados nos seguintes artigos \n",
        "[[3]](https://machinelearningmastery.com/develop-word-embedding-model-predicting-movie-review-sentiment/), [[4]](https://machinelearningmastery.com/best-practices-document-classification-deep-learning/) e [[5]](https://machinelearningmastery.com/use-word-embedding-layers-deep-learning-keras/)"
      ]
    },
    {
      "cell_type": "code",
      "metadata": {
        "id": "gC2UjjbL80ee"
      },
      "source": [
        "from sklearn.metrics import accuracy_score, confusion_matrix, classification_report\n",
        "import seaborn as sns\n",
        "import matplotlib.pyplot as plt"
      ],
      "execution_count": 12,
      "outputs": []
    },
    {
      "cell_type": "markdown",
      "metadata": {
        "id": "y8_955rB-sU7"
      },
      "source": [
        "De início, vamos importar as bibliotecas e funções que serão usadas adiante. Devemos também instalar as bibliotecas que não estão disponíveis por padrão no Google Colab."
      ]
    },
    {
      "cell_type": "code",
      "metadata": {
        "id": "gGFJlWE7-sEO"
      },
      "source": [
        "from sklearn.preprocessing import OneHotEncoder\n",
        "from sklearn.model_selection import train_test_split\n",
        "from sklearn.preprocessing import LabelEncoder\n",
        "\n",
        "from keras.preprocessing.text import one_hot\n",
        "from keras.preprocessing.text import Tokenizer \n",
        "from keras.preprocessing.sequence import pad_sequences\n",
        "from keras.models import Sequential\n",
        "from keras.layers import Dense\n",
        "from keras.layers import Flatten\n",
        "from keras.layers.embeddings import Embedding\n",
        "from keras.layers.convolutional import Conv1D\n",
        "from keras.layers.convolutional import MaxPooling1D\n",
        "from keras.callbacks import EarlyStopping\n",
        "\n",
        "from string import punctuation\n",
        "\n",
        "from tqdm import tqdm\n",
        "\n",
        "from os import listdir\n",
        "\n",
        "from numpy import array\n",
        "from numpy import asarray\n",
        "from numpy import zeros\n",
        "\n",
        "from legalnlp.clean_functions import *\n",
        "\n",
        "clear_output()"
      ],
      "execution_count": 13,
      "outputs": []
    },
    {
      "cell_type": "markdown",
      "metadata": {
        "id": "CHOhgv8n7GjM"
      },
      "source": [
        "## Carregando os dados"
      ]
    },
    {
      "cell_type": "markdown",
      "metadata": {
        "id": "k4IIaMWG_xD5"
      },
      "source": [
        "Vamos carregar a base de dados, que esta em formato *csv*."
      ]
    },
    {
      "cell_type": "code",
      "metadata": {
        "colab": {
          "base_uri": "https://localhost:8080/",
          "height": 204
        },
        "id": "G9XaBkiF6LAe",
        "outputId": "a8b7be8f-9354-481b-e0f2-9061dc29478c"
      },
      "source": [
        "df=pd.read_csv('https://raw.githubusercontent.com/legalnlp21/legalnlp/main/demo/data_base.csv')\n",
        "df.drop(columns=['Unnamed: 0'],inplace=True)\n",
        "df.head()"
      ],
      "execution_count": 14,
      "outputs": [
        {
          "output_type": "execute_result",
          "data": {
            "text/html": [
              "<div>\n",
              "<style scoped>\n",
              "    .dataframe tbody tr th:only-of-type {\n",
              "        vertical-align: middle;\n",
              "    }\n",
              "\n",
              "    .dataframe tbody tr th {\n",
              "        vertical-align: top;\n",
              "    }\n",
              "\n",
              "    .dataframe thead th {\n",
              "        text-align: right;\n",
              "    }\n",
              "</style>\n",
              "<table border=\"1\" class=\"dataframe\">\n",
              "  <thead>\n",
              "    <tr style=\"text-align: right;\">\n",
              "      <th></th>\n",
              "      <th>text</th>\n",
              "      <th>label</th>\n",
              "    </tr>\n",
              "  </thead>\n",
              "  <tbody>\n",
              "    <tr>\n",
              "      <th>0</th>\n",
              "      <td>Início da Execução Juntado 0008003-11.2018.8.2...</td>\n",
              "      <td>H:Suspenso</td>\n",
              "    </tr>\n",
              "    <tr>\n",
              "      <th>1</th>\n",
              "      <td>Ofício Requisitório - Comunicação - Protocolo ...</td>\n",
              "      <td>H:Arquivado</td>\n",
              "    </tr>\n",
              "    <tr>\n",
              "      <th>2</th>\n",
              "      <td>Arquivado Provisoriamente aguardando manifestação</td>\n",
              "      <td>H:Suspenso</td>\n",
              "    </tr>\n",
              "    <tr>\n",
              "      <th>3</th>\n",
              "      <td>Petição Juntada Juntada a petição diversa - Ti...</td>\n",
              "      <td>H:Ativo</td>\n",
              "    </tr>\n",
              "    <tr>\n",
              "      <th>4</th>\n",
              "      <td>Remetidos os Autos para o Arquivo Geral – Devo...</td>\n",
              "      <td>H:Arquivado</td>\n",
              "    </tr>\n",
              "  </tbody>\n",
              "</table>\n",
              "</div>"
            ],
            "text/plain": [
              "                                                text        label\n",
              "0  Início da Execução Juntado 0008003-11.2018.8.2...   H:Suspenso\n",
              "1  Ofício Requisitório - Comunicação - Protocolo ...  H:Arquivado\n",
              "2  Arquivado Provisoriamente aguardando manifestação   H:Suspenso\n",
              "3  Petição Juntada Juntada a petição diversa - Ti...      H:Ativo\n",
              "4  Remetidos os Autos para o Arquivo Geral – Devo...  H:Arquivado"
            ]
          },
          "metadata": {},
          "execution_count": 14
        }
      ]
    },
    {
      "cell_type": "code",
      "metadata": {
        "colab": {
          "base_uri": "https://localhost:8080/"
        },
        "id": "05IL0rD1AtI7",
        "outputId": "6cedfea5-b175-430e-c126-3c90a3503825"
      },
      "source": [
        "df.shape"
      ],
      "execution_count": 15,
      "outputs": [
        {
          "output_type": "execute_result",
          "data": {
            "text/plain": [
              "(6449, 2)"
            ]
          },
          "metadata": {},
          "execution_count": 15
        }
      ]
    },
    {
      "cell_type": "markdown",
      "metadata": {
        "id": "WVnNlojSAso9"
      },
      "source": [
        "O dataset é composto por um conjunto de 6449 processos classificados nas 3 categorias:\n",
        "* Ativo\n",
        "* Suspenso\n",
        "* Arquivado"
      ]
    },
    {
      "cell_type": "markdown",
      "metadata": {
        "id": "k246rN0qCEK6"
      },
      "source": [
        "Agora faremos a separação das categorias da nossa target, numerando de 0 a 2."
      ]
    },
    {
      "cell_type": "code",
      "metadata": {
        "id": "xXZDf4ZECWpJ",
        "colab": {
          "base_uri": "https://localhost:8080/",
          "height": 419
        },
        "outputId": "bf96cc99-3d85-47a1-9f71-21f422405591"
      },
      "source": [
        "encoder = LabelEncoder()\n",
        "encoder.fit(df['label'])\n",
        "df['encoded'] = encoder.transform(df['label'])\n",
        "df.drop(columns=['label'], inplace = True)\n",
        "df"
      ],
      "execution_count": 16,
      "outputs": [
        {
          "output_type": "execute_result",
          "data": {
            "text/html": [
              "<div>\n",
              "<style scoped>\n",
              "    .dataframe tbody tr th:only-of-type {\n",
              "        vertical-align: middle;\n",
              "    }\n",
              "\n",
              "    .dataframe tbody tr th {\n",
              "        vertical-align: top;\n",
              "    }\n",
              "\n",
              "    .dataframe thead th {\n",
              "        text-align: right;\n",
              "    }\n",
              "</style>\n",
              "<table border=\"1\" class=\"dataframe\">\n",
              "  <thead>\n",
              "    <tr style=\"text-align: right;\">\n",
              "      <th></th>\n",
              "      <th>text</th>\n",
              "      <th>encoded</th>\n",
              "    </tr>\n",
              "  </thead>\n",
              "  <tbody>\n",
              "    <tr>\n",
              "      <th>0</th>\n",
              "      <td>Início da Execução Juntado 0008003-11.2018.8.2...</td>\n",
              "      <td>2</td>\n",
              "    </tr>\n",
              "    <tr>\n",
              "      <th>1</th>\n",
              "      <td>Ofício Requisitório - Comunicação - Protocolo ...</td>\n",
              "      <td>0</td>\n",
              "    </tr>\n",
              "    <tr>\n",
              "      <th>2</th>\n",
              "      <td>Arquivado Provisoriamente aguardando manifestação</td>\n",
              "      <td>2</td>\n",
              "    </tr>\n",
              "    <tr>\n",
              "      <th>3</th>\n",
              "      <td>Petição Juntada Juntada a petição diversa - Ti...</td>\n",
              "      <td>1</td>\n",
              "    </tr>\n",
              "    <tr>\n",
              "      <th>4</th>\n",
              "      <td>Remetidos os Autos para o Arquivo Geral – Devo...</td>\n",
              "      <td>0</td>\n",
              "    </tr>\n",
              "    <tr>\n",
              "      <th>...</th>\n",
              "      <td>...</td>\n",
              "      <td>...</td>\n",
              "    </tr>\n",
              "    <tr>\n",
              "      <th>6444</th>\n",
              "      <td>Remetidos os Autos para o Arquivo Geral – Devo...</td>\n",
              "      <td>2</td>\n",
              "    </tr>\n",
              "    <tr>\n",
              "      <th>6445</th>\n",
              "      <td>Certidão de Trânsito em Julgado com Baixa Expe...</td>\n",
              "      <td>0</td>\n",
              "    </tr>\n",
              "    <tr>\n",
              "      <th>6446</th>\n",
              "      <td>Petição Juntada Nº Protocolo: WSCB.19.70085805...</td>\n",
              "      <td>1</td>\n",
              "    </tr>\n",
              "    <tr>\n",
              "      <th>6447</th>\n",
              "      <td>Remetidos os Autos para o Tribunal de Justiça/...</td>\n",
              "      <td>1</td>\n",
              "    </tr>\n",
              "    <tr>\n",
              "      <th>6448</th>\n",
              "      <td>Arquivado Definitivamente</td>\n",
              "      <td>0</td>\n",
              "    </tr>\n",
              "  </tbody>\n",
              "</table>\n",
              "<p>6449 rows × 2 columns</p>\n",
              "</div>"
            ],
            "text/plain": [
              "                                                   text  encoded\n",
              "0     Início da Execução Juntado 0008003-11.2018.8.2...        2\n",
              "1     Ofício Requisitório - Comunicação - Protocolo ...        0\n",
              "2     Arquivado Provisoriamente aguardando manifestação        2\n",
              "3     Petição Juntada Juntada a petição diversa - Ti...        1\n",
              "4     Remetidos os Autos para o Arquivo Geral – Devo...        0\n",
              "...                                                 ...      ...\n",
              "6444  Remetidos os Autos para o Arquivo Geral – Devo...        2\n",
              "6445  Certidão de Trânsito em Julgado com Baixa Expe...        0\n",
              "6446  Petição Juntada Nº Protocolo: WSCB.19.70085805...        1\n",
              "6447  Remetidos os Autos para o Tribunal de Justiça/...        1\n",
              "6448                          Arquivado Definitivamente        0\n",
              "\n",
              "[6449 rows x 2 columns]"
            ]
          },
          "metadata": {},
          "execution_count": 16
        }
      ]
    },
    {
      "cell_type": "code",
      "metadata": {
        "colab": {
          "base_uri": "https://localhost:8080/"
        },
        "id": "Q60fpei5Q1o9",
        "outputId": "bacc9734-3171-4c93-e796-a22c0fbf3923"
      },
      "source": [
        "X_textos = df['text'].apply(clean)\n",
        "X_textos.head(5)"
      ],
      "execution_count": 17,
      "outputs": [
        {
          "output_type": "execute_result",
          "data": {
            "text/plain": [
              "0    início da execução juntado [processo] - - cump...\n",
              "1    ofício requisitório - - comunicação - - protoc...\n",
              "2    arquivado provisoriamente aguardando manifestação\n",
              "3    petição juntada juntada a petição diversa - - ...\n",
              "4    remetidos os autos para o arquivo geral – devo...\n",
              "Name: text, dtype: object"
            ]
          },
          "metadata": {},
          "execution_count": 17
        }
      ]
    },
    {
      "cell_type": "code",
      "metadata": {
        "colab": {
          "base_uri": "https://localhost:8080/"
        },
        "id": "fAIHkrlbCdZ0",
        "outputId": "68085bb1-a861-4760-c83e-f5f336ba65bc"
      },
      "source": [
        "labels = np.array(df['encoded'])\n",
        "labels[:5]"
      ],
      "execution_count": 18,
      "outputs": [
        {
          "output_type": "execute_result",
          "data": {
            "text/plain": [
              "array([2, 0, 2, 1, 0])"
            ]
          },
          "metadata": {},
          "execution_count": 18
        }
      ]
    },
    {
      "cell_type": "markdown",
      "metadata": {
        "id": "jVib4BEqAiBI"
      },
      "source": [
        "Com isso feito, podemos tratar nossos dados para que a rede possa interpreta-los e trabalhar de forma adequada."
      ]
    },
    {
      "cell_type": "markdown",
      "metadata": {
        "id": "aS8Hn-G6C23H"
      },
      "source": [
        "## Preparando os dados"
      ]
    },
    {
      "cell_type": "markdown",
      "metadata": {
        "id": "VqsU1Ci4C7Ck"
      },
      "source": [
        "O dataset que estamos usando não precisou de muito tratamento. Para as próprias aplicações, o leitor deve verificar com cautela as peculiaridades dos dados, antes de realizar a \"tokenização\"."
      ]
    },
    {
      "cell_type": "markdown",
      "metadata": {
        "id": "tJpdcmyzDVLQ"
      },
      "source": [
        "Com nossos textos tratados, vamos começar a prepará-los para serem recebidos pela rede neural. A estrutura basica da rede neural para NLP (*Natural Language Processing*) deve iniciar com uma camada chamada de \"embedding layer\". Essa camada é a responsável por traduzir as palavras para vetores. Ela fara isso a partir de uma matriz de pesos, onde cada i-ésima linha contém o vetor referente a i-ésima palavra.\n",
        "\n",
        "Portanto, devemos indexar cada *token* a um número natural, e representar nossos textos como vetores de indexação, ou seja, vetores com os números inteiros referentes a cada palavra. Para isso vamos tokenizar nosso corpo de texto utilizando o objeto *Tokenizer* do Keras. "
      ]
    },
    {
      "cell_type": "code",
      "metadata": {
        "id": "CbuxARSWEyH0",
        "colab": {
          "base_uri": "https://localhost:8080/"
        },
        "outputId": "a8993fc0-1e27-4214-a481-33f53b26bc9d"
      },
      "source": [
        "t = Tokenizer()\n",
        "t.fit_on_texts(X_textos)\n",
        "tamanho_vocab = len(t.word_index) + 1\n",
        "encoded_textos = array(t.texts_to_sequences(X_textos))"
      ],
      "execution_count": 19,
      "outputs": [
        {
          "output_type": "stream",
          "name": "stderr",
          "text": [
            "/usr/local/lib/python3.7/dist-packages/ipykernel_launcher.py:4: VisibleDeprecationWarning: Creating an ndarray from ragged nested sequences (which is a list-or-tuple of lists-or-tuples-or ndarrays with different lengths or shapes) is deprecated. If you meant to do this, you must specify 'dtype=object' when creating the ndarray\n",
            "  after removing the cwd from sys.path.\n"
          ]
        }
      ]
    },
    {
      "cell_type": "code",
      "metadata": {
        "colab": {
          "base_uri": "https://localhost:8080/"
        },
        "id": "15II9RMjFK37",
        "outputId": "fb5a444b-1e46-453b-813f-df77a099bad9"
      },
      "source": [
        "t.index_word[122], t.index_word[5], t.index_word[69], t.index_word[59], t.index_word[34], t.index_word[76], \"...\""
      ],
      "execution_count": 20,
      "outputs": [
        {
          "output_type": "execute_result",
          "data": {
            "text/plain": [
              "('início', 'da', 'execução', 'juntado', 'processo', 'cumprimento', '...')"
            ]
          },
          "metadata": {},
          "execution_count": 20
        }
      ]
    },
    {
      "cell_type": "code",
      "metadata": {
        "colab": {
          "base_uri": "https://localhost:8080/"
        },
        "id": "_AhStGQzFoqr",
        "outputId": "e47c73a9-2585-4104-9e97-e67c04b41cf0"
      },
      "source": [
        "print(encoded_textos[0])"
      ],
      "execution_count": 21,
      "outputs": [
        {
          "output_type": "stream",
          "name": "stdout",
          "text": [
            "[122, 5, 69, 59, 34, 76, 2, 56]\n"
          ]
        }
      ]
    },
    {
      "cell_type": "markdown",
      "metadata": {
        "id": "sLM1bSciFz4q"
      },
      "source": [
        "Cada vetor agora representa um texto, contúdo, cada um pode ter tamanhos distintos. Devemos padroniza-los, aplicando *zero-padding.*"
      ]
    },
    {
      "cell_type": "code",
      "metadata": {
        "colab": {
          "base_uri": "https://localhost:8080/"
        },
        "id": "_FHf-ZaBFRd_",
        "outputId": "b975a78a-9efc-41b8-f617-4319c3125d5d"
      },
      "source": [
        "len_maior = 0\n",
        "for lista in encoded_textos:\n",
        "  if len(lista) > len_maior: len_maior = len(lista)\n",
        "\n",
        "len_maior"
      ],
      "execution_count": 22,
      "outputs": [
        {
          "output_type": "execute_result",
          "data": {
            "text/plain": [
              "306"
            ]
          },
          "metadata": {},
          "execution_count": 22
        }
      ]
    },
    {
      "cell_type": "markdown",
      "metadata": {
        "id": "N7kn5y0cGgUa"
      },
      "source": [
        "Vamos usar a função \"pad_sequences\" do Keras para ajustar o tamanho dos textos para 306. Além disso, é recomendável que passemos os índices para \"float\"."
      ]
    },
    {
      "cell_type": "code",
      "metadata": {
        "colab": {
          "base_uri": "https://localhost:8080/"
        },
        "id": "eEucvRdpGfOd",
        "outputId": "aa6f8033-8839-4da7-d299-d5212bb2a534"
      },
      "source": [
        "padded_docs = pad_sequences(encoded_textos, maxlen=len_maior, padding='post').astype('float32')\n",
        "\n",
        "len(padded_docs[0])"
      ],
      "execution_count": 23,
      "outputs": [
        {
          "output_type": "execute_result",
          "data": {
            "text/plain": [
              "306"
            ]
          },
          "metadata": {},
          "execution_count": 23
        }
      ]
    },
    {
      "cell_type": "markdown",
      "metadata": {
        "id": "CSk6jJdyHOxZ"
      },
      "source": [
        "Nossos textos estão prontos para serem recebidos pela rede neural, contudo, ainda é necessário gerar a camada de *embbeding* da rede. Faremos isso na próxima seção."
      ]
    },
    {
      "cell_type": "markdown",
      "metadata": {
        "id": "1OBPiQ8FHe45"
      },
      "source": [
        "Também devemos tratar o nosso vetor de categorias. Por padrão, nossa target deve estar em formato matricial, com 1 na coluna representante da categoria do texto daquela linha e 0 nas demais.\n",
        "\n",
        "Vamos usar o objeto \"OneHotEncoder\" do ScikitLearn e passar a matriz para a forma densa (objeto retorna na forma de matriz esparça). "
      ]
    },
    {
      "cell_type": "code",
      "metadata": {
        "colab": {
          "base_uri": "https://localhost:8080/"
        },
        "id": "NT3xnkJzG3cr",
        "outputId": "4309cbbf-db52-470c-c304-8f126f6b761d"
      },
      "source": [
        "encoder = OneHotEncoder(handle_unknown='ignore')\n",
        "label_onehot = encoder.fit_transform(labels.reshape((-1,1))).todense()\n",
        "\n",
        "label_onehot[:3]"
      ],
      "execution_count": 24,
      "outputs": [
        {
          "output_type": "execute_result",
          "data": {
            "text/plain": [
              "matrix([[0., 0., 1.],\n",
              "        [1., 0., 0.],\n",
              "        [0., 0., 1.]])"
            ]
          },
          "metadata": {},
          "execution_count": 24
        }
      ]
    },
    {
      "cell_type": "markdown",
      "metadata": {
        "id": "XwODax6gJYJj"
      },
      "source": [
        "Agora, com nossos dados preparados, começaremos a cuidar da \"embbeding layer\". "
      ]
    },
    {
      "cell_type": "markdown",
      "metadata": {
        "id": "mF2KqXCSJp8r"
      },
      "source": [
        "## Preparando as embeddings"
      ]
    },
    {
      "cell_type": "markdown",
      "metadata": {
        "id": "oyEM3_ZQ5sBD"
      },
      "source": [
        "Com o modelo carregado, já podemos estruturar a matriz de pesos. Neste caso específico, todas as palavras do corpo de texto dos dados estão contidas no vocabulário do modelo Word2Vec, contudo, o leitor deve ter o cuidado de tratar os casos em que essa equivalência não aconteça."
      ]
    },
    {
      "cell_type": "markdown",
      "metadata": {
        "id": "--X1RePT68GN"
      },
      "source": [
        "Vamos estruturar um dicionário, no qual cada chave é uma palavra do corpo do vocabulário do modelo e cada valor representa sua embbeding."
      ]
    },
    {
      "cell_type": "code",
      "metadata": {
        "id": "Mipcv8F47jeo"
      },
      "source": [
        "wv_dict = dict(zip(model.wv.index2word[:], model.wv.vectors[:]))"
      ],
      "execution_count": 25,
      "outputs": []
    },
    {
      "cell_type": "markdown",
      "metadata": {
        "id": "yCQs9j3c7mWv"
      },
      "source": [
        "Para acelerar o treino da rede, e diminuir o tamanho da matriz de pesos, podemos fazer um dicionário somente com as palavras do *corpus*, pois geralmente, o vocabulário do modelo *pre-trained Word2Vec* é muito mais extenso que o necessário. "
      ]
    },
    {
      "cell_type": "code",
      "metadata": {
        "id": "bv8iy2OF8SrV"
      },
      "source": [
        "wv_dict_updated = {}\n",
        "for palavra in t.index_word.values():\n",
        "  if palavra in wv_dict.keys():\n",
        "    wv_dict_updated[palavra] = wv_dict[palavra]"
      ],
      "execution_count": 26,
      "outputs": []
    },
    {
      "cell_type": "markdown",
      "metadata": {
        "id": "10p1dF1F6n28"
      },
      "source": [
        "Por fim, podemos estruturar a matriz de pesos, colocando a palavra de i-ésimo índice na i-ésima linha da matriz."
      ]
    },
    {
      "cell_type": "code",
      "metadata": {
        "colab": {
          "base_uri": "https://localhost:8080/"
        },
        "id": "RnopJgYe8rEQ",
        "outputId": "5d5728bc-731f-4ef1-bf17-15979737425a"
      },
      "source": [
        "matriz_de_pesos = zeros((tamanho_vocab, 100))\n",
        "for palavra, i in t.word_index.items():\n",
        "  vetor_embed =  wv_dict_updated.get(palavra)\n",
        "  if vetor_embed is not None:\n",
        "    matriz_de_pesos[i] = vetor_embed\n",
        "\n",
        "matriz_de_pesos.shape"
      ],
      "execution_count": 27,
      "outputs": [
        {
          "output_type": "execute_result",
          "data": {
            "text/plain": [
              "(2827, 100)"
            ]
          },
          "metadata": {},
          "execution_count": 27
        }
      ]
    },
    {
      "cell_type": "markdown",
      "metadata": {
        "id": "BLn_LSKJ9SPb"
      },
      "source": [
        "## Treinando o modelo"
      ]
    },
    {
      "cell_type": "markdown",
      "metadata": {
        "id": "9n7XjYRB9jSN"
      },
      "source": [
        "Com nossos dados codificados, e nossa matriz de pesos pronta, podemos começar a estruturar nossa Rede Neural. Nosso modelo será uma Rede Neural Convolucional, ou seja, aplicaremos uma camada de filtragem e em seguida uma camada de *pooling*, buscando ressaltar informações importantes das *embbedings*. \n",
        "\n",
        "Nossa rede terá a seguinte estrutura:\n",
        "1. A primeira camada de *embbeding*, que fara a codificação das palavras (representadas como índices) nos seus respectivos vetores.\n",
        "2. A segunda será uma camada convolucional, com 128 filtros no output, *kernel* de tamanho 5 e função de ativação 'ReLU'.\n",
        "3. A terceira camada será a *MaxPooling* de tamanho 2.\n",
        "4. Como o output da 3ª camada é um tensor, a quarta camada será uma camada de \"achatamento\".\n",
        "5. Por fim, a camada do output, de tamanho 3 e função de ativação *softmax*."
      ]
    },
    {
      "cell_type": "code",
      "metadata": {
        "id": "rlub9n_C9R3L"
      },
      "source": [
        "emb = Embedding(tamanho_vocab, 100, weights = [matriz_de_pesos], input_length=len_maior, trainable = False)\n",
        "\n",
        "rede = Sequential()\n",
        "\n",
        "rede.add(emb)\n",
        "rede.add(Conv1D(filters=32, kernel_size=3, activation='relu'))\n",
        "rede.add(MaxPooling1D(pool_size=2))\n",
        "rede.add(Flatten())\n",
        "rede.add(Dense(3, activation='softmax'))"
      ],
      "execution_count": 28,
      "outputs": []
    },
    {
      "cell_type": "markdown",
      "metadata": {
        "id": "2-Sa_0gSAXIe"
      },
      "source": [
        "Para terminar a estrutura da rede, vamos usar a função perda como 'categorical_crossentropy', o caso categórico da entropia cruzada, para o otimizador ultilizaremos o 'adam' e a métrica de avaliação será a acurácia. Podemos ver a arquitetura utilizando o método \"*Sequential().summary()*\"."
      ]
    },
    {
      "cell_type": "code",
      "metadata": {
        "colab": {
          "base_uri": "https://localhost:8080/"
        },
        "id": "J6YSMgojBGcz",
        "outputId": "35e4d1a6-8c40-410b-b439-0a2dc384b91a"
      },
      "source": [
        "rede.compile(optimizer='adam', loss='categorical_crossentropy', metrics=['accuracy'])\n",
        "print(rede.summary())"
      ],
      "execution_count": 29,
      "outputs": [
        {
          "output_type": "stream",
          "name": "stdout",
          "text": [
            "Model: \"sequential\"\n",
            "_________________________________________________________________\n",
            "Layer (type)                 Output Shape              Param #   \n",
            "=================================================================\n",
            "embedding (Embedding)        (None, 306, 100)          282700    \n",
            "_________________________________________________________________\n",
            "conv1d (Conv1D)              (None, 304, 32)           9632      \n",
            "_________________________________________________________________\n",
            "max_pooling1d (MaxPooling1D) (None, 152, 32)           0         \n",
            "_________________________________________________________________\n",
            "flatten (Flatten)            (None, 4864)              0         \n",
            "_________________________________________________________________\n",
            "dense (Dense)                (None, 3)                 14595     \n",
            "=================================================================\n",
            "Total params: 306,927\n",
            "Trainable params: 24,227\n",
            "Non-trainable params: 282,700\n",
            "_________________________________________________________________\n",
            "None\n"
          ]
        }
      ]
    },
    {
      "cell_type": "markdown",
      "metadata": {
        "id": "_bWrwUvwBOne"
      },
      "source": [
        "Vamos separar nossos dados em dados de treino e teste."
      ]
    },
    {
      "cell_type": "code",
      "metadata": {
        "id": "1Elh0HQwBOOw"
      },
      "source": [
        "X_treino, X_teste, y_treino, y_teste = train_test_split(padded_docs, label_onehot, random_state=random_seed, train_size=0.7, test_size=0.3)"
      ],
      "execution_count": 30,
      "outputs": []
    },
    {
      "cell_type": "markdown",
      "metadata": {
        "id": "n64Ib0kxBYZS"
      },
      "source": [
        "Por fim, podemos treinar o modelo e verificar nossos resultados. "
      ]
    },
    {
      "cell_type": "code",
      "metadata": {
        "colab": {
          "base_uri": "https://localhost:8080/"
        },
        "id": "7Qp3FHJoBIr_",
        "outputId": "7f1fa934-c6e7-4286-bf6d-3c22b54ac2e1"
      },
      "source": [
        "rede.fit(X_treino, y_treino, epochs=50, validation_split=0.1, batch_size=500, verbose=1,  callbacks=[EarlyStopping(monitor='val_loss', patience=15)])"
      ],
      "execution_count": 31,
      "outputs": [
        {
          "output_type": "stream",
          "name": "stdout",
          "text": [
            "Epoch 1/50\n",
            "9/9 [==============================] - 3s 306ms/step - loss: 0.9390 - accuracy: 0.6216 - val_loss: 0.7937 - val_accuracy: 0.7412\n",
            "Epoch 2/50\n",
            "9/9 [==============================] - 3s 281ms/step - loss: 0.7230 - accuracy: 0.7501 - val_loss: 0.6332 - val_accuracy: 0.7810\n",
            "Epoch 3/50\n",
            "9/9 [==============================] - 3s 282ms/step - loss: 0.6163 - accuracy: 0.7720 - val_loss: 0.5736 - val_accuracy: 0.7965\n",
            "Epoch 4/50\n",
            "9/9 [==============================] - 3s 285ms/step - loss: 0.5532 - accuracy: 0.7930 - val_loss: 0.5828 - val_accuracy: 0.7898\n",
            "Epoch 5/50\n",
            "9/9 [==============================] - 3s 279ms/step - loss: 0.5216 - accuracy: 0.8031 - val_loss: 0.5551 - val_accuracy: 0.8119\n",
            "Epoch 6/50\n",
            "9/9 [==============================] - 3s 278ms/step - loss: 0.4904 - accuracy: 0.8149 - val_loss: 0.5376 - val_accuracy: 0.8186\n",
            "Epoch 7/50\n",
            "9/9 [==============================] - 3s 277ms/step - loss: 0.4660 - accuracy: 0.8151 - val_loss: 0.5226 - val_accuracy: 0.8186\n",
            "Epoch 8/50\n",
            "9/9 [==============================] - 3s 281ms/step - loss: 0.4457 - accuracy: 0.8181 - val_loss: 0.5044 - val_accuracy: 0.8186\n",
            "Epoch 9/50\n",
            "9/9 [==============================] - 3s 277ms/step - loss: 0.4263 - accuracy: 0.8240 - val_loss: 0.4880 - val_accuracy: 0.8208\n",
            "Epoch 10/50\n",
            "9/9 [==============================] - 3s 276ms/step - loss: 0.4157 - accuracy: 0.8287 - val_loss: 0.4790 - val_accuracy: 0.8407\n",
            "Epoch 11/50\n",
            "9/9 [==============================] - 3s 281ms/step - loss: 0.3965 - accuracy: 0.8523 - val_loss: 0.4771 - val_accuracy: 0.8451\n",
            "Epoch 12/50\n",
            "9/9 [==============================] - 3s 278ms/step - loss: 0.3813 - accuracy: 0.8609 - val_loss: 0.4711 - val_accuracy: 0.8473\n",
            "Epoch 13/50\n",
            "9/9 [==============================] - 3s 282ms/step - loss: 0.3683 - accuracy: 0.8663 - val_loss: 0.4642 - val_accuracy: 0.8451\n",
            "Epoch 14/50\n",
            "9/9 [==============================] - 3s 280ms/step - loss: 0.3618 - accuracy: 0.8685 - val_loss: 0.4667 - val_accuracy: 0.8407\n",
            "Epoch 15/50\n",
            "9/9 [==============================] - 3s 279ms/step - loss: 0.3514 - accuracy: 0.8673 - val_loss: 0.4574 - val_accuracy: 0.8496\n",
            "Epoch 16/50\n",
            "9/9 [==============================] - 3s 281ms/step - loss: 0.3422 - accuracy: 0.8717 - val_loss: 0.4499 - val_accuracy: 0.8518\n",
            "Epoch 17/50\n",
            "9/9 [==============================] - 3s 279ms/step - loss: 0.3390 - accuracy: 0.8737 - val_loss: 0.4529 - val_accuracy: 0.8473\n",
            "Epoch 18/50\n",
            "9/9 [==============================] - 3s 281ms/step - loss: 0.3353 - accuracy: 0.8754 - val_loss: 0.4429 - val_accuracy: 0.8518\n",
            "Epoch 19/50\n",
            "9/9 [==============================] - 3s 277ms/step - loss: 0.3296 - accuracy: 0.8752 - val_loss: 0.4399 - val_accuracy: 0.8451\n",
            "Epoch 20/50\n",
            "9/9 [==============================] - 3s 280ms/step - loss: 0.3234 - accuracy: 0.8794 - val_loss: 0.4465 - val_accuracy: 0.8518\n",
            "Epoch 21/50\n",
            "9/9 [==============================] - 3s 281ms/step - loss: 0.3266 - accuracy: 0.8796 - val_loss: 0.4446 - val_accuracy: 0.8496\n",
            "Epoch 22/50\n",
            "9/9 [==============================] - 3s 278ms/step - loss: 0.3254 - accuracy: 0.8781 - val_loss: 0.4336 - val_accuracy: 0.8540\n",
            "Epoch 23/50\n",
            "9/9 [==============================] - 3s 277ms/step - loss: 0.3210 - accuracy: 0.8818 - val_loss: 0.4258 - val_accuracy: 0.8496\n",
            "Epoch 24/50\n",
            "9/9 [==============================] - 2s 275ms/step - loss: 0.3187 - accuracy: 0.8786 - val_loss: 0.4401 - val_accuracy: 0.8451\n",
            "Epoch 25/50\n",
            "9/9 [==============================] - 2s 275ms/step - loss: 0.3185 - accuracy: 0.8799 - val_loss: 0.4325 - val_accuracy: 0.8518\n",
            "Epoch 26/50\n",
            "9/9 [==============================] - 2s 274ms/step - loss: 0.3122 - accuracy: 0.8823 - val_loss: 0.4448 - val_accuracy: 0.7987\n",
            "Epoch 27/50\n",
            "9/9 [==============================] - 3s 279ms/step - loss: 0.3228 - accuracy: 0.8685 - val_loss: 0.4352 - val_accuracy: 0.8606\n",
            "Epoch 28/50\n",
            "9/9 [==============================] - 3s 283ms/step - loss: 0.3047 - accuracy: 0.8858 - val_loss: 0.4371 - val_accuracy: 0.8606\n",
            "Epoch 29/50\n",
            "9/9 [==============================] - 3s 279ms/step - loss: 0.3013 - accuracy: 0.8865 - val_loss: 0.4320 - val_accuracy: 0.8518\n",
            "Epoch 30/50\n",
            "9/9 [==============================] - 3s 280ms/step - loss: 0.3042 - accuracy: 0.8823 - val_loss: 0.4282 - val_accuracy: 0.8540\n",
            "Epoch 31/50\n",
            "9/9 [==============================] - 3s 279ms/step - loss: 0.3021 - accuracy: 0.8816 - val_loss: 0.4430 - val_accuracy: 0.8451\n",
            "Epoch 32/50\n",
            "9/9 [==============================] - 3s 279ms/step - loss: 0.3119 - accuracy: 0.8875 - val_loss: 0.4697 - val_accuracy: 0.7965\n",
            "Epoch 33/50\n",
            "9/9 [==============================] - 3s 278ms/step - loss: 0.3152 - accuracy: 0.8742 - val_loss: 0.4315 - val_accuracy: 0.8650\n",
            "Epoch 34/50\n",
            "9/9 [==============================] - 3s 280ms/step - loss: 0.2975 - accuracy: 0.8855 - val_loss: 0.4466 - val_accuracy: 0.8673\n",
            "Epoch 35/50\n",
            "9/9 [==============================] - 3s 277ms/step - loss: 0.3069 - accuracy: 0.8833 - val_loss: 0.4258 - val_accuracy: 0.8628\n",
            "Epoch 36/50\n",
            "9/9 [==============================] - 3s 276ms/step - loss: 0.2944 - accuracy: 0.8885 - val_loss: 0.4359 - val_accuracy: 0.8606\n",
            "Epoch 37/50\n",
            "9/9 [==============================] - 3s 280ms/step - loss: 0.2966 - accuracy: 0.8845 - val_loss: 0.4270 - val_accuracy: 0.8628\n",
            "Epoch 38/50\n",
            "9/9 [==============================] - 3s 280ms/step - loss: 0.2953 - accuracy: 0.8865 - val_loss: 0.4326 - val_accuracy: 0.8606\n",
            "Epoch 39/50\n",
            "9/9 [==============================] - 3s 279ms/step - loss: 0.2948 - accuracy: 0.8892 - val_loss: 0.4259 - val_accuracy: 0.8584\n",
            "Epoch 40/50\n",
            "9/9 [==============================] - 3s 283ms/step - loss: 0.2890 - accuracy: 0.8892 - val_loss: 0.4423 - val_accuracy: 0.8673\n",
            "Epoch 41/50\n",
            "9/9 [==============================] - 3s 281ms/step - loss: 0.2900 - accuracy: 0.8897 - val_loss: 0.4318 - val_accuracy: 0.8650\n",
            "Epoch 42/50\n",
            "9/9 [==============================] - 3s 278ms/step - loss: 0.3011 - accuracy: 0.8840 - val_loss: 0.4383 - val_accuracy: 0.8628\n",
            "Epoch 43/50\n",
            "9/9 [==============================] - 3s 281ms/step - loss: 0.2884 - accuracy: 0.8904 - val_loss: 0.4342 - val_accuracy: 0.8606\n",
            "Epoch 44/50\n",
            "9/9 [==============================] - 3s 276ms/step - loss: 0.2909 - accuracy: 0.8917 - val_loss: 0.4419 - val_accuracy: 0.8584\n",
            "Epoch 45/50\n",
            "9/9 [==============================] - 3s 280ms/step - loss: 0.2956 - accuracy: 0.8840 - val_loss: 0.4335 - val_accuracy: 0.8650\n",
            "Epoch 46/50\n",
            "9/9 [==============================] - 3s 280ms/step - loss: 0.2885 - accuracy: 0.8907 - val_loss: 0.4338 - val_accuracy: 0.8606\n",
            "Epoch 47/50\n",
            "9/9 [==============================] - 3s 279ms/step - loss: 0.2924 - accuracy: 0.8895 - val_loss: 0.4452 - val_accuracy: 0.8540\n",
            "Epoch 48/50\n",
            "9/9 [==============================] - 3s 280ms/step - loss: 0.2892 - accuracy: 0.8924 - val_loss: 0.4458 - val_accuracy: 0.8562\n",
            "Epoch 49/50\n",
            "9/9 [==============================] - 3s 278ms/step - loss: 0.2829 - accuracy: 0.8934 - val_loss: 0.4429 - val_accuracy: 0.8518\n",
            "Epoch 50/50\n",
            "9/9 [==============================] - 3s 277ms/step - loss: 0.2793 - accuracy: 0.8934 - val_loss: 0.4479 - val_accuracy: 0.8540\n"
          ]
        },
        {
          "output_type": "execute_result",
          "data": {
            "text/plain": [
              "<keras.callbacks.History at 0x7fa107e52d90>"
            ]
          },
          "metadata": {},
          "execution_count": 31
        }
      ]
    },
    {
      "cell_type": "code",
      "metadata": {
        "colab": {
          "base_uri": "https://localhost:8080/"
        },
        "id": "Ek2GUT_nBiG7",
        "outputId": "3cbfefd3-5922-4b3a-c577-211cf5bf3d21"
      },
      "source": [
        "loss, acc_treino = rede.evaluate(X_treino, y_treino, verbose=0)\n",
        "loss2, acc_teste = rede.evaluate(X_teste, y_teste, verbose=0)\n",
        "print(f'Acurácia no treino: {round(acc_treino*100, 2)}%')\n",
        "print(f'Acurácia no teste: {round(acc_teste*100, 2)}%')"
      ],
      "execution_count": 32,
      "outputs": [
        {
          "output_type": "stream",
          "name": "stdout",
          "text": [
            "Acurácia no treino: 88.79%\n",
            "Acurácia no teste: 84.39%\n"
          ]
        }
      ]
    },
    {
      "cell_type": "code",
      "metadata": {
        "id": "T61i5sg5Da1g"
      },
      "source": [
        "predict = rede.predict(X_teste)"
      ],
      "execution_count": 33,
      "outputs": []
    },
    {
      "cell_type": "code",
      "metadata": {
        "colab": {
          "base_uri": "https://localhost:8080/"
        },
        "id": "dFdq0E3w_Gp1",
        "outputId": "c63ca085-a3c3-4311-e3f9-b6b0d1dd417f"
      },
      "source": [
        "predict1 = np.argmax(predict, axis=1)\n",
        "\n",
        "y_teste1 = np.argmax(y_teste, axis=1)\n",
        "np.array(y_teste1.reshape(1,-1))[0]"
      ],
      "execution_count": 34,
      "outputs": [
        {
          "output_type": "execute_result",
          "data": {
            "text/plain": [
              "array([2, 1, 1, ..., 1, 0, 1])"
            ]
          },
          "metadata": {},
          "execution_count": 34
        }
      ]
    },
    {
      "cell_type": "code",
      "metadata": {
        "colab": {
          "base_uri": "https://localhost:8080/"
        },
        "id": "v9U9RC7H8q6Q",
        "outputId": "851ab3da-4390-4a31-9d5b-c7b155ebf042"
      },
      "source": [
        "print(classification_report(y_teste1, predict1, labels=[0,1,2]))"
      ],
      "execution_count": 35,
      "outputs": [
        {
          "output_type": "stream",
          "name": "stdout",
          "text": [
            "              precision    recall  f1-score   support\n",
            "\n",
            "           0       0.89      0.82      0.85       923\n",
            "           1       0.80      0.91      0.85       864\n",
            "           2       0.89      0.60      0.72       148\n",
            "\n",
            "    accuracy                           0.84      1935\n",
            "   macro avg       0.86      0.78      0.81      1935\n",
            "weighted avg       0.85      0.84      0.84      1935\n",
            "\n"
          ]
        }
      ]
    },
    {
      "cell_type": "code",
      "metadata": {
        "colab": {
          "base_uri": "https://localhost:8080/",
          "height": 265
        },
        "id": "fbKfb8S8EiMZ",
        "outputId": "ef971d98-ffc7-42d7-edae-3b4f680dc54f"
      },
      "source": [
        "cm = confusion_matrix(y_teste1, predict1)\n",
        "sns.heatmap(cm , fmt=\".3g\", annot= True, cmap=\"Greens\")\n",
        "\n",
        "plt.show()"
      ],
      "execution_count": 36,
      "outputs": [
        {
          "output_type": "display_data",
          "data": {
            "image/png": "[encoded data removed]",
            "text/plain": [
              "<Figure size 432x288 with 2 Axes>"
            ]
          },
          "metadata": {
            "needs_background": "light"
          }
        }
      ]
    },
    {
      "cell_type": "markdown",
      "metadata": {
        "id": "CJayUYi6HER1"
      },
      "source": [
        "Além dos métodos de predição usuais da Rede Neural do Keras, vamos usar o método de bootstrap para estimar o desvio padrão das nossas métricas usadas para medir o desempenho da Rede."
      ]
    },
    {
      "cell_type": "code",
      "metadata": {
        "id": "6HRavbBkGr-G"
      },
      "source": [
        "def bootstrap(X_test, y_test, model, nn=False, B=250):\n",
        "    #Creating dictionary to store results\n",
        "    out={}\n",
        "    out['accuracy']=[]\n",
        "    out['macro avg']={}\n",
        "    out['macro avg']['f1-score']=[]\n",
        "    out['macro avg']['recall']=[]\n",
        "    out['macro avg']['precision']=[]\n",
        "    out['weighted avg']={}\n",
        "    out['weighted avg']['f1-score']=[]\n",
        "    out['weighted avg']['recall']=[]\n",
        "    out['weighted avg']['precision']=[]\n",
        "\n",
        "    #Running Bootstrap on the test set\n",
        "    for b in tqdm(range(B)):\n",
        "        ind = np.random.choice(range(y_test.shape[0]),y_test.shape[0])\n",
        "        X_test_boot, y_test_boot = X_test[ind,:], y_test[ind]\n",
        "\n",
        "        y_pred=model.predict(X_test_boot)\n",
        "        \n",
        "        if nn:\n",
        "            y_pred=np.argmax(y_pred,axis=1)\n",
        "            report=classification_report(y_test_boot, y_pred, labels=[0, 1, 2], output_dict=True)\n",
        "        else:\n",
        "            report=classification_report(y_test_boot, y_pred, labels=[0, 1, 2], output_dict=True)\n",
        "\n",
        "        out['accuracy'].append(report['accuracy'])\n",
        "        out['macro avg']['f1-score'].append(report['macro avg']['f1-score'])\n",
        "        out['macro avg']['recall'].append(report['macro avg']['recall'])\n",
        "        out['macro avg']['precision'].append(report['macro avg']['precision'])\n",
        "        out['weighted avg']['f1-score'].append(report['weighted avg']['f1-score'])\n",
        "        out['weighted avg']['recall'].append(report['weighted avg']['recall'])\n",
        "        out['weighted avg']['precision'].append(report['weighted avg']['precision'])\n",
        "\n",
        "    #Preparing output\n",
        "    y_pred=model.predict(X_test)\n",
        "    \n",
        "    if nn:\n",
        "        y_pred=np.argmax(y_pred,axis=1)\n",
        "        report=classification_report(y_test, y_pred, labels=[0, 1, 2], output_dict=True)\n",
        "    else:\n",
        "        report=classification_report(y_test, y_pred, labels=[0, 1, 2], output_dict=True)\n",
        "\n",
        "    out['accuracy'] = [report['accuracy'], np.std(out['accuracy'])]\n",
        "    out['macro avg']['f1-score'] = [report['macro avg']['f1-score'], np.std(out['macro avg']['f1-score'])] \n",
        "    out['macro avg']['recall'] = [report['macro avg']['recall'], np.std(out['macro avg']['recall'])] \n",
        "    out['macro avg']['precision'] = [report['macro avg']['precision'], np.std(out['macro avg']['precision'])] \n",
        "    out['weighted avg']['f1-score'] = [report['weighted avg']['f1-score'], np.std(out['weighted avg']['f1-score'])] \n",
        "    out['weighted avg']['recall'] = [report['weighted avg']['recall'], np.std(out['weighted avg']['recall'])] \n",
        "    out['weighted avg']['precision'] = [report['weighted avg']['precision'], np.std(out['weighted avg']['precision'])]\n",
        "    \n",
        "    return out"
      ],
      "execution_count": 37,
      "outputs": []
    },
    {
      "cell_type": "code",
      "metadata": {
        "colab": {
          "base_uri": "https://localhost:8080/"
        },
        "id": "4v2YO8kjG5D0",
        "outputId": "a3885454-160e-4305-d52e-d56e99c2f92f"
      },
      "source": [
        "report_boot=bootstrap(np.array(X_teste), np.array(y_teste1), rede, nn = True)\n",
        "\n",
        "for i in ['accuracy', 'macro avg', 'weighted avg']:\n",
        " if i == 'accuracy':\n",
        "     print(\"\\n\\n{:27}: {:.2f} ± {:.2f}\".format(i, 100*report_boot[i][0], 100*report_boot[i][1]))\n",
        " for j in ['f1-score', 'recall', 'precision']:\n",
        "   if i != 'accuracy':\n",
        "     print(\"{:15}  {:10}: {:.2f} ± {:.2f}\".format(i, j, 100*report_boot[i][j][0], 100*report_boot[i][j][1]))"
      ],
      "execution_count": 38,
      "outputs": [
        {
          "output_type": "stream",
          "name": "stderr",
          "text": [
            "100%|██████████| 250/250 [02:26<00:00,  1.70it/s]\n"
          ]
        },
        {
          "output_type": "stream",
          "name": "stdout",
          "text": [
            "\n",
            "\n",
            "accuracy                   : 84.39 ± 0.82\n",
            "macro avg        f1-score  : 80.76 ± 1.28\n",
            "macro avg        recall    : 77.75 ± 1.42\n",
            "macro avg        precision : 85.95 ± 1.21\n",
            "weighted avg     f1-score  : 84.22 ± 0.83\n",
            "weighted avg     recall    : 84.39 ± 0.82\n",
            "weighted avg     precision : 84.90 ± 0.78\n"
          ]
        }
      ]
    },
    {
      "cell_type": "markdown",
      "metadata": {
        "id": "NaFItkMbBhPF"
      },
      "source": [
        "Como tivemos uma boa acurácia no conjunto de validação, podemos dizer que nosso modelo teve uma boa performance no geral. \n",
        "\n",
        "Uma analise mais aprofundada nos dados e na arquitetura da rede poderia levar a performances ainda melhores. Essas análises no entanto fogem do escopo deste tutorial, contudo, encorajamos o leitor a elaborar modelos que performem ainda melhor, e a realizar uma análise e engenharia de dados ainda mais aprofundada. \n",
        "\n",
        "Esperamos ter ajudado. \n",
        "\n",
        ":D"
      ]
    },
    {
      "cell_type": "markdown",
      "metadata": {
        "id": "sDCJn6oOwfFc"
      },
      "source": [
        "#Comparação"
      ]
    },
    {
      "cell_type": "markdown",
      "metadata": {
        "id": "wszTMBz-yEQS"
      },
      "source": [
        "Nesta seção faremos uma comparação com outro modelo W2V pré-treinado disponivel no repositório do Núcleo Interinstitucional de Linguística Computacional - ICMC - USP em [[6]](http://www.nilc.icmc.usp.br/embeddings), para avaliar a performance do nosso modelo frente a modelos já utilizados em NLP.\n",
        "\n"
      ]
    },
    {
      "cell_type": "code",
      "metadata": {
        "id": "2cJnchD5x9Tv",
        "colab": {
          "base_uri": "https://localhost:8080/"
        },
        "outputId": "f31361e5-0b69-468f-9413-86bf4a2d2478"
      },
      "source": [
        "# Downloading pre-trained model\n",
        "get_premodel('w2vnilc')"
      ],
      "execution_count": 39,
      "outputs": [
        {
          "output_type": "execute_result",
          "data": {
            "text/plain": [
              "True"
            ]
          },
          "metadata": {},
          "execution_count": 39
        }
      ]
    },
    {
      "cell_type": "code",
      "metadata": {
        "id": "3FbOKn1Qx-B3"
      },
      "source": [
        "model = KeyedVectors.load_word2vec_format('/content/cbow_s100/cbow_s100.txt')"
      ],
      "execution_count": 40,
      "outputs": []
    },
    {
      "cell_type": "code",
      "metadata": {
        "id": "lEjkFL-4xdVp",
        "colab": {
          "base_uri": "https://localhost:8080/"
        },
        "outputId": "db86d113-9be4-494e-f3f9-0868dc18bd23"
      },
      "source": [
        "wv_dict = dict(zip(model.wv.index2word[:], model.wv.vectors[:]))"
      ],
      "execution_count": 41,
      "outputs": [
        {
          "output_type": "stream",
          "name": "stderr",
          "text": [
            "/usr/local/lib/python3.7/dist-packages/ipykernel_launcher.py:1: DeprecationWarning: Call to deprecated `wv` (Attribute will be removed in 4.0.0, use self instead).\n",
            "  \"\"\"Entry point for launching an IPython kernel.\n"
          ]
        }
      ]
    },
    {
      "cell_type": "code",
      "metadata": {
        "id": "EcUALuuixdVp"
      },
      "source": [
        "wv_dict_updated = {}\n",
        "for palavra in t.index_word.values():\n",
        "  if palavra in wv_dict.keys():\n",
        "    wv_dict_updated[palavra] = wv_dict[palavra]"
      ],
      "execution_count": 42,
      "outputs": []
    },
    {
      "cell_type": "code",
      "metadata": {
        "colab": {
          "base_uri": "https://localhost:8080/"
        },
        "id": "zdL46Di-xdVq",
        "outputId": "fa0ae05b-3e85-4a3a-b385-2803927b2e89"
      },
      "source": [
        "matriz_de_pesos = zeros((tamanho_vocab, 100))\n",
        "for palavra, i in t.word_index.items():\n",
        "  vetor_embed =  wv_dict_updated.get(palavra)\n",
        "  if vetor_embed is not None:\n",
        "    matriz_de_pesos[i] = vetor_embed\n",
        "\n",
        "matriz_de_pesos.shape"
      ],
      "execution_count": 43,
      "outputs": [
        {
          "output_type": "execute_result",
          "data": {
            "text/plain": [
              "(2827, 100)"
            ]
          },
          "metadata": {},
          "execution_count": 43
        }
      ]
    },
    {
      "cell_type": "code",
      "metadata": {
        "id": "2seo48g2xdVr"
      },
      "source": [
        "emb = Embedding(tamanho_vocab, 100, weights = [matriz_de_pesos], input_length=len_maior, trainable = False)\n",
        "\n",
        "rede = Sequential()\n",
        "\n",
        "rede.add(emb)\n",
        "rede.add(Conv1D(filters=32, kernel_size=3, activation='relu'))\n",
        "rede.add(MaxPooling1D(pool_size=2))\n",
        "rede.add(Flatten())\n",
        "rede.add(Dense(3, activation='softmax'))"
      ],
      "execution_count": 44,
      "outputs": []
    },
    {
      "cell_type": "code",
      "metadata": {
        "colab": {
          "base_uri": "https://localhost:8080/"
        },
        "id": "ZGnCmu0UxdVs",
        "outputId": "2c2822b1-8b5f-4e57-b270-463087d254c8"
      },
      "source": [
        "rede.compile(optimizer='adam', loss='categorical_crossentropy', metrics=['accuracy'])\n",
        "print(rede.summary())"
      ],
      "execution_count": 45,
      "outputs": [
        {
          "output_type": "stream",
          "name": "stdout",
          "text": [
            "Model: \"sequential_1\"\n",
            "_________________________________________________________________\n",
            "Layer (type)                 Output Shape              Param #   \n",
            "=================================================================\n",
            "embedding_1 (Embedding)      (None, 306, 100)          282700    \n",
            "_________________________________________________________________\n",
            "conv1d_1 (Conv1D)            (None, 304, 32)           9632      \n",
            "_________________________________________________________________\n",
            "max_pooling1d_1 (MaxPooling1 (None, 152, 32)           0         \n",
            "_________________________________________________________________\n",
            "flatten_1 (Flatten)          (None, 4864)              0         \n",
            "_________________________________________________________________\n",
            "dense_1 (Dense)              (None, 3)                 14595     \n",
            "=================================================================\n",
            "Total params: 306,927\n",
            "Trainable params: 24,227\n",
            "Non-trainable params: 282,700\n",
            "_________________________________________________________________\n",
            "None\n"
          ]
        }
      ]
    },
    {
      "cell_type": "code",
      "metadata": {
        "id": "Z6lfZL_5xdVs"
      },
      "source": [
        "X_treino, X_teste, y_treino, y_teste = train_test_split(padded_docs, label_onehot, random_state=random_seed, train_size=0.7, test_size=0.3)"
      ],
      "execution_count": 46,
      "outputs": []
    },
    {
      "cell_type": "code",
      "metadata": {
        "colab": {
          "base_uri": "https://localhost:8080/"
        },
        "id": "B_CMjsYixdVu",
        "outputId": "11d58b0a-4421-4cac-eb3a-04b6478976ca"
      },
      "source": [
        "rede.fit(X_treino, y_treino, epochs=50, validation_split=0.1, batch_size=500, verbose=1,  callbacks=[EarlyStopping(monitor='val_loss', patience=15)])"
      ],
      "execution_count": 47,
      "outputs": [
        {
          "output_type": "stream",
          "name": "stdout",
          "text": [
            "Epoch 1/50\n",
            "9/9 [==============================] - 3s 293ms/step - loss: 1.0153 - accuracy: 0.4894 - val_loss: 0.8812 - val_accuracy: 0.6504\n",
            "Epoch 2/50\n",
            "9/9 [==============================] - 2s 269ms/step - loss: 0.8443 - accuracy: 0.6736 - val_loss: 0.7586 - val_accuracy: 0.7367\n",
            "Epoch 3/50\n",
            "9/9 [==============================] - 2s 274ms/step - loss: 0.7793 - accuracy: 0.6851 - val_loss: 0.7129 - val_accuracy: 0.7257\n",
            "Epoch 4/50\n",
            "9/9 [==============================] - 2s 271ms/step - loss: 0.7297 - accuracy: 0.7048 - val_loss: 0.6758 - val_accuracy: 0.7301\n",
            "Epoch 5/50\n",
            "9/9 [==============================] - 2s 270ms/step - loss: 0.6852 - accuracy: 0.7243 - val_loss: 0.6455 - val_accuracy: 0.7412\n",
            "Epoch 6/50\n",
            "9/9 [==============================] - 2s 271ms/step - loss: 0.6531 - accuracy: 0.7408 - val_loss: 0.6136 - val_accuracy: 0.7566\n",
            "Epoch 7/50\n",
            "9/9 [==============================] - 2s 271ms/step - loss: 0.6247 - accuracy: 0.7491 - val_loss: 0.5890 - val_accuracy: 0.7588\n",
            "Epoch 8/50\n",
            "9/9 [==============================] - 2s 270ms/step - loss: 0.6013 - accuracy: 0.7614 - val_loss: 0.5720 - val_accuracy: 0.7832\n",
            "Epoch 9/50\n",
            "9/9 [==============================] - 2s 270ms/step - loss: 0.5816 - accuracy: 0.7811 - val_loss: 0.5553 - val_accuracy: 0.7987\n",
            "Epoch 10/50\n",
            "9/9 [==============================] - 2s 273ms/step - loss: 0.5638 - accuracy: 0.7831 - val_loss: 0.5375 - val_accuracy: 0.7965\n",
            "Epoch 11/50\n",
            "9/9 [==============================] - 2s 269ms/step - loss: 0.5482 - accuracy: 0.7954 - val_loss: 0.5254 - val_accuracy: 0.8097\n",
            "Epoch 12/50\n",
            "9/9 [==============================] - 2s 271ms/step - loss: 0.5347 - accuracy: 0.8003 - val_loss: 0.5121 - val_accuracy: 0.8075\n",
            "Epoch 13/50\n",
            "9/9 [==============================] - 2s 271ms/step - loss: 0.5227 - accuracy: 0.8031 - val_loss: 0.5059 - val_accuracy: 0.8053\n",
            "Epoch 14/50\n",
            "9/9 [==============================] - 2s 275ms/step - loss: 0.5095 - accuracy: 0.8035 - val_loss: 0.4964 - val_accuracy: 0.8075\n",
            "Epoch 15/50\n",
            "9/9 [==============================] - 2s 274ms/step - loss: 0.4976 - accuracy: 0.8053 - val_loss: 0.4868 - val_accuracy: 0.8164\n",
            "Epoch 16/50\n",
            "9/9 [==============================] - 2s 269ms/step - loss: 0.4867 - accuracy: 0.8063 - val_loss: 0.4813 - val_accuracy: 0.8119\n",
            "Epoch 17/50\n",
            "9/9 [==============================] - 2s 275ms/step - loss: 0.4749 - accuracy: 0.8077 - val_loss: 0.4743 - val_accuracy: 0.8230\n",
            "Epoch 18/50\n",
            "9/9 [==============================] - 2s 274ms/step - loss: 0.4645 - accuracy: 0.8117 - val_loss: 0.4626 - val_accuracy: 0.8208\n",
            "Epoch 19/50\n",
            "9/9 [==============================] - 2s 275ms/step - loss: 0.4571 - accuracy: 0.8146 - val_loss: 0.4602 - val_accuracy: 0.8319\n",
            "Epoch 20/50\n",
            "9/9 [==============================] - 2s 273ms/step - loss: 0.4444 - accuracy: 0.8203 - val_loss: 0.4492 - val_accuracy: 0.8230\n",
            "Epoch 21/50\n",
            "9/9 [==============================] - 2s 271ms/step - loss: 0.4315 - accuracy: 0.8227 - val_loss: 0.4406 - val_accuracy: 0.8230\n",
            "Epoch 22/50\n",
            "9/9 [==============================] - 2s 272ms/step - loss: 0.4221 - accuracy: 0.8259 - val_loss: 0.4362 - val_accuracy: 0.8296\n",
            "Epoch 23/50\n",
            "9/9 [==============================] - 2s 272ms/step - loss: 0.4130 - accuracy: 0.8400 - val_loss: 0.4299 - val_accuracy: 0.8496\n",
            "Epoch 24/50\n",
            "9/9 [==============================] - 2s 273ms/step - loss: 0.4053 - accuracy: 0.8535 - val_loss: 0.4271 - val_accuracy: 0.8562\n",
            "Epoch 25/50\n",
            "9/9 [==============================] - 3s 281ms/step - loss: 0.3984 - accuracy: 0.8562 - val_loss: 0.4207 - val_accuracy: 0.8606\n",
            "Epoch 26/50\n",
            "9/9 [==============================] - 2s 272ms/step - loss: 0.3921 - accuracy: 0.8567 - val_loss: 0.4149 - val_accuracy: 0.8606\n",
            "Epoch 27/50\n",
            "9/9 [==============================] - 3s 275ms/step - loss: 0.3862 - accuracy: 0.8597 - val_loss: 0.4110 - val_accuracy: 0.8518\n",
            "Epoch 28/50\n",
            "9/9 [==============================] - 2s 276ms/step - loss: 0.3806 - accuracy: 0.8639 - val_loss: 0.4155 - val_accuracy: 0.8584\n",
            "Epoch 29/50\n",
            "9/9 [==============================] - 3s 278ms/step - loss: 0.3785 - accuracy: 0.8599 - val_loss: 0.4100 - val_accuracy: 0.8650\n",
            "Epoch 30/50\n",
            "9/9 [==============================] - 2s 276ms/step - loss: 0.3737 - accuracy: 0.8636 - val_loss: 0.4076 - val_accuracy: 0.8540\n",
            "Epoch 31/50\n",
            "9/9 [==============================] - 2s 273ms/step - loss: 0.3687 - accuracy: 0.8631 - val_loss: 0.4060 - val_accuracy: 0.8673\n",
            "Epoch 32/50\n",
            "9/9 [==============================] - 2s 270ms/step - loss: 0.3655 - accuracy: 0.8673 - val_loss: 0.4036 - val_accuracy: 0.8695\n",
            "Epoch 33/50\n",
            "9/9 [==============================] - 2s 274ms/step - loss: 0.3602 - accuracy: 0.8680 - val_loss: 0.4032 - val_accuracy: 0.8540\n",
            "Epoch 34/50\n",
            "9/9 [==============================] - 2s 272ms/step - loss: 0.3583 - accuracy: 0.8661 - val_loss: 0.3967 - val_accuracy: 0.8673\n",
            "Epoch 35/50\n",
            "9/9 [==============================] - 2s 277ms/step - loss: 0.3553 - accuracy: 0.8688 - val_loss: 0.3989 - val_accuracy: 0.8628\n",
            "Epoch 36/50\n",
            "9/9 [==============================] - 2s 271ms/step - loss: 0.3526 - accuracy: 0.8695 - val_loss: 0.4034 - val_accuracy: 0.8540\n",
            "Epoch 37/50\n",
            "9/9 [==============================] - 2s 273ms/step - loss: 0.3544 - accuracy: 0.8653 - val_loss: 0.4002 - val_accuracy: 0.8717\n",
            "Epoch 38/50\n",
            "9/9 [==============================] - 2s 274ms/step - loss: 0.3492 - accuracy: 0.8703 - val_loss: 0.3974 - val_accuracy: 0.8695\n",
            "Epoch 39/50\n",
            "9/9 [==============================] - 2s 274ms/step - loss: 0.3454 - accuracy: 0.8717 - val_loss: 0.3999 - val_accuracy: 0.8673\n",
            "Epoch 40/50\n",
            "9/9 [==============================] - 2s 272ms/step - loss: 0.3453 - accuracy: 0.8717 - val_loss: 0.4026 - val_accuracy: 0.8673\n",
            "Epoch 41/50\n",
            "9/9 [==============================] - 2s 274ms/step - loss: 0.3432 - accuracy: 0.8752 - val_loss: 0.3948 - val_accuracy: 0.8695\n",
            "Epoch 42/50\n",
            "9/9 [==============================] - 3s 277ms/step - loss: 0.3408 - accuracy: 0.8705 - val_loss: 0.3993 - val_accuracy: 0.8739\n",
            "Epoch 43/50\n",
            "9/9 [==============================] - 2s 272ms/step - loss: 0.3434 - accuracy: 0.8737 - val_loss: 0.3981 - val_accuracy: 0.8650\n",
            "Epoch 44/50\n",
            "9/9 [==============================] - 2s 269ms/step - loss: 0.3383 - accuracy: 0.8717 - val_loss: 0.3929 - val_accuracy: 0.8739\n",
            "Epoch 45/50\n",
            "9/9 [==============================] - 2s 271ms/step - loss: 0.3377 - accuracy: 0.8742 - val_loss: 0.3948 - val_accuracy: 0.8695\n",
            "Epoch 46/50\n",
            "9/9 [==============================] - 2s 272ms/step - loss: 0.3347 - accuracy: 0.8740 - val_loss: 0.3965 - val_accuracy: 0.8673\n",
            "Epoch 47/50\n",
            "9/9 [==============================] - 2s 272ms/step - loss: 0.3322 - accuracy: 0.8740 - val_loss: 0.3979 - val_accuracy: 0.8606\n",
            "Epoch 48/50\n",
            "9/9 [==============================] - 2s 271ms/step - loss: 0.3337 - accuracy: 0.8735 - val_loss: 0.4016 - val_accuracy: 0.8673\n",
            "Epoch 49/50\n",
            "9/9 [==============================] - 2s 272ms/step - loss: 0.3322 - accuracy: 0.8769 - val_loss: 0.4017 - val_accuracy: 0.8628\n",
            "Epoch 50/50\n",
            "9/9 [==============================] - 2s 272ms/step - loss: 0.3328 - accuracy: 0.8730 - val_loss: 0.3999 - val_accuracy: 0.8673\n"
          ]
        },
        {
          "output_type": "execute_result",
          "data": {
            "text/plain": [
              "<keras.callbacks.History at 0x7fa107dc1750>"
            ]
          },
          "metadata": {},
          "execution_count": 47
        }
      ]
    },
    {
      "cell_type": "code",
      "metadata": {
        "colab": {
          "base_uri": "https://localhost:8080/"
        },
        "id": "9WOeCsvNxdVu",
        "outputId": "7205eeb9-2d0d-4fdd-a3d6-635f569c23cc"
      },
      "source": [
        "loss, acc_treino = rede.evaluate(X_treino, y_treino, verbose=0)\n",
        "loss2, acc_teste = rede.evaluate(X_teste, y_teste, verbose=0)\n",
        "print(f'Acurácia no treino: {round(acc_treino*100, 2)}%')\n",
        "print(f'Acurácia no teste: {round(acc_teste*100, 2)}%')"
      ],
      "execution_count": 48,
      "outputs": [
        {
          "output_type": "stream",
          "name": "stdout",
          "text": [
            "Acurácia no treino: 87.62%\n",
            "Acurácia no teste: 85.01%\n"
          ]
        }
      ]
    },
    {
      "cell_type": "code",
      "metadata": {
        "id": "rR_Dp1mrxdVv"
      },
      "source": [
        "predict = rede.predict(X_teste)"
      ],
      "execution_count": 49,
      "outputs": []
    },
    {
      "cell_type": "code",
      "metadata": {
        "colab": {
          "base_uri": "https://localhost:8080/"
        },
        "id": "jN29zKXHxdVv",
        "outputId": "3c5a055b-fc5a-4b17-efc7-58d7c818b060"
      },
      "source": [
        "predict1 = np.argmax(predict, axis=1)\n",
        "\n",
        "y_teste1 = np.argmax(y_teste, axis=1)\n",
        "np.array(y_teste1.reshape(1,-1))[0]"
      ],
      "execution_count": 50,
      "outputs": [
        {
          "output_type": "execute_result",
          "data": {
            "text/plain": [
              "array([2, 1, 1, ..., 1, 0, 1])"
            ]
          },
          "metadata": {},
          "execution_count": 50
        }
      ]
    },
    {
      "cell_type": "code",
      "metadata": {
        "colab": {
          "base_uri": "https://localhost:8080/"
        },
        "id": "javgMd5XxdVv",
        "outputId": "54b12c43-70ee-4e87-f408-01fd4a4b39f6"
      },
      "source": [
        "print(classification_report(y_teste1, predict1, labels=[0,1,2]))"
      ],
      "execution_count": 51,
      "outputs": [
        {
          "output_type": "stream",
          "name": "stdout",
          "text": [
            "              precision    recall  f1-score   support\n",
            "\n",
            "           0       0.90      0.82      0.86       923\n",
            "           1       0.80      0.93      0.86       864\n",
            "           2       0.96      0.59      0.73       148\n",
            "\n",
            "    accuracy                           0.85      1935\n",
            "   macro avg       0.89      0.78      0.82      1935\n",
            "weighted avg       0.86      0.85      0.85      1935\n",
            "\n"
          ]
        }
      ]
    },
    {
      "cell_type": "code",
      "metadata": {
        "colab": {
          "base_uri": "https://localhost:8080/",
          "height": 269
        },
        "id": "O8-cdhSJxdVv",
        "outputId": "072a14b2-9b2b-48dc-c98d-21e04d71562d"
      },
      "source": [
        "cm = confusion_matrix(y_teste1, predict1)\n",
        "sns.heatmap(cm , fmt=\".3g\", annot= True, cmap=\"Greens\")\n",
        "\n",
        "plt.show()"
      ],
      "execution_count": 52,
      "outputs": [
        {
          "output_type": "display_data",
          "data": {
            "image/png": "[encoded data removed]",
            "text/plain": [
              "<Figure size 432x288 with 2 Axes>"
            ]
          },
          "metadata": {
            "needs_background": "light"
          }
        }
      ]
    },
    {
      "cell_type": "code",
      "metadata": {
        "colab": {
          "base_uri": "https://localhost:8080/"
        },
        "id": "IwncKhcHx3dC",
        "outputId": "d5e896bf-2043-46ac-ce29-d08d0a22202e"
      },
      "source": [
        "report_boot=bootstrap(np.array(X_teste), np.array(y_teste1), rede, nn = True)\n",
        "\n",
        "for i in ['accuracy', 'macro avg', 'weighted avg']:\n",
        " if i == 'accuracy':\n",
        "     print(\"\\n\\n{:27}: {:.2f} ± {:.2f}\".format(i, 100*report_boot[i][0], 100*report_boot[i][1]))\n",
        " for j in ['f1-score', 'recall', 'precision']:\n",
        "   if i != 'accuracy':\n",
        "     print(\"{:15}  {:10}: {:.2f} ± {:.2f}\".format(i, j, 100*report_boot[i][j][0], 100*report_boot[i][j][1]))"
      ],
      "execution_count": 53,
      "outputs": [
        {
          "output_type": "stream",
          "name": "stderr",
          "text": [
            "100%|██████████| 250/250 [02:01<00:00,  2.06it/s]\n"
          ]
        },
        {
          "output_type": "stream",
          "name": "stdout",
          "text": [
            "\n",
            "\n",
            "accuracy                   : 85.01 ± 0.83\n",
            "macro avg        f1-score  : 81.64 ± 1.18\n",
            "macro avg        recall    : 78.02 ± 1.32\n",
            "macro avg        precision : 88.52 ± 0.95\n",
            "weighted avg     f1-score  : 84.84 ± 0.84\n",
            "weighted avg     recall    : 85.01 ± 0.83\n",
            "weighted avg     precision : 85.94 ± 0.76\n"
          ]
        }
      ]
    },
    {
      "cell_type": "markdown",
      "metadata": {
        "id": "S2wpqmotoR_w"
      },
      "source": [
        "#Referências"
      ]
    },
    {
      "cell_type": "markdown",
      "metadata": {
        "id": "53qIOjuTofIW"
      },
      "source": [
        "[1] Mikolov, T., Chen, K., Corrado, G., and Dean, J. (2013a).  Efficient estimation ofword representations in vector space.arXiv preprint arXiv:1301.3781. \\\\\n",
        "[2] Mikolov,  T.,  Sutskever,  I.,  Chen,  K.,  Corrado,  G. S.,  and Dean,  J. (2013b).   Distributed representations of words and phrases and their compositionality.  In Advances in neural information processing systems, pages 3111–3119. \\\\\n",
        "[3] Brownlee Jason(2017). https://machinelearningmastery.com/develop-word-embedding-model-predicting-movie-review-sentiment/ - acesso em: 04/08/2021.  \\\\\n",
        "[4] Brownlee Jason(2017). https://machinelearningmastery.com/best-practices-document-classification-deep-learning/ - acesso em: 04/08/2021.  \\\\\n",
        "[5] Brownlee Jason(2017). https://machinelearningmastery.com/use-word-embedding-layers-deep-learning-keras/ - acesso em: 04/08/2021. \\\\\n",
        "[6] http://www.nilc.icmc.usp.br/embeddings - acesso em: 29/09/2021 \\\\"
      ]
    }
  ]
}