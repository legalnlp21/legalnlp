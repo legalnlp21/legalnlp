{
  "nbformat": 4,
  "nbformat_minor": 0,
  "metadata": {
    "colab": {
      "name": "Word2Vec-TUTORIAL.ipynb",
      "provenance": [],
      "collapsed_sections": [],
      "mount_file_id": "1ahJPwEIQPEknJNy_SnS-CbDpIxa1j4gW",
      "authorship_tag": "ABX9TyN/AKj+nf812FU3Ol5UVnna",
      "include_colab_link": true
    },
    "kernelspec": {
      "name": "python3",
      "display_name": "Python 3"
    },
    "language_info": {
      "name": "python"
    }
  },
  "cells": [
    {
      "cell_type": "markdown",
      "metadata": {
        "id": "view-in-github",
        "colab_type": "text"
      },
      "source": [
        "<a href=\"https://colab.research.google.com/github/legalnlp21/legalnlp/blob/main/demo/Word2Vec_TUTORIAL.ipynb\" target=\"_parent\"><img src=\"https://colab.research.google.com/assets/colab-badge.svg\" alt=\"Open In Colab\"/></a>"
      ]
    },
    {
      "cell_type": "markdown",
      "metadata": {
        "id": "CpedCl83iG7q"
      },
      "source": [
        "#Breve introdução teórica\n",
        "\n"
      ]
    },
    {
      "cell_type": "markdown",
      "metadata": {
        "id": "-qLWDcRwi27f"
      },
      "source": [
        "## Motivação\n",
        "\n",
        "A ideia principal dos métodos Word2Vec (W2V) é encontrar uma representação vetorial para palavras, tal representação elaborada a partir do contexto em que essas palavras aparecem. No caso deste pacote, os modelos são treinados com um corpo de texto extraído do meio jurídico.\n",
        "\n",
        "A representação de palavras em espaços vetoriais torna possível a análise de proximidade semântica, correlação e outras comparações quantitativas entre palavras.\n",
        "\n",
        "Os artigos originais sobre word2vec podem se encontrados em [[1]](https://arxiv.org/abs/1301.3781) e [[2]](https://papers.nips.cc/paper/2013/hash/9aa42b31882ec039965f3c4923ce901b-Abstract.html)."
      ]
    },
    {
      "cell_type": "markdown",
      "metadata": {
        "id": "wIJQ-K8KX1Mw"
      },
      "source": [
        "## A representação vetorial\n",
        "\n",
        "A partir do corpo de texto (o conjunto de todos os textos usados para treinar o modelo) será coletado um conjunto com as $n$ palavras distintas, formando o \"vocabulário\". Com isso podemos ter uma representação vetorial rústica de cada palavra do vocabulário, na forma conhecida como \"one-hot vector\", que consiste em um vetor de tamanho $n$ preenchido inteiramente com zeros, exceto na posição utilizada para diferenciar cada palavra do vocabulário, com o número um nessa posição.\n",
        "\n"
      ]
    },
    {
      "cell_type": "markdown",
      "metadata": {
        "id": "Bb_LNdjieq8O"
      },
      "source": [
        "As representações vetoriais (as chamadas \"*word embbedings*\") geradas a partir do Word2Vec, podem ter uma dimensão arbitrária e carregam informações geradas a partir do contexto. O contexto é definido por um conjunto de palavras dentro de cada amostra, o tamanho desse conjunto é dado pela \"janela\", ou seja, o número de palavras ao redor da palavra principal.\n",
        "\n",
        "Em suma, os modelos W2V podem ser gerados de duas formas: o método \"*Skip-Gram*\" e o método \"*Continuous Bag of Words*\" (CBOW). Os modelos gerados a partir do método *Skip-Gram* consistem de *embbedings* que representam o espaço paramétrico de uma Rede Neural, que recebe como *input* a palavra $w_t$, ou seja, na posição $t$, e tem como *output* prever as palavras $w_{t-d}$, ..., $w_{t-2}$, $w_{t-1}$ e $w_{t+1}$, $w_{t+2}$, ..., $w_{t+d}$, onde $d$ é o tamanho da janela. Já os modelos gerados a partir do método CBOW fazem o processo inverso, usando o contexto de palavras dentro da janela para prever a palavra alvo $w_t$."
      ]
    },
    {
      "cell_type": "markdown",
      "metadata": {
        "id": "VTPkmV0EfoUG"
      },
      "source": [
        "## Aplicações imediatas\n",
        "\n",
        "Sejam $v_1$ e $v_2$ vetores *one-hot vectors* é imediato que $<v_1, v_2> = 0$, ou seja, nesta representação, todos os vetores são ortogonais. Pouca informação pode se tirar disso, pois a reprsentação em *one-hot vector* não considera o contexto.\n",
        "\n",
        "Operações vetoriais como a soma e subtração entre vetores em word2vec operam como \"somas semânticas\", por exemplo, uma equação como $(rei - homem) + mulher \\approx rainha$ seria algo palpável, que dependeria do contexto que essas palavras são usadas no corpo de texto. \n",
        "\n",
        "Além disso, podemos agora ter uma visualização gráfica das palavras que leva em conta o contexto em que essas palavras geralmente são usadas no corpo de texto. Vamos dar um exemplo, utilizando *embbedings* de tamanho 100, e aplicando um PCA para reduzir a dimensionalidade para 2, para visualizarmos as palavras em um gráfico bidimensional."
      ]
    },
    {
      "cell_type": "markdown",
      "metadata": {
        "id": "BSs4FL2Ij3ft"
      },
      "source": [
        "# Representando palavras utilizando Word2Vec"
      ]
    },
    {
      "cell_type": "code",
      "metadata": {
        "id": "la2u-qlPiAMc"
      },
      "source": [
        "from IPython.display import clear_output\n",
        "\n",
        "!pip install gensim==3.8.1\n",
        "!pip install git+https://github.com/legalnlp21/legalnlp\n",
        "clear_output()"
      ],
      "execution_count": null,
      "outputs": []
    },
    {
      "cell_type": "markdown",
      "metadata": {
        "id": "6nlf3nppplyI"
      },
      "source": [
        "Primeiro vamos chamar as bibliotecas necessárias. "
      ]
    },
    {
      "cell_type": "code",
      "metadata": {
        "id": "wH2FlVft-cAF"
      },
      "source": [
        "import numpy as np\n",
        "from sklearn.decomposition import PCA\n",
        "from sklearn.preprocessing import StandardScaler\n",
        "import matplotlib.pyplot as plt\n",
        "import matplotlib.patches as mpatches\n",
        "from gensim.models import KeyedVectors\n",
        "import pandas as pd\n",
        "from legalnlp.get_premodel import get_premodel"
      ],
      "execution_count": null,
      "outputs": []
    },
    {
      "cell_type": "markdown",
      "metadata": {
        "id": "GXVkdKpppsNk"
      },
      "source": [
        "Utilizando a função \"get_premodel\" disponível no pacote *LegalNLP* podemos fazer o download do modelo pré-treinado W2V.\n"
      ]
    },
    {
      "cell_type": "code",
      "metadata": {
        "id": "aTXq-t86ciUW"
      },
      "source": [
        "# Downloading pre-trained model\n",
        "get_premodel('wodc')"
      ],
      "execution_count": null,
      "outputs": []
    },
    {
      "cell_type": "code",
      "metadata": {
        "id": "G3pQZK34-lq4"
      },
      "source": [
        "model = KeyedVectors.load(\"/content/W2V_D2V/w2v_d2v_dm_size_100_window_15_epochs_20\")"
      ],
      "execution_count": null,
      "outputs": []
    },
    {
      "cell_type": "markdown",
      "metadata": {
        "id": "jl1_IxF3p_l-"
      },
      "source": [
        "Podemos ver a seguir, como o modelo consegue agrupar palavras semelhantes."
      ]
    },
    {
      "cell_type": "code",
      "metadata": {
        "colab": {
          "base_uri": "https://localhost:8080/"
        },
        "id": "cYaEhVGwigBO",
        "outputId": "eb35a906-79d6-433c-c725-778342c4826b"
      },
      "source": [
        "model.wv.most_similar('jurisprudencia')"
      ],
      "execution_count": null,
      "outputs": [
        {
          "output_type": "execute_result",
          "data": {
            "text/plain": [
              "[('jurisprudência_assente', 0.6141901016235352),\n",
              " ('iterativa_jurisprudência', 0.5145410895347595),\n",
              " ('jurisprudência_majoritária', 0.5138000249862671),\n",
              " ('jurisprudência', 0.5029575824737549),\n",
              " ('jurisprudência_pátria', 0.4976961016654968),\n",
              " ('notória_jurisprudência', 0.49725937843322754),\n",
              " ('jurisprudência_uníssona', 0.47410157322883606),\n",
              " ('dominante', 0.4658571481704712),\n",
              " ('vazada', 0.4633045792579651),\n",
              " ('jurisprudência_prevalecente', 0.45525240898132324)]"
            ]
          },
          "metadata": {},
          "execution_count": 5
        }
      ]
    },
    {
      "cell_type": "code",
      "metadata": {
        "colab": {
          "base_uri": "https://localhost:8080/"
        },
        "id": "RkLY2f06Bofd",
        "outputId": "36143f35-a82f-44da-b964-332810f88bed"
      },
      "source": [
        "model.wv.most_similar('pandemia')"
      ],
      "execution_count": null,
      "outputs": [
        {
          "output_type": "execute_result",
          "data": {
            "text/plain": [
              "[('pandemia_mundial', 0.6916313767433167),\n",
              " ('pandemia_causada', 0.6867375373840332),\n",
              " ('epidemia', 0.6704655885696411),\n",
              " ('disseminação', 0.6358423233032227),\n",
              " ('pandemia_global', 0.5988448858261108),\n",
              " ('pandemia_provocada', 0.5955021381378174),\n",
              " ('quarentena', 0.595090389251709),\n",
              " ('surto', 0.588540256023407),\n",
              " ('crise', 0.5628268718719482),\n",
              " ('calamidade_pública', 0.541213870048523)]"
            ]
          },
          "metadata": {},
          "execution_count": 6
        }
      ]
    },
    {
      "cell_type": "markdown",
      "metadata": {
        "id": "fdLgR10wqJtb"
      },
      "source": [
        "Vamos definir uma função para vizualisar algumas clusters e verificar como elas se parecem geometricamente. Como a dimensão de cada embbeding é 100, teremos que utilizar um método de redução de dimensionalidade. Para isso, iremos utilizar o objeto PCA (*Principal Component Analysis*) do SciKitLearn."
      ]
    },
    {
      "cell_type": "code",
      "metadata": {
        "id": "se8R7tAZGP66"
      },
      "source": [
        "def pca_plot(model, p_c, pca, file = None):\n",
        "    \n",
        "    transforma = lambda palavra: pca.transform(palavra)\n",
        "    \n",
        "    plt.figure(figsize=(13, 8)) \n",
        "    wd_clusters = p_c.keys()\n",
        "\n",
        "\n",
        "    for word in wd_clusters:\n",
        "      labels = []\n",
        "      tokens = []\n",
        "      emb = model.wv[word]\n",
        "      emb = (emb/np.sqrt(emb@emb)).tolist()\n",
        "      tokens.append(emb)\n",
        "      labels.append(word)\n",
        "      \n",
        "      k = 0\n",
        "      for similar in model.wv.most_similar(word):\n",
        "        k+=1\n",
        "        emb = model.wv[similar[0]]\n",
        "        emb = (emb/np.sqrt(emb@emb)).tolist()\n",
        "        tokens.append(emb)\n",
        "        labels.append(similar[0])\n",
        "        if k == 5: break\n",
        "        \n",
        "        \n",
        "      new_values = transforma(np.array(tokens))\n",
        "\n",
        "      x = []\n",
        "      y = []\n",
        "\n",
        "      for value, i in zip(new_values, [k for k in range(0, len(labels))]):\n",
        "        norma = 1#np.sqrt(value[0]**2 + value[1]**2)\n",
        "        x.append(value[0]/norma)\n",
        "        y.append(value[1]/norma)\n",
        "            \n",
        "      for i in range(len(x)):\n",
        "          plt.scatter(x[i],y[i], c = p_c[word], s=50)\n",
        "          plt.annotate(labels[i],\n",
        "                      xy=(x[i], y[i]),\n",
        "                      xytext=(5, 2),\n",
        "                      fontsize = 10,\n",
        "                      textcoords='offset points',\n",
        "                      ha='right',\n",
        "                      va='bottom')\n",
        "\n",
        "    ln = []\n",
        "    for i in range(len(p_c.items())):\n",
        "      ln.append(mpatches.Patch(color= list(p_c.values())[i], label= list(p_c.keys())[i])) \n",
        "\n",
        "    plt.xlabel('PC1 ('+str(round(pca.explained_variance_ratio_[0]*100,2))+'%)', size=12)\n",
        "    plt.ylabel('PC2 ('+str(round(pca.explained_variance_ratio_[1]*100,2))+'%)', size=12)\n",
        "    plt.legend(handles=ln)\n",
        "    if type(file) is not None:\n",
        "      plt.savefig(file, dpi = 800)\n",
        "    plt.show()"
      ],
      "execution_count": null,
      "outputs": []
    },
    {
      "cell_type": "code",
      "metadata": {
        "colab": {
          "base_uri": "https://localhost:8080/"
        },
        "id": "Yq7MIrHbxrKY",
        "outputId": "43ffcd2f-7f22-4163-fabd-1ce2b478ea6c"
      },
      "source": [
        "pca = PCA(n_components = 2)\n",
        "emb_norm = model.wv.vectors/(np.sqrt(np.sum(model.wv.vectors**2, axis = 1))).reshape((-1,1))\n",
        "pca.fit(emb_norm)"
      ],
      "execution_count": null,
      "outputs": [
        {
          "output_type": "execute_result",
          "data": {
            "text/plain": [
              "PCA(copy=True, iterated_power='auto', n_components=2, random_state=None,\n",
              "    svd_solver='auto', tol=0.0, whiten=False)"
            ]
          },
          "metadata": {},
          "execution_count": 8
        }
      ]
    },
    {
      "cell_type": "code",
      "metadata": {
        "colab": {
          "base_uri": "https://localhost:8080/"
        },
        "id": "VV1G2cpnJOPE",
        "outputId": "1ed8062b-7b6d-4509-acbf-f9d30ce5f529"
      },
      "source": [
        "pca.explained_variance_ratio_"
      ],
      "execution_count": null,
      "outputs": [
        {
          "output_type": "execute_result",
          "data": {
            "text/plain": [
              "array([0.0481977 , 0.03529718])"
            ]
          },
          "metadata": {},
          "execution_count": 9
        }
      ]
    },
    {
      "cell_type": "markdown",
      "metadata": {
        "id": "E_MdBKKjqz1k"
      },
      "source": [
        "Agora, basta chamarmos a função, vamos testar com o grupo de palavras nas chaves do dicionário \"palavras\", cada uma mapeando a sigla da cor utilizada no gráfico."
      ]
    },
    {
      "cell_type": "code",
      "metadata": {
        "colab": {
          "base_uri": "https://localhost:8080/",
          "height": 500
        },
        "id": "QDKXad22Gdew",
        "outputId": "90c49cf1-3436-49c7-954e-d164fa7d2ce7"
      },
      "source": [
        "palavras = {'juiza':'r', 'leilão':'g', 'promotoria':'k', 'lei':'c', 'sao_paulo':'m', 'felipe':'b'}\n",
        "\n",
        "pca_plot(model, p_c = palavras, pca = pca, file = \"clusters_w2v\")\n"
      ],
      "execution_count": null,
      "outputs": [
        {
          "output_type": "display_data",
          "data": {
            "image/png": "[encoded data removed]",
            "text/plain": [
              "<Figure size 936x576 with 1 Axes>"
            ]
          },
          "metadata": {
            "needs_background": "light"
          }
        }
      ]
    },
    {
      "cell_type": "markdown",
      "metadata": {
        "id": "43kUz1dZrEFB"
      },
      "source": [
        "Podemos ver que de fato, geometricamente, palavras mais próximas tem sentidos \"mais próximos\", encontramos clusters coerentes de tokens que se referem a nomes próprios, nomes de cidade e palavras com contextos relacionados entre si. Devemos lembrar que, após feita a redução de dimensionalidade, foi perdida uma alta porcentagem de explicação na variância nos dados, então alguns clusters que o usuário eventualmente venha a testar podem não ser tão coerentes em um espaço bidimensional. Contudo o efeito visual com apenas 8.35% de explicação já condiz com o que se esperava. "
      ]
    },
    {
      "cell_type": "markdown",
      "metadata": {
        "id": "OkzaEKDx7Agr"
      },
      "source": [
        "# Aplicando o Word2Vec em um dataset para classificação\n",
        "\n",
        "Nesse tutorial vamos demonstrar como utilizar word-embeddings geradas a partir do método Word2Vec, em cima de um corpo de texto, para classificação.\n",
        "\n",
        "O método Word2Vec utiliza o contexto das palavras nos textos para gerar as embbedings. Para isso, foi utilizado o pacote *gensim* (versão 3.8.1), que integra as ferramentas necessárias para gerar, salvar e carregar as embbedings.\n",
        "\n",
        "As ferramentas de limpeza de texto usadas foram criadas com o enfoque em textos do meio jurídico, mas podem ser usadas com outros textos igualmente. \n",
        "\n",
        "Para o funcionamento correto, recomendamos que o usuário tenha acesso aos seguintes módulos:\n",
        "* ScikitLearn\n",
        "* Keras\n",
        "* Gensim\n",
        "* String\n",
        "* Numpy\n",
        "* Pandas\n",
        "* Ftfy\n",
        "\n",
        "Neste tutorial, utilizamos um modelo de Redes Neurais Convolucionais para classificar processos legais em \"Ativo\", \"Suspenso\" e \"Arquivado\". O dataset esta disponível\n",
        "[nesta página](https://www.kaggle.com/felipepolo/brazilian-legal-proceedings)\n",
        "do Kaggle. \\\\\n",
        "Este turorial foi baseados nos seguintes artigos \n",
        "[[3]](https://machinelearningmastery.com/develop-word-embedding-model-predicting-movie-review-sentiment/), [[4]](https://machinelearningmastery.com/best-practices-document-classification-deep-learning/) e [[5]](https://machinelearningmastery.com/use-word-embedding-layers-deep-learning-keras/)"
      ]
    },
    {
      "cell_type": "code",
      "metadata": {
        "id": "gC2UjjbL80ee"
      },
      "source": [
        "from sklearn.metrics import accuracy_score, confusion_matrix, classification_report\n",
        "import seaborn as sns\n",
        "import matplotlib.pyplot as plt"
      ],
      "execution_count": null,
      "outputs": []
    },
    {
      "cell_type": "markdown",
      "metadata": {
        "id": "y8_955rB-sU7"
      },
      "source": [
        "De início, vamos importar as bibliotecas e funções que serão usadas adiante. Devemos também instalar as bibliotecas que não estão disponíveis por padrão no Google Colab."
      ]
    },
    {
      "cell_type": "code",
      "metadata": {
        "id": "gGFJlWE7-sEO"
      },
      "source": [
        "from sklearn.preprocessing import OneHotEncoder\n",
        "from sklearn.model_selection import train_test_split\n",
        "from sklearn.preprocessing import LabelEncoder\n",
        "\n",
        "from keras.preprocessing.text import one_hot\n",
        "from keras.preprocessing.text import Tokenizer \n",
        "from keras.preprocessing.sequence import pad_sequences\n",
        "from keras.models import Sequential\n",
        "from keras.layers import Dense\n",
        "from keras.layers import Flatten\n",
        "from keras.layers.embeddings import Embedding\n",
        "from keras.layers.convolutional import Conv1D\n",
        "from keras.layers.convolutional import MaxPooling1D\n",
        "from keras.callbacks import EarlyStopping\n",
        "\n",
        "from string import punctuation\n",
        "\n",
        "from os import listdir\n",
        "\n",
        "from numpy import array\n",
        "from numpy import asarray\n",
        "from numpy import zeros\n",
        "\n",
        "from legalnlp.clean_functions import *\n",
        "\n",
        "clear_output()"
      ],
      "execution_count": null,
      "outputs": []
    },
    {
      "cell_type": "markdown",
      "metadata": {
        "id": "CHOhgv8n7GjM"
      },
      "source": [
        "## Carregando os dados"
      ]
    },
    {
      "cell_type": "markdown",
      "metadata": {
        "id": "k4IIaMWG_xD5"
      },
      "source": [
        "Nosso dataset esta em formato *json*. Para ficar em um formato mais conveniente, vamos transpor o dataset."
      ]
    },
    {
      "cell_type": "code",
      "metadata": {
        "colab": {
          "base_uri": "https://localhost:8080/",
          "height": 203
        },
        "id": "G9XaBkiF6LAe",
        "outputId": "d8e67b12-7f50-45ce-ae11-98bce047fc30"
      },
      "source": [
        "df=pd.read_csv('https://raw.githubusercontent.com/legalnlp21/legalnlp/main/demo/data_base.csv')\n",
        "df.drop(columns=['Unnamed: 0'],inplace=True)\n",
        "df.head()"
      ],
      "execution_count": null,
      "outputs": [
        {
          "output_type": "execute_result",
          "data": {
            "text/html": [
              "<div>\n",
              "<style scoped>\n",
              "    .dataframe tbody tr th:only-of-type {\n",
              "        vertical-align: middle;\n",
              "    }\n",
              "\n",
              "    .dataframe tbody tr th {\n",
              "        vertical-align: top;\n",
              "    }\n",
              "\n",
              "    .dataframe thead th {\n",
              "        text-align: right;\n",
              "    }\n",
              "</style>\n",
              "<table border=\"1\" class=\"dataframe\">\n",
              "  <thead>\n",
              "    <tr style=\"text-align: right;\">\n",
              "      <th></th>\n",
              "      <th>text</th>\n",
              "      <th>label</th>\n",
              "    </tr>\n",
              "  </thead>\n",
              "  <tbody>\n",
              "    <tr>\n",
              "      <th>0</th>\n",
              "      <td>Início da Execução Juntado 0008003-11.2018.8.2...</td>\n",
              "      <td>H:Suspenso</td>\n",
              "    </tr>\n",
              "    <tr>\n",
              "      <th>1</th>\n",
              "      <td>Ofício Requisitório - Comunicação - Protocolo ...</td>\n",
              "      <td>H:Arquivado</td>\n",
              "    </tr>\n",
              "    <tr>\n",
              "      <th>2</th>\n",
              "      <td>Arquivado Provisoriamente aguardando manifestação</td>\n",
              "      <td>H:Suspenso</td>\n",
              "    </tr>\n",
              "    <tr>\n",
              "      <th>3</th>\n",
              "      <td>Petição Juntada Juntada a petição diversa - Ti...</td>\n",
              "      <td>H:Ativo</td>\n",
              "    </tr>\n",
              "    <tr>\n",
              "      <th>4</th>\n",
              "      <td>Remetidos os Autos para o Arquivo Geral – Devo...</td>\n",
              "      <td>H:Arquivado</td>\n",
              "    </tr>\n",
              "  </tbody>\n",
              "</table>\n",
              "</div>"
            ],
            "text/plain": [
              "                                                text        label\n",
              "0  Início da Execução Juntado 0008003-11.2018.8.2...   H:Suspenso\n",
              "1  Ofício Requisitório - Comunicação - Protocolo ...  H:Arquivado\n",
              "2  Arquivado Provisoriamente aguardando manifestação   H:Suspenso\n",
              "3  Petição Juntada Juntada a petição diversa - Ti...      H:Ativo\n",
              "4  Remetidos os Autos para o Arquivo Geral – Devo...  H:Arquivado"
            ]
          },
          "metadata": {},
          "execution_count": 13
        }
      ]
    },
    {
      "cell_type": "code",
      "metadata": {
        "colab": {
          "base_uri": "https://localhost:8080/"
        },
        "id": "05IL0rD1AtI7",
        "outputId": "a0d01202-9cb9-4728-d8ec-11d8a824a3b6"
      },
      "source": [
        "df.shape"
      ],
      "execution_count": null,
      "outputs": [
        {
          "output_type": "execute_result",
          "data": {
            "text/plain": [
              "(6449, 2)"
            ]
          },
          "metadata": {},
          "execution_count": 14
        }
      ]
    },
    {
      "cell_type": "markdown",
      "metadata": {
        "id": "WVnNlojSAso9"
      },
      "source": [
        "O dataset é composto por um conjunto de 6449 processos classificados nas 3 categorias:\n",
        "* Ativo\n",
        "* Suspenso\n",
        "* Arquivado"
      ]
    },
    {
      "cell_type": "markdown",
      "metadata": {
        "id": "k246rN0qCEK6"
      },
      "source": [
        "Agora faremos a separação das categorias da nossa target, numerando de 0 a 2."
      ]
    },
    {
      "cell_type": "code",
      "metadata": {
        "id": "xXZDf4ZECWpJ",
        "colab": {
          "base_uri": "https://localhost:8080/",
          "height": 417
        },
        "outputId": "34ff6d64-8bee-43bb-b920-9d7d1a564fc3"
      },
      "source": [
        "encoder = LabelEncoder()\n",
        "encoder.fit(df['label'])\n",
        "df['encoded'] = encoder.transform(df['label'])\n",
        "df.drop(columns=['label'], inplace = True)\n",
        "df"
      ],
      "execution_count": null,
      "outputs": [
        {
          "output_type": "execute_result",
          "data": {
            "text/html": [
              "<div>\n",
              "<style scoped>\n",
              "    .dataframe tbody tr th:only-of-type {\n",
              "        vertical-align: middle;\n",
              "    }\n",
              "\n",
              "    .dataframe tbody tr th {\n",
              "        vertical-align: top;\n",
              "    }\n",
              "\n",
              "    .dataframe thead th {\n",
              "        text-align: right;\n",
              "    }\n",
              "</style>\n",
              "<table border=\"1\" class=\"dataframe\">\n",
              "  <thead>\n",
              "    <tr style=\"text-align: right;\">\n",
              "      <th></th>\n",
              "      <th>text</th>\n",
              "      <th>encoded</th>\n",
              "    </tr>\n",
              "  </thead>\n",
              "  <tbody>\n",
              "    <tr>\n",
              "      <th>0</th>\n",
              "      <td>Início da Execução Juntado 0008003-11.2018.8.2...</td>\n",
              "      <td>2</td>\n",
              "    </tr>\n",
              "    <tr>\n",
              "      <th>1</th>\n",
              "      <td>Ofício Requisitório - Comunicação - Protocolo ...</td>\n",
              "      <td>0</td>\n",
              "    </tr>\n",
              "    <tr>\n",
              "      <th>2</th>\n",
              "      <td>Arquivado Provisoriamente aguardando manifestação</td>\n",
              "      <td>2</td>\n",
              "    </tr>\n",
              "    <tr>\n",
              "      <th>3</th>\n",
              "      <td>Petição Juntada Juntada a petição diversa - Ti...</td>\n",
              "      <td>1</td>\n",
              "    </tr>\n",
              "    <tr>\n",
              "      <th>4</th>\n",
              "      <td>Remetidos os Autos para o Arquivo Geral – Devo...</td>\n",
              "      <td>0</td>\n",
              "    </tr>\n",
              "    <tr>\n",
              "      <th>...</th>\n",
              "      <td>...</td>\n",
              "      <td>...</td>\n",
              "    </tr>\n",
              "    <tr>\n",
              "      <th>6444</th>\n",
              "      <td>Remetidos os Autos para o Arquivo Geral – Devo...</td>\n",
              "      <td>2</td>\n",
              "    </tr>\n",
              "    <tr>\n",
              "      <th>6445</th>\n",
              "      <td>Certidão de Trânsito em Julgado com Baixa Expe...</td>\n",
              "      <td>0</td>\n",
              "    </tr>\n",
              "    <tr>\n",
              "      <th>6446</th>\n",
              "      <td>Petição Juntada Nº Protocolo: WSCB.19.70085805...</td>\n",
              "      <td>1</td>\n",
              "    </tr>\n",
              "    <tr>\n",
              "      <th>6447</th>\n",
              "      <td>Remetidos os Autos para o Tribunal de Justiça/...</td>\n",
              "      <td>1</td>\n",
              "    </tr>\n",
              "    <tr>\n",
              "      <th>6448</th>\n",
              "      <td>Arquivado Definitivamente</td>\n",
              "      <td>0</td>\n",
              "    </tr>\n",
              "  </tbody>\n",
              "</table>\n",
              "<p>6449 rows × 2 columns</p>\n",
              "</div>"
            ],
            "text/plain": [
              "                                                   text  encoded\n",
              "0     Início da Execução Juntado 0008003-11.2018.8.2...        2\n",
              "1     Ofício Requisitório - Comunicação - Protocolo ...        0\n",
              "2     Arquivado Provisoriamente aguardando manifestação        2\n",
              "3     Petição Juntada Juntada a petição diversa - Ti...        1\n",
              "4     Remetidos os Autos para o Arquivo Geral – Devo...        0\n",
              "...                                                 ...      ...\n",
              "6444  Remetidos os Autos para o Arquivo Geral – Devo...        2\n",
              "6445  Certidão de Trânsito em Julgado com Baixa Expe...        0\n",
              "6446  Petição Juntada Nº Protocolo: WSCB.19.70085805...        1\n",
              "6447  Remetidos os Autos para o Tribunal de Justiça/...        1\n",
              "6448                          Arquivado Definitivamente        0\n",
              "\n",
              "[6449 rows x 2 columns]"
            ]
          },
          "metadata": {},
          "execution_count": 15
        }
      ]
    },
    {
      "cell_type": "code",
      "metadata": {
        "colab": {
          "base_uri": "https://localhost:8080/"
        },
        "id": "Q60fpei5Q1o9",
        "outputId": "4e910132-79cc-405c-d859-65f6b4c457d8"
      },
      "source": [
        "X_textos = df['text'].apply(clean)\n",
        "X_textos.head(5)"
      ],
      "execution_count": null,
      "outputs": [
        {
          "output_type": "execute_result",
          "data": {
            "text/plain": [
              "0    início da execução juntado [processo] - - cump...\n",
              "1    ofício requisitório - - comunicação - - protoc...\n",
              "2    arquivado provisoriamente aguardando manifestação\n",
              "3    petição juntada juntada a petição diversa - - ...\n",
              "4    remetidos os autos para o arquivo geral – devo...\n",
              "Name: text, dtype: object"
            ]
          },
          "metadata": {},
          "execution_count": 16
        }
      ]
    },
    {
      "cell_type": "code",
      "metadata": {
        "colab": {
          "base_uri": "https://localhost:8080/"
        },
        "id": "fAIHkrlbCdZ0",
        "outputId": "3983f6b1-5395-4219-855a-973bebebd0c2"
      },
      "source": [
        "labels = np.array(df['encoded'])\n",
        "labels[:5]"
      ],
      "execution_count": null,
      "outputs": [
        {
          "output_type": "execute_result",
          "data": {
            "text/plain": [
              "array([2, 0, 2, 1, 0])"
            ]
          },
          "metadata": {},
          "execution_count": 17
        }
      ]
    },
    {
      "cell_type": "markdown",
      "metadata": {
        "id": "jVib4BEqAiBI"
      },
      "source": [
        "Com isso feito, podemos tratar nossos dados para que a rede possa interpreta-los e trabalhar de forma adequada."
      ]
    },
    {
      "cell_type": "markdown",
      "metadata": {
        "id": "aS8Hn-G6C23H"
      },
      "source": [
        "## Preparando os dados"
      ]
    },
    {
      "cell_type": "markdown",
      "metadata": {
        "id": "VqsU1Ci4C7Ck"
      },
      "source": [
        "O dataset que estamos usando não precisou de muito tratamento. Para as próprias aplicações, o leitor deve verificar com cautela as peculiaridades dos dados, antes de realizar a tokenização."
      ]
    },
    {
      "cell_type": "markdown",
      "metadata": {
        "id": "tJpdcmyzDVLQ"
      },
      "source": [
        "Com nossos textos tratados, vamos começar a prepará-los para serem recebidos pela rede neural. A estrutura basica da rede neural para NLP deve iniciar com uma camada chamada de \"embedding layer\". Essa camada é a responsável por traduzir as palavras para vetores. Ela fara isso a partir de uma matriz de pesos, onde cada i-ésima linha contém o vetor referente a i-ésima palavra.\n",
        "\n",
        "Portanto, devemos indexar cada tokem a um número natural, e representar nossos textos como vetores de indexação, ou seja, vetores com os números inteiros referentes a cada palavra. Para isso vamos tokenizar nosso corpo de texto utilizando o objeto *Tokenizer* do Keras. "
      ]
    },
    {
      "cell_type": "code",
      "metadata": {
        "id": "CbuxARSWEyH0",
        "colab": {
          "base_uri": "https://localhost:8080/"
        },
        "outputId": "16052ef4-635a-4e23-ede1-c8e22dc4eec5"
      },
      "source": [
        "t = Tokenizer()\n",
        "t.fit_on_texts(X_textos)\n",
        "tamanho_vocab = len(t.word_index) + 1\n",
        "encoded_textos = array(t.texts_to_sequences(X_textos))"
      ],
      "execution_count": null,
      "outputs": [
        {
          "output_type": "stream",
          "name": "stderr",
          "text": [
            "/usr/local/lib/python3.7/dist-packages/ipykernel_launcher.py:4: VisibleDeprecationWarning: Creating an ndarray from ragged nested sequences (which is a list-or-tuple of lists-or-tuples-or ndarrays with different lengths or shapes) is deprecated. If you meant to do this, you must specify 'dtype=object' when creating the ndarray\n",
            "  after removing the cwd from sys.path.\n"
          ]
        }
      ]
    },
    {
      "cell_type": "code",
      "metadata": {
        "colab": {
          "base_uri": "https://localhost:8080/"
        },
        "id": "15II9RMjFK37",
        "outputId": "b9da4e25-e5a8-482a-9657-519d9ad6436c"
      },
      "source": [
        "t.index_word[122], t.index_word[5], t.index_word[69], t.index_word[59], t.index_word[34], t.index_word[76], \"...\""
      ],
      "execution_count": null,
      "outputs": [
        {
          "output_type": "execute_result",
          "data": {
            "text/plain": [
              "('início', 'da', 'execução', 'juntado', 'processo', 'cumprimento', '...')"
            ]
          },
          "metadata": {},
          "execution_count": 19
        }
      ]
    },
    {
      "cell_type": "code",
      "metadata": {
        "colab": {
          "base_uri": "https://localhost:8080/"
        },
        "id": "_AhStGQzFoqr",
        "outputId": "9bf8c510-c64f-4716-c219-73e1393975bc"
      },
      "source": [
        "print(encoded_textos[0])"
      ],
      "execution_count": null,
      "outputs": [
        {
          "output_type": "stream",
          "name": "stdout",
          "text": [
            "[122, 5, 69, 59, 34, 76, 2, 56]\n"
          ]
        }
      ]
    },
    {
      "cell_type": "markdown",
      "metadata": {
        "id": "sLM1bSciFz4q"
      },
      "source": [
        "Cada vetor agora representa um texto, contúdo, cada um pode ter tamanhos distintos. Devemos padroniza-los, aplicando *zero-padding.*"
      ]
    },
    {
      "cell_type": "code",
      "metadata": {
        "colab": {
          "base_uri": "https://localhost:8080/"
        },
        "id": "_FHf-ZaBFRd_",
        "outputId": "fc1345f5-4e85-430e-db34-2aef06f83ed1"
      },
      "source": [
        "len_maior = 0\n",
        "for lista in encoded_textos:\n",
        "  if len(lista) > len_maior: len_maior = len(lista)\n",
        "\n",
        "len_maior"
      ],
      "execution_count": null,
      "outputs": [
        {
          "output_type": "execute_result",
          "data": {
            "text/plain": [
              "306"
            ]
          },
          "metadata": {},
          "execution_count": 21
        }
      ]
    },
    {
      "cell_type": "markdown",
      "metadata": {
        "id": "N7kn5y0cGgUa"
      },
      "source": [
        "Vamos usar a função \"pad_sequences\" do Keras para ajustar o tamanho dos textos para 306. Além disso, é recomendável que passemos os índices para \"float\"."
      ]
    },
    {
      "cell_type": "code",
      "metadata": {
        "colab": {
          "base_uri": "https://localhost:8080/"
        },
        "id": "eEucvRdpGfOd",
        "outputId": "41781382-09dd-4330-ead8-5130f8f0596c"
      },
      "source": [
        "padded_docs = pad_sequences(encoded_textos, maxlen=len_maior, padding='post').astype('float32')\n",
        "\n",
        "len(padded_docs[0])"
      ],
      "execution_count": null,
      "outputs": [
        {
          "output_type": "execute_result",
          "data": {
            "text/plain": [
              "306"
            ]
          },
          "metadata": {},
          "execution_count": 22
        }
      ]
    },
    {
      "cell_type": "markdown",
      "metadata": {
        "id": "CSk6jJdyHOxZ"
      },
      "source": [
        "Nossos textos estão prontos para serem recebidos pela rede neural, contudo, ainda é necessário gerar a camada de embbeding da rede. Faremos isso na próxima seção."
      ]
    },
    {
      "cell_type": "markdown",
      "metadata": {
        "id": "1OBPiQ8FHe45"
      },
      "source": [
        "Também devemos tratar o nosso vetor de categorias. Por padrão, nossa target deve estar em formato matricial, com 1 na coluna representante da categoria do texto daquela linha e 0 nas demais.\n",
        "\n",
        "Vamos usar o objeto \"OneHotEncoder\" do ScikitLearn e passar a matriz para a forma densa (objeto retorna na forma de matriz esparça). "
      ]
    },
    {
      "cell_type": "code",
      "metadata": {
        "colab": {
          "base_uri": "https://localhost:8080/"
        },
        "id": "NT3xnkJzG3cr",
        "outputId": "c4b5deaa-08fe-437b-fab0-05f51d0cffed"
      },
      "source": [
        "encoder = OneHotEncoder(handle_unknown='ignore')\n",
        "label_onehot = encoder.fit_transform(labels.reshape((-1,1))).todense()\n",
        "\n",
        "label_onehot[:3]"
      ],
      "execution_count": null,
      "outputs": [
        {
          "output_type": "execute_result",
          "data": {
            "text/plain": [
              "matrix([[0., 0., 1.],\n",
              "        [1., 0., 0.],\n",
              "        [0., 0., 1.]])"
            ]
          },
          "metadata": {},
          "execution_count": 23
        }
      ]
    },
    {
      "cell_type": "markdown",
      "metadata": {
        "id": "XwODax6gJYJj"
      },
      "source": [
        "Agora, com nossos dados preparados, começaremos a cuidar da \"embbeding layer\". "
      ]
    },
    {
      "cell_type": "markdown",
      "metadata": {
        "id": "mF2KqXCSJp8r"
      },
      "source": [
        "## Preparando as embeddings"
      ]
    },
    {
      "cell_type": "markdown",
      "metadata": {
        "id": "oyEM3_ZQ5sBD"
      },
      "source": [
        "Com o modelo carregado, já podemos estruturar a matriz de pesos. Neste caso específico, todas as palavras do corpo de texto dos dados estão contidas no vocabulário do modelo Word2Vec, contudo, o leitor deve ter o cuidado de tratar os casos em que essa equivalência não aconteça."
      ]
    },
    {
      "cell_type": "markdown",
      "metadata": {
        "id": "--X1RePT68GN"
      },
      "source": [
        "Vamos estruturar um dicionário, no qual cada chave é uma palavra do corpo do vocabulário do modelo e cada valor representa sua embbeding."
      ]
    },
    {
      "cell_type": "code",
      "metadata": {
        "id": "Mipcv8F47jeo"
      },
      "source": [
        "wv_dict = dict(zip(model.wv.index2word[:], model.wv.vectors[:]))"
      ],
      "execution_count": null,
      "outputs": []
    },
    {
      "cell_type": "markdown",
      "metadata": {
        "id": "yCQs9j3c7mWv"
      },
      "source": [
        "Para acelerar o treino da rede, e diminuir o tamanho da matriz de pesos, podemos fazer um dicionário somente com as palavras do *corpus*, pois geralmente, o vocabulário do modelo *pre-trained Word2Vec* é muito mais extenso que o necessário. "
      ]
    },
    {
      "cell_type": "code",
      "metadata": {
        "id": "bv8iy2OF8SrV"
      },
      "source": [
        "wv_dict_updated = {}\n",
        "for palavra in t.index_word.values():\n",
        "  if palavra in wv_dict.keys():\n",
        "    wv_dict_updated[palavra] = wv_dict[palavra]"
      ],
      "execution_count": null,
      "outputs": []
    },
    {
      "cell_type": "markdown",
      "metadata": {
        "id": "10p1dF1F6n28"
      },
      "source": [
        "Por fim, podemos estruturar a matriz de pesos, colocando a palavra de i-ésimo índice na i-ésima linha da matriz."
      ]
    },
    {
      "cell_type": "code",
      "metadata": {
        "colab": {
          "base_uri": "https://localhost:8080/"
        },
        "id": "RnopJgYe8rEQ",
        "outputId": "2b6a5654-5ac4-4dd8-85db-af6897da3456"
      },
      "source": [
        "matriz_de_pesos = zeros((tamanho_vocab, 100))\n",
        "for palavra, i in t.word_index.items():\n",
        "  vetor_embed =  wv_dict_updated.get(palavra)\n",
        "  if vetor_embed is not None:\n",
        "    matriz_de_pesos[i] = vetor_embed\n",
        "\n",
        "matriz_de_pesos.shape"
      ],
      "execution_count": null,
      "outputs": [
        {
          "output_type": "execute_result",
          "data": {
            "text/plain": [
              "(2827, 100)"
            ]
          },
          "metadata": {},
          "execution_count": 26
        }
      ]
    },
    {
      "cell_type": "markdown",
      "metadata": {
        "id": "BLn_LSKJ9SPb"
      },
      "source": [
        "## Treinando o modelo"
      ]
    },
    {
      "cell_type": "markdown",
      "metadata": {
        "id": "9n7XjYRB9jSN"
      },
      "source": [
        "Com nossos dados codificados, e nossa matriz de pesos pronta, podemos começar a estruturar nossa Rede Neural. Nosso modelo será uma Rede Neural Convolucional, ou seja, aplicaremos uma camada de filtragem e em seguida uma camada de *pooling*, buscando ressaltar informações importantes das *embbedings*. \n",
        "\n",
        "Nossa rede terá a seguinte estrutura:\n",
        "1. A primeira camada de *embbeding*, que fara a codificação das palavras (representadas como índices) nos seus respectivos vetores.\n",
        "2. A segunda será uma camada convolucional, com 128 filtros no output, *kernel* de tamanho 5 e função de ativação 'ReLU'.\n",
        "3. A terceira camada será a *MaxPooling* de tamanho 2.\n",
        "4. Como o output da 3ª camada é um tensor, a quarta camada será uma camada de \"achatamento\".\n",
        "5. Por fim, a camada do output, de tamanho 3 e função de ativação *softmax*."
      ]
    },
    {
      "cell_type": "code",
      "metadata": {
        "id": "rlub9n_C9R3L"
      },
      "source": [
        "emb = Embedding(tamanho_vocab, 100, weights = [matriz_de_pesos], input_length=len_maior, trainable = False)\n",
        "\n",
        "rede = Sequential()\n",
        "\n",
        "rede.add(emb)\n",
        "rede.add(Conv1D(filters=128, kernel_size=5, activation='relu'))\n",
        "rede.add(MaxPooling1D(pool_size=2))\n",
        "rede.add(Flatten())\n",
        "rede.add(Dense(3, activation='softmax'))"
      ],
      "execution_count": null,
      "outputs": []
    },
    {
      "cell_type": "markdown",
      "metadata": {
        "id": "2-Sa_0gSAXIe"
      },
      "source": [
        "Para terminar a estrutura da rede, vamos usar a função perda como 'categorical_crossentropy', o caso categórico da entropia cruzda, para o otimizador ultilizaremos o 'adam' e a métrica de avaliação será a acurácia. Podemos ver a arquitetura utilizando o método \"*Sequential().summary()*\"."
      ]
    },
    {
      "cell_type": "code",
      "metadata": {
        "colab": {
          "base_uri": "https://localhost:8080/"
        },
        "id": "J6YSMgojBGcz",
        "outputId": "efc7f885-1289-4abd-cf51-3631420ecbb2"
      },
      "source": [
        "rede.compile(optimizer='adam', loss='categorical_crossentropy', metrics=['accuracy'])\n",
        "print(rede.summary())"
      ],
      "execution_count": null,
      "outputs": [
        {
          "output_type": "stream",
          "name": "stdout",
          "text": [
            "Model: \"sequential\"\n",
            "_________________________________________________________________\n",
            "Layer (type)                 Output Shape              Param #   \n",
            "=================================================================\n",
            "embedding (Embedding)        (None, 306, 100)          282700    \n",
            "_________________________________________________________________\n",
            "conv1d (Conv1D)              (None, 302, 128)          64128     \n",
            "_________________________________________________________________\n",
            "max_pooling1d (MaxPooling1D) (None, 151, 128)          0         \n",
            "_________________________________________________________________\n",
            "flatten (Flatten)            (None, 19328)             0         \n",
            "_________________________________________________________________\n",
            "dense (Dense)                (None, 3)                 57987     \n",
            "=================================================================\n",
            "Total params: 404,815\n",
            "Trainable params: 122,115\n",
            "Non-trainable params: 282,700\n",
            "_________________________________________________________________\n",
            "None\n"
          ]
        }
      ]
    },
    {
      "cell_type": "markdown",
      "metadata": {
        "id": "_bWrwUvwBOne"
      },
      "source": [
        "Vamos separar nossos dados em dados de treino e teste."
      ]
    },
    {
      "cell_type": "code",
      "metadata": {
        "id": "1Elh0HQwBOOw"
      },
      "source": [
        "X_treino, X_teste, y_treino, y_teste = train_test_split(padded_docs, label_onehot, random_state=42, train_size=0.7, test_size=0.3)"
      ],
      "execution_count": null,
      "outputs": []
    },
    {
      "cell_type": "markdown",
      "metadata": {
        "id": "n64Ib0kxBYZS"
      },
      "source": [
        "Por fim, podemos treinar o modelo e verificar nossos resultados. "
      ]
    },
    {
      "cell_type": "code",
      "metadata": {
        "colab": {
          "base_uri": "https://localhost:8080/"
        },
        "id": "7Qp3FHJoBIr_",
        "outputId": "58822a22-e7e0-459a-8983-1fce11a08a23"
      },
      "source": [
        "rede.fit(X_treino, y_treino, epochs=50, validation_split=0.1, batch_size=500, verbose=1,  callbacks=[EarlyStopping(monitor='val_loss', patience=15)])"
      ],
      "execution_count": null,
      "outputs": [
        {
          "output_type": "stream",
          "name": "stdout",
          "text": [
            "Epoch 1/50\n",
            "9/9 [==============================] - 7s 683ms/step - loss: 0.9392 - accuracy: 0.6763 - val_loss: 0.7604 - val_accuracy: 0.7810\n",
            "Epoch 2/50\n",
            "9/9 [==============================] - 6s 665ms/step - loss: 0.6604 - accuracy: 0.7839 - val_loss: 0.5643 - val_accuracy: 0.8075\n",
            "Epoch 3/50\n",
            "9/9 [==============================] - 6s 660ms/step - loss: 0.4997 - accuracy: 0.8038 - val_loss: 0.6195 - val_accuracy: 0.8075\n",
            "Epoch 4/50\n",
            "9/9 [==============================] - 6s 664ms/step - loss: 0.4542 - accuracy: 0.8173 - val_loss: 0.6036 - val_accuracy: 0.8164\n",
            "Epoch 5/50\n",
            "9/9 [==============================] - 6s 660ms/step - loss: 0.4154 - accuracy: 0.8215 - val_loss: 0.5286 - val_accuracy: 0.8429\n",
            "Epoch 6/50\n",
            "9/9 [==============================] - 6s 657ms/step - loss: 0.3843 - accuracy: 0.8589 - val_loss: 0.4806 - val_accuracy: 0.8363\n",
            "Epoch 7/50\n",
            "9/9 [==============================] - 6s 662ms/step - loss: 0.3736 - accuracy: 0.8685 - val_loss: 0.4549 - val_accuracy: 0.8562\n",
            "Epoch 8/50\n",
            "9/9 [==============================] - 6s 667ms/step - loss: 0.3662 - accuracy: 0.8570 - val_loss: 0.4270 - val_accuracy: 0.8628\n",
            "Epoch 9/50\n",
            "9/9 [==============================] - 6s 667ms/step - loss: 0.3415 - accuracy: 0.8717 - val_loss: 0.4349 - val_accuracy: 0.8451\n",
            "Epoch 10/50\n",
            "9/9 [==============================] - 6s 658ms/step - loss: 0.3322 - accuracy: 0.8796 - val_loss: 0.4201 - val_accuracy: 0.8584\n",
            "Epoch 11/50\n",
            "9/9 [==============================] - 6s 661ms/step - loss: 0.3252 - accuracy: 0.8796 - val_loss: 0.4279 - val_accuracy: 0.8584\n",
            "Epoch 12/50\n",
            "9/9 [==============================] - 6s 660ms/step - loss: 0.3186 - accuracy: 0.8811 - val_loss: 0.4317 - val_accuracy: 0.8540\n",
            "Epoch 13/50\n",
            "9/9 [==============================] - 6s 667ms/step - loss: 0.3114 - accuracy: 0.8863 - val_loss: 0.4768 - val_accuracy: 0.7965\n",
            "Epoch 14/50\n",
            "9/9 [==============================] - 6s 662ms/step - loss: 0.3317 - accuracy: 0.8676 - val_loss: 0.4254 - val_accuracy: 0.8584\n",
            "Epoch 15/50\n",
            "9/9 [==============================] - 6s 663ms/step - loss: 0.3099 - accuracy: 0.8813 - val_loss: 0.4162 - val_accuracy: 0.8606\n",
            "Epoch 16/50\n",
            "9/9 [==============================] - 6s 659ms/step - loss: 0.3080 - accuracy: 0.8885 - val_loss: 0.4232 - val_accuracy: 0.8650\n",
            "Epoch 17/50\n",
            "9/9 [==============================] - 6s 658ms/step - loss: 0.3059 - accuracy: 0.8870 - val_loss: 0.4629 - val_accuracy: 0.8053\n",
            "Epoch 18/50\n",
            "9/9 [==============================] - 6s 662ms/step - loss: 0.3204 - accuracy: 0.8759 - val_loss: 0.4400 - val_accuracy: 0.8673\n",
            "Epoch 19/50\n",
            "9/9 [==============================] - 6s 665ms/step - loss: 0.3159 - accuracy: 0.8843 - val_loss: 0.4500 - val_accuracy: 0.8496\n",
            "Epoch 20/50\n",
            "9/9 [==============================] - 6s 662ms/step - loss: 0.3051 - accuracy: 0.8840 - val_loss: 0.4401 - val_accuracy: 0.8628\n",
            "Epoch 21/50\n",
            "9/9 [==============================] - 6s 654ms/step - loss: 0.2982 - accuracy: 0.8936 - val_loss: 0.4346 - val_accuracy: 0.8673\n",
            "Epoch 22/50\n",
            "9/9 [==============================] - 6s 659ms/step - loss: 0.3035 - accuracy: 0.8840 - val_loss: 0.4292 - val_accuracy: 0.8606\n",
            "Epoch 23/50\n",
            "9/9 [==============================] - 6s 665ms/step - loss: 0.2970 - accuracy: 0.8895 - val_loss: 0.4508 - val_accuracy: 0.8473\n",
            "Epoch 24/50\n",
            "9/9 [==============================] - 6s 660ms/step - loss: 0.2988 - accuracy: 0.8855 - val_loss: 0.4202 - val_accuracy: 0.8584\n",
            "Epoch 25/50\n",
            "9/9 [==============================] - 6s 662ms/step - loss: 0.2902 - accuracy: 0.8902 - val_loss: 0.4540 - val_accuracy: 0.7987\n",
            "Epoch 26/50\n",
            "9/9 [==============================] - 6s 659ms/step - loss: 0.2986 - accuracy: 0.8784 - val_loss: 0.4284 - val_accuracy: 0.8496\n",
            "Epoch 27/50\n",
            "9/9 [==============================] - 6s 656ms/step - loss: 0.2944 - accuracy: 0.8882 - val_loss: 0.4313 - val_accuracy: 0.8650\n",
            "Epoch 28/50\n",
            "9/9 [==============================] - 6s 655ms/step - loss: 0.2867 - accuracy: 0.8912 - val_loss: 0.4144 - val_accuracy: 0.8650\n",
            "Epoch 29/50\n",
            "9/9 [==============================] - 6s 655ms/step - loss: 0.2827 - accuracy: 0.8949 - val_loss: 0.4152 - val_accuracy: 0.8584\n",
            "Epoch 30/50\n",
            "9/9 [==============================] - 6s 659ms/step - loss: 0.2947 - accuracy: 0.8858 - val_loss: 0.4578 - val_accuracy: 0.8628\n",
            "Epoch 31/50\n",
            "9/9 [==============================] - 6s 664ms/step - loss: 0.2824 - accuracy: 0.8932 - val_loss: 0.4242 - val_accuracy: 0.8673\n",
            "Epoch 32/50\n",
            "9/9 [==============================] - 6s 663ms/step - loss: 0.2738 - accuracy: 0.8961 - val_loss: 0.4226 - val_accuracy: 0.8473\n",
            "Epoch 33/50\n",
            "9/9 [==============================] - 6s 669ms/step - loss: 0.2708 - accuracy: 0.8932 - val_loss: 0.4397 - val_accuracy: 0.8562\n",
            "Epoch 34/50\n",
            "9/9 [==============================] - 6s 663ms/step - loss: 0.2777 - accuracy: 0.8941 - val_loss: 0.4350 - val_accuracy: 0.8584\n",
            "Epoch 35/50\n",
            "9/9 [==============================] - 6s 661ms/step - loss: 0.2831 - accuracy: 0.8944 - val_loss: 0.4618 - val_accuracy: 0.8540\n",
            "Epoch 36/50\n",
            "9/9 [==============================] - 6s 662ms/step - loss: 0.3079 - accuracy: 0.8927 - val_loss: 0.4462 - val_accuracy: 0.8540\n",
            "Epoch 37/50\n",
            "9/9 [==============================] - 6s 665ms/step - loss: 0.2877 - accuracy: 0.8971 - val_loss: 0.4441 - val_accuracy: 0.8695\n",
            "Epoch 38/50\n",
            "9/9 [==============================] - 6s 663ms/step - loss: 0.2807 - accuracy: 0.8939 - val_loss: 0.4301 - val_accuracy: 0.8584\n",
            "Epoch 39/50\n",
            "9/9 [==============================] - 6s 661ms/step - loss: 0.2788 - accuracy: 0.8929 - val_loss: 0.4361 - val_accuracy: 0.8562\n",
            "Epoch 40/50\n",
            "9/9 [==============================] - 6s 661ms/step - loss: 0.2828 - accuracy: 0.8941 - val_loss: 0.4522 - val_accuracy: 0.8540\n",
            "Epoch 41/50\n",
            "9/9 [==============================] - 6s 659ms/step - loss: 0.2746 - accuracy: 0.8914 - val_loss: 0.4373 - val_accuracy: 0.8606\n",
            "Epoch 42/50\n",
            "9/9 [==============================] - 6s 667ms/step - loss: 0.2787 - accuracy: 0.8897 - val_loss: 0.4375 - val_accuracy: 0.8496\n",
            "Epoch 43/50\n",
            "9/9 [==============================] - 6s 669ms/step - loss: 0.2806 - accuracy: 0.8922 - val_loss: 0.4471 - val_accuracy: 0.8518\n"
          ]
        },
        {
          "output_type": "execute_result",
          "data": {
            "text/plain": [
              "<keras.callbacks.History at 0x7fdcae9d6310>"
            ]
          },
          "metadata": {},
          "execution_count": 30
        }
      ]
    },
    {
      "cell_type": "code",
      "metadata": {
        "colab": {
          "base_uri": "https://localhost:8080/"
        },
        "id": "Ek2GUT_nBiG7",
        "outputId": "f762af25-1c55-4637-be58-b0283291f793"
      },
      "source": [
        "loss, acc_treino = rede.evaluate(X_treino, y_treino, verbose=0)\n",
        "loss2, acc_teste = rede.evaluate(X_teste, y_teste, verbose=0)\n",
        "print(f'Acurácia no treino: {round(acc_treino*100, 2)}%')\n",
        "print(f'Acurácia no teste: {round(acc_teste*100, 2)}%')"
      ],
      "execution_count": null,
      "outputs": [
        {
          "output_type": "stream",
          "name": "stdout",
          "text": [
            "Acurácia no treino: 89.34%\n",
            "Acurácia no teste: 84.55%\n"
          ]
        }
      ]
    },
    {
      "cell_type": "code",
      "metadata": {
        "id": "T61i5sg5Da1g"
      },
      "source": [
        "predict = rede.predict(X_teste)"
      ],
      "execution_count": null,
      "outputs": []
    },
    {
      "cell_type": "code",
      "metadata": {
        "colab": {
          "base_uri": "https://localhost:8080/"
        },
        "id": "dFdq0E3w_Gp1",
        "outputId": "fa08f9f7-d81c-451f-9f9b-a8badc7d8cd0"
      },
      "source": [
        "predict1 = np.argmax(predict, axis=1)\n",
        "\n",
        "y_teste1 = np.argmax(y_teste, axis=1)\n",
        "np.array(y_teste1.reshape(1,-1))[0]"
      ],
      "execution_count": null,
      "outputs": [
        {
          "output_type": "execute_result",
          "data": {
            "text/plain": [
              "array([2, 1, 1, ..., 1, 0, 1])"
            ]
          },
          "metadata": {},
          "execution_count": 33
        }
      ]
    },
    {
      "cell_type": "code",
      "metadata": {
        "colab": {
          "base_uri": "https://localhost:8080/"
        },
        "id": "v9U9RC7H8q6Q",
        "outputId": "1ee6ad8e-75b0-4614-bf43-90dbad4bf956"
      },
      "source": [
        "print(classification_report(y_teste1, predict1, labels=[0,1,2]))"
      ],
      "execution_count": null,
      "outputs": [
        {
          "output_type": "stream",
          "name": "stdout",
          "text": [
            "              precision    recall  f1-score   support\n",
            "\n",
            "           0       0.90      0.81      0.85       923\n",
            "           1       0.80      0.93      0.86       864\n",
            "           2       0.88      0.58      0.70       148\n",
            "\n",
            "    accuracy                           0.85      1935\n",
            "   macro avg       0.86      0.77      0.80      1935\n",
            "weighted avg       0.85      0.85      0.84      1935\n",
            "\n"
          ]
        }
      ]
    },
    {
      "cell_type": "code",
      "metadata": {
        "colab": {
          "base_uri": "https://localhost:8080/"
        },
        "id": "fbKfb8S8EiMZ",
        "outputId": "9f193e4d-b326-40d8-f7b1-4f6c0b5bd151"
      },
      "source": [
        "cm = confusion_matrix(y_teste1, predict1)\n",
        "sns.heatmap(cm , fmt=\".3g\", annot= True, cmap=\"Greens\")\n",
        "\n",
        "plt.show()"
      ],
      "execution_count": null,
      "outputs": [
        {
          "output_type": "display_data",
          "data": {
            "image/png": "[encoded data removed]",
            "text/plain": [
              "<Figure size 432x288 with 2 Axes>"
            ]
          },
          "metadata": {
            "needs_background": "light"
          }
        }
      ]
    },
    {
      "cell_type": "markdown",
      "metadata": {
        "id": "NaFItkMbBhPF"
      },
      "source": [
        "Como tivemos uma boa acurácia no conjunto de validação, podemos dizer que nosso modelo teve uma boa performance no geral. \n",
        "\n",
        "Uma analise mais aprofundada nos dados e na arquitetura da rede poderia levar a performances ainda melhores. Essas análises no entanto fogem do escopo deste tutorial, contudo, encorajamos o leitor a elaborar modelos que performem ainda melhor, e a realizar uma análise e engenharia de dados ainda mais aprofundada. \n",
        "\n",
        "Esperamos ter ajudado. \n",
        "\n",
        ":D"
      ]
    },
    {
      "cell_type": "markdown",
      "metadata": {
        "id": "S2wpqmotoR_w"
      },
      "source": [
        "#Referências"
      ]
    },
    {
      "cell_type": "markdown",
      "metadata": {
        "id": "53qIOjuTofIW"
      },
      "source": [
        "[1] Mikolov, T., Chen, K., Corrado, G., and Dean, J. (2013a).  Efficient estimation ofword representations in vector space.arXiv preprint arXiv:1301.3781. \\\\\n",
        "[2] Mikolov,  T.,  Sutskever,  I.,  Chen,  K.,  Corrado,  G. S.,  and Dean,  J. (2013b).   Distributed representations of words and phrases and their compositionality.  In Advances in neural information processing systems, pages 3111–3119. \\\\\n",
        "[3] Brownlee Jason(2017). https://machinelearningmastery.com/develop-word-embedding-model-predicting-movie-review-sentiment/ - acesso em: 04/08/2021.  \\\\\n",
        "[4] Brownlee Jason(2017). https://machinelearningmastery.com/best-practices-document-classification-deep-learning/ - acesso em: 04/08/2021.  \\\\\n",
        "[5] Brownlee Jason(2017). https://machinelearningmastery.com/use-word-embedding-layers-deep-learning-keras/ - acesso em: 04/08/2021. \\\\"
      ]
    }
  ]
}