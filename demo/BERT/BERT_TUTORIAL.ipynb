{
  "nbformat": 4,
  "nbformat_minor": 0,
  "metadata": {
    "colab": {
      "name": "BERT - TUTORIAL.ipynb",
      "provenance": [],
      "collapsed_sections": [],
      "include_colab_link": true
    },
    "kernelspec": {
      "name": "python3",
      "display_name": "Python 3"
    },
    "language_info": {
      "name": "python"
    },
    "accelerator": "GPU"
  },
  "cells": [
    {
      "cell_type": "markdown",
      "metadata": {
        "id": "view-in-github",
        "colab_type": "text"
      },
      "source": [
        "<a href=\"https://colab.research.google.com/github/legalnlp21/legalnlp/blob/main/demo/BERT/BERT_TUTORIAL.ipynb\" target=\"_parent\"><img src=\"https://colab.research.google.com/assets/colab-badge.svg\" alt=\"Open In Colab\"/></a>"
      ]
    },
    {
      "cell_type": "code",
      "metadata": {
        "id": "86buPegRZ5z_"
      },
      "source": [
        "from IPython.display import Image\n",
        "from IPython.display import clear_output "
      ],
      "execution_count": null,
      "outputs": []
    },
    {
      "cell_type": "markdown",
      "metadata": {
        "id": "nxuwhkTDTPaQ"
      },
      "source": [
        "#Ideias"
      ]
    },
    {
      "cell_type": "markdown",
      "metadata": {
        "id": "8sHC_3PfSwOd"
      },
      "source": [
        "ideia imagens: \n",
        "\n",
        "* uploadar pro github e pegar de lá, por enquanto usa o gdrive \\\n",
        "* [imagens - tutorial](http://jalammar.github.io/illustrated-bert/)\n",
        "* Traduzir as imagens em inglês em port. (refazer todas para ficar em nossa autoria), c.c. só upar mesmo "
      ]
    },
    {
      "cell_type": "markdown",
      "metadata": {
        "id": "FcWsY0-BaAVH"
      },
      "source": [
        "# Introdução\n"
      ]
    },
    {
      "cell_type": "markdown",
      "metadata": {
        "id": "XcuhPn6AaEuv"
      },
      "source": [
        "Com o amadurecimento das Redes Neurais Recorrentes (RNNs, em inglês), veio o surgimento e desenvolvimento de modelos de processamento de linguagem natural (PLN) mais complexos, capazes de compreender cada vez mais sentenças e seus contextos em um conjunto de textos. Como exemplo de uma aplicação dessas redes, temos o **BERT**, que é um modelo de aprendizado profundo bastante utilizado em diversas tarefas de processamento de linguagem natural.\n",
        "\n",
        "BERT significa **B**idirectional **E**ncoder **R**epresentations for **T**ransformers e foi desenvolvido por pesquisadores do $\\textit{Google AI Language}$ em 2018 e apresentado ao público em 2019, obtendo resultados espetaculares, conforme seu [artigo original](https://arxiv.org/pdf/1810.04805.pdf). Além disso, os [códigos do modelo](https://github.com/google-research/bert) também foram liberados pela equipe.\n",
        "\n",
        "Sendo utilizado ainda como inspiração em diversas arquiteturas de PLN, formas de treinamento e modelos de linguagem natural, como XLNet, ERNIE2.0, RoBERTa, entre outros."
      ]
    },
    {
      "cell_type": "markdown",
      "metadata": {
        "id": "Am1f10iCaVoT"
      },
      "source": [
        "##O que é o BERT e como funciona"
      ]
    },
    {
      "cell_type": "markdown",
      "metadata": {
        "id": "0vFz-PqOSWq7"
      },
      "source": [
        "O que faz o BERT ser um modelo que se destaca é o fato dele utilizar um treinamento bidirecional do Transformer, que é um tipo de mecanismo de atenção muito efieciente que aprende as relações entre as componentes de um determinado texto.\n",
        "\n",
        "Os Transformers funcionam com dois mecanismos: o $\\textit{encoder}$ e o $\\textit{decoder}$. Basicamente, o encoder funciona transformando o input recebido em contexto e o decoder funciona transformando esse contexto em algum outro objetivo, como por exemplo a tradução para uma outra língua.\n",
        "\n",
        "Para mais informações sobre os Tranformers, leia o artigo original em que foi apresentado: [Attention is all you need](https://arxiv.org/pdf/1706.03762.pdf).\n",
        "\n",
        "\n",
        "Diferentemente dos modelos unidirecionais baseados em \"contexto livre\", como é o caso do $\\textit{word2vec}$, gerando um $\\textit{embedding}$ (representação do espaço das palavras no espaço real) igual para uma determinada palavra independentemente do seu contexto, o BERT, por ser um modelo bidirecional, consegue extrair o significado da palavra em cada contexto, por isso é chamado também de um \"modelo contextual\".\n",
        "\n",
        "Para exemplificar o parágrafo acima, pense na palavra \"banco\". Nos modelos livres de contexto, essa palavra teria a mesma representação independentemente do seu contexto, embora banco representando uma agência bancária é diferente do banco de uma praça, por exemplo. Por sua vez, os modelos baseados em contexto, identificam cada palavra em seu contexto.  [**imagem abaixo sobre ”fui ao banco\n",
        "hoje” e ”sentei-me no banco da praça”**](https://nlp.stanford.edu/seminar/details/jdevlin.pdf) \n",
        " \n",
        "Além disso, o BERT foi treinado utilizando uma enorme quantidade de dados não rotulados da Wikipedia (cerca de 2,5 bilhões de palavras) e em corpus de livros (cerca de 800 milhões de palavras).\n",
        "\n",
        "Agora veremos brevemente a arquitetura desse modelo.\n"
      ]
    },
    {
      "cell_type": "markdown",
      "metadata": {
        "id": "bDJG3cafQ51J"
      },
      "source": [
        "##Arquitetura"
      ]
    },
    {
      "cell_type": "markdown",
      "metadata": {
        "id": "BoRcRARcQ8EQ"
      },
      "source": [
        "Quanto à arquitetura, o BERT possui dois tipos, de acordo com o artigo citado acima: o Base e o Large. As diferenças estão listadas abaixo:\n",
        "\n",
        "**BERTBASE:** \n",
        "\n",
        "  * L = 12 \\\n",
        "  * H = 768 \\\n",
        "  * A = 12 \\\n",
        "  * Total de Parâmetros = 110 milhões\n",
        "\n",
        "**BERTLARGE:**\n",
        "\n",
        "  * L = 24 \\\n",
        "  * H = 1024 \\\n",
        "  * A = 16 \\\n",
        "  * Total de Parâmetros = 340 milhões\n",
        "\n",
        "\\\n",
        "**Onde**:\\\n",
        "    L = Número de camadas (Blocos Transformer)\\\n",
        "    H = Quantidade de unidades na rede neural\\\n",
        "    A = Cabeças de auto-atenção"
      ]
    },
    {
      "cell_type": "markdown",
      "metadata": {
        "id": "w_BDD6fyUPde"
      },
      "source": [
        "[imagem](http://jalammar.github.io/images/bert-base-bert-large-encoders.png)"
      ]
    },
    {
      "cell_type": "markdown",
      "metadata": {
        "id": "rJyT8Cp3hb99"
      },
      "source": [
        "### Entrada do Modelo"
      ]
    },
    {
      "cell_type": "markdown",
      "metadata": {
        "id": "T-DHUwyxhePA"
      },
      "source": [
        "A entrada do modelo pode ser composta por uma sentença ou por um par de sentenças, com tamanho máximo suportado pelo modelo de 512 tokens. O BERT utiliza a tokenização WordPiece.\n",
        "\n",
        "O primeiro token de entrada é sempre marcado como [CLS], que é um token especial de classificação. Quando duas frases entram no modelo, elas podem ser diferenciadas por meio do token [SEP].\n",
        "\n",
        "[imagem1](http://jalammar.github.io/images/bert-output-vector.png) e [imagem2](https://s3-ap-south-1.amazonaws.com/av-blog-media/wp-content/uploads/2019/09/bert_emnedding.png)\n",
        "\n",
        "Para um dado token de entrada, sua forma é dada por um embedding da soma de 3 outros tokens, como visto na figura acima. São eles:\n",
        "\n",
        "* **Position Embeddings**: O modelo aprende e utiliza embeddings de posição para expressar a posição/ordem das palavras na sentença. \n",
        "\n",
        "* **Segment Embeddings**: O BERT recebe pares de sentenças e utiliza embeddings para o modelo aprender e conseguir distingui-las.  \n",
        "\n",
        "* **Token Embeddings**: São embeddings específicos, aprendidos através do vocabulário do WordPiece.\n",
        "\n"
      ]
    },
    {
      "cell_type": "markdown",
      "metadata": {
        "id": "qJ-e2fKusHpj"
      },
      "source": [
        "### Saída do Modelo"
      ]
    },
    {
      "cell_type": "markdown",
      "metadata": {
        "id": "1aHs8X5ZsLlC"
      },
      "source": [
        "Já a saída do modelo consiste em um vetor de tamanho $\\textit{hidden_size}$, que no caso do BERT BASE é 768 para cada token de entrada, que também pode ser visto como uma representação vetorial real daquele determinado token."
      ]
    },
    {
      "cell_type": "markdown",
      "metadata": {
        "id": "i6hRrVVjAiEB"
      },
      "source": [
        "## Pré Treinamento"
      ]
    },
    {
      "cell_type": "markdown",
      "metadata": {
        "id": "goMCRE6XAkG2"
      },
      "source": [
        "O BERT possui 2 estratégias de pré treinamento: Masked Language Model (MLM) e Next Sentence Prediction (NSP)."
      ]
    },
    {
      "cell_type": "markdown",
      "metadata": {
        "id": "wti5YhcECm_R"
      },
      "source": [
        "### **Masked LM (MLM)**"
      ]
    },
    {
      "cell_type": "markdown",
      "metadata": {
        "id": "p2y55E72CqFh"
      },
      "source": [
        "Nessa abordagem, são mascarados ([MASK]) aleatoriamente $15\\%$ dos tokens de entrada e então feita a predição apenas desses tokens mascarados por meio de uma função $\\textit{softmax}$. \n",
        "\n",
        "Porém, surge um problema com essa abordagem: É criado um desbalanceamento entre a fase de pré-treinamento e a fase de ajuste-fino (fine-tuning), pois o token [MASK] não aparece na última. Para solucionar isso, é realizado, dentro dos $15\\%$ dos tokens aleatoriamente selecionados:\n",
        "\n",
        "\\\n",
        "* $80\\%$ das vezes é sustituído com [MASK]:\n",
        "\n",
        "$\\quad\\quad\\quad$ Fui ao banco $\\rightarrow$ Fui ao [MASK]\n",
        "\n",
        "\\\n",
        "* $10\\%$ das vezes é susbtituído com alguma palavra aleatória:\n",
        "\n",
        "$\\quad\\quad\\quad$ Fui ao banco $\\rightarrow$ Fui ao chovendo\n",
        "\n",
        "\\\n",
        "* $10\\%$ das vezes é mantido a mesma palavra\n",
        "\n",
        "$\\quad\\quad\\quad$ Fui ao banco $\\rightarrow$ Fui ao banco\n",
        "\n",
        "[Imagem](https://lh4.googleusercontent.com/hyY2qeyjQrpO78dZHRVkEQEinPlwhRwImKyOECM2BbzlfaL1zxYzMDzaywb2Qt7k3eGh06SwoVx-e18Twn_vmh8-PoaqZmefSHG6h0FHS0aIEVdLU5mdaUttDSeyu3_ElK7QDszs)"
      ]
    },
    {
      "cell_type": "code",
      "metadata": {
        "id": "Su5-ve--EV63"
      },
      "source": [
        "# example\n",
        "# Input Sequence  : The man went to [MASK] store with [MASK] dog\n",
        "# Target Sequence :                  the                his"
      ],
      "execution_count": null,
      "outputs": []
    },
    {
      "cell_type": "markdown",
      "metadata": {
        "id": "UiST_osLMJLN"
      },
      "source": [
        "### **Next Sentence Prediction (NSP)**"
      ]
    },
    {
      "cell_type": "markdown",
      "metadata": {
        "id": "DIvyDwkXMO0a"
      },
      "source": [
        "Essa estratégia, por sua vez, se caracteriza por focar nas relações entre as sentenças, pré-treinando assim para uma tarefa de predição de próximas sentenças em que são possíveis apenas 2 resultados, \"IsNext\", caso a sentença B seja a próxima sentença de A ou \"NotNext\" caso contrário.\n",
        "\n",
        "Para essa tarefa, os dados de treino consistem de $50\\%$ dos dados rotulados como \"IsNext\" e os outros $50\\%$ como \"NotNext\", e é aplicada em conjunto com a estratégia de Masked ML explicada acima."
      ]
    },
    {
      "cell_type": "markdown",
      "metadata": {
        "id": "xUfWL1aoJaBd"
      },
      "source": [
        "Exemplos:\n",
        "\n",
        "Input = [CLS] the man went to [MASK] store [SEP]\n",
        "he bought a gallon [MASK] milk [SEP]\n",
        "\n",
        "Label = IsNext\n",
        "\n",
        "Input = [CLS] the man [MASK] to the store [SEP]\n",
        "penguin [MASK] are flight ##less birds [SEP]\n",
        "\n",
        "Label = NotNext\n"
      ]
    },
    {
      "cell_type": "markdown",
      "metadata": {
        "id": "2vDvFQfyRO1U"
      },
      "source": [
        "# Utilizando o BERT: **Fine-Tuning** "
      ]
    },
    {
      "cell_type": "markdown",
      "metadata": {
        "id": "xcZR9AcZTt5x"
      },
      "source": [
        "[imagem](https://lh5.googleusercontent.com/IS9tIpfQmDSZlkHFz08avqAMZ1OZcw9hYjAkdU8Ee_5uXxMOWoZaPE0vpkeK_Yc3_N8er4iCDpPP2DMVxz4keGdPnRqUZVjCyPyptDQpt5_ft4imdtDe2ooecb4KFU9KI0R6rhuk)"
      ]
    },
    {
      "cell_type": "markdown",
      "metadata": {
        "id": "TcOzTxZvRY1r"
      },
      "source": [
        "Classificação de Pares de Sentenças — É semelhante ao processo de Next Sentence Prediction (NSP), adicionando uma camada de classificação no topo do output referente ao token [CLS] retornando uma distribuição de probabilidades calculadas por uma função $\\textit{softmax}$. [imagem](https://yashuseth.files.wordpress.com/2019/06/fig2-1.png?w=443&h=398)\n",
        "\n",
        "Classificação de Sentenças Únicas — Semelhante ao processo acima. [imagem](https://yashuseth.files.wordpress.com/2019/06/fig1-1.png?w=460&h=400)\n",
        "\n",
        "Single Sentence Tagging Task — Nessa tarefa são preditas tags para um determinado token. Como exemplo, para uma tarefa de classificar partes do discurso em Pronome, Verbo, Adjetivo, etc. [imagem](https://www.deepcrawl.com/wp-content/uploads/2019/12/Screen-Shot-2019-12-16-at-11.20.07.png)\n",
        "\n",
        "Question Answering Tasks — Essa é uma tarefa de predição. O modelo recebe uma pergunta, que atua como a primeira sentença e um parágrafo contendo o contexto relacionado a pergunta, atuando como a segunda sentença. É feito então o produto escalar da forma final do embedding de cada token com um vetor de pesos, sendo aplicado em uma função de ativação para retornar uma distribuição de probabilidade. A palavra que tiver a maior probabilidade é escolhida. Como exemplificado na figura abaixo:\n",
        "\n",
        "[linka q&a BERT](https://mccormickml.com/2020/03/10/question-answering-with-a-fine-tuned-BERT/) \\\n",
        "[imagem](https://yashuseth.files.wordpress.com/2019/06/fig6.png?w=389&h=297) \\\n",
        "[imagem2](https://yashuseth.files.wordpress.com/2019/06/fig3.png?w=452&h=380) e/ou [imagem3](http://www.mccormickml.com/assets/BERT/SQuAD/input_formatting.png) \\\n",
        "[imagem4](http://www.mccormickml.com/assets/BERT/SQuAD/start_token_classification.png)"
      ]
    },
    {
      "cell_type": "markdown",
      "metadata": {
        "id": "FGjPbzinPxab"
      },
      "source": [
        "#Hands On"
      ]
    },
    {
      "cell_type": "markdown",
      "metadata": {
        "id": "kyIHoRD8QhhQ"
      },
      "source": [
        "Usar esse tutorial tbm para o tutorial (daqui pra baixo) [Tutorial - BERT](https://jalammar.github.io/a-visual-guide-to-using-bert-for-the-first-time/)"
      ]
    },
    {
      "cell_type": "markdown",
      "metadata": {
        "id": "YKswmOITHI9L"
      },
      "source": [
        "## Loading Data"
      ]
    },
    {
      "cell_type": "markdown",
      "metadata": {
        "id": "l8jG9pqj3thm"
      },
      "source": [
        "Instalando as bibliotecas necessárias:"
      ]
    },
    {
      "cell_type": "code",
      "metadata": {
        "id": "H20N1cso31zC"
      },
      "source": [
        "!pip install unidecode\n",
        "!pip install ftfy\n",
        "!pip install transformers==4.2.2\n",
        "!pip install pyreadr\n",
        "!pip install git+https://github.com/legalnlp21/legalnlp\n",
        "clear_output()"
      ],
      "execution_count": null,
      "outputs": []
    },
    {
      "cell_type": "markdown",
      "metadata": {
        "id": "OL5-IFzvxHhL"
      },
      "source": [
        "Aqui vamos importar algumas bibliotecas que serão muito úteis para frente!"
      ]
    },
    {
      "cell_type": "code",
      "metadata": {
        "id": "Xq6V2tDZI0x8"
      },
      "source": [
        "# manipulação numérica e de dataframes\n",
        "import numpy as np\n",
        "import pandas as pd\n",
        "\n",
        "# gráficos e ajustes visuais\n",
        "import seaborn as sns\n",
        "import matplotlib.pyplot as plt\n",
        "import textwrap\n",
        "from tqdm import tqdm\n",
        "\n",
        "# pré-processamento de textos e lidar com variáveis categóricas, modelos e métricas \n",
        "from sklearn.model_selection import train_test_split\n",
        "from sklearn.preprocessing import LabelEncoder\n",
        "\n",
        "# tratamento de textos \n",
        "import unidecode\n",
        "import re\n",
        "import ftfy\n",
        "from legalnlp.get_premodel import *\n",
        "from legalnlp.clean_functions import *"
      ],
      "execution_count": null,
      "outputs": []
    },
    {
      "cell_type": "code",
      "metadata": {
        "id": "EE3n-jeyHgKf"
      },
      "source": [
        "data=pd.read_csv('https://raw.githubusercontent.com/legalnlp21/legalnlp/main/demo/data_base.csv')\n",
        "data.drop(columns=['Unnamed: 0'],inplace=True)"
      ],
      "execution_count": null,
      "outputs": []
    },
    {
      "cell_type": "markdown",
      "metadata": {
        "id": "WwoPzNJOUS6-"
      },
      "source": [
        ""
      ]
    },
    {
      "cell_type": "markdown",
      "metadata": {
        "id": "QdpuvKK_QLtq"
      },
      "source": [
        "## Breve exploração na base de dados"
      ]
    },
    {
      "cell_type": "markdown",
      "metadata": {
        "id": "W2xU7K-6xQIe"
      },
      "source": [
        "Antes de aplicar os modelos, vale a pena dar uma explorada nos dados que estamos trabalhando. Primeiramente, qual o tamanho desse conjunto de dados?"
      ]
    },
    {
      "cell_type": "code",
      "metadata": {
        "id": "in9zK0pXxim2",
        "colab": {
          "base_uri": "https://localhost:8080/"
        },
        "outputId": "36eb748c-4426-420a-d74d-f5d2f3fb7a94"
      },
      "source": [
        "print(\"Quantidade de linhas: \", data.shape[0])\n",
        "print(\"Quantidade de colunas: \", data.shape[1])"
      ],
      "execution_count": null,
      "outputs": [
        {
          "output_type": "stream",
          "text": [
            "Quantidade de linhas:  6449\n",
            "Quantidade de colunas:  2\n"
          ],
          "name": "stdout"
        }
      ]
    },
    {
      "cell_type": "markdown",
      "metadata": {
        "id": "9Ft1fRf9x2qN"
      },
      "source": [
        "Vamos visualizar uma pequena amostra desses dados:"
      ]
    },
    {
      "cell_type": "code",
      "metadata": {
        "colab": {
          "base_uri": "https://localhost:8080/",
          "height": 204
        },
        "id": "EHG1hRhow4_F",
        "outputId": "8054943b-c642-4c32-b75c-abdb24fa327b"
      },
      "source": [
        "# amostra de tamanho 5\n",
        "data.sample(5)"
      ],
      "execution_count": null,
      "outputs": [
        {
          "output_type": "execute_result",
          "data": {
            "text/html": [
              "<div>\n",
              "<style scoped>\n",
              "    .dataframe tbody tr th:only-of-type {\n",
              "        vertical-align: middle;\n",
              "    }\n",
              "\n",
              "    .dataframe tbody tr th {\n",
              "        vertical-align: top;\n",
              "    }\n",
              "\n",
              "    .dataframe thead th {\n",
              "        text-align: right;\n",
              "    }\n",
              "</style>\n",
              "<table border=\"1\" class=\"dataframe\">\n",
              "  <thead>\n",
              "    <tr style=\"text-align: right;\">\n",
              "      <th></th>\n",
              "      <th>text</th>\n",
              "      <th>label</th>\n",
              "    </tr>\n",
              "  </thead>\n",
              "  <tbody>\n",
              "    <tr>\n",
              "      <th>3404</th>\n",
              "      <td>Tipo do Movimento:Início da Execução</td>\n",
              "      <td>H:Ativo</td>\n",
              "    </tr>\n",
              "    <tr>\n",
              "      <th>4158</th>\n",
              "      <td>Petição Juntada Nº Protocolo: WPOA.16.80000696...</td>\n",
              "      <td>H:Ativo</td>\n",
              "    </tr>\n",
              "    <tr>\n",
              "      <th>3707</th>\n",
              "      <td>Remetida a Carta Precatória ao Cartório de Ori...</td>\n",
              "      <td>H:Arquivado</td>\n",
              "    </tr>\n",
              "    <tr>\n",
              "      <th>4563</th>\n",
              "      <td>Conclusos para Sentença</td>\n",
              "      <td>H:Ativo</td>\n",
              "    </tr>\n",
              "    <tr>\n",
              "      <th>1642</th>\n",
              "      <td>Remetidos os Autos para o Tribunal de Justiça/...</td>\n",
              "      <td>H:Ativo</td>\n",
              "    </tr>\n",
              "  </tbody>\n",
              "</table>\n",
              "</div>"
            ],
            "text/plain": [
              "                                                   text        label\n",
              "3404              Tipo do Movimento:Início da Execução       H:Ativo\n",
              "4158  Petição Juntada Nº Protocolo: WPOA.16.80000696...      H:Ativo\n",
              "3707  Remetida a Carta Precatória ao Cartório de Ori...  H:Arquivado\n",
              "4563                            Conclusos para Sentença      H:Ativo\n",
              "1642  Remetidos os Autos para o Tribunal de Justiça/...      H:Ativo"
            ]
          },
          "metadata": {},
          "execution_count": 7
        }
      ]
    },
    {
      "cell_type": "markdown",
      "metadata": {
        "id": "NpecX-pNyK5-"
      },
      "source": [
        "Vamos verificar se tem algum valor faltante nas colunas:"
      ]
    },
    {
      "cell_type": "code",
      "metadata": {
        "colab": {
          "base_uri": "https://localhost:8080/"
        },
        "id": "oY9LxHbC7213",
        "outputId": "a30314e5-e791-4581-8bfb-d6652000965e"
      },
      "source": [
        "# valores nas colunas faltante\n",
        "print(f'Total de: {data[\"text\"].isna().sum()} textos vazios')\n",
        "print(f'Total de: {data[\"label\"].isna().sum()} classes vazias')"
      ],
      "execution_count": null,
      "outputs": [
        {
          "output_type": "stream",
          "text": [
            "Total de: 0 textos vazios\n",
            "Total de: 0 classes vazias\n"
          ],
          "name": "stdout"
        }
      ]
    },
    {
      "cell_type": "markdown",
      "metadata": {
        "id": "1Ogl5M1DygS8"
      },
      "source": [
        "Felizmente, não temos nenhum valor faltante nas colunas. \n",
        "\n",
        "E aqui um gráfico de como os rótulos da coluna \"label\" estão distribuídos:"
      ]
    },
    {
      "cell_type": "code",
      "metadata": {
        "colab": {
          "base_uri": "https://localhost:8080/",
          "height": 295
        },
        "id": "KNfwYV91JqWi",
        "outputId": "b69a79dc-33c6-4636-efdf-3c26f52641ed"
      },
      "source": [
        "# countplot das labels\n",
        "sns.countplot(x = data['label'])\n",
        "\n",
        "plt.xticks(np.arange(0, 3, step = 1), ['Arquivado', 'Ativo', 'Não Ativo'])\n",
        "plt.xlabel('Status')\n",
        "plt.ylabel('Quantidade')\n",
        "plt.title('Status countplot')\n",
        "\n",
        "plt.show()"
      ],
      "execution_count": null,
      "outputs": [
        {
          "output_type": "display_data",
          "data": {
            "image/png": "[encoded data removed]",
            "text/plain": [
              "<Figure size 432x288 with 1 Axes>"
            ]
          },
          "metadata": {
            "needs_background": "light"
          }
        }
      ]
    },
    {
      "cell_type": "markdown",
      "metadata": {
        "id": "9g76QyAEzNj6"
      },
      "source": [
        "E em frequências relativas:"
      ]
    },
    {
      "cell_type": "code",
      "metadata": {
        "colab": {
          "base_uri": "https://localhost:8080/",
          "height": 142
        },
        "id": "j73ryhTCyk9p",
        "outputId": "1a6e570b-eb40-4c10-f06c-4d7b2a657ee6"
      },
      "source": [
        "# Frequência das labels\n",
        "freq = pd.DataFrame(data['label'].value_counts()/len(data))\n",
        "freq"
      ],
      "execution_count": null,
      "outputs": [
        {
          "output_type": "execute_result",
          "data": {
            "text/html": [
              "<div>\n",
              "<style scoped>\n",
              "    .dataframe tbody tr th:only-of-type {\n",
              "        vertical-align: middle;\n",
              "    }\n",
              "\n",
              "    .dataframe tbody tr th {\n",
              "        vertical-align: top;\n",
              "    }\n",
              "\n",
              "    .dataframe thead th {\n",
              "        text-align: right;\n",
              "    }\n",
              "</style>\n",
              "<table border=\"1\" class=\"dataframe\">\n",
              "  <thead>\n",
              "    <tr style=\"text-align: right;\">\n",
              "      <th></th>\n",
              "      <th>label</th>\n",
              "    </tr>\n",
              "  </thead>\n",
              "  <tbody>\n",
              "    <tr>\n",
              "      <th>H:Arquivado</th>\n",
              "      <td>0.471391</td>\n",
              "    </tr>\n",
              "    <tr>\n",
              "      <th>H:Ativo</th>\n",
              "      <td>0.452318</td>\n",
              "    </tr>\n",
              "    <tr>\n",
              "      <th>H:Suspenso</th>\n",
              "      <td>0.076291</td>\n",
              "    </tr>\n",
              "  </tbody>\n",
              "</table>\n",
              "</div>"
            ],
            "text/plain": [
              "                label\n",
              "H:Arquivado  0.471391\n",
              "H:Ativo      0.452318\n",
              "H:Suspenso   0.076291"
            ]
          },
          "metadata": {},
          "execution_count": 10
        }
      ]
    },
    {
      "cell_type": "markdown",
      "metadata": {
        "id": "2TbkubgI9Br6"
      },
      "source": [
        "##Limpando os textos"
      ]
    },
    {
      "cell_type": "markdown",
      "metadata": {
        "id": "7YzICwOuEC81"
      },
      "source": [
        "Aqui vamos aplicar a função abaixo (clean_bert), que recebe um texto como argumento e realiza a limpeza desse texto, cuidando de Unicodes ruins (caracteres estranhos) por meio do atributo fix_text da biblioteca [ftfy: fixes text for you](https://ftfy.readthedocs.io/en/latest/) e fazendo substituições de determinados caracteres para outros específicos."
      ]
    },
    {
      "cell_type": "markdown",
      "metadata": {
        "id": "28yDf4zhFWId"
      },
      "source": [
        "Com a função clean_bert, aplicamos na coluna de textos do nosso conjunto de dados:"
      ]
    },
    {
      "cell_type": "code",
      "metadata": {
        "colab": {
          "base_uri": "https://localhost:8080/",
          "height": 419
        },
        "id": "kQ5P4VeyCTw_",
        "outputId": "d1464ce6-aca5-494c-f435-3bd878bc8080"
      },
      "source": [
        "data['text'] = data['text'].apply(lambda x:clean_bert(x))\n",
        "data"
      ],
      "execution_count": null,
      "outputs": [
        {
          "output_type": "execute_result",
          "data": {
            "text/html": [
              "<div>\n",
              "<style scoped>\n",
              "    .dataframe tbody tr th:only-of-type {\n",
              "        vertical-align: middle;\n",
              "    }\n",
              "\n",
              "    .dataframe tbody tr th {\n",
              "        vertical-align: top;\n",
              "    }\n",
              "\n",
              "    .dataframe thead th {\n",
              "        text-align: right;\n",
              "    }\n",
              "</style>\n",
              "<table border=\"1\" class=\"dataframe\">\n",
              "  <thead>\n",
              "    <tr style=\"text-align: right;\">\n",
              "      <th></th>\n",
              "      <th>text</th>\n",
              "      <th>label</th>\n",
              "    </tr>\n",
              "  </thead>\n",
              "  <tbody>\n",
              "    <tr>\n",
              "      <th>0</th>\n",
              "      <td>Início da Execução Juntado 0008003-11.2018.8.2...</td>\n",
              "      <td>H:Suspenso</td>\n",
              "    </tr>\n",
              "    <tr>\n",
              "      <th>1</th>\n",
              "      <td>Ofício Requisitório - Comunicação - Protocolo ...</td>\n",
              "      <td>H:Arquivado</td>\n",
              "    </tr>\n",
              "    <tr>\n",
              "      <th>2</th>\n",
              "      <td>Arquivado Provisoriamente aguardando manifestação</td>\n",
              "      <td>H:Suspenso</td>\n",
              "    </tr>\n",
              "    <tr>\n",
              "      <th>3</th>\n",
              "      <td>Petição Juntada Juntada a petição diversa - Ti...</td>\n",
              "      <td>H:Ativo</td>\n",
              "    </tr>\n",
              "    <tr>\n",
              "      <th>4</th>\n",
              "      <td>Remetidos os Autos para o Arquivo Geral – Devo...</td>\n",
              "      <td>H:Arquivado</td>\n",
              "    </tr>\n",
              "    <tr>\n",
              "      <th>...</th>\n",
              "      <td>...</td>\n",
              "      <td>...</td>\n",
              "    </tr>\n",
              "    <tr>\n",
              "      <th>6444</th>\n",
              "      <td>Remetidos os Autos para o Arquivo Geral – Devo...</td>\n",
              "      <td>H:Suspenso</td>\n",
              "    </tr>\n",
              "    <tr>\n",
              "      <th>6445</th>\n",
              "      <td>Certidão de Trânsito em Julgado com Baixa Expe...</td>\n",
              "      <td>H:Arquivado</td>\n",
              "    </tr>\n",
              "    <tr>\n",
              "      <th>6446</th>\n",
              "      <td>Petição Juntada Nº Protocolo: WSCB.19.70085805...</td>\n",
              "      <td>H:Ativo</td>\n",
              "    </tr>\n",
              "    <tr>\n",
              "      <th>6447</th>\n",
              "      <td>Remetidos os Autos para o Tribunal de Justiça/...</td>\n",
              "      <td>H:Ativo</td>\n",
              "    </tr>\n",
              "    <tr>\n",
              "      <th>6448</th>\n",
              "      <td>Arquivado Definitivamente</td>\n",
              "      <td>H:Arquivado</td>\n",
              "    </tr>\n",
              "  </tbody>\n",
              "</table>\n",
              "<p>6449 rows × 2 columns</p>\n",
              "</div>"
            ],
            "text/plain": [
              "                                                   text        label\n",
              "0     Início da Execução Juntado 0008003-11.2018.8.2...   H:Suspenso\n",
              "1     Ofício Requisitório - Comunicação - Protocolo ...  H:Arquivado\n",
              "2     Arquivado Provisoriamente aguardando manifestação   H:Suspenso\n",
              "3     Petição Juntada Juntada a petição diversa - Ti...      H:Ativo\n",
              "4     Remetidos os Autos para o Arquivo Geral – Devo...  H:Arquivado\n",
              "...                                                 ...          ...\n",
              "6444  Remetidos os Autos para o Arquivo Geral – Devo...   H:Suspenso\n",
              "6445  Certidão de Trânsito em Julgado com Baixa Expe...  H:Arquivado\n",
              "6446  Petição Juntada Nº Protocolo: WSCB.19.70085805...      H:Ativo\n",
              "6447  Remetidos os Autos para o Tribunal de Justiça/...      H:Ativo\n",
              "6448                          Arquivado Definitivamente  H:Arquivado\n",
              "\n",
              "[6449 rows x 2 columns]"
            ]
          },
          "metadata": {},
          "execution_count": 11
        }
      ]
    },
    {
      "cell_type": "markdown",
      "metadata": {
        "id": "ygwPzZkb9jeJ"
      },
      "source": [
        "Após a limpeza dos dados, vamos dar uma olhada em alguns exemplos:"
      ]
    },
    {
      "cell_type": "code",
      "metadata": {
        "colab": {
          "base_uri": "https://localhost:8080/",
          "height": 54
        },
        "id": "mlmyxCMv9i_z",
        "outputId": "9bf18b9e-3922-4aaf-f023-43f14c94c395"
      },
      "source": [
        "str(data.loc[3, 'text'])"
      ],
      "execution_count": null,
      "outputs": [
        {
          "output_type": "execute_result",
          "data": {
            "application/vnd.google.colaboratory.intrinsic+json": {
              "type": "string"
            },
            "text/plain": [
              "'Petição Juntada Juntada a petição diversa - Tipo: Petição Intermediária em Procedimento Comum Cível - Número: 80031 - Protocolo: FGRU19000140154 - Complemento: autor, expedição de ofício.'"
            ]
          },
          "metadata": {},
          "execution_count": 12
        }
      ]
    },
    {
      "cell_type": "code",
      "metadata": {
        "colab": {
          "base_uri": "https://localhost:8080/",
          "height": 54
        },
        "id": "kT6TxRcg-OL2",
        "outputId": "408cde0a-39b7-45f7-acf2-5a4da5430a59"
      },
      "source": [
        "str(data.loc[1278, 'text'])"
      ],
      "execution_count": null,
      "outputs": [
        {
          "output_type": "execute_result",
          "data": {
            "application/vnd.google.colaboratory.intrinsic+json": {
              "type": "string"
            },
            "text/plain": [
              "'Certidão de Cartório Expedida Certifico e dou fé que foram interpostos 2 (dois) incidentes digitais para expedição de ofício requisitório sendo 1(um) referente a ORPV e 1 (um) referente a Precatório, os quais encontram-se aguardando análise. Nada Mais.'"
            ]
          },
          "metadata": {},
          "execution_count": 13
        }
      ]
    },
    {
      "cell_type": "code",
      "metadata": {
        "id": "DVTorjdbUY3S"
      },
      "source": [
        "#data.to_csv(\"clean_date_base.csv\",index=False)"
      ],
      "execution_count": null,
      "outputs": []
    },
    {
      "cell_type": "markdown",
      "metadata": {
        "id": "lRmFU3wmE36f"
      },
      "source": [
        "#Applying the Label Encoder to handle categorical labels"
      ]
    },
    {
      "cell_type": "markdown",
      "metadata": {
        "id": "lbpDsfiZGGGg"
      },
      "source": [
        "Agora, com os textos limpos, vamos ver brevemente como lidar com as variáveis categóricas através do LabelEnconder: "
      ]
    },
    {
      "cell_type": "code",
      "metadata": {
        "id": "d9K_PKu4vNDP",
        "colab": {
          "base_uri": "https://localhost:8080/",
          "height": 419
        },
        "outputId": "74970d24-f4e4-4114-fb74-965c11d8f338"
      },
      "source": [
        "encoder = LabelEncoder()\n",
        "encoder.fit(data['label'])\n",
        "data['encoded'] = encoder.transform(data['label'])\n",
        "data"
      ],
      "execution_count": null,
      "outputs": [
        {
          "output_type": "execute_result",
          "data": {
            "text/html": [
              "<div>\n",
              "<style scoped>\n",
              "    .dataframe tbody tr th:only-of-type {\n",
              "        vertical-align: middle;\n",
              "    }\n",
              "\n",
              "    .dataframe tbody tr th {\n",
              "        vertical-align: top;\n",
              "    }\n",
              "\n",
              "    .dataframe thead th {\n",
              "        text-align: right;\n",
              "    }\n",
              "</style>\n",
              "<table border=\"1\" class=\"dataframe\">\n",
              "  <thead>\n",
              "    <tr style=\"text-align: right;\">\n",
              "      <th></th>\n",
              "      <th>text</th>\n",
              "      <th>label</th>\n",
              "      <th>encoded</th>\n",
              "    </tr>\n",
              "  </thead>\n",
              "  <tbody>\n",
              "    <tr>\n",
              "      <th>0</th>\n",
              "      <td>Início da Execução Juntado 0008003-11.2018.8.2...</td>\n",
              "      <td>H:Suspenso</td>\n",
              "      <td>2</td>\n",
              "    </tr>\n",
              "    <tr>\n",
              "      <th>1</th>\n",
              "      <td>Ofício Requisitório - Comunicação - Protocolo ...</td>\n",
              "      <td>H:Arquivado</td>\n",
              "      <td>0</td>\n",
              "    </tr>\n",
              "    <tr>\n",
              "      <th>2</th>\n",
              "      <td>Arquivado Provisoriamente aguardando manifestação</td>\n",
              "      <td>H:Suspenso</td>\n",
              "      <td>2</td>\n",
              "    </tr>\n",
              "    <tr>\n",
              "      <th>3</th>\n",
              "      <td>Petição Juntada Juntada a petição diversa - Ti...</td>\n",
              "      <td>H:Ativo</td>\n",
              "      <td>1</td>\n",
              "    </tr>\n",
              "    <tr>\n",
              "      <th>4</th>\n",
              "      <td>Remetidos os Autos para o Arquivo Geral – Devo...</td>\n",
              "      <td>H:Arquivado</td>\n",
              "      <td>0</td>\n",
              "    </tr>\n",
              "    <tr>\n",
              "      <th>...</th>\n",
              "      <td>...</td>\n",
              "      <td>...</td>\n",
              "      <td>...</td>\n",
              "    </tr>\n",
              "    <tr>\n",
              "      <th>6444</th>\n",
              "      <td>Remetidos os Autos para o Arquivo Geral – Devo...</td>\n",
              "      <td>H:Suspenso</td>\n",
              "      <td>2</td>\n",
              "    </tr>\n",
              "    <tr>\n",
              "      <th>6445</th>\n",
              "      <td>Certidão de Trânsito em Julgado com Baixa Expe...</td>\n",
              "      <td>H:Arquivado</td>\n",
              "      <td>0</td>\n",
              "    </tr>\n",
              "    <tr>\n",
              "      <th>6446</th>\n",
              "      <td>Petição Juntada Nº Protocolo: WSCB.19.70085805...</td>\n",
              "      <td>H:Ativo</td>\n",
              "      <td>1</td>\n",
              "    </tr>\n",
              "    <tr>\n",
              "      <th>6447</th>\n",
              "      <td>Remetidos os Autos para o Tribunal de Justiça/...</td>\n",
              "      <td>H:Ativo</td>\n",
              "      <td>1</td>\n",
              "    </tr>\n",
              "    <tr>\n",
              "      <th>6448</th>\n",
              "      <td>Arquivado Definitivamente</td>\n",
              "      <td>H:Arquivado</td>\n",
              "      <td>0</td>\n",
              "    </tr>\n",
              "  </tbody>\n",
              "</table>\n",
              "<p>6449 rows × 3 columns</p>\n",
              "</div>"
            ],
            "text/plain": [
              "                                                   text        label  encoded\n",
              "0     Início da Execução Juntado 0008003-11.2018.8.2...   H:Suspenso        2\n",
              "1     Ofício Requisitório - Comunicação - Protocolo ...  H:Arquivado        0\n",
              "2     Arquivado Provisoriamente aguardando manifestação   H:Suspenso        2\n",
              "3     Petição Juntada Juntada a petição diversa - Ti...      H:Ativo        1\n",
              "4     Remetidos os Autos para o Arquivo Geral – Devo...  H:Arquivado        0\n",
              "...                                                 ...          ...      ...\n",
              "6444  Remetidos os Autos para o Arquivo Geral – Devo...   H:Suspenso        2\n",
              "6445  Certidão de Trânsito em Julgado com Baixa Expe...  H:Arquivado        0\n",
              "6446  Petição Juntada Nº Protocolo: WSCB.19.70085805...      H:Ativo        1\n",
              "6447  Remetidos os Autos para o Tribunal de Justiça/...      H:Ativo        1\n",
              "6448                          Arquivado Definitivamente  H:Arquivado        0\n",
              "\n",
              "[6449 rows x 3 columns]"
            ]
          },
          "metadata": {},
          "execution_count": 15
        }
      ]
    },
    {
      "cell_type": "markdown",
      "metadata": {
        "id": "NuKS1fcsN_yM"
      },
      "source": [
        "A coluna 'encoded' representa a forma que os elementos da coluna 'label' foram transformados em variáveis numéricas, como temos 3 classes, cada uma recebeu um valor 0, 1 ou 2, como podemos ver abaixo:"
      ]
    },
    {
      "cell_type": "code",
      "metadata": {
        "colab": {
          "base_uri": "https://localhost:8080/",
          "height": 142
        },
        "id": "KaFe4eU9_DLm",
        "outputId": "3f4c69a1-aadc-4976-d385-d90f879627cd"
      },
      "source": [
        "data.loc[[0, 1, 5], ['label', 'encoded']]"
      ],
      "execution_count": null,
      "outputs": [
        {
          "output_type": "execute_result",
          "data": {
            "text/html": [
              "<div>\n",
              "<style scoped>\n",
              "    .dataframe tbody tr th:only-of-type {\n",
              "        vertical-align: middle;\n",
              "    }\n",
              "\n",
              "    .dataframe tbody tr th {\n",
              "        vertical-align: top;\n",
              "    }\n",
              "\n",
              "    .dataframe thead th {\n",
              "        text-align: right;\n",
              "    }\n",
              "</style>\n",
              "<table border=\"1\" class=\"dataframe\">\n",
              "  <thead>\n",
              "    <tr style=\"text-align: right;\">\n",
              "      <th></th>\n",
              "      <th>label</th>\n",
              "      <th>encoded</th>\n",
              "    </tr>\n",
              "  </thead>\n",
              "  <tbody>\n",
              "    <tr>\n",
              "      <th>0</th>\n",
              "      <td>H:Suspenso</td>\n",
              "      <td>2</td>\n",
              "    </tr>\n",
              "    <tr>\n",
              "      <th>1</th>\n",
              "      <td>H:Arquivado</td>\n",
              "      <td>0</td>\n",
              "    </tr>\n",
              "    <tr>\n",
              "      <th>5</th>\n",
              "      <td>H:Arquivado</td>\n",
              "      <td>0</td>\n",
              "    </tr>\n",
              "  </tbody>\n",
              "</table>\n",
              "</div>"
            ],
            "text/plain": [
              "         label  encoded\n",
              "0   H:Suspenso        2\n",
              "1  H:Arquivado        0\n",
              "5  H:Arquivado        0"
            ]
          },
          "metadata": {},
          "execution_count": 16
        }
      ]
    },
    {
      "cell_type": "markdown",
      "metadata": {
        "id": "o-UscTSdwnl3"
      },
      "source": [
        "#Aplicando o tokenizador"
      ]
    },
    {
      "cell_type": "markdown",
      "metadata": {
        "id": "rtoyztVNVojQ"
      },
      "source": [
        "## Fazer texto aqui "
      ]
    },
    {
      "cell_type": "code",
      "metadata": {
        "colab": {
          "base_uri": "https://localhost:8080/"
        },
        "id": "Z9p1LsZnwqAl",
        "outputId": "31a1afd0-fc5a-4ca5-cb69-ad548023719b"
      },
      "source": [
        "import pickle\n",
        "import random\n",
        "import os\n",
        "import copy \n",
        "\n",
        "import torch\n",
        "import torch.nn as nn\n",
        "import torch.utils.data as tdata\n",
        "import torch.optim as optim\n",
        "import transformers\n",
        "from transformers import AutoModel, AutoTokenizer, AutoConfig\n",
        "from transformers import BertForPreTraining, BertModel, BertTokenizer, BertForMaskedLM, BertForNextSentencePrediction, BertForQuestionAnswering\n",
        "\n",
        "torch.cuda.is_available()"
      ],
      "execution_count": null,
      "outputs": [
        {
          "output_type": "execute_result",
          "data": {
            "text/plain": [
              "True"
            ]
          },
          "metadata": {},
          "execution_count": 17
        }
      ]
    },
    {
      "cell_type": "code",
      "metadata": {
        "id": "lMuVyksyzJ9Y"
      },
      "source": [
        "# verificando se tem cuda disponível\n",
        "os.environ['CUDA_LAUNCH_BLOCKING'] = \"1\"\n",
        "device = torch.device('cuda:0')"
      ],
      "execution_count": null,
      "outputs": []
    },
    {
      "cell_type": "markdown",
      "metadata": {
        "id": "BrzvttrDzSu7"
      },
      "source": [
        "## Loading Tokenizer and PreTrained Model"
      ]
    },
    {
      "cell_type": "markdown",
      "metadata": {
        "id": "EX-hMkh845m1"
      },
      "source": [
        "link2 interessante: [Bert - Transformers Documentation](https://huggingface.co/transformers/)\n"
      ]
    },
    {
      "cell_type": "markdown",
      "metadata": {
        "id": "phDfntkR7gEB"
      },
      "source": [
        "Aqui vamos criar duas variáveis que servirão como o tokenizador e o modelo BERT que foi pré-treinado. "
      ]
    },
    {
      "cell_type": "code",
      "metadata": {
        "id": "2Wmd8qcoMCO2"
      },
      "source": [
        "# Downloading BERTikal\n",
        "get_premodel('bert')"
      ],
      "execution_count": null,
      "outputs": []
    },
    {
      "cell_type": "code",
      "metadata": {
        "id": "x7gyDFE_zVbc"
      },
      "source": [
        "model = '/content/BERTikal'\n",
        "tokenizer= '/content/BERTikal/vocab.txt'\n",
        "clear_output()"
      ],
      "execution_count": null,
      "outputs": []
    },
    {
      "cell_type": "markdown",
      "metadata": {
        "id": "tLp13bvi7wUk"
      },
      "source": [
        "Aqui as configurações do modelo:"
      ]
    },
    {
      "cell_type": "code",
      "metadata": {
        "colab": {
          "base_uri": "https://localhost:8080/",
          "height": 181
        },
        "id": "NdYtbQAy6cSK",
        "outputId": "e698fee0-eda5-4a6e-b469-6306f57a923b"
      },
      "source": [
        "# configuração do BERT\n",
        "bert_model.config"
      ],
      "execution_count": null,
      "outputs": [
        {
          "output_type": "error",
          "ename": "NameError",
          "evalue": "ignored",
          "traceback": [
            "\u001b[0;31m---------------------------------------------------------------------------\u001b[0m",
            "\u001b[0;31mNameError\u001b[0m                                 Traceback (most recent call last)",
            "\u001b[0;32m<ipython-input-21-638980dfc265>\u001b[0m in \u001b[0;36m<module>\u001b[0;34m()\u001b[0m\n\u001b[1;32m      1\u001b[0m \u001b[0;31m# configuração do BERT\u001b[0m\u001b[0;34m\u001b[0m\u001b[0;34m\u001b[0m\u001b[0;34m\u001b[0m\u001b[0m\n\u001b[0;32m----> 2\u001b[0;31m \u001b[0mbert_model\u001b[0m\u001b[0;34m.\u001b[0m\u001b[0mconfig\u001b[0m\u001b[0;34m\u001b[0m\u001b[0;34m\u001b[0m\u001b[0m\n\u001b[0m",
            "\u001b[0;31mNameError\u001b[0m: name 'bert_model' is not defined"
          ]
        }
      ]
    },
    {
      "cell_type": "markdown",
      "metadata": {
        "id": "EpqYLuVkV60y"
      },
      "source": [
        "# Using tokenizer"
      ]
    },
    {
      "cell_type": "markdown",
      "metadata": {
        "id": "IRhLI6Em8Fnq"
      },
      "source": [
        "Nessa seção veremos como o tokenizador importado acima funciona com alguns exemplos, relacionando com a teoria apresentada no começo desse tutorial."
      ]
    },
    {
      "cell_type": "markdown",
      "metadata": {
        "id": "YvrAm8Y2A2Uj"
      },
      "source": [
        "explicar tokenizador (imagem) e explicações [por esse link](https://nlpiation.medium.com/how-to-use-huggingfaces-transformers-pre-trained-tokenizers-e029e8d6d1fa)\n",
        "\n",
        "Esse também: [visual guide to BERT](http://jalammar.github.io/a-visual-guide-to-using-bert-for-the-first-time/)"
      ]
    },
    {
      "cell_type": "code",
      "metadata": {
        "colab": {
          "base_uri": "https://localhost:8080/"
        },
        "id": "jLw1S2z6A_lz",
        "outputId": "097f58ab-a111-47e3-96aa-db40c0471620"
      },
      "source": [
        "# Exemplo 1\n",
        "print(bert_tokenizer.tokenize('Example to test the text tokenizer'))\n",
        "print()\n",
        "\n",
        "# Exemplo 2\n",
        "print(bert_tokenizer.encode('Another example with the tokenizer'))\n",
        "print(bert_tokenizer.decode(bert_tokenizer.encode('Another example with the tokenizer')))\n",
        "print()\n",
        "\n",
        "# Exemplo 3\n",
        "tokens = bert_tokenizer.tokenize(\"This is a sample text to test the tokenizer.\")\n",
        "print(bert_tokenizer.convert_tokens_to_ids(tokens))\n",
        "print(bert_tokenizer.decode(bert_tokenizer.convert_tokens_to_ids(tokens)))"
      ],
      "execution_count": null,
      "outputs": [
        {
          "output_type": "stream",
          "text": [
            "['Ex', '##amp', '##le', 'to', 'test', 'the', 'tex', '##t', 'to', '##ken', '##ize', '##r']\n",
            "\n",
            "[101, 7181, 5238, 11367, 3066, 10125, 1621, 374, 8110, 15134, 22282, 102]\n",
            "[CLS] Another example with the tokenizer [SEP]\n",
            "\n",
            "[16989, 847, 123, 5748, 3066, 4509, 22286, 374, 15606, 1621, 374, 8110, 15134, 22282, 119]\n",
            "This is a sample text to test the tokenizer.\n"
          ],
          "name": "stdout"
        }
      ]
    },
    {
      "cell_type": "code",
      "metadata": {
        "colab": {
          "base_uri": "https://localhost:8080/"
        },
        "id": "kfTYJVWM2oaS",
        "outputId": "07660bdf-5e8e-4f0a-e397-9a47ae378191"
      },
      "source": [
        "bert_tokenizer.convert_tokens_to_ids(['[CLS]', '[SEP]'])"
      ],
      "execution_count": null,
      "outputs": [
        {
          "output_type": "execute_result",
          "data": {
            "text/plain": [
              "[101, 102]"
            ]
          },
          "metadata": {
            "tags": []
          },
          "execution_count": 27
        }
      ]
    },
    {
      "cell_type": "code",
      "metadata": {
        "colab": {
          "base_uri": "https://localhost:8080/"
        },
        "id": "S7Ia478J2RPG",
        "outputId": "ea35b1de-37df-40e3-8c59-3f9d21a14e3c"
      },
      "source": [
        "# Tamaho do vocabulário\n",
        "print(\"Vocab size: \", bert_tokenizer.vocab_size)"
      ],
      "execution_count": null,
      "outputs": [
        {
          "output_type": "stream",
          "text": [
            "Vocab size:  29794\n"
          ],
          "name": "stdout"
        }
      ]
    },
    {
      "cell_type": "code",
      "metadata": {
        "colab": {
          "base_uri": "https://localhost:8080/"
        },
        "id": "vYOnrLcECltx",
        "outputId": "0de8c8ed-f5bc-4716-8e13-235a7fc068b1"
      },
      "source": [
        "bert = data['text'].apply(lambda x: bert_tokenizer.encode(x, add_special_tokens=True,max_length=512, truncation = True))\n",
        "print('Max sentence length: ', max([len(sen) for sen in bert]))"
      ],
      "execution_count": null,
      "outputs": [
        {
          "output_type": "stream",
          "text": [
            "Max sentence length:  512\n"
          ],
          "name": "stdout"
        }
      ]
    },
    {
      "cell_type": "code",
      "metadata": {
        "id": "ddmxZNrNzQkS"
      },
      "source": [
        ""
      ],
      "execution_count": null,
      "outputs": []
    },
    {
      "cell_type": "markdown",
      "metadata": {
        "id": "8Ob6jeHKB1WM"
      },
      "source": [
        "# Applying tensor"
      ]
    },
    {
      "cell_type": "markdown",
      "metadata": {
        "id": "-3p_GFixVxiT"
      },
      "source": [
        "## Escrever texto aqui "
      ]
    },
    {
      "cell_type": "code",
      "metadata": {
        "colab": {
          "base_uri": "https://localhost:8080/"
        },
        "id": "ck21AQ8RGAZg",
        "outputId": "162108d9-2df0-4a11-9a9d-c32d7bf77117"
      },
      "source": [
        "# Fazendo a padronização dos textos\n",
        "wrapper = textwrap.TextWrapper()\n",
        "data_text = list(data['text'])\n",
        "\n",
        "for text in range(len(data_text[:4])):\n",
        "  print(f'{wrapper.fill(data_text[text])}')\n",
        "  print()"
      ],
      "execution_count": null,
      "outputs": [
        {
          "output_type": "stream",
          "text": [
            "Ofício Requisitório - Comunicação - Protocolo Eletrônico - DEPRE\n",
            "\n",
            "Suspensão do Prazo Prazo referente ao usuário foi alterado para\n",
            "15/04/2019 devido à alteração da tabela de feriados\n",
            "\n",
            "Certidão de Publicação Expedida Relação : 0274/2019 Data da\n",
            "Disponibilização : 28/03/2019 Data da Publicação : 29/03/2019 Número\n",
            "do Diário : 2777/2019 Página : 3072/3073\n",
            "\n",
            "Embargos de Declaração Juntados N Protocolo : WFPA.19.70129354-1 Tipo\n",
            "da Petição : Embargos de Declaração Data : 18/03/2019 14 : 13\n",
            "\n"
          ],
          "name": "stdout"
        }
      ]
    },
    {
      "cell_type": "code",
      "metadata": {
        "colab": {
          "base_uri": "https://localhost:8080/"
        },
        "id": "fs26gMieGO-g",
        "outputId": "3cc0ff1e-9101-45c6-a538-02897f62cba8"
      },
      "source": [
        "# Aplicando o bert_tokenizer em nosso dataset com um comprimento máximo de 512 tokens\n",
        "encoded_inputs = bert_tokenizer(data_text, padding=True, truncation=True, max_length=512, return_tensors=\"pt\")\n",
        "\n",
        "\n",
        "#Agora temos nossos encoded_input em um dicionário com 3 chaves\n",
        "encoded_inputs.keys()"
      ],
      "execution_count": null,
      "outputs": [
        {
          "output_type": "execute_result",
          "data": {
            "text/plain": [
              "dict_keys(['input_ids', 'token_type_ids', 'attention_mask'])"
            ]
          },
          "metadata": {
            "tags": []
          },
          "execution_count": 31
        }
      ]
    },
    {
      "cell_type": "code",
      "metadata": {
        "colab": {
          "base_uri": "https://localhost:8080/"
        },
        "id": "2_w_7Qj6nJSm",
        "outputId": "c3665c05-4ee6-4263-8c12-d71335ab9824"
      },
      "source": [
        "#Visualiando o primeiro texto após a aplicação do tokenizador\n",
        "print(encoded_inputs['input_ids'][0])\n",
        "\n",
        "print()\n",
        "\n",
        "# Mostrando o mesmo texto decodificado \n",
        "print(wrapper.fill(bert_tokenizer.decode(encoded_inputs['input_ids'][0])))"
      ],
      "execution_count": null,
      "outputs": [
        {
          "output_type": "stream",
          "text": [
            "tensor([  101,  5310,   826,   482,  5680, 20942,   118, 11266,   118,  1072,\n",
            "        11885,   787,  9474, 19961,   118, 10836,  8519, 22309,   102,     0,\n",
            "            0,     0,     0,     0,     0,     0,     0,     0,     0,     0,\n",
            "            0,     0,     0,     0,     0,     0,     0,     0,     0,     0,\n",
            "            0,     0,     0,     0,     0,     0,     0,     0,     0,     0,\n",
            "            0,     0,     0,     0,     0,     0,     0,     0,     0,     0,\n",
            "            0,     0,     0,     0,     0,     0,     0,     0,     0,     0,\n",
            "            0,     0,     0,     0,     0,     0,     0,     0,     0,     0,\n",
            "            0,     0,     0,     0,     0,     0,     0,     0,     0,     0,\n",
            "            0,     0,     0,     0,     0,     0,     0,     0,     0,     0,\n",
            "            0,     0,     0,     0,     0,     0,     0,     0,     0,     0,\n",
            "            0,     0,     0,     0,     0,     0,     0,     0,     0,     0,\n",
            "            0,     0,     0,     0,     0,     0,     0,     0,     0,     0,\n",
            "            0,     0,     0,     0,     0,     0,     0,     0,     0,     0,\n",
            "            0,     0,     0,     0,     0,     0,     0,     0,     0,     0,\n",
            "            0,     0,     0,     0,     0,     0,     0,     0,     0,     0,\n",
            "            0,     0,     0,     0,     0,     0,     0,     0,     0,     0,\n",
            "            0,     0,     0,     0,     0,     0,     0,     0,     0,     0,\n",
            "            0,     0,     0,     0,     0,     0,     0,     0,     0,     0,\n",
            "            0,     0,     0,     0,     0,     0,     0,     0,     0,     0,\n",
            "            0,     0,     0,     0,     0,     0,     0,     0,     0,     0,\n",
            "            0,     0,     0,     0,     0,     0,     0,     0,     0,     0,\n",
            "            0,     0,     0,     0,     0,     0,     0,     0,     0,     0,\n",
            "            0,     0,     0,     0,     0,     0,     0,     0,     0,     0,\n",
            "            0,     0,     0,     0,     0,     0,     0,     0,     0,     0,\n",
            "            0,     0,     0,     0,     0,     0,     0,     0,     0,     0,\n",
            "            0,     0,     0,     0,     0,     0,     0,     0,     0,     0,\n",
            "            0,     0,     0,     0,     0,     0,     0,     0,     0,     0,\n",
            "            0,     0,     0,     0,     0,     0,     0,     0,     0,     0,\n",
            "            0,     0,     0,     0,     0,     0,     0,     0,     0,     0,\n",
            "            0,     0,     0,     0,     0,     0,     0,     0,     0,     0,\n",
            "            0,     0,     0,     0,     0,     0,     0,     0,     0,     0,\n",
            "            0,     0,     0,     0,     0,     0,     0,     0,     0,     0,\n",
            "            0,     0,     0,     0,     0,     0,     0,     0,     0,     0,\n",
            "            0,     0,     0,     0,     0,     0,     0,     0,     0,     0,\n",
            "            0,     0,     0,     0,     0,     0,     0,     0,     0,     0,\n",
            "            0,     0,     0,     0,     0,     0,     0,     0,     0,     0,\n",
            "            0,     0,     0,     0,     0,     0,     0,     0,     0,     0,\n",
            "            0,     0,     0,     0,     0,     0,     0,     0,     0,     0,\n",
            "            0,     0,     0,     0,     0,     0,     0,     0,     0,     0,\n",
            "            0,     0,     0,     0,     0,     0,     0,     0,     0,     0,\n",
            "            0,     0,     0,     0,     0,     0,     0,     0,     0,     0,\n",
            "            0,     0,     0,     0,     0,     0,     0,     0,     0,     0,\n",
            "            0,     0,     0,     0,     0,     0,     0,     0,     0,     0,\n",
            "            0,     0,     0,     0,     0,     0,     0,     0,     0,     0,\n",
            "            0,     0,     0,     0,     0,     0,     0,     0,     0,     0,\n",
            "            0,     0,     0,     0,     0,     0,     0,     0,     0,     0,\n",
            "            0,     0,     0,     0,     0,     0,     0,     0,     0,     0,\n",
            "            0,     0,     0,     0,     0,     0,     0,     0,     0,     0,\n",
            "            0,     0,     0,     0,     0,     0,     0,     0,     0,     0,\n",
            "            0,     0,     0,     0,     0,     0,     0,     0,     0,     0,\n",
            "            0,     0])\n",
            "\n",
            "[CLS] Ofício Requisitório - Comunicação - Protocolo Eletrônico - DEPRE\n",
            "[SEP] [PAD] [PAD] [PAD] [PAD] [PAD] [PAD] [PAD] [PAD] [PAD] [PAD]\n",
            "[PAD] [PAD] [PAD] [PAD] [PAD] [PAD] [PAD] [PAD] [PAD] [PAD] [PAD]\n",
            "[PAD] [PAD] [PAD] [PAD] [PAD] [PAD] [PAD] [PAD] [PAD] [PAD] [PAD]\n",
            "[PAD] [PAD] [PAD] [PAD] [PAD] [PAD] [PAD] [PAD] [PAD] [PAD] [PAD]\n",
            "[PAD] [PAD] [PAD] [PAD] [PAD] [PAD] [PAD] [PAD] [PAD] [PAD] [PAD]\n",
            "[PAD] [PAD] [PAD] [PAD] [PAD] [PAD] [PAD] [PAD] [PAD] [PAD] [PAD]\n",
            "[PAD] [PAD] [PAD] [PAD] [PAD] [PAD] [PAD] [PAD] [PAD] [PAD] [PAD]\n",
            "[PAD] [PAD] [PAD] [PAD] [PAD] [PAD] [PAD] [PAD] [PAD] [PAD] [PAD]\n",
            "[PAD] [PAD] [PAD] [PAD] [PAD] [PAD] [PAD] [PAD] [PAD] [PAD] [PAD]\n",
            "[PAD] [PAD] [PAD] [PAD] [PAD] [PAD] [PAD] [PAD] [PAD] [PAD] [PAD]\n",
            "[PAD] [PAD] [PAD] [PAD] [PAD] [PAD] [PAD] [PAD] [PAD] [PAD] [PAD]\n",
            "[PAD] [PAD] [PAD] [PAD] [PAD] [PAD] [PAD] [PAD] [PAD] [PAD] [PAD]\n",
            "[PAD] [PAD] [PAD] [PAD] [PAD] [PAD] [PAD] [PAD] [PAD] [PAD] [PAD]\n",
            "[PAD] [PAD] [PAD] [PAD] [PAD] [PAD] [PAD] [PAD] [PAD] [PAD] [PAD]\n",
            "[PAD] [PAD] [PAD] [PAD] [PAD] [PAD] [PAD] [PAD] [PAD] [PAD] [PAD]\n",
            "[PAD] [PAD] [PAD] [PAD] [PAD] [PAD] [PAD] [PAD] [PAD] [PAD] [PAD]\n",
            "[PAD] [PAD] [PAD] [PAD] [PAD] [PAD] [PAD] [PAD] [PAD] [PAD] [PAD]\n",
            "[PAD] [PAD] [PAD] [PAD] [PAD] [PAD] [PAD] [PAD] [PAD] [PAD] [PAD]\n",
            "[PAD] [PAD] [PAD] [PAD] [PAD] [PAD] [PAD] [PAD] [PAD] [PAD] [PAD]\n",
            "[PAD] [PAD] [PAD] [PAD] [PAD] [PAD] [PAD] [PAD] [PAD] [PAD] [PAD]\n",
            "[PAD] [PAD] [PAD] [PAD] [PAD] [PAD] [PAD] [PAD] [PAD] [PAD] [PAD]\n",
            "[PAD] [PAD] [PAD] [PAD] [PAD] [PAD] [PAD] [PAD] [PAD] [PAD] [PAD]\n",
            "[PAD] [PAD] [PAD] [PAD] [PAD] [PAD] [PAD] [PAD] [PAD] [PAD] [PAD]\n",
            "[PAD] [PAD] [PAD] [PAD] [PAD] [PAD] [PAD] [PAD] [PAD] [PAD] [PAD]\n",
            "[PAD] [PAD] [PAD] [PAD] [PAD] [PAD] [PAD] [PAD] [PAD] [PAD] [PAD]\n",
            "[PAD] [PAD] [PAD] [PAD] [PAD] [PAD] [PAD] [PAD] [PAD] [PAD] [PAD]\n",
            "[PAD] [PAD] [PAD] [PAD] [PAD] [PAD] [PAD] [PAD] [PAD] [PAD] [PAD]\n",
            "[PAD] [PAD] [PAD] [PAD] [PAD] [PAD] [PAD] [PAD] [PAD] [PAD] [PAD]\n",
            "[PAD] [PAD] [PAD] [PAD] [PAD] [PAD] [PAD] [PAD] [PAD] [PAD] [PAD]\n",
            "[PAD] [PAD] [PAD] [PAD] [PAD] [PAD] [PAD] [PAD] [PAD] [PAD] [PAD]\n",
            "[PAD] [PAD] [PAD] [PAD] [PAD] [PAD] [PAD] [PAD] [PAD] [PAD] [PAD]\n",
            "[PAD] [PAD] [PAD] [PAD] [PAD] [PAD] [PAD] [PAD] [PAD] [PAD] [PAD]\n",
            "[PAD] [PAD] [PAD] [PAD] [PAD] [PAD] [PAD] [PAD] [PAD] [PAD] [PAD]\n",
            "[PAD] [PAD] [PAD] [PAD] [PAD] [PAD] [PAD] [PAD] [PAD] [PAD] [PAD]\n",
            "[PAD] [PAD] [PAD] [PAD] [PAD] [PAD] [PAD] [PAD] [PAD] [PAD] [PAD]\n",
            "[PAD] [PAD] [PAD] [PAD] [PAD] [PAD] [PAD] [PAD] [PAD] [PAD] [PAD]\n",
            "[PAD] [PAD] [PAD] [PAD] [PAD] [PAD] [PAD] [PAD] [PAD] [PAD] [PAD]\n",
            "[PAD] [PAD] [PAD] [PAD] [PAD] [PAD] [PAD] [PAD] [PAD] [PAD] [PAD]\n",
            "[PAD] [PAD] [PAD] [PAD] [PAD] [PAD] [PAD] [PAD] [PAD] [PAD] [PAD]\n",
            "[PAD] [PAD] [PAD] [PAD] [PAD] [PAD] [PAD] [PAD] [PAD] [PAD] [PAD]\n",
            "[PAD] [PAD] [PAD] [PAD] [PAD] [PAD] [PAD] [PAD] [PAD] [PAD] [PAD]\n",
            "[PAD] [PAD] [PAD] [PAD] [PAD] [PAD] [PAD] [PAD] [PAD] [PAD] [PAD]\n",
            "[PAD] [PAD] [PAD] [PAD] [PAD] [PAD] [PAD] [PAD] [PAD] [PAD] [PAD]\n",
            "[PAD] [PAD] [PAD] [PAD] [PAD] [PAD] [PAD] [PAD] [PAD] [PAD] [PAD]\n",
            "[PAD] [PAD] [PAD] [PAD] [PAD] [PAD] [PAD] [PAD] [PAD] [PAD]\n"
          ],
          "name": "stdout"
        }
      ]
    },
    {
      "cell_type": "code",
      "metadata": {
        "id": "WB05mU98IRI8"
      },
      "source": [
        "# Enviando os tensores para para a GPU\n",
        "input_ids = encoded_inputs['input_ids'].to(device)"
      ],
      "execution_count": null,
      "outputs": []
    },
    {
      "cell_type": "code",
      "metadata": {
        "colab": {
          "base_uri": "https://localhost:8080/"
        },
        "id": "wsf4vruMIwPm",
        "outputId": "c3114d6a-527c-4759-ce78-c03345a8249e"
      },
      "source": [
        "# Criando o nosso vetor de features \n",
        "features = []\n",
        "\n",
        "# Aplicando o modelo pré-treinado em cada frase e adicionando-o ao nosso vetor\n",
        "\n",
        "for i in tqdm(range(len(data_text))):\n",
        "\n",
        "    with torch.no_grad():\n",
        "    \n",
        "      last_hidden_states = bert_model(input_ids[i:(i+1)])[1].cpu().numpy().reshape(-1).tolist()\n",
        "\n",
        "    features.append(last_hidden_states)\n"
      ],
      "execution_count": null,
      "outputs": [
        {
          "output_type": "stream",
          "text": [
            "100%|██████████| 6449/6449 [04:44<00:00, 22.69it/s]\n"
          ],
          "name": "stderr"
        }
      ]
    },
    {
      "cell_type": "code",
      "metadata": {
        "id": "SKK-MN4PVYtr",
        "colab": {
          "base_uri": "https://localhost:8080/"
        },
        "outputId": "483bd1d5-04d8-415d-cd3f-573c527c023f"
      },
      "source": [
        "# Criando um numpy array com as features extraidas\n",
        "features = np.array(features)\n",
        "features[:2]"
      ],
      "execution_count": null,
      "outputs": [
        {
          "output_type": "execute_result",
          "data": {
            "text/plain": [
              "array([[ 0.21300419, -0.06187769,  0.19168803, ...,  0.13242958,\n",
              "         0.03815605, -0.37764931],\n",
              "       [ 0.1695669 , -0.09109744, -0.24267955, ...,  0.08524882,\n",
              "        -0.07674872, -0.35844153]])"
            ]
          },
          "metadata": {
            "tags": []
          },
          "execution_count": 35
        }
      ]
    },
    {
      "cell_type": "code",
      "metadata": {
        "colab": {
          "base_uri": "https://localhost:8080/"
        },
        "id": "Syx5bus-V2OF",
        "outputId": "9d1b8be7-6565-4f56-f9c6-cfb1df11100c"
      },
      "source": [
        "# Printando o numero de linhas e de colunas das features extraídas\n",
        "print('Número de linhas: ', features.shape[0])\n",
        "print('Número de colunas: ', features.shape[1])"
      ],
      "execution_count": null,
      "outputs": [
        {
          "output_type": "stream",
          "text": [
            "Número de linhas:  6449\n",
            "Número de colunas:  768\n"
          ],
          "name": "stdout"
        }
      ]
    },
    {
      "cell_type": "markdown",
      "metadata": {
        "id": "ha4UpsIvJFrp"
      },
      "source": [
        "#Splitting the data"
      ]
    },
    {
      "cell_type": "code",
      "metadata": {
        "colab": {
          "base_uri": "https://localhost:8080/",
          "height": 202
        },
        "id": "0Wsac6uRaBPt",
        "outputId": "ff71eb45-73b5-4ab8-d66b-6551be13522d"
      },
      "source": [
        "data.head(5)"
      ],
      "execution_count": null,
      "outputs": [
        {
          "output_type": "execute_result",
          "data": {
            "text/html": [
              "<div>\n",
              "<style scoped>\n",
              "    .dataframe tbody tr th:only-of-type {\n",
              "        vertical-align: middle;\n",
              "    }\n",
              "\n",
              "    .dataframe tbody tr th {\n",
              "        vertical-align: top;\n",
              "    }\n",
              "\n",
              "    .dataframe thead th {\n",
              "        text-align: right;\n",
              "    }\n",
              "</style>\n",
              "<table border=\"1\" class=\"dataframe\">\n",
              "  <thead>\n",
              "    <tr style=\"text-align: right;\">\n",
              "      <th></th>\n",
              "      <th>text</th>\n",
              "      <th>label</th>\n",
              "      <th>encoded</th>\n",
              "    </tr>\n",
              "  </thead>\n",
              "  <tbody>\n",
              "    <tr>\n",
              "      <th>0</th>\n",
              "      <td>Ofício Requisitório - Comunicação - Protocolo ...</td>\n",
              "      <td>H:Arquivado</td>\n",
              "      <td>0</td>\n",
              "    </tr>\n",
              "    <tr>\n",
              "      <th>1</th>\n",
              "      <td>Suspensão do Prazo Prazo referente ao usuário ...</td>\n",
              "      <td>H:Ativo</td>\n",
              "      <td>1</td>\n",
              "    </tr>\n",
              "    <tr>\n",
              "      <th>2</th>\n",
              "      <td>Certidão de Publicação Expedida Relação : 0274...</td>\n",
              "      <td>H:Ativo</td>\n",
              "      <td>1</td>\n",
              "    </tr>\n",
              "    <tr>\n",
              "      <th>3</th>\n",
              "      <td>Embargos de Declaração Juntados N Protocolo : ...</td>\n",
              "      <td>H:Ativo</td>\n",
              "      <td>1</td>\n",
              "    </tr>\n",
              "    <tr>\n",
              "      <th>4</th>\n",
              "      <td>Certidão de Trânsito em Julgado com Baixa Expe...</td>\n",
              "      <td>H:Arquivado</td>\n",
              "      <td>0</td>\n",
              "    </tr>\n",
              "  </tbody>\n",
              "</table>\n",
              "</div>"
            ],
            "text/plain": [
              "                                                text        label  encoded\n",
              "0  Ofício Requisitório - Comunicação - Protocolo ...  H:Arquivado        0\n",
              "1  Suspensão do Prazo Prazo referente ao usuário ...      H:Ativo        1\n",
              "2  Certidão de Publicação Expedida Relação : 0274...      H:Ativo        1\n",
              "3  Embargos de Declaração Juntados N Protocolo : ...      H:Ativo        1\n",
              "4  Certidão de Trânsito em Julgado com Baixa Expe...  H:Arquivado        0"
            ]
          },
          "metadata": {
            "tags": []
          },
          "execution_count": 37
        }
      ]
    },
    {
      "cell_type": "code",
      "metadata": {
        "id": "R0EGvZp6KXWT"
      },
      "source": [
        "df_features = pd.DataFrame(features)"
      ],
      "execution_count": null,
      "outputs": []
    },
    {
      "cell_type": "code",
      "metadata": {
        "colab": {
          "base_uri": "https://localhost:8080/"
        },
        "id": "t1gN2_4VZwuH",
        "outputId": "3beceada-6124-49a4-9246-bf1fbb532b9e"
      },
      "source": [
        "features_label = pd.concat([df_features, data['encoded']], axis = 1)\n",
        "features_label.shape"
      ],
      "execution_count": null,
      "outputs": [
        {
          "output_type": "execute_result",
          "data": {
            "text/plain": [
              "(6449, 769)"
            ]
          },
          "metadata": {
            "tags": []
          },
          "execution_count": 40
        }
      ]
    },
    {
      "cell_type": "code",
      "metadata": {
        "colab": {
          "base_uri": "https://localhost:8080/",
          "height": 251
        },
        "id": "hy-nkVge5QTy",
        "outputId": "924ee596-91e3-449e-982c-8aa5da93fb8a"
      },
      "source": [
        "features_label.head(5)"
      ],
      "execution_count": null,
      "outputs": [
        {
          "output_type": "execute_result",
          "data": {
            "text/html": [
              "<div>\n",
              "<style scoped>\n",
              "    .dataframe tbody tr th:only-of-type {\n",
              "        vertical-align: middle;\n",
              "    }\n",
              "\n",
              "    .dataframe tbody tr th {\n",
              "        vertical-align: top;\n",
              "    }\n",
              "\n",
              "    .dataframe thead th {\n",
              "        text-align: right;\n",
              "    }\n",
              "</style>\n",
              "<table border=\"1\" class=\"dataframe\">\n",
              "  <thead>\n",
              "    <tr style=\"text-align: right;\">\n",
              "      <th></th>\n",
              "      <th>0</th>\n",
              "      <th>1</th>\n",
              "      <th>2</th>\n",
              "      <th>3</th>\n",
              "      <th>4</th>\n",
              "      <th>5</th>\n",
              "      <th>6</th>\n",
              "      <th>7</th>\n",
              "      <th>8</th>\n",
              "      <th>9</th>\n",
              "      <th>10</th>\n",
              "      <th>11</th>\n",
              "      <th>12</th>\n",
              "      <th>13</th>\n",
              "      <th>14</th>\n",
              "      <th>15</th>\n",
              "      <th>16</th>\n",
              "      <th>17</th>\n",
              "      <th>18</th>\n",
              "      <th>19</th>\n",
              "      <th>20</th>\n",
              "      <th>21</th>\n",
              "      <th>22</th>\n",
              "      <th>23</th>\n",
              "      <th>24</th>\n",
              "      <th>25</th>\n",
              "      <th>26</th>\n",
              "      <th>27</th>\n",
              "      <th>28</th>\n",
              "      <th>29</th>\n",
              "      <th>30</th>\n",
              "      <th>31</th>\n",
              "      <th>32</th>\n",
              "      <th>33</th>\n",
              "      <th>34</th>\n",
              "      <th>35</th>\n",
              "      <th>36</th>\n",
              "      <th>37</th>\n",
              "      <th>38</th>\n",
              "      <th>39</th>\n",
              "      <th>...</th>\n",
              "      <th>729</th>\n",
              "      <th>730</th>\n",
              "      <th>731</th>\n",
              "      <th>732</th>\n",
              "      <th>733</th>\n",
              "      <th>734</th>\n",
              "      <th>735</th>\n",
              "      <th>736</th>\n",
              "      <th>737</th>\n",
              "      <th>738</th>\n",
              "      <th>739</th>\n",
              "      <th>740</th>\n",
              "      <th>741</th>\n",
              "      <th>742</th>\n",
              "      <th>743</th>\n",
              "      <th>744</th>\n",
              "      <th>745</th>\n",
              "      <th>746</th>\n",
              "      <th>747</th>\n",
              "      <th>748</th>\n",
              "      <th>749</th>\n",
              "      <th>750</th>\n",
              "      <th>751</th>\n",
              "      <th>752</th>\n",
              "      <th>753</th>\n",
              "      <th>754</th>\n",
              "      <th>755</th>\n",
              "      <th>756</th>\n",
              "      <th>757</th>\n",
              "      <th>758</th>\n",
              "      <th>759</th>\n",
              "      <th>760</th>\n",
              "      <th>761</th>\n",
              "      <th>762</th>\n",
              "      <th>763</th>\n",
              "      <th>764</th>\n",
              "      <th>765</th>\n",
              "      <th>766</th>\n",
              "      <th>767</th>\n",
              "      <th>encoded</th>\n",
              "    </tr>\n",
              "  </thead>\n",
              "  <tbody>\n",
              "    <tr>\n",
              "      <th>0</th>\n",
              "      <td>0.213004</td>\n",
              "      <td>-0.061878</td>\n",
              "      <td>0.191688</td>\n",
              "      <td>0.111915</td>\n",
              "      <td>-0.150205</td>\n",
              "      <td>0.142891</td>\n",
              "      <td>0.973058</td>\n",
              "      <td>0.027699</td>\n",
              "      <td>0.022648</td>\n",
              "      <td>0.045383</td>\n",
              "      <td>-0.769608</td>\n",
              "      <td>-0.136181</td>\n",
              "      <td>-0.074700</td>\n",
              "      <td>-0.173915</td>\n",
              "      <td>-0.061021</td>\n",
              "      <td>-0.073128</td>\n",
              "      <td>-0.184765</td>\n",
              "      <td>0.122179</td>\n",
              "      <td>0.725559</td>\n",
              "      <td>0.880777</td>\n",
              "      <td>0.436253</td>\n",
              "      <td>0.338922</td>\n",
              "      <td>-0.102538</td>\n",
              "      <td>0.232858</td>\n",
              "      <td>0.138832</td>\n",
              "      <td>-0.012877</td>\n",
              "      <td>-0.045564</td>\n",
              "      <td>-0.126367</td>\n",
              "      <td>0.046487</td>\n",
              "      <td>-0.020299</td>\n",
              "      <td>-0.114852</td>\n",
              "      <td>-0.918361</td>\n",
              "      <td>-0.800683</td>\n",
              "      <td>0.150831</td>\n",
              "      <td>0.050373</td>\n",
              "      <td>-0.003345</td>\n",
              "      <td>-0.082131</td>\n",
              "      <td>0.015633</td>\n",
              "      <td>0.622598</td>\n",
              "      <td>-0.050648</td>\n",
              "      <td>...</td>\n",
              "      <td>0.029844</td>\n",
              "      <td>0.399764</td>\n",
              "      <td>-0.068559</td>\n",
              "      <td>0.090608</td>\n",
              "      <td>0.120375</td>\n",
              "      <td>0.013159</td>\n",
              "      <td>0.080176</td>\n",
              "      <td>0.151421</td>\n",
              "      <td>-0.092320</td>\n",
              "      <td>-0.067133</td>\n",
              "      <td>-0.189361</td>\n",
              "      <td>-0.916928</td>\n",
              "      <td>0.120556</td>\n",
              "      <td>0.101625</td>\n",
              "      <td>0.147081</td>\n",
              "      <td>-0.023915</td>\n",
              "      <td>0.248588</td>\n",
              "      <td>0.100448</td>\n",
              "      <td>-0.029027</td>\n",
              "      <td>0.478418</td>\n",
              "      <td>0.119008</td>\n",
              "      <td>0.128067</td>\n",
              "      <td>-0.023195</td>\n",
              "      <td>-0.043348</td>\n",
              "      <td>-0.221368</td>\n",
              "      <td>-0.043133</td>\n",
              "      <td>-0.039578</td>\n",
              "      <td>-0.678569</td>\n",
              "      <td>-0.087416</td>\n",
              "      <td>-0.257764</td>\n",
              "      <td>0.136397</td>\n",
              "      <td>0.098482</td>\n",
              "      <td>0.293969</td>\n",
              "      <td>0.128455</td>\n",
              "      <td>0.015670</td>\n",
              "      <td>0.123465</td>\n",
              "      <td>0.132430</td>\n",
              "      <td>0.038156</td>\n",
              "      <td>-0.377649</td>\n",
              "      <td>0</td>\n",
              "    </tr>\n",
              "    <tr>\n",
              "      <th>1</th>\n",
              "      <td>0.169567</td>\n",
              "      <td>-0.091097</td>\n",
              "      <td>-0.242680</td>\n",
              "      <td>0.178787</td>\n",
              "      <td>-0.177656</td>\n",
              "      <td>0.130401</td>\n",
              "      <td>0.976277</td>\n",
              "      <td>0.017872</td>\n",
              "      <td>0.148432</td>\n",
              "      <td>-0.196599</td>\n",
              "      <td>-0.379983</td>\n",
              "      <td>-0.008223</td>\n",
              "      <td>-0.034299</td>\n",
              "      <td>0.075696</td>\n",
              "      <td>0.042622</td>\n",
              "      <td>0.120519</td>\n",
              "      <td>-0.131866</td>\n",
              "      <td>0.140182</td>\n",
              "      <td>0.340545</td>\n",
              "      <td>0.860612</td>\n",
              "      <td>0.058308</td>\n",
              "      <td>-0.007628</td>\n",
              "      <td>0.183560</td>\n",
              "      <td>-0.023412</td>\n",
              "      <td>0.013758</td>\n",
              "      <td>0.005112</td>\n",
              "      <td>-0.201926</td>\n",
              "      <td>-0.146302</td>\n",
              "      <td>0.049567</td>\n",
              "      <td>0.081381</td>\n",
              "      <td>-0.028101</td>\n",
              "      <td>-0.930461</td>\n",
              "      <td>-0.797499</td>\n",
              "      <td>0.140564</td>\n",
              "      <td>0.158708</td>\n",
              "      <td>0.074197</td>\n",
              "      <td>-0.164123</td>\n",
              "      <td>-0.273752</td>\n",
              "      <td>0.636333</td>\n",
              "      <td>0.144160</td>\n",
              "      <td>...</td>\n",
              "      <td>0.009798</td>\n",
              "      <td>0.072730</td>\n",
              "      <td>-0.175166</td>\n",
              "      <td>-0.211211</td>\n",
              "      <td>-0.015053</td>\n",
              "      <td>-0.008481</td>\n",
              "      <td>0.051850</td>\n",
              "      <td>0.031284</td>\n",
              "      <td>-0.169021</td>\n",
              "      <td>-0.155846</td>\n",
              "      <td>0.018819</td>\n",
              "      <td>-0.804809</td>\n",
              "      <td>0.284295</td>\n",
              "      <td>0.068161</td>\n",
              "      <td>0.074636</td>\n",
              "      <td>-0.046744</td>\n",
              "      <td>-0.105928</td>\n",
              "      <td>0.136875</td>\n",
              "      <td>-0.127856</td>\n",
              "      <td>0.458688</td>\n",
              "      <td>-0.192503</td>\n",
              "      <td>-0.109917</td>\n",
              "      <td>0.038795</td>\n",
              "      <td>0.084205</td>\n",
              "      <td>0.076356</td>\n",
              "      <td>-0.129145</td>\n",
              "      <td>-0.283106</td>\n",
              "      <td>-0.819139</td>\n",
              "      <td>0.101540</td>\n",
              "      <td>0.067064</td>\n",
              "      <td>-0.051039</td>\n",
              "      <td>0.071160</td>\n",
              "      <td>0.179313</td>\n",
              "      <td>0.136456</td>\n",
              "      <td>-0.134095</td>\n",
              "      <td>-0.162085</td>\n",
              "      <td>0.085249</td>\n",
              "      <td>-0.076749</td>\n",
              "      <td>-0.358442</td>\n",
              "      <td>1</td>\n",
              "    </tr>\n",
              "    <tr>\n",
              "      <th>2</th>\n",
              "      <td>0.039870</td>\n",
              "      <td>0.008240</td>\n",
              "      <td>0.083041</td>\n",
              "      <td>0.032599</td>\n",
              "      <td>-0.323541</td>\n",
              "      <td>-0.001493</td>\n",
              "      <td>0.990886</td>\n",
              "      <td>0.155582</td>\n",
              "      <td>0.087844</td>\n",
              "      <td>-0.031762</td>\n",
              "      <td>-0.740631</td>\n",
              "      <td>0.060286</td>\n",
              "      <td>-0.301203</td>\n",
              "      <td>-0.087483</td>\n",
              "      <td>-0.013298</td>\n",
              "      <td>0.135316</td>\n",
              "      <td>0.020440</td>\n",
              "      <td>-0.238643</td>\n",
              "      <td>0.575538</td>\n",
              "      <td>0.967516</td>\n",
              "      <td>0.455953</td>\n",
              "      <td>0.154738</td>\n",
              "      <td>-0.125155</td>\n",
              "      <td>0.097503</td>\n",
              "      <td>0.112544</td>\n",
              "      <td>0.033023</td>\n",
              "      <td>-0.199780</td>\n",
              "      <td>-0.166796</td>\n",
              "      <td>0.158993</td>\n",
              "      <td>-0.288010</td>\n",
              "      <td>-0.024230</td>\n",
              "      <td>-0.945562</td>\n",
              "      <td>-0.912275</td>\n",
              "      <td>0.133160</td>\n",
              "      <td>0.027080</td>\n",
              "      <td>0.018360</td>\n",
              "      <td>0.058290</td>\n",
              "      <td>0.072557</td>\n",
              "      <td>0.657168</td>\n",
              "      <td>-0.007925</td>\n",
              "      <td>...</td>\n",
              "      <td>0.041852</td>\n",
              "      <td>0.342567</td>\n",
              "      <td>-0.115420</td>\n",
              "      <td>0.079711</td>\n",
              "      <td>-0.075792</td>\n",
              "      <td>0.241022</td>\n",
              "      <td>-0.009545</td>\n",
              "      <td>0.296595</td>\n",
              "      <td>-0.068572</td>\n",
              "      <td>0.017020</td>\n",
              "      <td>0.220825</td>\n",
              "      <td>-0.628192</td>\n",
              "      <td>0.094745</td>\n",
              "      <td>0.195812</td>\n",
              "      <td>0.171997</td>\n",
              "      <td>-0.160022</td>\n",
              "      <td>-0.061801</td>\n",
              "      <td>-0.016905</td>\n",
              "      <td>0.030981</td>\n",
              "      <td>0.809527</td>\n",
              "      <td>0.173910</td>\n",
              "      <td>0.099548</td>\n",
              "      <td>-0.019678</td>\n",
              "      <td>-0.040858</td>\n",
              "      <td>-0.510020</td>\n",
              "      <td>-0.025346</td>\n",
              "      <td>-0.134380</td>\n",
              "      <td>-0.902354</td>\n",
              "      <td>-0.059552</td>\n",
              "      <td>-0.189241</td>\n",
              "      <td>0.173354</td>\n",
              "      <td>0.077324</td>\n",
              "      <td>0.013962</td>\n",
              "      <td>-0.045378</td>\n",
              "      <td>0.130027</td>\n",
              "      <td>0.194835</td>\n",
              "      <td>0.146695</td>\n",
              "      <td>0.154580</td>\n",
              "      <td>-0.119303</td>\n",
              "      <td>1</td>\n",
              "    </tr>\n",
              "    <tr>\n",
              "      <th>3</th>\n",
              "      <td>0.038922</td>\n",
              "      <td>-0.034344</td>\n",
              "      <td>0.069993</td>\n",
              "      <td>0.230154</td>\n",
              "      <td>-0.042444</td>\n",
              "      <td>0.136905</td>\n",
              "      <td>0.988360</td>\n",
              "      <td>0.123817</td>\n",
              "      <td>0.131343</td>\n",
              "      <td>-0.058486</td>\n",
              "      <td>-0.925525</td>\n",
              "      <td>0.102146</td>\n",
              "      <td>-0.085835</td>\n",
              "      <td>-0.015118</td>\n",
              "      <td>0.101944</td>\n",
              "      <td>-0.104812</td>\n",
              "      <td>-0.029333</td>\n",
              "      <td>-0.163608</td>\n",
              "      <td>0.856248</td>\n",
              "      <td>0.765367</td>\n",
              "      <td>0.255869</td>\n",
              "      <td>0.011600</td>\n",
              "      <td>-0.044551</td>\n",
              "      <td>0.134143</td>\n",
              "      <td>-0.075192</td>\n",
              "      <td>0.109485</td>\n",
              "      <td>-0.094910</td>\n",
              "      <td>-0.226391</td>\n",
              "      <td>0.025117</td>\n",
              "      <td>-0.090953</td>\n",
              "      <td>-0.010713</td>\n",
              "      <td>-0.971242</td>\n",
              "      <td>-0.970499</td>\n",
              "      <td>0.256041</td>\n",
              "      <td>0.199651</td>\n",
              "      <td>-0.015521</td>\n",
              "      <td>-0.201048</td>\n",
              "      <td>0.037832</td>\n",
              "      <td>0.936478</td>\n",
              "      <td>0.153926</td>\n",
              "      <td>...</td>\n",
              "      <td>0.055100</td>\n",
              "      <td>0.279893</td>\n",
              "      <td>-0.204817</td>\n",
              "      <td>0.043072</td>\n",
              "      <td>0.027144</td>\n",
              "      <td>-0.293820</td>\n",
              "      <td>0.005536</td>\n",
              "      <td>0.084013</td>\n",
              "      <td>-0.199508</td>\n",
              "      <td>0.094772</td>\n",
              "      <td>0.266638</td>\n",
              "      <td>-0.862093</td>\n",
              "      <td>0.161535</td>\n",
              "      <td>0.023770</td>\n",
              "      <td>-0.045388</td>\n",
              "      <td>-0.113089</td>\n",
              "      <td>-0.242305</td>\n",
              "      <td>0.110768</td>\n",
              "      <td>0.249349</td>\n",
              "      <td>0.174210</td>\n",
              "      <td>0.083279</td>\n",
              "      <td>-0.144858</td>\n",
              "      <td>0.227666</td>\n",
              "      <td>-0.177185</td>\n",
              "      <td>-0.673787</td>\n",
              "      <td>0.103994</td>\n",
              "      <td>-0.143771</td>\n",
              "      <td>-0.959469</td>\n",
              "      <td>0.031269</td>\n",
              "      <td>-0.281008</td>\n",
              "      <td>-0.111036</td>\n",
              "      <td>0.322989</td>\n",
              "      <td>-0.335032</td>\n",
              "      <td>0.134222</td>\n",
              "      <td>-0.184369</td>\n",
              "      <td>0.210217</td>\n",
              "      <td>0.307293</td>\n",
              "      <td>0.077462</td>\n",
              "      <td>-0.306194</td>\n",
              "      <td>1</td>\n",
              "    </tr>\n",
              "    <tr>\n",
              "      <th>4</th>\n",
              "      <td>0.149430</td>\n",
              "      <td>0.346361</td>\n",
              "      <td>0.093802</td>\n",
              "      <td>0.115540</td>\n",
              "      <td>-0.176476</td>\n",
              "      <td>0.134482</td>\n",
              "      <td>0.977815</td>\n",
              "      <td>0.052598</td>\n",
              "      <td>0.349862</td>\n",
              "      <td>-0.339473</td>\n",
              "      <td>-0.881110</td>\n",
              "      <td>0.241292</td>\n",
              "      <td>0.229646</td>\n",
              "      <td>-0.054467</td>\n",
              "      <td>-0.009449</td>\n",
              "      <td>-0.053881</td>\n",
              "      <td>0.019513</td>\n",
              "      <td>-0.067502</td>\n",
              "      <td>0.783675</td>\n",
              "      <td>0.907286</td>\n",
              "      <td>0.238376</td>\n",
              "      <td>0.068927</td>\n",
              "      <td>-0.304348</td>\n",
              "      <td>0.310043</td>\n",
              "      <td>0.083573</td>\n",
              "      <td>0.328708</td>\n",
              "      <td>-0.040154</td>\n",
              "      <td>0.062402</td>\n",
              "      <td>-0.000453</td>\n",
              "      <td>-0.125877</td>\n",
              "      <td>-0.028455</td>\n",
              "      <td>-0.904128</td>\n",
              "      <td>-0.892711</td>\n",
              "      <td>-0.084607</td>\n",
              "      <td>-0.053562</td>\n",
              "      <td>-0.167021</td>\n",
              "      <td>-0.026511</td>\n",
              "      <td>0.087082</td>\n",
              "      <td>0.826747</td>\n",
              "      <td>0.402070</td>\n",
              "      <td>...</td>\n",
              "      <td>-0.191426</td>\n",
              "      <td>0.298292</td>\n",
              "      <td>0.064483</td>\n",
              "      <td>0.188030</td>\n",
              "      <td>-0.034069</td>\n",
              "      <td>0.043791</td>\n",
              "      <td>0.101314</td>\n",
              "      <td>0.008808</td>\n",
              "      <td>-0.190740</td>\n",
              "      <td>-0.006509</td>\n",
              "      <td>0.032558</td>\n",
              "      <td>-0.896630</td>\n",
              "      <td>0.266165</td>\n",
              "      <td>0.016647</td>\n",
              "      <td>0.151480</td>\n",
              "      <td>0.071296</td>\n",
              "      <td>0.231312</td>\n",
              "      <td>-0.101219</td>\n",
              "      <td>-0.117950</td>\n",
              "      <td>0.311274</td>\n",
              "      <td>0.313696</td>\n",
              "      <td>0.240333</td>\n",
              "      <td>-0.217274</td>\n",
              "      <td>-0.217096</td>\n",
              "      <td>-0.129524</td>\n",
              "      <td>-0.097827</td>\n",
              "      <td>-0.102737</td>\n",
              "      <td>-0.822283</td>\n",
              "      <td>0.127508</td>\n",
              "      <td>0.084225</td>\n",
              "      <td>0.171558</td>\n",
              "      <td>0.076402</td>\n",
              "      <td>0.032599</td>\n",
              "      <td>-0.003977</td>\n",
              "      <td>0.043601</td>\n",
              "      <td>-0.064065</td>\n",
              "      <td>-0.073105</td>\n",
              "      <td>-0.245433</td>\n",
              "      <td>-0.104110</td>\n",
              "      <td>0</td>\n",
              "    </tr>\n",
              "  </tbody>\n",
              "</table>\n",
              "<p>5 rows × 769 columns</p>\n",
              "</div>"
            ],
            "text/plain": [
              "          0         1         2  ...       766       767  encoded\n",
              "0  0.213004 -0.061878  0.191688  ...  0.038156 -0.377649        0\n",
              "1  0.169567 -0.091097 -0.242680  ... -0.076749 -0.358442        1\n",
              "2  0.039870  0.008240  0.083041  ...  0.154580 -0.119303        1\n",
              "3  0.038922 -0.034344  0.069993  ...  0.077462 -0.306194        1\n",
              "4  0.149430  0.346361  0.093802  ... -0.245433 -0.104110        0\n",
              "\n",
              "[5 rows x 769 columns]"
            ]
          },
          "metadata": {
            "tags": []
          },
          "execution_count": 41
        }
      ]
    },
    {
      "cell_type": "code",
      "metadata": {
        "id": "_d-eEWJc2fbe"
      },
      "source": [
        "x_train, x_test, y_train, y_test = train_test_split(features_label.drop(columns = ['encoded']), features_label['encoded'], random_state = 42,test_size = 0.3)"
      ],
      "execution_count": null,
      "outputs": []
    },
    {
      "cell_type": "code",
      "metadata": {
        "colab": {
          "base_uri": "https://localhost:8080/"
        },
        "id": "fU7Aepou-cWS",
        "outputId": "e293f9b2-fc2d-4617-caa4-7103ff476acd"
      },
      "source": [
        "# Tamanhos dos x e y de treino e teste\n",
        "print(x_train.shape)\n",
        "print(x_test.shape)\n",
        "print(y_train.shape)\n",
        "print(y_test.shape)"
      ],
      "execution_count": null,
      "outputs": [
        {
          "output_type": "stream",
          "text": [
            "(4514, 768)\n",
            "(1935, 768)\n",
            "(4514,)\n",
            "(1935,)\n"
          ],
          "name": "stdout"
        }
      ]
    },
    {
      "cell_type": "markdown",
      "metadata": {
        "id": "arI885saAgFk"
      },
      "source": [
        "#Classificação"
      ]
    },
    {
      "cell_type": "markdown",
      "metadata": {
        "id": "khspgnN90Upj"
      },
      "source": [
        "## O Modelo de Regressão Logística"
      ]
    },
    {
      "cell_type": "code",
      "metadata": {
        "id": "PWXKQAIbCmeL"
      },
      "source": [
        "from sklearn.linear_model import LogisticRegression\n",
        "from sklearn.metrics import accuracy_score, confusion_matrix, classification_report\n",
        "from sklearn.model_selection import RandomizedSearchCV\n",
        "from scipy.stats import loguniform"
      ],
      "execution_count": null,
      "outputs": []
    },
    {
      "cell_type": "code",
      "metadata": {
        "colab": {
          "base_uri": "https://localhost:8080/"
        },
        "id": "tc3_E1CsAkp7",
        "outputId": "f5ae1a7b-7408-42f0-f454-d27eece3053d"
      },
      "source": [
        "# Instanciando o modelo de Regressão Logística em que será feito o cross-validaton em seguida\n",
        "log_reg = LogisticRegression(max_iter = 10000,\n",
        "                             random_state = 42, \n",
        "                             solver = 'liblinear')\n",
        "\n",
        "log_reg"
      ],
      "execution_count": null,
      "outputs": [
        {
          "output_type": "execute_result",
          "data": {
            "text/plain": [
              "LogisticRegression(C=1.0, class_weight=None, dual=False, fit_intercept=True,\n",
              "                   intercept_scaling=1, l1_ratio=None, max_iter=10000,\n",
              "                   multi_class='auto', n_jobs=None, penalty='l2',\n",
              "                   random_state=42, solver='liblinear', tol=0.0001, verbose=0,\n",
              "                   warm_start=False)"
            ]
          },
          "metadata": {
            "tags": []
          },
          "execution_count": 45
        }
      ]
    },
    {
      "cell_type": "code",
      "metadata": {
        "colab": {
          "base_uri": "https://localhost:8080/"
        },
        "id": "nsOakoO-Cxsh",
        "outputId": "0336359f-603b-42f4-d8d4-e1f7eb89c6a9"
      },
      "source": [
        "# Definindo o espaço de busca de parâmetros\n",
        "space = dict()\n",
        "space['solver'] = ['liblinear']\n",
        "space['penalty'] = ['l1', 'l2']\n",
        "space['C'] = np.logspace(-3, 3, 100)\n",
        "\n",
        "rscv = RandomizedSearchCV(log_reg, space, cv = 3, n_jobs=-1,verbose = 1, random_state = 42, n_iter = 30)\n",
        "\n",
        "# Fazendo o cross-validation\n",
        "result = rscv.fit(x_train, y_train)"
      ],
      "execution_count": null,
      "outputs": [
        {
          "output_type": "stream",
          "text": [
            "Fitting 3 folds for each of 30 candidates, totalling 90 fits\n"
          ],
          "name": "stdout"
        },
        {
          "output_type": "stream",
          "text": [
            "[Parallel(n_jobs=-1)]: Using backend LokyBackend with 2 concurrent workers.\n",
            "[Parallel(n_jobs=-1)]: Done  46 tasks      | elapsed: 54.0min\n",
            "[Parallel(n_jobs=-1)]: Done  90 out of  90 | elapsed: 64.1min finished\n"
          ],
          "name": "stderr"
        }
      ]
    },
    {
      "cell_type": "code",
      "metadata": {
        "id": "1MB4IUzsKhdX",
        "colab": {
          "base_uri": "https://localhost:8080/"
        },
        "outputId": "75520bdb-c5cb-4198-dcd7-5158c0e063be"
      },
      "source": [
        "# Melhores hiperparâmetros\n",
        "print('Best Score: %s' % result.best_score_)\n",
        "print('Best Hyperparameters: %s' % result.best_params_)"
      ],
      "execution_count": null,
      "outputs": [
        {
          "output_type": "stream",
          "text": [
            "Best Score: 0.8486908296222992\n",
            "Best Hyperparameters: {'solver': 'liblinear', 'penalty': 'l2', 'C': 5.72236765935022}\n"
          ],
          "name": "stdout"
        }
      ]
    },
    {
      "cell_type": "code",
      "metadata": {
        "id": "9DXS_fhqKq3l",
        "colab": {
          "base_uri": "https://localhost:8080/"
        },
        "outputId": "e9b0d59f-281d-4c33-e0e9-c1953048c64e"
      },
      "source": [
        "log_reg = LogisticRegression(penalty = result.best_params_['penalty'],\n",
        "                             C = result.best_params_['C'],\n",
        "                             solver = result.best_params_['solver'],\n",
        "                             random_state = 42)\n",
        "\n",
        "# Treinando os modelos com os melhores hiperparâmetros\n",
        "log_reg.fit(x_train, y_train)"
      ],
      "execution_count": null,
      "outputs": [
        {
          "output_type": "execute_result",
          "data": {
            "text/plain": [
              "LogisticRegression(C=5.72236765935022, class_weight=None, dual=False,\n",
              "                   fit_intercept=True, intercept_scaling=1, l1_ratio=None,\n",
              "                   max_iter=100, multi_class='auto', n_jobs=None, penalty='l2',\n",
              "                   random_state=42, solver='liblinear', tol=0.0001, verbose=0,\n",
              "                   warm_start=False)"
            ]
          },
          "metadata": {
            "tags": []
          },
          "execution_count": 48
        }
      ]
    },
    {
      "cell_type": "code",
      "metadata": {
        "id": "3vgc0zI3A33c",
        "colab": {
          "base_uri": "https://localhost:8080/"
        },
        "outputId": "77080ec3-483f-4446-e38d-388bea19c7cb"
      },
      "source": [
        "# y hat - predicted values for y\n",
        "y_pred = log_reg.predict(x_test)\n",
        "y_pred[:5]"
      ],
      "execution_count": null,
      "outputs": [
        {
          "output_type": "execute_result",
          "data": {
            "text/plain": [
              "array([1, 0, 0, 1, 1])"
            ]
          },
          "metadata": {
            "tags": []
          },
          "execution_count": 49
        }
      ]
    },
    {
      "cell_type": "code",
      "metadata": {
        "id": "ycYVDCZWBlBy",
        "colab": {
          "base_uri": "https://localhost:8080/"
        },
        "outputId": "e7dee77e-c30e-4c52-9285-74dfb7ca5e3e"
      },
      "source": [
        "# Prevendo as probabilidades \n",
        "log_reg.predict_proba(x_test)[:5]"
      ],
      "execution_count": null,
      "outputs": [
        {
          "output_type": "execute_result",
          "data": {
            "text/plain": [
              "array([[4.80476923e-01, 5.00272235e-01, 1.92508413e-02],\n",
              "       [9.95982205e-01, 2.99263254e-03, 1.02516271e-03],\n",
              "       [9.60277984e-01, 2.75812086e-04, 3.94462042e-02],\n",
              "       [1.92732991e-02, 9.79271591e-01, 1.45510964e-03],\n",
              "       [4.36552010e-01, 5.56720154e-01, 6.72783634e-03]])"
            ]
          },
          "metadata": {
            "tags": []
          },
          "execution_count": 50
        }
      ]
    },
    {
      "cell_type": "code",
      "metadata": {
        "id": "JOGMXfAEMRwm",
        "colab": {
          "base_uri": "https://localhost:8080/"
        },
        "outputId": "a2792f9a-5610-4974-b8d6-d15bacf64a76"
      },
      "source": [
        "accuracy_score(y_test, y_pred)"
      ],
      "execution_count": null,
      "outputs": [
        {
          "output_type": "execute_result",
          "data": {
            "text/plain": [
              "0.8459948320413436"
            ]
          },
          "metadata": {
            "tags": []
          },
          "execution_count": 51
        }
      ]
    },
    {
      "cell_type": "code",
      "metadata": {
        "id": "vCQFgB2iMU82",
        "colab": {
          "base_uri": "https://localhost:8080/"
        },
        "outputId": "33ff7ade-df03-44f4-e22f-54b5accea588"
      },
      "source": [
        "y_pred_train = log_reg.predict(x_train)\n",
        "y_pred_train[:5]"
      ],
      "execution_count": null,
      "outputs": [
        {
          "output_type": "execute_result",
          "data": {
            "text/plain": [
              "array([0, 1, 0, 0, 1])"
            ]
          },
          "metadata": {
            "tags": []
          },
          "execution_count": 52
        }
      ]
    },
    {
      "cell_type": "code",
      "metadata": {
        "id": "jeBZRYxKMcHN",
        "colab": {
          "base_uri": "https://localhost:8080/"
        },
        "outputId": "acb6c652-8e63-4e4a-f99b-94639fdffe68"
      },
      "source": [
        "# Acurácia\n",
        "accuracy_score(y_train, y_pred_train)"
      ],
      "execution_count": null,
      "outputs": [
        {
          "output_type": "execute_result",
          "data": {
            "text/plain": [
              "0.8757199822773594"
            ]
          },
          "metadata": {
            "tags": []
          },
          "execution_count": 53
        }
      ]
    },
    {
      "cell_type": "code",
      "metadata": {
        "id": "7_5j8g48q4X_",
        "colab": {
          "base_uri": "https://localhost:8080/",
          "height": 281
        },
        "outputId": "6c199fd9-8edb-463f-bccc-9f6508b4b044"
      },
      "source": [
        "# Plotando a matriz de confusão\n",
        "cm = confusion_matrix(y_test, y_pred)\n",
        "sns.heatmap(cm, annot = True, cmap = 'Greens', fmt = '.3g')\n",
        "plt.title(\"Heatmap\")\n",
        "plt.show()"
      ],
      "execution_count": null,
      "outputs": [
        {
          "output_type": "display_data",
          "data": {
            "image/png": "[encoded data removed]",
            "text/plain": [
              "<Figure size 432x288 with 2 Axes>"
            ]
          },
          "metadata": {
            "tags": [],
            "needs_background": "light"
          }
        }
      ]
    },
    {
      "cell_type": "code",
      "metadata": {
        "id": "v8qi-H3oucm6",
        "colab": {
          "base_uri": "https://localhost:8080/"
        },
        "outputId": "40e77779-35f6-482e-a3e3-83b34f893c26"
      },
      "source": [
        "print(classification_report(y_test, y_pred))"
      ],
      "execution_count": null,
      "outputs": [
        {
          "output_type": "stream",
          "text": [
            "              precision    recall  f1-score   support\n",
            "\n",
            "           0       0.90      0.82      0.86       957\n",
            "           1       0.79      0.93      0.86       838\n",
            "           2       0.87      0.53      0.66       140\n",
            "\n",
            "    accuracy                           0.85      1935\n",
            "   macro avg       0.86      0.76      0.79      1935\n",
            "weighted avg       0.85      0.85      0.84      1935\n",
            "\n"
          ],
          "name": "stdout"
        }
      ]
    },
    {
      "cell_type": "markdown",
      "metadata": {
        "id": "KsZQ6vAo9zNa"
      },
      "source": [
        "## O Modelo de Boosting: CatBoost"
      ]
    },
    {
      "cell_type": "markdown",
      "metadata": {
        "id": "i6sSiZ9MNNqu"
      },
      "source": [
        "link mto bom: [CatBoost models - Tutorial](https://github.com/catboost/tutorials)\n",
        "\n",
        "link para classificação: [Classification Tutorial - CatBoost](https://github.com/catboost/tutorials/blob/master/classification/classification_tutorial.ipynb)"
      ]
    },
    {
      "cell_type": "markdown",
      "metadata": {
        "id": "uu7mfgz_Drfv"
      },
      "source": [
        "link interessante (explicação tutorial): [Training, Validating and Testing the Model](https://towardsdatascience.com/train-validation-and-test-sets-72cb40cba9e7)"
      ]
    },
    {
      "cell_type": "markdown",
      "metadata": {
        "id": "1wXF1SAB0_41"
      },
      "source": [
        "Nesa seção vamos aplicar um modelo chamado CatBoost (Categorical Boosting), que é um modelo de aprendizado por comitê (ensemble learning)."
      ]
    },
    {
      "cell_type": "code",
      "metadata": {
        "id": "hrDkioOPwP2b"
      },
      "source": [
        "!pip install catboost\n",
        "clear_output()"
      ],
      "execution_count": null,
      "outputs": []
    },
    {
      "cell_type": "code",
      "metadata": {
        "id": "rFuGg3Fl_TtB"
      },
      "source": [
        "# Importando o CatBoostClassifier \n",
        "from catboost import CatBoostClassifier"
      ],
      "execution_count": null,
      "outputs": []
    },
    {
      "cell_type": "code",
      "metadata": {
        "id": "9jbhEnrnNY-u"
      },
      "source": [
        "# creating validation sets\n",
        "x_train, x_val, y_train, y_val = train_test_split(x_train, y_train, test_size = 0.1, stratify = y_train, random_state = 42)"
      ],
      "execution_count": null,
      "outputs": []
    },
    {
      "cell_type": "code",
      "metadata": {
        "id": "nYVahG36d4Y-",
        "colab": {
          "base_uri": "https://localhost:8080/"
        },
        "outputId": "96b9a0a9-ec6e-435a-8764-c3f8c7c69a44"
      },
      "source": [
        "tunned_model = CatBoostClassifier(\n",
        "    loss_function = 'MultiClass',\n",
        "    thread_count = -1, \n",
        "    random_seed=42,\n",
        "    iterations=3000,\n",
        "    l2_leaf_reg=3,\n",
        "    bagging_temperature=1,\n",
        "    random_strength=1,\n",
        "    leaf_estimation_method='Newton'\n",
        ")\n",
        "\n",
        "tunned_model.fit(\n",
        "    x_train, y_train,\n",
        "    verbose=500,\n",
        "    eval_set=(x_val, y_val),\n",
        "    early_stopping_rounds = 100\n",
        ")"
      ],
      "execution_count": null,
      "outputs": [
        {
          "output_type": "stream",
          "text": [
            "0:\tlearn: 1.0680192\ttest: 1.0694044\tbest: 1.0694044 (0)\ttotal: 680ms\tremaining: 34m\n",
            "500:\tlearn: 0.3061264\ttest: 0.3588947\tbest: 0.3588947 (500)\ttotal: 3m 34s\tremaining: 17m 48s\n",
            "1000:\tlearn: 0.2489342\ttest: 0.3442895\tbest: 0.3442134 (996)\ttotal: 7m 5s\tremaining: 14m 9s\n",
            "1500:\tlearn: 0.2170818\ttest: 0.3385425\tbest: 0.3383697 (1481)\ttotal: 10m 36s\tremaining: 10m 35s\n",
            "Stopped by overfitting detector  (100 iterations wait)\n",
            "\n",
            "bestTest = 0.3366706942\n",
            "bestIteration = 1671\n",
            "\n",
            "Shrink model to first 1672 iterations.\n"
          ],
          "name": "stdout"
        },
        {
          "output_type": "execute_result",
          "data": {
            "text/plain": [
              "<catboost.core.CatBoostClassifier at 0x7feb14db7450>"
            ]
          },
          "metadata": {
            "tags": []
          },
          "execution_count": 59
        }
      ]
    },
    {
      "cell_type": "code",
      "metadata": {
        "id": "k5dWYb8bhr4j"
      },
      "source": [
        "y_cat_pred = tunned_model.predict(x_test)"
      ],
      "execution_count": null,
      "outputs": []
    },
    {
      "cell_type": "code",
      "metadata": {
        "id": "WkVrr31jhyOb",
        "colab": {
          "base_uri": "https://localhost:8080/"
        },
        "outputId": "345c2a34-75db-4078-c4d1-d911e9795c32"
      },
      "source": [
        "accuracy_score(y_test, y_cat_pred)"
      ],
      "execution_count": null,
      "outputs": [
        {
          "output_type": "execute_result",
          "data": {
            "text/plain": [
              "0.8444444444444444"
            ]
          },
          "metadata": {
            "tags": []
          },
          "execution_count": 61
        }
      ]
    },
    {
      "cell_type": "code",
      "metadata": {
        "id": "DO-ficbleLd7",
        "colab": {
          "base_uri": "https://localhost:8080/"
        },
        "outputId": "60dd9e4b-4aaa-4bb2-a795-0a7939d35f9b"
      },
      "source": [
        "tunned_model.predict_proba(x_test)[:5]"
      ],
      "execution_count": null,
      "outputs": [
        {
          "output_type": "execute_result",
          "data": {
            "text/plain": [
              "array([[6.05021998e-01, 3.89404305e-01, 5.57369763e-03],\n",
              "       [9.98329181e-01, 6.31441480e-04, 1.03937735e-03],\n",
              "       [9.73823517e-01, 2.41106403e-03, 2.37654188e-02],\n",
              "       [1.87658719e-02, 9.79953470e-01, 1.28065782e-03],\n",
              "       [1.48220163e-01, 8.17524628e-01, 3.42552092e-02]])"
            ]
          },
          "metadata": {
            "tags": []
          },
          "execution_count": 62
        }
      ]
    },
    {
      "cell_type": "code",
      "metadata": {
        "id": "jekdhPrrtSYk",
        "colab": {
          "base_uri": "https://localhost:8080/",
          "height": 281
        },
        "outputId": "649d2c0a-0400-47d2-8058-0bed8b0ee2ec"
      },
      "source": [
        "cm = confusion_matrix(y_test, y_cat_pred)\n",
        "sns.heatmap(cm, annot = True, cmap = 'Greens', fmt = '.3g')\n",
        "plt.title(\"Heatmap\")\n",
        "plt.show()"
      ],
      "execution_count": null,
      "outputs": [
        {
          "output_type": "display_data",
          "data": {
            "image/png": "[encoded data removed]",
            "text/plain": [
              "<Figure size 432x288 with 2 Axes>"
            ]
          },
          "metadata": {
            "tags": [],
            "needs_background": "light"
          }
        }
      ]
    },
    {
      "cell_type": "code",
      "metadata": {
        "id": "FLKu3kC0tSYt",
        "colab": {
          "base_uri": "https://localhost:8080/"
        },
        "outputId": "258d32b9-e984-4c6f-fdcb-968925e19006"
      },
      "source": [
        "print(classification_report(y_test, y_cat_pred))"
      ],
      "execution_count": null,
      "outputs": [
        {
          "output_type": "stream",
          "text": [
            "              precision    recall  f1-score   support\n",
            "\n",
            "           0       0.89      0.83      0.86       957\n",
            "           1       0.80      0.92      0.85       838\n",
            "           2       0.90      0.50      0.64       140\n",
            "\n",
            "    accuracy                           0.84      1935\n",
            "   macro avg       0.86      0.75      0.79      1935\n",
            "weighted avg       0.85      0.84      0.84      1935\n",
            "\n"
          ],
          "name": "stdout"
        }
      ]
    },
    {
      "cell_type": "code",
      "metadata": {
        "id": "4-qGiEJRtXm7"
      },
      "source": [
        ""
      ],
      "execution_count": null,
      "outputs": []
    }
  ]
}